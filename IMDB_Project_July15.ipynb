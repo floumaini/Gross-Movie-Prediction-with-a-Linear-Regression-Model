{
 "cells": [
  {
   "cell_type": "markdown",
   "metadata": {
    "toc": true
   },
   "source": [
    "<h1>Table of Contents<span class=\"tocSkip\"></span></h1>\n",
    "<div class=\"toc\"><ul class=\"toc-item\"><li><span><a href=\"#Web-Scraping-using-BeautifulSoup\" data-toc-modified-id=\"Web-Scraping-using-BeautifulSoup-1\"><span class=\"toc-item-num\">1&nbsp;&nbsp;</span>Web Scraping using BeautifulSoup</a></span></li><li><span><a href=\"#Data-Cleaning\" data-toc-modified-id=\"Data-Cleaning-2\"><span class=\"toc-item-num\">2&nbsp;&nbsp;</span>Data Cleaning</a></span><ul class=\"toc-item\"><li><span><a href=\"#Adding-features-for-Stars\" data-toc-modified-id=\"Adding-features-for-Stars-2.1\"><span class=\"toc-item-num\">2.1&nbsp;&nbsp;</span>Adding features for Stars</a></span></li></ul></li><li><span><a href=\"#Adding-New-Source-for-bankable-index\" data-toc-modified-id=\"Adding-New-Source-for-bankable-index-3\"><span class=\"toc-item-num\">3&nbsp;&nbsp;</span>Adding New Source for bankable index</a></span><ul class=\"toc-item\"><li><span><a href=\"#To-remove\" data-toc-modified-id=\"To-remove-3.1\"><span class=\"toc-item-num\">3.1&nbsp;&nbsp;</span>To remove</a></span></li></ul></li></ul></div>"
   ]
  },
  {
   "cell_type": "code",
   "execution_count": 1,
   "metadata": {
    "ExecuteTime": {
     "end_time": "2019-07-16T05:50:17.022617Z",
     "start_time": "2019-07-16T05:50:15.683154Z"
    }
   },
   "outputs": [],
   "source": [
    "import os\n",
    "import re\n",
    "import requests\n",
    "from bs4 import BeautifulSoup\n",
    "from urllib.request import urlopen\n",
    "from itertools import chain\n",
    "import time\n",
    "import sys\n",
    "import numpy as np\n",
    "import pandas as pd\n",
    "import re"
   ]
  },
  {
   "cell_type": "markdown",
   "metadata": {},
   "source": [
    "# Web Scraping using BeautifulSoup"
   ]
  },
  {
   "cell_type": "code",
   "execution_count": 2,
   "metadata": {
    "ExecuteTime": {
     "end_time": "2019-07-16T05:50:40.183051Z",
     "start_time": "2019-07-16T05:50:17.024865Z"
    }
   },
   "outputs": [],
   "source": [
    "import pandas\n",
    "#blocks= [\"1\",\"51\",\"101\",\"151\",\"201\",\"251\",\"301\",\"351\",\"401\",\"451\",\"501\",\"551\",\"601\",\"651\",\"701\",\"751\",\"801\",\"851\",\"801\",\"851\",\"901\",\"951\"]\n",
    "blocks= np.arange(1,1100,50)\n",
    "movie_first_line= []\n",
    "movie_date = []\n",
    "movie_run_time=[]\n",
    "movie_genre =[]\n",
    "cast=[]\n",
    "movie_director =[]\n",
    "movie_stars = []\n",
    "gross_amount = []\n",
    "\n",
    "\n",
    "for block in blocks:\n",
    "    url= \"https://www.imdb.com/search/title/?year=2018-01-01,2018-12-31&start={}\".format(block)\n",
    "    response = requests.get(url)\n",
    "    page = response.text\n",
    "    soup = BeautifulSoup(page, \"html\")\n",
    "    content = soup.find(id=\"main\")\n",
    "\n",
    "    movieFrame = content.find_all(\"div\", class_=\"lister-item mode-advanced\")\n",
    "    for container in movieFrame:\n",
    "#Movie first line\n",
    "        movieFirstLine = container.find(\"h3\", class_=\"lister-item-header\")   \n",
    "        movieTitle = movieFirstLine.find(\"a\").text\n",
    "        try:\n",
    "            movie_first_line.append(movieTitle)\n",
    "        except:\n",
    "            movie_first_line.append(np.nan)\n",
    "#Movie Date\n",
    "        try:\n",
    "            movieDate = re.sub(r\"[()]\",\"\", movieFirstLine.find_all(\"span\")[-1].text)\n",
    "            movie_date.append(movieDate)\n",
    "        except:\n",
    "            movie_date.append(np.nan)\n",
    "\n",
    "#Movie runtime\n",
    "        try:\n",
    "            movieRunTime = container.find(\"span\", class_=\"runtime\").text[:-4]\n",
    "            movie_run_time.append(movieRunTime)\n",
    "        except:\n",
    "            movie_run_time.append(np.nan)\n",
    "                \n",
    "# Movie Genre\n",
    "        try:\n",
    "            movieGenre = container.find(\"span\", class_=\"genre\").text.rstrip().replace(\"\\n\",\"\").split(\",\")\n",
    "            movie_genre.append(movieGenre)\n",
    "        except:\n",
    "            movie_genre.append(np.nan)\n",
    "                \n",
    "#Casts         \n",
    "        try:\n",
    "            movieCast = container.find_all(\"p\", class_=\"\")[-1].text\n",
    "            casts = movieCast.replace(\"\\n\",\"\").split('|')\n",
    "            casts = [x.strip() for x in casts]\n",
    "            casts = [casts[i].replace(j, \"\") for i,j in enumerate([\"Director:\", \"Stars:\"])]\n",
    "# # Movie Director\n",
    "            movie_director.append(casts[0])\n",
    "# # # Movie Stars\n",
    "            #movie_stars.append([x.strip() for x in casts[1].split(\",\")])\n",
    "            movie_stars.append(casts[1])\n",
    "        except:\n",
    "            #casts = movieCast.text.replace(\"\\n\",\"\").strip()\n",
    "            movie_director.append(np.nan)\n",
    "            #movie_stars.append([x.strip() for x in casts[1].split(\",\")])\n",
    "            movie_stars.append(np.nan)\n",
    "# Movie Gross\n",
    "        try:\n",
    "            gross_ind = container.find_all('span',attrs={\"name\":\"nv\"})[-1].text\n",
    "            #gross_amount.append(gross_ind)\n",
    "            if \"M\" not in gross_ind:\n",
    "                mill = gross_ind.replace(\",\",\"\")\n",
    "                gross_ind = \"0.\"+mill[:2]\n",
    "            else:\n",
    "                gross_ind= gross_ind.replace(\"M\",\"\")\n",
    "                gross_ind = gross_ind.replace(\"$\",\"\")\n",
    "            gross_amount.append(gross_ind)\n",
    "            \n",
    "    \n",
    "        except:\n",
    "            gross_amount.append(np.nan)\n",
    "movie_data = [movie_first_line,movie_date,movie_run_time,movie_genre,movie_director,movie_stars,gross_amount]\n",
    "output_df= pd.DataFrame(movie_data)\n"
   ]
  },
  {
   "cell_type": "code",
   "execution_count": 3,
   "metadata": {
    "ExecuteTime": {
     "end_time": "2019-07-16T05:50:40.192037Z",
     "start_time": "2019-07-16T05:50:40.185704Z"
    }
   },
   "outputs": [],
   "source": [
    "df= output_df"
   ]
  },
  {
   "cell_type": "code",
   "execution_count": 4,
   "metadata": {
    "ExecuteTime": {
     "end_time": "2019-07-16T05:50:40.207518Z",
     "start_time": "2019-07-16T05:50:40.201782Z"
    }
   },
   "outputs": [],
   "source": [
    "df= df.transpose()"
   ]
  },
  {
   "cell_type": "code",
   "execution_count": 5,
   "metadata": {
    "ExecuteTime": {
     "end_time": "2019-07-16T05:50:40.252825Z",
     "start_time": "2019-07-16T05:50:40.210465Z"
    },
    "scrolled": true
   },
   "outputs": [
    {
     "data": {
      "text/html": [
       "<div>\n",
       "<style scoped>\n",
       "    .dataframe tbody tr th:only-of-type {\n",
       "        vertical-align: middle;\n",
       "    }\n",
       "\n",
       "    .dataframe tbody tr th {\n",
       "        vertical-align: top;\n",
       "    }\n",
       "\n",
       "    .dataframe thead th {\n",
       "        text-align: right;\n",
       "    }\n",
       "</style>\n",
       "<table border=\"1\" class=\"dataframe\">\n",
       "  <thead>\n",
       "    <tr style=\"text-align: right;\">\n",
       "      <th></th>\n",
       "      <th>0</th>\n",
       "      <th>1</th>\n",
       "      <th>2</th>\n",
       "      <th>3</th>\n",
       "      <th>4</th>\n",
       "      <th>5</th>\n",
       "      <th>6</th>\n",
       "    </tr>\n",
       "  </thead>\n",
       "  <tbody>\n",
       "    <tr>\n",
       "      <th>0</th>\n",
       "      <td>Bohemian Rhapsody</td>\n",
       "      <td>2018</td>\n",
       "      <td>134</td>\n",
       "      <td>[Biography,  Drama,  Music]</td>\n",
       "      <td>Bryan Singer</td>\n",
       "      <td>Rami Malek, Lucy Boynton, Gwilym Lee, Ben Hardy</td>\n",
       "      <td>216.43</td>\n",
       "    </tr>\n",
       "    <tr>\n",
       "      <th>1</th>\n",
       "      <td>Spider-Man: Into the Spider-Verse</td>\n",
       "      <td>2018</td>\n",
       "      <td>117</td>\n",
       "      <td>[Animation,  Action,  Adventure]</td>\n",
       "      <td>Directors:Bob Persichetti, Peter Ramsey, Rodne...</td>\n",
       "      <td>Shameik Moore, Jake Johnson, Hailee Steinfeld,...</td>\n",
       "      <td>190.24</td>\n",
       "    </tr>\n",
       "    <tr>\n",
       "      <th>2</th>\n",
       "      <td>Yellowstone</td>\n",
       "      <td>2018–</td>\n",
       "      <td>60</td>\n",
       "      <td>[Drama,  Western]</td>\n",
       "      <td>NaN</td>\n",
       "      <td>NaN</td>\n",
       "      <td>0.10</td>\n",
       "    </tr>\n",
       "    <tr>\n",
       "      <th>3</th>\n",
       "      <td>Hereditary</td>\n",
       "      <td>2018</td>\n",
       "      <td>127</td>\n",
       "      <td>[Drama,  Horror,  Mystery]</td>\n",
       "      <td>Ari Aster</td>\n",
       "      <td>Toni Collette, Milly Shapiro, Gabriel Byrne, A...</td>\n",
       "      <td>44.07</td>\n",
       "    </tr>\n",
       "    <tr>\n",
       "      <th>4</th>\n",
       "      <td>Killing Eve</td>\n",
       "      <td>2018–</td>\n",
       "      <td>43</td>\n",
       "      <td>[Drama,  Thriller]</td>\n",
       "      <td>NaN</td>\n",
       "      <td>NaN</td>\n",
       "      <td>0.48</td>\n",
       "    </tr>\n",
       "  </tbody>\n",
       "</table>\n",
       "</div>"
      ],
      "text/plain": [
       "                                   0       1    2  \\\n",
       "0                  Bohemian Rhapsody    2018  134   \n",
       "1  Spider-Man: Into the Spider-Verse    2018  117   \n",
       "2                        Yellowstone  2018–    60   \n",
       "3                         Hereditary    2018  127   \n",
       "4                        Killing Eve  2018–    43   \n",
       "\n",
       "                                  3  \\\n",
       "0       [Biography,  Drama,  Music]   \n",
       "1  [Animation,  Action,  Adventure]   \n",
       "2                 [Drama,  Western]   \n",
       "3        [Drama,  Horror,  Mystery]   \n",
       "4                [Drama,  Thriller]   \n",
       "\n",
       "                                                   4  \\\n",
       "0                                       Bryan Singer   \n",
       "1  Directors:Bob Persichetti, Peter Ramsey, Rodne...   \n",
       "2                                                NaN   \n",
       "3                                          Ari Aster   \n",
       "4                                                NaN   \n",
       "\n",
       "                                                   5       6  \n",
       "0    Rami Malek, Lucy Boynton, Gwilym Lee, Ben Hardy  216.43  \n",
       "1  Shameik Moore, Jake Johnson, Hailee Steinfeld,...  190.24  \n",
       "2                                                NaN    0.10  \n",
       "3  Toni Collette, Milly Shapiro, Gabriel Byrne, A...   44.07  \n",
       "4                                                NaN    0.48  "
      ]
     },
     "execution_count": 5,
     "metadata": {},
     "output_type": "execute_result"
    }
   ],
   "source": [
    "df.head()"
   ]
  },
  {
   "cell_type": "markdown",
   "metadata": {},
   "source": [
    "# Data Cleaning"
   ]
  },
  {
   "cell_type": "code",
   "execution_count": 6,
   "metadata": {
    "ExecuteTime": {
     "end_time": "2019-07-16T05:50:40.263877Z",
     "start_time": "2019-07-16T05:50:40.258106Z"
    }
   },
   "outputs": [
    {
     "data": {
      "text/plain": [
       "(1100, 7)"
      ]
     },
     "execution_count": 6,
     "metadata": {},
     "output_type": "execute_result"
    }
   ],
   "source": [
    "df.shape"
   ]
  },
  {
   "cell_type": "code",
   "execution_count": 7,
   "metadata": {
    "ExecuteTime": {
     "end_time": "2019-07-16T05:50:40.272352Z",
     "start_time": "2019-07-16T05:50:40.265732Z"
    }
   },
   "outputs": [],
   "source": [
    "# Renaming columns\n",
    "df = df.rename(columns={0: \"Movie_Name\", 1: \"Year\",2:\"Duration\",3:\"Genres\",4:\"Directors\",5:\"Stars\", 6: \"Gross\"})\n",
    "\n",
    "\n"
   ]
  },
  {
   "cell_type": "code",
   "execution_count": 8,
   "metadata": {
    "ExecuteTime": {
     "end_time": "2019-07-16T05:50:40.288311Z",
     "start_time": "2019-07-16T05:50:40.275253Z"
    }
   },
   "outputs": [
    {
     "data": {
      "text/html": [
       "<div>\n",
       "<style scoped>\n",
       "    .dataframe tbody tr th:only-of-type {\n",
       "        vertical-align: middle;\n",
       "    }\n",
       "\n",
       "    .dataframe tbody tr th {\n",
       "        vertical-align: top;\n",
       "    }\n",
       "\n",
       "    .dataframe thead th {\n",
       "        text-align: right;\n",
       "    }\n",
       "</style>\n",
       "<table border=\"1\" class=\"dataframe\">\n",
       "  <thead>\n",
       "    <tr style=\"text-align: right;\">\n",
       "      <th></th>\n",
       "      <th>Movie_Name</th>\n",
       "      <th>Year</th>\n",
       "      <th>Duration</th>\n",
       "      <th>Genres</th>\n",
       "      <th>Directors</th>\n",
       "      <th>Stars</th>\n",
       "      <th>Gross</th>\n",
       "    </tr>\n",
       "  </thead>\n",
       "  <tbody>\n",
       "    <tr>\n",
       "      <th>0</th>\n",
       "      <td>Bohemian Rhapsody</td>\n",
       "      <td>2018</td>\n",
       "      <td>134</td>\n",
       "      <td>[Biography,  Drama,  Music]</td>\n",
       "      <td>Bryan Singer</td>\n",
       "      <td>Rami Malek, Lucy Boynton, Gwilym Lee, Ben Hardy</td>\n",
       "      <td>216.43</td>\n",
       "    </tr>\n",
       "    <tr>\n",
       "      <th>1</th>\n",
       "      <td>Spider-Man: Into the Spider-Verse</td>\n",
       "      <td>2018</td>\n",
       "      <td>117</td>\n",
       "      <td>[Animation,  Action,  Adventure]</td>\n",
       "      <td>Directors:Bob Persichetti, Peter Ramsey, Rodne...</td>\n",
       "      <td>Shameik Moore, Jake Johnson, Hailee Steinfeld,...</td>\n",
       "      <td>190.24</td>\n",
       "    </tr>\n",
       "    <tr>\n",
       "      <th>2</th>\n",
       "      <td>Yellowstone</td>\n",
       "      <td>2018–</td>\n",
       "      <td>60</td>\n",
       "      <td>[Drama,  Western]</td>\n",
       "      <td>NaN</td>\n",
       "      <td>NaN</td>\n",
       "      <td>0.10</td>\n",
       "    </tr>\n",
       "    <tr>\n",
       "      <th>3</th>\n",
       "      <td>Hereditary</td>\n",
       "      <td>2018</td>\n",
       "      <td>127</td>\n",
       "      <td>[Drama,  Horror,  Mystery]</td>\n",
       "      <td>Ari Aster</td>\n",
       "      <td>Toni Collette, Milly Shapiro, Gabriel Byrne, A...</td>\n",
       "      <td>44.07</td>\n",
       "    </tr>\n",
       "    <tr>\n",
       "      <th>4</th>\n",
       "      <td>Killing Eve</td>\n",
       "      <td>2018–</td>\n",
       "      <td>43</td>\n",
       "      <td>[Drama,  Thriller]</td>\n",
       "      <td>NaN</td>\n",
       "      <td>NaN</td>\n",
       "      <td>0.48</td>\n",
       "    </tr>\n",
       "  </tbody>\n",
       "</table>\n",
       "</div>"
      ],
      "text/plain": [
       "                          Movie_Name    Year Duration  \\\n",
       "0                  Bohemian Rhapsody    2018      134   \n",
       "1  Spider-Man: Into the Spider-Verse    2018      117   \n",
       "2                        Yellowstone  2018–        60   \n",
       "3                         Hereditary    2018      127   \n",
       "4                        Killing Eve  2018–        43   \n",
       "\n",
       "                             Genres  \\\n",
       "0       [Biography,  Drama,  Music]   \n",
       "1  [Animation,  Action,  Adventure]   \n",
       "2                 [Drama,  Western]   \n",
       "3        [Drama,  Horror,  Mystery]   \n",
       "4                [Drama,  Thriller]   \n",
       "\n",
       "                                           Directors  \\\n",
       "0                                       Bryan Singer   \n",
       "1  Directors:Bob Persichetti, Peter Ramsey, Rodne...   \n",
       "2                                                NaN   \n",
       "3                                          Ari Aster   \n",
       "4                                                NaN   \n",
       "\n",
       "                                               Stars   Gross  \n",
       "0    Rami Malek, Lucy Boynton, Gwilym Lee, Ben Hardy  216.43  \n",
       "1  Shameik Moore, Jake Johnson, Hailee Steinfeld,...  190.24  \n",
       "2                                                NaN    0.10  \n",
       "3  Toni Collette, Milly Shapiro, Gabriel Byrne, A...   44.07  \n",
       "4                                                NaN    0.48  "
      ]
     },
     "execution_count": 8,
     "metadata": {},
     "output_type": "execute_result"
    }
   ],
   "source": [
    "df.head()"
   ]
  },
  {
   "cell_type": "code",
   "execution_count": 9,
   "metadata": {
    "ExecuteTime": {
     "end_time": "2019-07-16T05:50:40.306848Z",
     "start_time": "2019-07-16T05:50:40.290073Z"
    }
   },
   "outputs": [],
   "source": [
    "# Dropping any line with a na in it\n",
    "df= df.dropna(how ='any')"
   ]
  },
  {
   "cell_type": "code",
   "execution_count": 10,
   "metadata": {
    "ExecuteTime": {
     "end_time": "2019-07-16T05:50:40.323178Z",
     "start_time": "2019-07-16T05:50:40.309619Z"
    }
   },
   "outputs": [
    {
     "name": "stdout",
     "output_type": "stream",
     "text": [
      "<class 'pandas.core.frame.DataFrame'>\n",
      "Int64Index: 796 entries, 0 to 1099\n",
      "Data columns (total 7 columns):\n",
      "Movie_Name    796 non-null object\n",
      "Year          796 non-null object\n",
      "Duration      796 non-null object\n",
      "Genres        796 non-null object\n",
      "Directors     796 non-null object\n",
      "Stars         796 non-null object\n",
      "Gross         796 non-null object\n",
      "dtypes: object(7)\n",
      "memory usage: 49.8+ KB\n"
     ]
    }
   ],
   "source": [
    "df.info()"
   ]
  },
  {
   "cell_type": "code",
   "execution_count": 11,
   "metadata": {
    "ExecuteTime": {
     "end_time": "2019-07-16T05:50:40.336883Z",
     "start_time": "2019-07-16T05:50:40.328502Z"
    }
   },
   "outputs": [
    {
     "data": {
      "text/plain": [
       "2018             650\n",
       "I 2018            64\n",
       "2018 TV Movie     39\n",
       "II 2018           21\n",
       "2018 Video        10\n",
       "III 2018           9\n",
       "V 2018             2\n",
       "IX 2018            1\n",
       "Name: Year, dtype: int64"
      ]
     },
     "execution_count": 11,
     "metadata": {},
     "output_type": "execute_result"
    }
   ],
   "source": [
    "#Dropping the year column, they all contain 2018 and there is no adding value of keeping it\n",
    "df[\"Year\"].value_counts()"
   ]
  },
  {
   "cell_type": "code",
   "execution_count": 12,
   "metadata": {
    "ExecuteTime": {
     "end_time": "2019-07-16T05:50:40.346746Z",
     "start_time": "2019-07-16T05:50:40.339468Z"
    }
   },
   "outputs": [],
   "source": [
    "del[df[\"Year\"]]"
   ]
  },
  {
   "cell_type": "code",
   "execution_count": 13,
   "metadata": {
    "ExecuteTime": {
     "end_time": "2019-07-16T05:50:40.396271Z",
     "start_time": "2019-07-16T05:50:40.354130Z"
    }
   },
   "outputs": [],
   "source": [
    "# Removing white space from the Directors\n",
    "df[\"Directors\"] = df[\"Directors\"].str.replace(\"Directors:\",\"\")"
   ]
  },
  {
   "cell_type": "code",
   "execution_count": 14,
   "metadata": {
    "ExecuteTime": {
     "end_time": "2019-07-16T05:50:40.417722Z",
     "start_time": "2019-07-16T05:50:40.401204Z"
    },
    "scrolled": true
   },
   "outputs": [
    {
     "data": {
      "text/html": [
       "<div>\n",
       "<style scoped>\n",
       "    .dataframe tbody tr th:only-of-type {\n",
       "        vertical-align: middle;\n",
       "    }\n",
       "\n",
       "    .dataframe tbody tr th {\n",
       "        vertical-align: top;\n",
       "    }\n",
       "\n",
       "    .dataframe thead th {\n",
       "        text-align: right;\n",
       "    }\n",
       "</style>\n",
       "<table border=\"1\" class=\"dataframe\">\n",
       "  <thead>\n",
       "    <tr style=\"text-align: right;\">\n",
       "      <th></th>\n",
       "      <th>Movie_Name</th>\n",
       "      <th>Duration</th>\n",
       "      <th>Genres</th>\n",
       "      <th>Directors</th>\n",
       "      <th>Stars</th>\n",
       "      <th>Gross</th>\n",
       "    </tr>\n",
       "  </thead>\n",
       "  <tbody>\n",
       "    <tr>\n",
       "      <th>0</th>\n",
       "      <td>Bohemian Rhapsody</td>\n",
       "      <td>134</td>\n",
       "      <td>[Biography,  Drama,  Music]</td>\n",
       "      <td>Bryan Singer</td>\n",
       "      <td>Rami Malek, Lucy Boynton, Gwilym Lee, Ben Hardy</td>\n",
       "      <td>216.43</td>\n",
       "    </tr>\n",
       "    <tr>\n",
       "      <th>1</th>\n",
       "      <td>Spider-Man: Into the Spider-Verse</td>\n",
       "      <td>117</td>\n",
       "      <td>[Animation,  Action,  Adventure]</td>\n",
       "      <td>Bob Persichetti, Peter Ramsey, Rodney Rothman</td>\n",
       "      <td>Shameik Moore, Jake Johnson, Hailee Steinfeld,...</td>\n",
       "      <td>190.24</td>\n",
       "    </tr>\n",
       "    <tr>\n",
       "      <th>3</th>\n",
       "      <td>Hereditary</td>\n",
       "      <td>127</td>\n",
       "      <td>[Drama,  Horror,  Mystery]</td>\n",
       "      <td>Ari Aster</td>\n",
       "      <td>Toni Collette, Milly Shapiro, Gabriel Byrne, A...</td>\n",
       "      <td>44.07</td>\n",
       "    </tr>\n",
       "    <tr>\n",
       "      <th>5</th>\n",
       "      <td>Mary Poppins Returns</td>\n",
       "      <td>130</td>\n",
       "      <td>[Comedy,  Family,  Fantasy]</td>\n",
       "      <td>Rob Marshall</td>\n",
       "      <td>Emily Blunt, Lin-Manuel Miranda, Ben Whishaw, ...</td>\n",
       "      <td>171.96</td>\n",
       "    </tr>\n",
       "    <tr>\n",
       "      <th>6</th>\n",
       "      <td>A Star Is Born</td>\n",
       "      <td>136</td>\n",
       "      <td>[Drama,  Music,  Romance]</td>\n",
       "      <td>Bradley Cooper</td>\n",
       "      <td>Lady Gaga, Bradley Cooper, Sam Elliott, Greg G...</td>\n",
       "      <td>215.29</td>\n",
       "    </tr>\n",
       "  </tbody>\n",
       "</table>\n",
       "</div>"
      ],
      "text/plain": [
       "                          Movie_Name Duration  \\\n",
       "0                  Bohemian Rhapsody      134   \n",
       "1  Spider-Man: Into the Spider-Verse      117   \n",
       "3                         Hereditary      127   \n",
       "5               Mary Poppins Returns      130   \n",
       "6                     A Star Is Born      136   \n",
       "\n",
       "                             Genres  \\\n",
       "0       [Biography,  Drama,  Music]   \n",
       "1  [Animation,  Action,  Adventure]   \n",
       "3        [Drama,  Horror,  Mystery]   \n",
       "5       [Comedy,  Family,  Fantasy]   \n",
       "6         [Drama,  Music,  Romance]   \n",
       "\n",
       "                                       Directors  \\\n",
       "0                                   Bryan Singer   \n",
       "1  Bob Persichetti, Peter Ramsey, Rodney Rothman   \n",
       "3                                      Ari Aster   \n",
       "5                                   Rob Marshall   \n",
       "6                                 Bradley Cooper   \n",
       "\n",
       "                                               Stars   Gross  \n",
       "0    Rami Malek, Lucy Boynton, Gwilym Lee, Ben Hardy  216.43  \n",
       "1  Shameik Moore, Jake Johnson, Hailee Steinfeld,...  190.24  \n",
       "3  Toni Collette, Milly Shapiro, Gabriel Byrne, A...   44.07  \n",
       "5  Emily Blunt, Lin-Manuel Miranda, Ben Whishaw, ...  171.96  \n",
       "6  Lady Gaga, Bradley Cooper, Sam Elliott, Greg G...  215.29  "
      ]
     },
     "execution_count": 14,
     "metadata": {},
     "output_type": "execute_result"
    }
   ],
   "source": [
    "df.head()"
   ]
  },
  {
   "cell_type": "code",
   "execution_count": 15,
   "metadata": {
    "ExecuteTime": {
     "end_time": "2019-07-16T05:50:40.426941Z",
     "start_time": "2019-07-16T05:50:40.419464Z"
    }
   },
   "outputs": [],
   "source": [
    "df.drop_duplicates(subset =\"Movie_Name\", \n",
    "                     keep = 'first', inplace = True)"
   ]
  },
  {
   "cell_type": "code",
   "execution_count": 16,
   "metadata": {
    "ExecuteTime": {
     "end_time": "2019-07-16T05:50:40.441727Z",
     "start_time": "2019-07-16T05:50:40.431193Z"
    }
   },
   "outputs": [
    {
     "name": "stdout",
     "output_type": "stream",
     "text": [
      "<class 'pandas.core.frame.DataFrame'>\n",
      "Int64Index: 794 entries, 0 to 1099\n",
      "Data columns (total 6 columns):\n",
      "Movie_Name    794 non-null object\n",
      "Duration      794 non-null object\n",
      "Genres        794 non-null object\n",
      "Directors     794 non-null object\n",
      "Stars         794 non-null object\n",
      "Gross         794 non-null object\n",
      "dtypes: object(6)\n",
      "memory usage: 43.4+ KB\n"
     ]
    }
   ],
   "source": [
    "df.info()"
   ]
  },
  {
   "cell_type": "code",
   "execution_count": 17,
   "metadata": {
    "ExecuteTime": {
     "end_time": "2019-07-16T05:50:40.460215Z",
     "start_time": "2019-07-16T05:50:40.445700Z"
    }
   },
   "outputs": [
    {
     "data": {
      "text/html": [
       "<div>\n",
       "<style scoped>\n",
       "    .dataframe tbody tr th:only-of-type {\n",
       "        vertical-align: middle;\n",
       "    }\n",
       "\n",
       "    .dataframe tbody tr th {\n",
       "        vertical-align: top;\n",
       "    }\n",
       "\n",
       "    .dataframe thead th {\n",
       "        text-align: right;\n",
       "    }\n",
       "</style>\n",
       "<table border=\"1\" class=\"dataframe\">\n",
       "  <thead>\n",
       "    <tr style=\"text-align: right;\">\n",
       "      <th></th>\n",
       "      <th>Movie_Name</th>\n",
       "      <th>Genres</th>\n",
       "      <th>Duration</th>\n",
       "      <th>Gross</th>\n",
       "      <th>Directors</th>\n",
       "      <th>Stars</th>\n",
       "    </tr>\n",
       "  </thead>\n",
       "  <tbody>\n",
       "    <tr>\n",
       "      <th>0</th>\n",
       "      <td>Bohemian Rhapsody</td>\n",
       "      <td>[Biography,  Drama,  Music]</td>\n",
       "      <td>134</td>\n",
       "      <td>216.43</td>\n",
       "      <td>Bryan Singer</td>\n",
       "      <td>Rami Malek, Lucy Boynton, Gwilym Lee, Ben Hardy</td>\n",
       "    </tr>\n",
       "    <tr>\n",
       "      <th>1</th>\n",
       "      <td>Spider-Man: Into the Spider-Verse</td>\n",
       "      <td>[Animation,  Action,  Adventure]</td>\n",
       "      <td>117</td>\n",
       "      <td>190.24</td>\n",
       "      <td>Bob Persichetti, Peter Ramsey, Rodney Rothman</td>\n",
       "      <td>Shameik Moore, Jake Johnson, Hailee Steinfeld,...</td>\n",
       "    </tr>\n",
       "    <tr>\n",
       "      <th>3</th>\n",
       "      <td>Hereditary</td>\n",
       "      <td>[Drama,  Horror,  Mystery]</td>\n",
       "      <td>127</td>\n",
       "      <td>44.07</td>\n",
       "      <td>Ari Aster</td>\n",
       "      <td>Toni Collette, Milly Shapiro, Gabriel Byrne, A...</td>\n",
       "    </tr>\n",
       "    <tr>\n",
       "      <th>5</th>\n",
       "      <td>Mary Poppins Returns</td>\n",
       "      <td>[Comedy,  Family,  Fantasy]</td>\n",
       "      <td>130</td>\n",
       "      <td>171.96</td>\n",
       "      <td>Rob Marshall</td>\n",
       "      <td>Emily Blunt, Lin-Manuel Miranda, Ben Whishaw, ...</td>\n",
       "    </tr>\n",
       "    <tr>\n",
       "      <th>6</th>\n",
       "      <td>A Star Is Born</td>\n",
       "      <td>[Drama,  Music,  Romance]</td>\n",
       "      <td>136</td>\n",
       "      <td>215.29</td>\n",
       "      <td>Bradley Cooper</td>\n",
       "      <td>Lady Gaga, Bradley Cooper, Sam Elliott, Greg G...</td>\n",
       "    </tr>\n",
       "  </tbody>\n",
       "</table>\n",
       "</div>"
      ],
      "text/plain": [
       "                          Movie_Name                            Genres  \\\n",
       "0                  Bohemian Rhapsody       [Biography,  Drama,  Music]   \n",
       "1  Spider-Man: Into the Spider-Verse  [Animation,  Action,  Adventure]   \n",
       "3                         Hereditary        [Drama,  Horror,  Mystery]   \n",
       "5               Mary Poppins Returns       [Comedy,  Family,  Fantasy]   \n",
       "6                     A Star Is Born         [Drama,  Music,  Romance]   \n",
       "\n",
       "  Duration   Gross                                      Directors  \\\n",
       "0      134  216.43                                   Bryan Singer   \n",
       "1      117  190.24  Bob Persichetti, Peter Ramsey, Rodney Rothman   \n",
       "3      127   44.07                                      Ari Aster   \n",
       "5      130  171.96                                   Rob Marshall   \n",
       "6      136  215.29                                 Bradley Cooper   \n",
       "\n",
       "                                               Stars  \n",
       "0    Rami Malek, Lucy Boynton, Gwilym Lee, Ben Hardy  \n",
       "1  Shameik Moore, Jake Johnson, Hailee Steinfeld,...  \n",
       "3  Toni Collette, Milly Shapiro, Gabriel Byrne, A...  \n",
       "5  Emily Blunt, Lin-Manuel Miranda, Ben Whishaw, ...  \n",
       "6  Lady Gaga, Bradley Cooper, Sam Elliott, Greg G...  "
      ]
     },
     "execution_count": 17,
     "metadata": {},
     "output_type": "execute_result"
    }
   ],
   "source": [
    "df= df[[\"Movie_Name\",\"Genres\",\"Duration\",\"Gross\",\"Directors\",\"Stars\"]]\n",
    "df.head()"
   ]
  },
  {
   "cell_type": "code",
   "execution_count": 18,
   "metadata": {
    "ExecuteTime": {
     "end_time": "2019-07-16T05:50:40.518341Z",
     "start_time": "2019-07-16T05:50:40.462097Z"
    }
   },
   "outputs": [],
   "source": [
    "# Transforming the Gross column to a numeric value\n",
    "df[\"Gross\"] = df[\"Gross\"].str.replace(\"$\",\"\")\n",
    "df[\"Gross\"] = df[\"Gross\"].str.replace(\"M\",\"\")\n",
    "df[\"Gross\"] = df[\"Gross\"].str.replace(\",\",\"\")\n",
    "df[\"Gross\"] = pd.to_numeric(df[\"Gross\"])\n",
    "\n"
   ]
  },
  {
   "cell_type": "code",
   "execution_count": 19,
   "metadata": {
    "ExecuteTime": {
     "end_time": "2019-07-16T05:50:40.527774Z",
     "start_time": "2019-07-16T05:50:40.521404Z"
    }
   },
   "outputs": [],
   "source": [
    "# Same for duration\n",
    "df[\"Duration\"] = pd.to_numeric(df[\"Duration\"])\n"
   ]
  },
  {
   "cell_type": "code",
   "execution_count": 20,
   "metadata": {
    "ExecuteTime": {
     "end_time": "2019-07-16T05:50:40.539690Z",
     "start_time": "2019-07-16T05:50:40.528971Z"
    },
    "scrolled": false
   },
   "outputs": [
    {
     "data": {
      "text/html": [
       "<div>\n",
       "<style scoped>\n",
       "    .dataframe tbody tr th:only-of-type {\n",
       "        vertical-align: middle;\n",
       "    }\n",
       "\n",
       "    .dataframe tbody tr th {\n",
       "        vertical-align: top;\n",
       "    }\n",
       "\n",
       "    .dataframe thead th {\n",
       "        text-align: right;\n",
       "    }\n",
       "</style>\n",
       "<table border=\"1\" class=\"dataframe\">\n",
       "  <thead>\n",
       "    <tr style=\"text-align: right;\">\n",
       "      <th></th>\n",
       "      <th>Movie_Name</th>\n",
       "      <th>Genres</th>\n",
       "      <th>Duration</th>\n",
       "      <th>Gross</th>\n",
       "      <th>Directors</th>\n",
       "      <th>Stars</th>\n",
       "    </tr>\n",
       "  </thead>\n",
       "  <tbody>\n",
       "    <tr>\n",
       "      <th>0</th>\n",
       "      <td>Bohemian Rhapsody</td>\n",
       "      <td>[Biography,  Drama,  Music]</td>\n",
       "      <td>134</td>\n",
       "      <td>216.43</td>\n",
       "      <td>Bryan Singer</td>\n",
       "      <td>Rami Malek, Lucy Boynton, Gwilym Lee, Ben Hardy</td>\n",
       "    </tr>\n",
       "    <tr>\n",
       "      <th>1</th>\n",
       "      <td>Spider-Man: Into the Spider-Verse</td>\n",
       "      <td>[Animation,  Action,  Adventure]</td>\n",
       "      <td>117</td>\n",
       "      <td>190.24</td>\n",
       "      <td>Bob Persichetti, Peter Ramsey, Rodney Rothman</td>\n",
       "      <td>Shameik Moore, Jake Johnson, Hailee Steinfeld,...</td>\n",
       "    </tr>\n",
       "    <tr>\n",
       "      <th>3</th>\n",
       "      <td>Hereditary</td>\n",
       "      <td>[Drama,  Horror,  Mystery]</td>\n",
       "      <td>127</td>\n",
       "      <td>44.07</td>\n",
       "      <td>Ari Aster</td>\n",
       "      <td>Toni Collette, Milly Shapiro, Gabriel Byrne, A...</td>\n",
       "    </tr>\n",
       "    <tr>\n",
       "      <th>5</th>\n",
       "      <td>Mary Poppins Returns</td>\n",
       "      <td>[Comedy,  Family,  Fantasy]</td>\n",
       "      <td>130</td>\n",
       "      <td>171.96</td>\n",
       "      <td>Rob Marshall</td>\n",
       "      <td>Emily Blunt, Lin-Manuel Miranda, Ben Whishaw, ...</td>\n",
       "    </tr>\n",
       "    <tr>\n",
       "      <th>6</th>\n",
       "      <td>A Star Is Born</td>\n",
       "      <td>[Drama,  Music,  Romance]</td>\n",
       "      <td>136</td>\n",
       "      <td>215.29</td>\n",
       "      <td>Bradley Cooper</td>\n",
       "      <td>Lady Gaga, Bradley Cooper, Sam Elliott, Greg G...</td>\n",
       "    </tr>\n",
       "  </tbody>\n",
       "</table>\n",
       "</div>"
      ],
      "text/plain": [
       "                          Movie_Name                            Genres  \\\n",
       "0                  Bohemian Rhapsody       [Biography,  Drama,  Music]   \n",
       "1  Spider-Man: Into the Spider-Verse  [Animation,  Action,  Adventure]   \n",
       "3                         Hereditary        [Drama,  Horror,  Mystery]   \n",
       "5               Mary Poppins Returns       [Comedy,  Family,  Fantasy]   \n",
       "6                     A Star Is Born         [Drama,  Music,  Romance]   \n",
       "\n",
       "   Duration   Gross                                      Directors  \\\n",
       "0       134  216.43                                   Bryan Singer   \n",
       "1       117  190.24  Bob Persichetti, Peter Ramsey, Rodney Rothman   \n",
       "3       127   44.07                                      Ari Aster   \n",
       "5       130  171.96                                   Rob Marshall   \n",
       "6       136  215.29                                 Bradley Cooper   \n",
       "\n",
       "                                               Stars  \n",
       "0    Rami Malek, Lucy Boynton, Gwilym Lee, Ben Hardy  \n",
       "1  Shameik Moore, Jake Johnson, Hailee Steinfeld,...  \n",
       "3  Toni Collette, Milly Shapiro, Gabriel Byrne, A...  \n",
       "5  Emily Blunt, Lin-Manuel Miranda, Ben Whishaw, ...  \n",
       "6  Lady Gaga, Bradley Cooper, Sam Elliott, Greg G...  "
      ]
     },
     "execution_count": 20,
     "metadata": {},
     "output_type": "execute_result"
    }
   ],
   "source": [
    "df.head()"
   ]
  },
  {
   "cell_type": "code",
   "execution_count": 21,
   "metadata": {
    "ExecuteTime": {
     "end_time": "2019-07-16T05:50:40.550545Z",
     "start_time": "2019-07-16T05:50:40.544198Z"
    }
   },
   "outputs": [],
   "source": [
    "df = df.sort_values(by = [\"Gross\"], axis = 0, ascending = False)\n",
    "    "
   ]
  },
  {
   "cell_type": "code",
   "execution_count": 22,
   "metadata": {
    "ExecuteTime": {
     "end_time": "2019-07-16T05:50:40.575905Z",
     "start_time": "2019-07-16T05:50:40.551794Z"
    }
   },
   "outputs": [
    {
     "data": {
      "text/plain": [
       "(-0.701, 350.03]    0.994962\n",
       "(350.03, 700.06]    0.005038\n",
       "Name: Gross, dtype: float64"
      ]
     },
     "execution_count": 22,
     "metadata": {},
     "output_type": "execute_result"
    }
   ],
   "source": [
    "df[\"Gross\"].value_counts(normalize = True, bins =2)\n",
    "#filtered_data = df[\"Gross\"] > "
   ]
  },
  {
   "cell_type": "code",
   "execution_count": 23,
   "metadata": {
    "ExecuteTime": {
     "end_time": "2019-07-16T05:50:40.583774Z",
     "start_time": "2019-07-16T05:50:40.577117Z"
    }
   },
   "outputs": [
    {
     "data": {
      "text/plain": [
       "(794, 6)"
      ]
     },
     "execution_count": 23,
     "metadata": {},
     "output_type": "execute_result"
    }
   ],
   "source": [
    "df.shape"
   ]
  },
  {
   "cell_type": "code",
   "execution_count": 24,
   "metadata": {
    "ExecuteTime": {
     "end_time": "2019-07-16T05:50:40.590726Z",
     "start_time": "2019-07-16T05:50:40.585989Z"
    }
   },
   "outputs": [],
   "source": [
    "# keeping only blockbusters\n",
    "new_df = df[df[\"Gross\"] > 100]"
   ]
  },
  {
   "cell_type": "code",
   "execution_count": 25,
   "metadata": {
    "ExecuteTime": {
     "end_time": "2019-07-16T05:50:40.599954Z",
     "start_time": "2019-07-16T05:50:40.595305Z"
    }
   },
   "outputs": [
    {
     "data": {
      "text/plain": [
       "pandas.core.frame.DataFrame"
      ]
     },
     "execution_count": 25,
     "metadata": {},
     "output_type": "execute_result"
    }
   ],
   "source": [
    "type(new_df)"
   ]
  },
  {
   "cell_type": "code",
   "execution_count": 26,
   "metadata": {
    "ExecuteTime": {
     "end_time": "2019-07-16T05:50:40.606350Z",
     "start_time": "2019-07-16T05:50:40.601825Z"
    },
    "scrolled": true
   },
   "outputs": [
    {
     "data": {
      "text/plain": [
       "(33, 6)"
      ]
     },
     "execution_count": 26,
     "metadata": {},
     "output_type": "execute_result"
    }
   ],
   "source": [
    "new_df.shape"
   ]
  },
  {
   "cell_type": "code",
   "execution_count": 27,
   "metadata": {
    "ExecuteTime": {
     "end_time": "2019-07-16T05:50:40.639470Z",
     "start_time": "2019-07-16T05:50:40.608009Z"
    }
   },
   "outputs": [
    {
     "data": {
      "text/html": [
       "<div>\n",
       "<style scoped>\n",
       "    .dataframe tbody tr th:only-of-type {\n",
       "        vertical-align: middle;\n",
       "    }\n",
       "\n",
       "    .dataframe tbody tr th {\n",
       "        vertical-align: top;\n",
       "    }\n",
       "\n",
       "    .dataframe thead th {\n",
       "        text-align: right;\n",
       "    }\n",
       "</style>\n",
       "<table border=\"1\" class=\"dataframe\">\n",
       "  <thead>\n",
       "    <tr style=\"text-align: right;\">\n",
       "      <th></th>\n",
       "      <th>Movie_Name</th>\n",
       "      <th>Genres</th>\n",
       "      <th>Duration</th>\n",
       "      <th>Gross</th>\n",
       "      <th>Directors</th>\n",
       "      <th>Stars</th>\n",
       "    </tr>\n",
       "  </thead>\n",
       "  <tbody>\n",
       "    <tr>\n",
       "      <th>26</th>\n",
       "      <td>Black Panther</td>\n",
       "      <td>[Action,  Adventure,  Sci-Fi]</td>\n",
       "      <td>134</td>\n",
       "      <td>700.06</td>\n",
       "      <td>Ryan Coogler</td>\n",
       "      <td>Chadwick Boseman, Michael B. Jordan, Lupita Ny...</td>\n",
       "    </tr>\n",
       "    <tr>\n",
       "      <th>7</th>\n",
       "      <td>Avengers: Infinity War</td>\n",
       "      <td>[Action,  Adventure,  Sci-Fi]</td>\n",
       "      <td>149</td>\n",
       "      <td>678.82</td>\n",
       "      <td>Anthony Russo, Joe Russo</td>\n",
       "      <td>Robert Downey Jr., Chris Hemsworth, Mark Ruffa...</td>\n",
       "    </tr>\n",
       "    <tr>\n",
       "      <th>84</th>\n",
       "      <td>Incredibles 2</td>\n",
       "      <td>[Animation,  Action,  Adventure]</td>\n",
       "      <td>118</td>\n",
       "      <td>608.58</td>\n",
       "      <td>Brad Bird</td>\n",
       "      <td>Craig T. Nelson, Holly Hunter, Sarah Vowell, H...</td>\n",
       "    </tr>\n",
       "    <tr>\n",
       "      <th>60</th>\n",
       "      <td>Jurassic World: Fallen Kingdom</td>\n",
       "      <td>[Action,  Adventure,  Sci-Fi]</td>\n",
       "      <td>128</td>\n",
       "      <td>417.72</td>\n",
       "      <td>J.A. Bayona</td>\n",
       "      <td>Chris Pratt, Bryce Dallas Howard, Rafe Spall, ...</td>\n",
       "    </tr>\n",
       "    <tr>\n",
       "      <th>11</th>\n",
       "      <td>Aquaman</td>\n",
       "      <td>[Action,  Adventure,  Fantasy]</td>\n",
       "      <td>143</td>\n",
       "      <td>335.06</td>\n",
       "      <td>James Wan</td>\n",
       "      <td>Jason Momoa, Amber Heard, Willem Dafoe, Patric...</td>\n",
       "    </tr>\n",
       "    <tr>\n",
       "      <th>23</th>\n",
       "      <td>Deadpool 2</td>\n",
       "      <td>[Action,  Adventure,  Comedy]</td>\n",
       "      <td>119</td>\n",
       "      <td>324.59</td>\n",
       "      <td>David Leitch</td>\n",
       "      <td>Ryan Reynolds, Josh Brolin, Morena Baccarin, J...</td>\n",
       "    </tr>\n",
       "    <tr>\n",
       "      <th>175</th>\n",
       "      <td>The Grinch</td>\n",
       "      <td>[Animation,  Comedy,  Family]</td>\n",
       "      <td>85</td>\n",
       "      <td>270.62</td>\n",
       "      <td>Yarrow Cheney, Scott Mosier</td>\n",
       "      <td>Benedict Cumberbatch, Cameron Seely, Rashida J...</td>\n",
       "    </tr>\n",
       "    <tr>\n",
       "      <th>39</th>\n",
       "      <td>Mission: Impossible - Fallout</td>\n",
       "      <td>[Action,  Adventure,  Thriller]</td>\n",
       "      <td>147</td>\n",
       "      <td>220.16</td>\n",
       "      <td>Christopher McQuarrie</td>\n",
       "      <td>Tom Cruise, Henry Cavill, Ving Rhames, Simon Pegg</td>\n",
       "    </tr>\n",
       "    <tr>\n",
       "      <th>93</th>\n",
       "      <td>Ant-Man and the Wasp</td>\n",
       "      <td>[Action,  Adventure,  Comedy]</td>\n",
       "      <td>118</td>\n",
       "      <td>216.65</td>\n",
       "      <td>Peyton Reed</td>\n",
       "      <td>Paul Rudd, Evangeline Lilly, Michael Peña, Wal...</td>\n",
       "    </tr>\n",
       "    <tr>\n",
       "      <th>0</th>\n",
       "      <td>Bohemian Rhapsody</td>\n",
       "      <td>[Biography,  Drama,  Music]</td>\n",
       "      <td>134</td>\n",
       "      <td>216.43</td>\n",
       "      <td>Bryan Singer</td>\n",
       "      <td>Rami Malek, Lucy Boynton, Gwilym Lee, Ben Hardy</td>\n",
       "    </tr>\n",
       "    <tr>\n",
       "      <th>6</th>\n",
       "      <td>A Star Is Born</td>\n",
       "      <td>[Drama,  Music,  Romance]</td>\n",
       "      <td>136</td>\n",
       "      <td>215.29</td>\n",
       "      <td>Bradley Cooper</td>\n",
       "      <td>Lady Gaga, Bradley Cooper, Sam Elliott, Greg G...</td>\n",
       "    </tr>\n",
       "    <tr>\n",
       "      <th>68</th>\n",
       "      <td>Solo: A Star Wars Story</td>\n",
       "      <td>[Action,  Adventure,  Fantasy]</td>\n",
       "      <td>135</td>\n",
       "      <td>213.77</td>\n",
       "      <td>Ron Howard</td>\n",
       "      <td>Alden Ehrenreich, Woody Harrelson, Emilia Clar...</td>\n",
       "    </tr>\n",
       "    <tr>\n",
       "      <th>16</th>\n",
       "      <td>Venom</td>\n",
       "      <td>[Action,  Sci-Fi,  Thriller]</td>\n",
       "      <td>112</td>\n",
       "      <td>213.52</td>\n",
       "      <td>Ruben Fleischer</td>\n",
       "      <td>Tom Hardy, Michelle Williams, Riz Ahmed, Scott...</td>\n",
       "    </tr>\n",
       "    <tr>\n",
       "      <th>25</th>\n",
       "      <td>Ralph Breaks the Internet</td>\n",
       "      <td>[Animation,  Adventure,  Comedy]</td>\n",
       "      <td>112</td>\n",
       "      <td>201.09</td>\n",
       "      <td>Phil Johnston, Rich Moore</td>\n",
       "      <td>John C. Reilly, Sarah Silverman, Gal Gadot, Ta...</td>\n",
       "    </tr>\n",
       "    <tr>\n",
       "      <th>1</th>\n",
       "      <td>Spider-Man: Into the Spider-Verse</td>\n",
       "      <td>[Animation,  Action,  Adventure]</td>\n",
       "      <td>117</td>\n",
       "      <td>190.24</td>\n",
       "      <td>Bob Persichetti, Peter Ramsey, Rodney Rothman</td>\n",
       "      <td>Shameik Moore, Jake Johnson, Hailee Steinfeld,...</td>\n",
       "    </tr>\n",
       "    <tr>\n",
       "      <th>53</th>\n",
       "      <td>A Quiet Place</td>\n",
       "      <td>[Drama,  Horror,  Sci-Fi]</td>\n",
       "      <td>90</td>\n",
       "      <td>188.02</td>\n",
       "      <td>John Krasinski</td>\n",
       "      <td>Emily Blunt, John Krasinski, Millicent Simmond...</td>\n",
       "    </tr>\n",
       "    <tr>\n",
       "      <th>17</th>\n",
       "      <td>Crazy Rich Asians</td>\n",
       "      <td>[Comedy,  Romance]</td>\n",
       "      <td>120</td>\n",
       "      <td>174.53</td>\n",
       "      <td>Jon M. Chu</td>\n",
       "      <td>Constance Wu, Henry Golding, Michelle Yeoh, Ge...</td>\n",
       "    </tr>\n",
       "    <tr>\n",
       "      <th>5</th>\n",
       "      <td>Mary Poppins Returns</td>\n",
       "      <td>[Comedy,  Family,  Fantasy]</td>\n",
       "      <td>130</td>\n",
       "      <td>171.96</td>\n",
       "      <td>Rob Marshall</td>\n",
       "      <td>Emily Blunt, Lin-Manuel Miranda, Ben Whishaw, ...</td>\n",
       "    </tr>\n",
       "    <tr>\n",
       "      <th>192</th>\n",
       "      <td>Hotel Transylvania 3: Summer Vacation</td>\n",
       "      <td>[Animation,  Adventure,  Comedy]</td>\n",
       "      <td>97</td>\n",
       "      <td>167.51</td>\n",
       "      <td>Genndy Tartakovsky</td>\n",
       "      <td>Adam Sandler, Andy Samberg, Selena Gomez, Kevi...</td>\n",
       "    </tr>\n",
       "    <tr>\n",
       "      <th>51</th>\n",
       "      <td>Fantastic Beasts: The Crimes of Grindelwald</td>\n",
       "      <td>[Adventure,  Family,  Fantasy]</td>\n",
       "      <td>134</td>\n",
       "      <td>159.56</td>\n",
       "      <td>David Yates</td>\n",
       "      <td>Eddie Redmayne, Katherine Waterston, Dan Fogle...</td>\n",
       "    </tr>\n",
       "    <tr>\n",
       "      <th>78</th>\n",
       "      <td>Halloween</td>\n",
       "      <td>[Horror,  Thriller]</td>\n",
       "      <td>106</td>\n",
       "      <td>159.34</td>\n",
       "      <td>David Gordon Green</td>\n",
       "      <td>Jamie Lee Curtis, Judy Greer, Andi Matichak, J...</td>\n",
       "    </tr>\n",
       "    <tr>\n",
       "      <th>45</th>\n",
       "      <td>The Meg</td>\n",
       "      <td>[Action,  Horror,  Sci-Fi]</td>\n",
       "      <td>113</td>\n",
       "      <td>143.01</td>\n",
       "      <td>Jon Turteltaub</td>\n",
       "      <td>Jason Statham, Bingbing Li, Rainn Wilson, Clif...</td>\n",
       "    </tr>\n",
       "    <tr>\n",
       "      <th>61</th>\n",
       "      <td>Ocean's 8</td>\n",
       "      <td>[Action,  Comedy,  Crime]</td>\n",
       "      <td>110</td>\n",
       "      <td>139.38</td>\n",
       "      <td>Gary Ross</td>\n",
       "      <td>Sandra Bullock, Cate Blanchett, Anne Hathaway,...</td>\n",
       "    </tr>\n",
       "    <tr>\n",
       "      <th>40</th>\n",
       "      <td>Ready Player One</td>\n",
       "      <td>[Action,  Adventure,  Sci-Fi]</td>\n",
       "      <td>140</td>\n",
       "      <td>137.69</td>\n",
       "      <td>Steven Spielberg</td>\n",
       "      <td>Tye Sheridan, Olivia Cooke, Ben Mendelsohn, Le...</td>\n",
       "    </tr>\n",
       "    <tr>\n",
       "      <th>72</th>\n",
       "      <td>Bumblebee</td>\n",
       "      <td>[Action,  Adventure,  Sci-Fi]</td>\n",
       "      <td>114</td>\n",
       "      <td>127.20</td>\n",
       "      <td>Travis Knight</td>\n",
       "      <td>Hailee Steinfeld, Jorge Lendeborg Jr., John Ce...</td>\n",
       "    </tr>\n",
       "    <tr>\n",
       "      <th>69</th>\n",
       "      <td>Mamma Mia! Here We Go Again</td>\n",
       "      <td>[Comedy,  Musical,  Romance]</td>\n",
       "      <td>114</td>\n",
       "      <td>120.63</td>\n",
       "      <td>Ol Parker</td>\n",
       "      <td>Lily James, Amanda Seyfried, Meryl Streep, Cher</td>\n",
       "    </tr>\n",
       "    <tr>\n",
       "      <th>34</th>\n",
       "      <td>The Nun</td>\n",
       "      <td>[Horror,  Mystery,  Thriller]</td>\n",
       "      <td>96</td>\n",
       "      <td>117.44</td>\n",
       "      <td>Corin Hardy</td>\n",
       "      <td>Demián Bichir, Taissa Farmiga, Jonas Bloquet, ...</td>\n",
       "    </tr>\n",
       "    <tr>\n",
       "      <th>56</th>\n",
       "      <td>Creed II</td>\n",
       "      <td>[Drama,  Sport]</td>\n",
       "      <td>130</td>\n",
       "      <td>115.72</td>\n",
       "      <td>Steven Caple Jr.</td>\n",
       "      <td>Michael B. Jordan, Sylvester Stallone, Tessa T...</td>\n",
       "    </tr>\n",
       "    <tr>\n",
       "      <th>344</th>\n",
       "      <td>Peter Rabbit</td>\n",
       "      <td>[Animation,  Adventure,  Comedy]</td>\n",
       "      <td>95</td>\n",
       "      <td>115.25</td>\n",
       "      <td>Will Gluck</td>\n",
       "      <td>James Corden, Fayssal Bazzi, Domhnall Gleeson,...</td>\n",
       "    </tr>\n",
       "    <tr>\n",
       "      <th>50</th>\n",
       "      <td>The Mule</td>\n",
       "      <td>[Crime,  Drama,  Thriller]</td>\n",
       "      <td>116</td>\n",
       "      <td>103.80</td>\n",
       "      <td>Clint Eastwood</td>\n",
       "      <td>Clint Eastwood, Patrick L. Reyes, Cesar De Leó...</td>\n",
       "    </tr>\n",
       "    <tr>\n",
       "      <th>120</th>\n",
       "      <td>The Equalizer 2</td>\n",
       "      <td>[Action,  Crime,  Thriller]</td>\n",
       "      <td>121</td>\n",
       "      <td>102.08</td>\n",
       "      <td>Antoine Fuqua</td>\n",
       "      <td>Denzel Washington, Pedro Pascal, Ashton Sander...</td>\n",
       "    </tr>\n",
       "    <tr>\n",
       "      <th>183</th>\n",
       "      <td>A Wrinkle in Time</td>\n",
       "      <td>[Adventure,  Family,  Fantasy]</td>\n",
       "      <td>109</td>\n",
       "      <td>100.48</td>\n",
       "      <td>Ava DuVernay</td>\n",
       "      <td>Storm Reid, Oprah Winfrey, Reese Witherspoon, ...</td>\n",
       "    </tr>\n",
       "    <tr>\n",
       "      <th>166</th>\n",
       "      <td>Fifty Shades Freed</td>\n",
       "      <td>[Drama,  Romance,  Thriller]</td>\n",
       "      <td>105</td>\n",
       "      <td>100.41</td>\n",
       "      <td>James Foley</td>\n",
       "      <td>Dakota Johnson, Jamie Dornan, Eric Johnson, El...</td>\n",
       "    </tr>\n",
       "  </tbody>\n",
       "</table>\n",
       "</div>"
      ],
      "text/plain": [
       "                                      Movie_Name  \\\n",
       "26                                 Black Panther   \n",
       "7                         Avengers: Infinity War   \n",
       "84                                 Incredibles 2   \n",
       "60                Jurassic World: Fallen Kingdom   \n",
       "11                                       Aquaman   \n",
       "23                                    Deadpool 2   \n",
       "175                                   The Grinch   \n",
       "39                 Mission: Impossible - Fallout   \n",
       "93                          Ant-Man and the Wasp   \n",
       "0                              Bohemian Rhapsody   \n",
       "6                                 A Star Is Born   \n",
       "68                       Solo: A Star Wars Story   \n",
       "16                                         Venom   \n",
       "25                     Ralph Breaks the Internet   \n",
       "1              Spider-Man: Into the Spider-Verse   \n",
       "53                                 A Quiet Place   \n",
       "17                             Crazy Rich Asians   \n",
       "5                           Mary Poppins Returns   \n",
       "192        Hotel Transylvania 3: Summer Vacation   \n",
       "51   Fantastic Beasts: The Crimes of Grindelwald   \n",
       "78                                     Halloween   \n",
       "45                                       The Meg   \n",
       "61                                     Ocean's 8   \n",
       "40                              Ready Player One   \n",
       "72                                     Bumblebee   \n",
       "69                   Mamma Mia! Here We Go Again   \n",
       "34                                       The Nun   \n",
       "56                                      Creed II   \n",
       "344                                 Peter Rabbit   \n",
       "50                                      The Mule   \n",
       "120                              The Equalizer 2   \n",
       "183                            A Wrinkle in Time   \n",
       "166                           Fifty Shades Freed   \n",
       "\n",
       "                               Genres  Duration   Gross  \\\n",
       "26      [Action,  Adventure,  Sci-Fi]       134  700.06   \n",
       "7       [Action,  Adventure,  Sci-Fi]       149  678.82   \n",
       "84   [Animation,  Action,  Adventure]       118  608.58   \n",
       "60      [Action,  Adventure,  Sci-Fi]       128  417.72   \n",
       "11     [Action,  Adventure,  Fantasy]       143  335.06   \n",
       "23      [Action,  Adventure,  Comedy]       119  324.59   \n",
       "175     [Animation,  Comedy,  Family]        85  270.62   \n",
       "39    [Action,  Adventure,  Thriller]       147  220.16   \n",
       "93      [Action,  Adventure,  Comedy]       118  216.65   \n",
       "0         [Biography,  Drama,  Music]       134  216.43   \n",
       "6           [Drama,  Music,  Romance]       136  215.29   \n",
       "68     [Action,  Adventure,  Fantasy]       135  213.77   \n",
       "16       [Action,  Sci-Fi,  Thriller]       112  213.52   \n",
       "25   [Animation,  Adventure,  Comedy]       112  201.09   \n",
       "1    [Animation,  Action,  Adventure]       117  190.24   \n",
       "53          [Drama,  Horror,  Sci-Fi]        90  188.02   \n",
       "17                 [Comedy,  Romance]       120  174.53   \n",
       "5         [Comedy,  Family,  Fantasy]       130  171.96   \n",
       "192  [Animation,  Adventure,  Comedy]        97  167.51   \n",
       "51     [Adventure,  Family,  Fantasy]       134  159.56   \n",
       "78                [Horror,  Thriller]       106  159.34   \n",
       "45         [Action,  Horror,  Sci-Fi]       113  143.01   \n",
       "61          [Action,  Comedy,  Crime]       110  139.38   \n",
       "40      [Action,  Adventure,  Sci-Fi]       140  137.69   \n",
       "72      [Action,  Adventure,  Sci-Fi]       114  127.20   \n",
       "69       [Comedy,  Musical,  Romance]       114  120.63   \n",
       "34      [Horror,  Mystery,  Thriller]        96  117.44   \n",
       "56                    [Drama,  Sport]       130  115.72   \n",
       "344  [Animation,  Adventure,  Comedy]        95  115.25   \n",
       "50         [Crime,  Drama,  Thriller]       116  103.80   \n",
       "120       [Action,  Crime,  Thriller]       121  102.08   \n",
       "183    [Adventure,  Family,  Fantasy]       109  100.48   \n",
       "166      [Drama,  Romance,  Thriller]       105  100.41   \n",
       "\n",
       "                                         Directors  \\\n",
       "26                                    Ryan Coogler   \n",
       "7                         Anthony Russo, Joe Russo   \n",
       "84                                       Brad Bird   \n",
       "60                                     J.A. Bayona   \n",
       "11                                       James Wan   \n",
       "23                                    David Leitch   \n",
       "175                    Yarrow Cheney, Scott Mosier   \n",
       "39                           Christopher McQuarrie   \n",
       "93                                     Peyton Reed   \n",
       "0                                     Bryan Singer   \n",
       "6                                   Bradley Cooper   \n",
       "68                                      Ron Howard   \n",
       "16                                 Ruben Fleischer   \n",
       "25                       Phil Johnston, Rich Moore   \n",
       "1    Bob Persichetti, Peter Ramsey, Rodney Rothman   \n",
       "53                                  John Krasinski   \n",
       "17                                      Jon M. Chu   \n",
       "5                                     Rob Marshall   \n",
       "192                             Genndy Tartakovsky   \n",
       "51                                     David Yates   \n",
       "78                              David Gordon Green   \n",
       "45                                  Jon Turteltaub   \n",
       "61                                       Gary Ross   \n",
       "40                                Steven Spielberg   \n",
       "72                                   Travis Knight   \n",
       "69                                       Ol Parker   \n",
       "34                                     Corin Hardy   \n",
       "56                                Steven Caple Jr.   \n",
       "344                                     Will Gluck   \n",
       "50                                  Clint Eastwood   \n",
       "120                                  Antoine Fuqua   \n",
       "183                                   Ava DuVernay   \n",
       "166                                    James Foley   \n",
       "\n",
       "                                                 Stars  \n",
       "26   Chadwick Boseman, Michael B. Jordan, Lupita Ny...  \n",
       "7    Robert Downey Jr., Chris Hemsworth, Mark Ruffa...  \n",
       "84   Craig T. Nelson, Holly Hunter, Sarah Vowell, H...  \n",
       "60   Chris Pratt, Bryce Dallas Howard, Rafe Spall, ...  \n",
       "11   Jason Momoa, Amber Heard, Willem Dafoe, Patric...  \n",
       "23   Ryan Reynolds, Josh Brolin, Morena Baccarin, J...  \n",
       "175  Benedict Cumberbatch, Cameron Seely, Rashida J...  \n",
       "39   Tom Cruise, Henry Cavill, Ving Rhames, Simon Pegg  \n",
       "93   Paul Rudd, Evangeline Lilly, Michael Peña, Wal...  \n",
       "0      Rami Malek, Lucy Boynton, Gwilym Lee, Ben Hardy  \n",
       "6    Lady Gaga, Bradley Cooper, Sam Elliott, Greg G...  \n",
       "68   Alden Ehrenreich, Woody Harrelson, Emilia Clar...  \n",
       "16   Tom Hardy, Michelle Williams, Riz Ahmed, Scott...  \n",
       "25   John C. Reilly, Sarah Silverman, Gal Gadot, Ta...  \n",
       "1    Shameik Moore, Jake Johnson, Hailee Steinfeld,...  \n",
       "53   Emily Blunt, John Krasinski, Millicent Simmond...  \n",
       "17   Constance Wu, Henry Golding, Michelle Yeoh, Ge...  \n",
       "5    Emily Blunt, Lin-Manuel Miranda, Ben Whishaw, ...  \n",
       "192  Adam Sandler, Andy Samberg, Selena Gomez, Kevi...  \n",
       "51   Eddie Redmayne, Katherine Waterston, Dan Fogle...  \n",
       "78   Jamie Lee Curtis, Judy Greer, Andi Matichak, J...  \n",
       "45   Jason Statham, Bingbing Li, Rainn Wilson, Clif...  \n",
       "61   Sandra Bullock, Cate Blanchett, Anne Hathaway,...  \n",
       "40   Tye Sheridan, Olivia Cooke, Ben Mendelsohn, Le...  \n",
       "72   Hailee Steinfeld, Jorge Lendeborg Jr., John Ce...  \n",
       "69     Lily James, Amanda Seyfried, Meryl Streep, Cher  \n",
       "34   Demián Bichir, Taissa Farmiga, Jonas Bloquet, ...  \n",
       "56   Michael B. Jordan, Sylvester Stallone, Tessa T...  \n",
       "344  James Corden, Fayssal Bazzi, Domhnall Gleeson,...  \n",
       "50   Clint Eastwood, Patrick L. Reyes, Cesar De Leó...  \n",
       "120  Denzel Washington, Pedro Pascal, Ashton Sander...  \n",
       "183  Storm Reid, Oprah Winfrey, Reese Witherspoon, ...  \n",
       "166  Dakota Johnson, Jamie Dornan, Eric Johnson, El...  "
      ]
     },
     "execution_count": 27,
     "metadata": {},
     "output_type": "execute_result"
    }
   ],
   "source": [
    "new_df"
   ]
  },
  {
   "cell_type": "markdown",
   "metadata": {},
   "source": [
    "## Adding features for Stars "
   ]
  },
  {
   "cell_type": "code",
   "execution_count": 28,
   "metadata": {
    "ExecuteTime": {
     "end_time": "2019-07-16T05:50:40.713407Z",
     "start_time": "2019-07-16T05:50:40.643816Z"
    }
   },
   "outputs": [
    {
     "name": "stderr",
     "output_type": "stream",
     "text": [
      "/anaconda3/lib/python3.7/site-packages/ipykernel_launcher.py:1: SettingWithCopyWarning: \n",
      "A value is trying to be set on a copy of a slice from a DataFrame.\n",
      "Try using .loc[row_indexer,col_indexer] = value instead\n",
      "\n",
      "See the caveats in the documentation: http://pandas.pydata.org/pandas-docs/stable/indexing.html#indexing-view-versus-copy\n",
      "  \"\"\"Entry point for launching an IPython kernel.\n"
     ]
    },
    {
     "data": {
      "text/html": [
       "<div>\n",
       "<style scoped>\n",
       "    .dataframe tbody tr th:only-of-type {\n",
       "        vertical-align: middle;\n",
       "    }\n",
       "\n",
       "    .dataframe tbody tr th {\n",
       "        vertical-align: top;\n",
       "    }\n",
       "\n",
       "    .dataframe thead th {\n",
       "        text-align: right;\n",
       "    }\n",
       "</style>\n",
       "<table border=\"1\" class=\"dataframe\">\n",
       "  <thead>\n",
       "    <tr style=\"text-align: right;\">\n",
       "      <th></th>\n",
       "      <th>Movie_Name</th>\n",
       "      <th>Genres</th>\n",
       "      <th>Duration</th>\n",
       "      <th>Gross</th>\n",
       "      <th>Directors</th>\n",
       "      <th>Stars</th>\n",
       "    </tr>\n",
       "  </thead>\n",
       "  <tbody>\n",
       "    <tr>\n",
       "      <th>26</th>\n",
       "      <td>Black Panther</td>\n",
       "      <td>[Action,  Adventure,  Sci-Fi]</td>\n",
       "      <td>134</td>\n",
       "      <td>700.06</td>\n",
       "      <td>Ryan Coogler</td>\n",
       "      <td>[Chadwick Boseman,  Michael B. Jordan,  Lupita...</td>\n",
       "    </tr>\n",
       "    <tr>\n",
       "      <th>7</th>\n",
       "      <td>Avengers: Infinity War</td>\n",
       "      <td>[Action,  Adventure,  Sci-Fi]</td>\n",
       "      <td>149</td>\n",
       "      <td>678.82</td>\n",
       "      <td>Anthony Russo, Joe Russo</td>\n",
       "      <td>[Robert Downey Jr.,  Chris Hemsworth,  Mark Ru...</td>\n",
       "    </tr>\n",
       "    <tr>\n",
       "      <th>84</th>\n",
       "      <td>Incredibles 2</td>\n",
       "      <td>[Animation,  Action,  Adventure]</td>\n",
       "      <td>118</td>\n",
       "      <td>608.58</td>\n",
       "      <td>Brad Bird</td>\n",
       "      <td>[Craig T. Nelson,  Holly Hunter,  Sarah Vowell...</td>\n",
       "    </tr>\n",
       "    <tr>\n",
       "      <th>60</th>\n",
       "      <td>Jurassic World: Fallen Kingdom</td>\n",
       "      <td>[Action,  Adventure,  Sci-Fi]</td>\n",
       "      <td>128</td>\n",
       "      <td>417.72</td>\n",
       "      <td>J.A. Bayona</td>\n",
       "      <td>[Chris Pratt,  Bryce Dallas Howard,  Rafe Spal...</td>\n",
       "    </tr>\n",
       "    <tr>\n",
       "      <th>11</th>\n",
       "      <td>Aquaman</td>\n",
       "      <td>[Action,  Adventure,  Fantasy]</td>\n",
       "      <td>143</td>\n",
       "      <td>335.06</td>\n",
       "      <td>James Wan</td>\n",
       "      <td>[Jason Momoa,  Amber Heard,  Willem Dafoe,  Pa...</td>\n",
       "    </tr>\n",
       "  </tbody>\n",
       "</table>\n",
       "</div>"
      ],
      "text/plain": [
       "                        Movie_Name                            Genres  \\\n",
       "26                   Black Panther     [Action,  Adventure,  Sci-Fi]   \n",
       "7           Avengers: Infinity War     [Action,  Adventure,  Sci-Fi]   \n",
       "84                   Incredibles 2  [Animation,  Action,  Adventure]   \n",
       "60  Jurassic World: Fallen Kingdom     [Action,  Adventure,  Sci-Fi]   \n",
       "11                         Aquaman    [Action,  Adventure,  Fantasy]   \n",
       "\n",
       "    Duration   Gross                 Directors  \\\n",
       "26       134  700.06              Ryan Coogler   \n",
       "7        149  678.82  Anthony Russo, Joe Russo   \n",
       "84       118  608.58                 Brad Bird   \n",
       "60       128  417.72               J.A. Bayona   \n",
       "11       143  335.06                 James Wan   \n",
       "\n",
       "                                                Stars  \n",
       "26  [Chadwick Boseman,  Michael B. Jordan,  Lupita...  \n",
       "7   [Robert Downey Jr.,  Chris Hemsworth,  Mark Ru...  \n",
       "84  [Craig T. Nelson,  Holly Hunter,  Sarah Vowell...  \n",
       "60  [Chris Pratt,  Bryce Dallas Howard,  Rafe Spal...  \n",
       "11  [Jason Momoa,  Amber Heard,  Willem Dafoe,  Pa...  "
      ]
     },
     "execution_count": 28,
     "metadata": {},
     "output_type": "execute_result"
    }
   ],
   "source": [
    "new_df[\"Stars\"] = new_df[\"Stars\"].str.split(\",\")\n",
    "new_df.head()"
   ]
  },
  {
   "cell_type": "code",
   "execution_count": 38,
   "metadata": {
    "ExecuteTime": {
     "end_time": "2019-07-16T05:54:28.445201Z",
     "start_time": "2019-07-16T05:54:27.494689Z"
    },
    "scrolled": true
   },
   "outputs": [
    {
     "name": "stderr",
     "output_type": "stream",
     "text": [
      "/anaconda3/lib/python3.7/site-packages/ipykernel_launcher.py:2: SettingWithCopyWarning: \n",
      "A value is trying to be set on a copy of a slice from a DataFrame.\n",
      "Try using .loc[row_indexer,col_indexer] = value instead\n",
      "\n",
      "See the caveats in the documentation: http://pandas.pydata.org/pandas-docs/stable/indexing.html#indexing-view-versus-copy\n",
      "  \n"
     ]
    }
   ],
   "source": [
    "for star in new_df[\"Stars\"]:\n",
    "    new_df[\"star_{star}\"]= new_df.Stars.apply(lambda star_list: star in star_list)"
   ]
  },
  {
   "cell_type": "code",
   "execution_count": 39,
   "metadata": {
    "ExecuteTime": {
     "end_time": "2019-07-16T05:54:28.962721Z",
     "start_time": "2019-07-16T05:54:28.933617Z"
    }
   },
   "outputs": [
    {
     "data": {
      "text/html": [
       "<div>\n",
       "<style scoped>\n",
       "    .dataframe tbody tr th:only-of-type {\n",
       "        vertical-align: middle;\n",
       "    }\n",
       "\n",
       "    .dataframe tbody tr th {\n",
       "        vertical-align: top;\n",
       "    }\n",
       "\n",
       "    .dataframe thead th {\n",
       "        text-align: right;\n",
       "    }\n",
       "</style>\n",
       "<table border=\"1\" class=\"dataframe\">\n",
       "  <thead>\n",
       "    <tr style=\"text-align: right;\">\n",
       "      <th></th>\n",
       "      <th>Movie_Name</th>\n",
       "      <th>Genres</th>\n",
       "      <th>Duration</th>\n",
       "      <th>Gross</th>\n",
       "      <th>Directors</th>\n",
       "      <th>Stars</th>\n",
       "      <th>star_{star}</th>\n",
       "    </tr>\n",
       "  </thead>\n",
       "  <tbody>\n",
       "    <tr>\n",
       "      <th>26</th>\n",
       "      <td>Black Panther</td>\n",
       "      <td>[Action,  Adventure,  Sci-Fi]</td>\n",
       "      <td>134</td>\n",
       "      <td>700.06</td>\n",
       "      <td>Ryan Coogler</td>\n",
       "      <td>[Chadwick Boseman,  Michael B. Jordan,  Lupita...</td>\n",
       "      <td>False</td>\n",
       "    </tr>\n",
       "    <tr>\n",
       "      <th>7</th>\n",
       "      <td>Avengers: Infinity War</td>\n",
       "      <td>[Action,  Adventure,  Sci-Fi]</td>\n",
       "      <td>149</td>\n",
       "      <td>678.82</td>\n",
       "      <td>Anthony Russo, Joe Russo</td>\n",
       "      <td>[Robert Downey Jr.,  Chris Hemsworth,  Mark Ru...</td>\n",
       "      <td>False</td>\n",
       "    </tr>\n",
       "    <tr>\n",
       "      <th>84</th>\n",
       "      <td>Incredibles 2</td>\n",
       "      <td>[Animation,  Action,  Adventure]</td>\n",
       "      <td>118</td>\n",
       "      <td>608.58</td>\n",
       "      <td>Brad Bird</td>\n",
       "      <td>[Craig T. Nelson,  Holly Hunter,  Sarah Vowell...</td>\n",
       "      <td>False</td>\n",
       "    </tr>\n",
       "    <tr>\n",
       "      <th>60</th>\n",
       "      <td>Jurassic World: Fallen Kingdom</td>\n",
       "      <td>[Action,  Adventure,  Sci-Fi]</td>\n",
       "      <td>128</td>\n",
       "      <td>417.72</td>\n",
       "      <td>J.A. Bayona</td>\n",
       "      <td>[Chris Pratt,  Bryce Dallas Howard,  Rafe Spal...</td>\n",
       "      <td>False</td>\n",
       "    </tr>\n",
       "    <tr>\n",
       "      <th>11</th>\n",
       "      <td>Aquaman</td>\n",
       "      <td>[Action,  Adventure,  Fantasy]</td>\n",
       "      <td>143</td>\n",
       "      <td>335.06</td>\n",
       "      <td>James Wan</td>\n",
       "      <td>[Jason Momoa,  Amber Heard,  Willem Dafoe,  Pa...</td>\n",
       "      <td>False</td>\n",
       "    </tr>\n",
       "    <tr>\n",
       "      <th>23</th>\n",
       "      <td>Deadpool 2</td>\n",
       "      <td>[Action,  Adventure,  Comedy]</td>\n",
       "      <td>119</td>\n",
       "      <td>324.59</td>\n",
       "      <td>David Leitch</td>\n",
       "      <td>[Ryan Reynolds,  Josh Brolin,  Morena Baccarin...</td>\n",
       "      <td>False</td>\n",
       "    </tr>\n",
       "    <tr>\n",
       "      <th>175</th>\n",
       "      <td>The Grinch</td>\n",
       "      <td>[Animation,  Comedy,  Family]</td>\n",
       "      <td>85</td>\n",
       "      <td>270.62</td>\n",
       "      <td>Yarrow Cheney, Scott Mosier</td>\n",
       "      <td>[Benedict Cumberbatch,  Cameron Seely,  Rashid...</td>\n",
       "      <td>False</td>\n",
       "    </tr>\n",
       "    <tr>\n",
       "      <th>39</th>\n",
       "      <td>Mission: Impossible - Fallout</td>\n",
       "      <td>[Action,  Adventure,  Thriller]</td>\n",
       "      <td>147</td>\n",
       "      <td>220.16</td>\n",
       "      <td>Christopher McQuarrie</td>\n",
       "      <td>[Tom Cruise,  Henry Cavill,  Ving Rhames,  Sim...</td>\n",
       "      <td>False</td>\n",
       "    </tr>\n",
       "    <tr>\n",
       "      <th>93</th>\n",
       "      <td>Ant-Man and the Wasp</td>\n",
       "      <td>[Action,  Adventure,  Comedy]</td>\n",
       "      <td>118</td>\n",
       "      <td>216.65</td>\n",
       "      <td>Peyton Reed</td>\n",
       "      <td>[Paul Rudd,  Evangeline Lilly,  Michael Peña, ...</td>\n",
       "      <td>False</td>\n",
       "    </tr>\n",
       "    <tr>\n",
       "      <th>0</th>\n",
       "      <td>Bohemian Rhapsody</td>\n",
       "      <td>[Biography,  Drama,  Music]</td>\n",
       "      <td>134</td>\n",
       "      <td>216.43</td>\n",
       "      <td>Bryan Singer</td>\n",
       "      <td>[Rami Malek,  Lucy Boynton,  Gwilym Lee,  Ben ...</td>\n",
       "      <td>False</td>\n",
       "    </tr>\n",
       "    <tr>\n",
       "      <th>6</th>\n",
       "      <td>A Star Is Born</td>\n",
       "      <td>[Drama,  Music,  Romance]</td>\n",
       "      <td>136</td>\n",
       "      <td>215.29</td>\n",
       "      <td>Bradley Cooper</td>\n",
       "      <td>[Lady Gaga,  Bradley Cooper,  Sam Elliott,  Gr...</td>\n",
       "      <td>False</td>\n",
       "    </tr>\n",
       "    <tr>\n",
       "      <th>68</th>\n",
       "      <td>Solo: A Star Wars Story</td>\n",
       "      <td>[Action,  Adventure,  Fantasy]</td>\n",
       "      <td>135</td>\n",
       "      <td>213.77</td>\n",
       "      <td>Ron Howard</td>\n",
       "      <td>[Alden Ehrenreich,  Woody Harrelson,  Emilia C...</td>\n",
       "      <td>False</td>\n",
       "    </tr>\n",
       "    <tr>\n",
       "      <th>16</th>\n",
       "      <td>Venom</td>\n",
       "      <td>[Action,  Sci-Fi,  Thriller]</td>\n",
       "      <td>112</td>\n",
       "      <td>213.52</td>\n",
       "      <td>Ruben Fleischer</td>\n",
       "      <td>[Tom Hardy,  Michelle Williams,  Riz Ahmed,  S...</td>\n",
       "      <td>False</td>\n",
       "    </tr>\n",
       "    <tr>\n",
       "      <th>25</th>\n",
       "      <td>Ralph Breaks the Internet</td>\n",
       "      <td>[Animation,  Adventure,  Comedy]</td>\n",
       "      <td>112</td>\n",
       "      <td>201.09</td>\n",
       "      <td>Phil Johnston, Rich Moore</td>\n",
       "      <td>[John C. Reilly,  Sarah Silverman,  Gal Gadot,...</td>\n",
       "      <td>False</td>\n",
       "    </tr>\n",
       "    <tr>\n",
       "      <th>1</th>\n",
       "      <td>Spider-Man: Into the Spider-Verse</td>\n",
       "      <td>[Animation,  Action,  Adventure]</td>\n",
       "      <td>117</td>\n",
       "      <td>190.24</td>\n",
       "      <td>Bob Persichetti, Peter Ramsey, Rodney Rothman</td>\n",
       "      <td>[Shameik Moore,  Jake Johnson,  Hailee Steinfe...</td>\n",
       "      <td>False</td>\n",
       "    </tr>\n",
       "    <tr>\n",
       "      <th>53</th>\n",
       "      <td>A Quiet Place</td>\n",
       "      <td>[Drama,  Horror,  Sci-Fi]</td>\n",
       "      <td>90</td>\n",
       "      <td>188.02</td>\n",
       "      <td>John Krasinski</td>\n",
       "      <td>[Emily Blunt,  John Krasinski,  Millicent Simm...</td>\n",
       "      <td>False</td>\n",
       "    </tr>\n",
       "    <tr>\n",
       "      <th>17</th>\n",
       "      <td>Crazy Rich Asians</td>\n",
       "      <td>[Comedy,  Romance]</td>\n",
       "      <td>120</td>\n",
       "      <td>174.53</td>\n",
       "      <td>Jon M. Chu</td>\n",
       "      <td>[Constance Wu,  Henry Golding,  Michelle Yeoh,...</td>\n",
       "      <td>False</td>\n",
       "    </tr>\n",
       "    <tr>\n",
       "      <th>5</th>\n",
       "      <td>Mary Poppins Returns</td>\n",
       "      <td>[Comedy,  Family,  Fantasy]</td>\n",
       "      <td>130</td>\n",
       "      <td>171.96</td>\n",
       "      <td>Rob Marshall</td>\n",
       "      <td>[Emily Blunt,  Lin-Manuel Miranda,  Ben Whisha...</td>\n",
       "      <td>False</td>\n",
       "    </tr>\n",
       "    <tr>\n",
       "      <th>192</th>\n",
       "      <td>Hotel Transylvania 3: Summer Vacation</td>\n",
       "      <td>[Animation,  Adventure,  Comedy]</td>\n",
       "      <td>97</td>\n",
       "      <td>167.51</td>\n",
       "      <td>Genndy Tartakovsky</td>\n",
       "      <td>[Adam Sandler,  Andy Samberg,  Selena Gomez,  ...</td>\n",
       "      <td>False</td>\n",
       "    </tr>\n",
       "    <tr>\n",
       "      <th>51</th>\n",
       "      <td>Fantastic Beasts: The Crimes of Grindelwald</td>\n",
       "      <td>[Adventure,  Family,  Fantasy]</td>\n",
       "      <td>134</td>\n",
       "      <td>159.56</td>\n",
       "      <td>David Yates</td>\n",
       "      <td>[Eddie Redmayne,  Katherine Waterston,  Dan Fo...</td>\n",
       "      <td>False</td>\n",
       "    </tr>\n",
       "    <tr>\n",
       "      <th>78</th>\n",
       "      <td>Halloween</td>\n",
       "      <td>[Horror,  Thriller]</td>\n",
       "      <td>106</td>\n",
       "      <td>159.34</td>\n",
       "      <td>David Gordon Green</td>\n",
       "      <td>[Jamie Lee Curtis,  Judy Greer,  Andi Matichak...</td>\n",
       "      <td>False</td>\n",
       "    </tr>\n",
       "    <tr>\n",
       "      <th>45</th>\n",
       "      <td>The Meg</td>\n",
       "      <td>[Action,  Horror,  Sci-Fi]</td>\n",
       "      <td>113</td>\n",
       "      <td>143.01</td>\n",
       "      <td>Jon Turteltaub</td>\n",
       "      <td>[Jason Statham,  Bingbing Li,  Rainn Wilson,  ...</td>\n",
       "      <td>False</td>\n",
       "    </tr>\n",
       "    <tr>\n",
       "      <th>61</th>\n",
       "      <td>Ocean's 8</td>\n",
       "      <td>[Action,  Comedy,  Crime]</td>\n",
       "      <td>110</td>\n",
       "      <td>139.38</td>\n",
       "      <td>Gary Ross</td>\n",
       "      <td>[Sandra Bullock,  Cate Blanchett,  Anne Hathaw...</td>\n",
       "      <td>False</td>\n",
       "    </tr>\n",
       "    <tr>\n",
       "      <th>40</th>\n",
       "      <td>Ready Player One</td>\n",
       "      <td>[Action,  Adventure,  Sci-Fi]</td>\n",
       "      <td>140</td>\n",
       "      <td>137.69</td>\n",
       "      <td>Steven Spielberg</td>\n",
       "      <td>[Tye Sheridan,  Olivia Cooke,  Ben Mendelsohn,...</td>\n",
       "      <td>False</td>\n",
       "    </tr>\n",
       "    <tr>\n",
       "      <th>72</th>\n",
       "      <td>Bumblebee</td>\n",
       "      <td>[Action,  Adventure,  Sci-Fi]</td>\n",
       "      <td>114</td>\n",
       "      <td>127.20</td>\n",
       "      <td>Travis Knight</td>\n",
       "      <td>[Hailee Steinfeld,  Jorge Lendeborg Jr.,  John...</td>\n",
       "      <td>False</td>\n",
       "    </tr>\n",
       "    <tr>\n",
       "      <th>69</th>\n",
       "      <td>Mamma Mia! Here We Go Again</td>\n",
       "      <td>[Comedy,  Musical,  Romance]</td>\n",
       "      <td>114</td>\n",
       "      <td>120.63</td>\n",
       "      <td>Ol Parker</td>\n",
       "      <td>[Lily James,  Amanda Seyfried,  Meryl Streep, ...</td>\n",
       "      <td>False</td>\n",
       "    </tr>\n",
       "    <tr>\n",
       "      <th>34</th>\n",
       "      <td>The Nun</td>\n",
       "      <td>[Horror,  Mystery,  Thriller]</td>\n",
       "      <td>96</td>\n",
       "      <td>117.44</td>\n",
       "      <td>Corin Hardy</td>\n",
       "      <td>[Demián Bichir,  Taissa Farmiga,  Jonas Bloque...</td>\n",
       "      <td>False</td>\n",
       "    </tr>\n",
       "    <tr>\n",
       "      <th>56</th>\n",
       "      <td>Creed II</td>\n",
       "      <td>[Drama,  Sport]</td>\n",
       "      <td>130</td>\n",
       "      <td>115.72</td>\n",
       "      <td>Steven Caple Jr.</td>\n",
       "      <td>[Michael B. Jordan,  Sylvester Stallone,  Tess...</td>\n",
       "      <td>False</td>\n",
       "    </tr>\n",
       "    <tr>\n",
       "      <th>344</th>\n",
       "      <td>Peter Rabbit</td>\n",
       "      <td>[Animation,  Adventure,  Comedy]</td>\n",
       "      <td>95</td>\n",
       "      <td>115.25</td>\n",
       "      <td>Will Gluck</td>\n",
       "      <td>[James Corden,  Fayssal Bazzi,  Domhnall Glees...</td>\n",
       "      <td>False</td>\n",
       "    </tr>\n",
       "    <tr>\n",
       "      <th>50</th>\n",
       "      <td>The Mule</td>\n",
       "      <td>[Crime,  Drama,  Thriller]</td>\n",
       "      <td>116</td>\n",
       "      <td>103.80</td>\n",
       "      <td>Clint Eastwood</td>\n",
       "      <td>[Clint Eastwood,  Patrick L. Reyes,  Cesar De ...</td>\n",
       "      <td>False</td>\n",
       "    </tr>\n",
       "    <tr>\n",
       "      <th>120</th>\n",
       "      <td>The Equalizer 2</td>\n",
       "      <td>[Action,  Crime,  Thriller]</td>\n",
       "      <td>121</td>\n",
       "      <td>102.08</td>\n",
       "      <td>Antoine Fuqua</td>\n",
       "      <td>[Denzel Washington,  Pedro Pascal,  Ashton San...</td>\n",
       "      <td>False</td>\n",
       "    </tr>\n",
       "    <tr>\n",
       "      <th>183</th>\n",
       "      <td>A Wrinkle in Time</td>\n",
       "      <td>[Adventure,  Family,  Fantasy]</td>\n",
       "      <td>109</td>\n",
       "      <td>100.48</td>\n",
       "      <td>Ava DuVernay</td>\n",
       "      <td>[Storm Reid,  Oprah Winfrey,  Reese Witherspoo...</td>\n",
       "      <td>False</td>\n",
       "    </tr>\n",
       "    <tr>\n",
       "      <th>166</th>\n",
       "      <td>Fifty Shades Freed</td>\n",
       "      <td>[Drama,  Romance,  Thriller]</td>\n",
       "      <td>105</td>\n",
       "      <td>100.41</td>\n",
       "      <td>James Foley</td>\n",
       "      <td>[Dakota Johnson,  Jamie Dornan,  Eric Johnson,...</td>\n",
       "      <td>False</td>\n",
       "    </tr>\n",
       "  </tbody>\n",
       "</table>\n",
       "</div>"
      ],
      "text/plain": [
       "                                      Movie_Name  \\\n",
       "26                                 Black Panther   \n",
       "7                         Avengers: Infinity War   \n",
       "84                                 Incredibles 2   \n",
       "60                Jurassic World: Fallen Kingdom   \n",
       "11                                       Aquaman   \n",
       "23                                    Deadpool 2   \n",
       "175                                   The Grinch   \n",
       "39                 Mission: Impossible - Fallout   \n",
       "93                          Ant-Man and the Wasp   \n",
       "0                              Bohemian Rhapsody   \n",
       "6                                 A Star Is Born   \n",
       "68                       Solo: A Star Wars Story   \n",
       "16                                         Venom   \n",
       "25                     Ralph Breaks the Internet   \n",
       "1              Spider-Man: Into the Spider-Verse   \n",
       "53                                 A Quiet Place   \n",
       "17                             Crazy Rich Asians   \n",
       "5                           Mary Poppins Returns   \n",
       "192        Hotel Transylvania 3: Summer Vacation   \n",
       "51   Fantastic Beasts: The Crimes of Grindelwald   \n",
       "78                                     Halloween   \n",
       "45                                       The Meg   \n",
       "61                                     Ocean's 8   \n",
       "40                              Ready Player One   \n",
       "72                                     Bumblebee   \n",
       "69                   Mamma Mia! Here We Go Again   \n",
       "34                                       The Nun   \n",
       "56                                      Creed II   \n",
       "344                                 Peter Rabbit   \n",
       "50                                      The Mule   \n",
       "120                              The Equalizer 2   \n",
       "183                            A Wrinkle in Time   \n",
       "166                           Fifty Shades Freed   \n",
       "\n",
       "                               Genres  Duration   Gross  \\\n",
       "26      [Action,  Adventure,  Sci-Fi]       134  700.06   \n",
       "7       [Action,  Adventure,  Sci-Fi]       149  678.82   \n",
       "84   [Animation,  Action,  Adventure]       118  608.58   \n",
       "60      [Action,  Adventure,  Sci-Fi]       128  417.72   \n",
       "11     [Action,  Adventure,  Fantasy]       143  335.06   \n",
       "23      [Action,  Adventure,  Comedy]       119  324.59   \n",
       "175     [Animation,  Comedy,  Family]        85  270.62   \n",
       "39    [Action,  Adventure,  Thriller]       147  220.16   \n",
       "93      [Action,  Adventure,  Comedy]       118  216.65   \n",
       "0         [Biography,  Drama,  Music]       134  216.43   \n",
       "6           [Drama,  Music,  Romance]       136  215.29   \n",
       "68     [Action,  Adventure,  Fantasy]       135  213.77   \n",
       "16       [Action,  Sci-Fi,  Thriller]       112  213.52   \n",
       "25   [Animation,  Adventure,  Comedy]       112  201.09   \n",
       "1    [Animation,  Action,  Adventure]       117  190.24   \n",
       "53          [Drama,  Horror,  Sci-Fi]        90  188.02   \n",
       "17                 [Comedy,  Romance]       120  174.53   \n",
       "5         [Comedy,  Family,  Fantasy]       130  171.96   \n",
       "192  [Animation,  Adventure,  Comedy]        97  167.51   \n",
       "51     [Adventure,  Family,  Fantasy]       134  159.56   \n",
       "78                [Horror,  Thriller]       106  159.34   \n",
       "45         [Action,  Horror,  Sci-Fi]       113  143.01   \n",
       "61          [Action,  Comedy,  Crime]       110  139.38   \n",
       "40      [Action,  Adventure,  Sci-Fi]       140  137.69   \n",
       "72      [Action,  Adventure,  Sci-Fi]       114  127.20   \n",
       "69       [Comedy,  Musical,  Romance]       114  120.63   \n",
       "34      [Horror,  Mystery,  Thriller]        96  117.44   \n",
       "56                    [Drama,  Sport]       130  115.72   \n",
       "344  [Animation,  Adventure,  Comedy]        95  115.25   \n",
       "50         [Crime,  Drama,  Thriller]       116  103.80   \n",
       "120       [Action,  Crime,  Thriller]       121  102.08   \n",
       "183    [Adventure,  Family,  Fantasy]       109  100.48   \n",
       "166      [Drama,  Romance,  Thriller]       105  100.41   \n",
       "\n",
       "                                         Directors  \\\n",
       "26                                    Ryan Coogler   \n",
       "7                         Anthony Russo, Joe Russo   \n",
       "84                                       Brad Bird   \n",
       "60                                     J.A. Bayona   \n",
       "11                                       James Wan   \n",
       "23                                    David Leitch   \n",
       "175                    Yarrow Cheney, Scott Mosier   \n",
       "39                           Christopher McQuarrie   \n",
       "93                                     Peyton Reed   \n",
       "0                                     Bryan Singer   \n",
       "6                                   Bradley Cooper   \n",
       "68                                      Ron Howard   \n",
       "16                                 Ruben Fleischer   \n",
       "25                       Phil Johnston, Rich Moore   \n",
       "1    Bob Persichetti, Peter Ramsey, Rodney Rothman   \n",
       "53                                  John Krasinski   \n",
       "17                                      Jon M. Chu   \n",
       "5                                     Rob Marshall   \n",
       "192                             Genndy Tartakovsky   \n",
       "51                                     David Yates   \n",
       "78                              David Gordon Green   \n",
       "45                                  Jon Turteltaub   \n",
       "61                                       Gary Ross   \n",
       "40                                Steven Spielberg   \n",
       "72                                   Travis Knight   \n",
       "69                                       Ol Parker   \n",
       "34                                     Corin Hardy   \n",
       "56                                Steven Caple Jr.   \n",
       "344                                     Will Gluck   \n",
       "50                                  Clint Eastwood   \n",
       "120                                  Antoine Fuqua   \n",
       "183                                   Ava DuVernay   \n",
       "166                                    James Foley   \n",
       "\n",
       "                                                 Stars  star_{star}  \n",
       "26   [Chadwick Boseman,  Michael B. Jordan,  Lupita...        False  \n",
       "7    [Robert Downey Jr.,  Chris Hemsworth,  Mark Ru...        False  \n",
       "84   [Craig T. Nelson,  Holly Hunter,  Sarah Vowell...        False  \n",
       "60   [Chris Pratt,  Bryce Dallas Howard,  Rafe Spal...        False  \n",
       "11   [Jason Momoa,  Amber Heard,  Willem Dafoe,  Pa...        False  \n",
       "23   [Ryan Reynolds,  Josh Brolin,  Morena Baccarin...        False  \n",
       "175  [Benedict Cumberbatch,  Cameron Seely,  Rashid...        False  \n",
       "39   [Tom Cruise,  Henry Cavill,  Ving Rhames,  Sim...        False  \n",
       "93   [Paul Rudd,  Evangeline Lilly,  Michael Peña, ...        False  \n",
       "0    [Rami Malek,  Lucy Boynton,  Gwilym Lee,  Ben ...        False  \n",
       "6    [Lady Gaga,  Bradley Cooper,  Sam Elliott,  Gr...        False  \n",
       "68   [Alden Ehrenreich,  Woody Harrelson,  Emilia C...        False  \n",
       "16   [Tom Hardy,  Michelle Williams,  Riz Ahmed,  S...        False  \n",
       "25   [John C. Reilly,  Sarah Silverman,  Gal Gadot,...        False  \n",
       "1    [Shameik Moore,  Jake Johnson,  Hailee Steinfe...        False  \n",
       "53   [Emily Blunt,  John Krasinski,  Millicent Simm...        False  \n",
       "17   [Constance Wu,  Henry Golding,  Michelle Yeoh,...        False  \n",
       "5    [Emily Blunt,  Lin-Manuel Miranda,  Ben Whisha...        False  \n",
       "192  [Adam Sandler,  Andy Samberg,  Selena Gomez,  ...        False  \n",
       "51   [Eddie Redmayne,  Katherine Waterston,  Dan Fo...        False  \n",
       "78   [Jamie Lee Curtis,  Judy Greer,  Andi Matichak...        False  \n",
       "45   [Jason Statham,  Bingbing Li,  Rainn Wilson,  ...        False  \n",
       "61   [Sandra Bullock,  Cate Blanchett,  Anne Hathaw...        False  \n",
       "40   [Tye Sheridan,  Olivia Cooke,  Ben Mendelsohn,...        False  \n",
       "72   [Hailee Steinfeld,  Jorge Lendeborg Jr.,  John...        False  \n",
       "69   [Lily James,  Amanda Seyfried,  Meryl Streep, ...        False  \n",
       "34   [Demián Bichir,  Taissa Farmiga,  Jonas Bloque...        False  \n",
       "56   [Michael B. Jordan,  Sylvester Stallone,  Tess...        False  \n",
       "344  [James Corden,  Fayssal Bazzi,  Domhnall Glees...        False  \n",
       "50   [Clint Eastwood,  Patrick L. Reyes,  Cesar De ...        False  \n",
       "120  [Denzel Washington,  Pedro Pascal,  Ashton San...        False  \n",
       "183  [Storm Reid,  Oprah Winfrey,  Reese Witherspoo...        False  \n",
       "166  [Dakota Johnson,  Jamie Dornan,  Eric Johnson,...        False  "
      ]
     },
     "execution_count": 39,
     "metadata": {},
     "output_type": "execute_result"
    }
   ],
   "source": [
    "new_df"
   ]
  },
  {
   "cell_type": "markdown",
   "metadata": {},
   "source": [
    "# Adding New Source for bankable index"
   ]
  },
  {
   "cell_type": "code",
   "execution_count": null,
   "metadata": {
    "ExecuteTime": {
     "end_time": "2019-07-16T05:50:41.305371Z",
     "start_time": "2019-07-16T05:50:15.731Z"
    }
   },
   "outputs": [],
   "source": [
    "import pandas as pd\n",
    "bankable = pd.read_csv(\"/Users/fatimaloumaini/Documents/IMDB_Project/bankable.csv\")\n",
    "bankable = bankable.rename(columns = {\"Unnamed: 2\":\"Actor/Actress\",\"Unnamed: 3\": \"Total Gross\",\"Unnamed: 4\":\"Movies/Average\", \"Unnamed: 5\":\"Gross/Movie\", \"Unnamed: 6\":\"Movie_Name\",\"Unnamed: 7\":\"Gross_Movie_Name\"})\n",
    "bankable = bankable.drop([\"Unnamed: 0\",\"Unnamed: 1\"], axis=1)\n",
    "bankable.drop_duplicates(subset =\"Actor/Actress\", keep = 'first', inplace = True)\n"
   ]
  },
  {
   "cell_type": "code",
   "execution_count": null,
   "metadata": {
    "ExecuteTime": {
     "end_time": "2019-07-16T05:50:41.306972Z",
     "start_time": "2019-07-16T05:50:15.733Z"
    }
   },
   "outputs": [],
   "source": [
    "bankable.head()"
   ]
  },
  {
   "cell_type": "code",
   "execution_count": null,
   "metadata": {
    "ExecuteTime": {
     "end_time": "2019-07-16T05:50:41.309499Z",
     "start_time": "2019-07-16T05:50:15.735Z"
    }
   },
   "outputs": [],
   "source": [
    "bankable[bankable[\"Actor/Actress\"]==\"Emily Blunt\"]"
   ]
  },
  {
   "cell_type": "code",
   "execution_count": null,
   "metadata": {
    "ExecuteTime": {
     "end_time": "2019-07-16T05:50:41.313107Z",
     "start_time": "2019-07-16T05:50:15.736Z"
    }
   },
   "outputs": [],
   "source": [
    "bankable = bankable.sort_values(by = \"Total Gross\", axis = 0)"
   ]
  },
  {
   "cell_type": "code",
   "execution_count": null,
   "metadata": {
    "ExecuteTime": {
     "end_time": "2019-07-16T05:50:41.314325Z",
     "start_time": "2019-07-16T05:50:15.738Z"
    }
   },
   "outputs": [],
   "source": [
    "bankable.head()"
   ]
  },
  {
   "cell_type": "markdown",
   "metadata": {},
   "source": [
    "## To remove"
   ]
  },
  {
   "cell_type": "code",
   "execution_count": null,
   "metadata": {
    "ExecuteTime": {
     "end_time": "2019-07-16T05:50:41.323954Z",
     "start_time": "2019-07-16T05:50:15.740Z"
    }
   },
   "outputs": [],
   "source": [
    "#df.head()"
   ]
  },
  {
   "cell_type": "code",
   "execution_count": null,
   "metadata": {
    "ExecuteTime": {
     "end_time": "2019-07-16T05:50:41.332192Z",
     "start_time": "2019-07-16T05:50:15.742Z"
    }
   },
   "outputs": [],
   "source": [
    "# for star in Stars:\n",
    "#     df[f\"genre_{star}\"] = df.Genres.apply(lambda star_list: star in star_list)"
   ]
  },
  {
   "cell_type": "code",
   "execution_count": null,
   "metadata": {
    "ExecuteTime": {
     "end_time": "2019-07-16T05:50:41.342544Z",
     "start_time": "2019-07-16T05:50:15.745Z"
    }
   },
   "outputs": [],
   "source": [
    "#### I am not splitting the directors to 1 to many and not following the same logic for actors"
   ]
  },
  {
   "cell_type": "markdown",
   "metadata": {
    "ExecuteTime": {
     "end_time": "2019-07-15T22:18:51.590702Z",
     "start_time": "2019-07-15T22:18:51.568968Z"
    }
   },
   "source": [
    "I have to split actors on different categories:\n",
    "- A list: 2-4 movies\n",
    "- Supporting: 4-10 movies\n",
    "- Day Players: 12-15 movies: I shouldn't have much of them on my dataset"
   ]
  },
  {
   "cell_type": "code",
   "execution_count": null,
   "metadata": {
    "ExecuteTime": {
     "end_time": "2019-07-16T05:50:41.347163Z",
     "start_time": "2019-07-16T05:50:15.748Z"
    }
   },
   "outputs": [],
   "source": [
    "# new_df.columns"
   ]
  },
  {
   "cell_type": "code",
   "execution_count": null,
   "metadata": {
    "ExecuteTime": {
     "end_time": "2019-07-16T05:50:41.349474Z",
     "start_time": "2019-07-16T05:50:15.752Z"
    }
   },
   "outputs": [],
   "source": [
    "# actors_count = new_df[\"star_Rami Malek\"].value_counts()\n",
    "# actors_count"
   ]
  },
  {
   "cell_type": "code",
   "execution_count": null,
   "metadata": {
    "ExecuteTime": {
     "end_time": "2019-07-16T05:50:41.352800Z",
     "start_time": "2019-07-16T05:50:15.755Z"
    }
   },
   "outputs": [],
   "source": [
    "# new_df[new_df[\"star_Rami Malek\"] == True]"
   ]
  },
  {
   "cell_type": "code",
   "execution_count": null,
   "metadata": {
    "ExecuteTime": {
     "end_time": "2019-07-16T05:50:41.355232Z",
     "start_time": "2019-07-16T05:50:15.757Z"
    }
   },
   "outputs": [],
   "source": [
    "# def split_data_frame_list(dataframe,column,output_type= str):\n",
    "#     ''' \n",
    "#     Accepts a column with multiple types and splits list variables to several rows.\n",
    "\n",
    "#     df: dataframe to split\n",
    "#     target_column: the column containing the values to split\n",
    "#     output_type: type of all outputs\n",
    "#     returns: a dataframe with each entry for the target column separated, with each element moved into a new row. \n",
    "#     The values in the other columns are duplicated across the newly divided rows.\n",
    "#     '''\n",
    "#     row_accumulator = []\n",
    "\n",
    "#     def split_list_to_rows(row):\n",
    "#         split_row = row[\"Genres\"]\n",
    "#         if isinstance(split_row, list):\n",
    "            \n",
    "#             for s in split_row:\n",
    "#                 new_row = row.to_dict()\n",
    "#                 new_row[\"Genres\"] = output_type(s)\n",
    "#                 row_accumulator.append(new_row)\n",
    "#         else:\n",
    "            \n",
    "#             new_row = row.to_dict()\n",
    "#             new_row[target_column] = output_type(split_row)\n",
    "#             row_accumulator.append(new_row)\n",
    "  \n",
    "#     df.apply(split_list_to_rows, axis=1)\n",
    "#     new_df = pd.DataFrame(row_accumulator)\n",
    "  \n",
    "#     return new_df"
   ]
  },
  {
   "cell_type": "code",
   "execution_count": null,
   "metadata": {
    "ExecuteTime": {
     "end_time": "2019-07-16T05:50:41.357616Z",
     "start_time": "2019-07-16T05:50:15.760Z"
    }
   },
   "outputs": [],
   "source": [
    "# new_df =split_data_frame_list(df, \"Genres\",output_type= str)"
   ]
  }
 ],
 "metadata": {
  "kernelspec": {
   "display_name": "Python 3",
   "language": "python",
   "name": "python3"
  },
  "language_info": {
   "codemirror_mode": {
    "name": "ipython",
    "version": 3
   },
   "file_extension": ".py",
   "mimetype": "text/x-python",
   "name": "python",
   "nbconvert_exporter": "python",
   "pygments_lexer": "ipython3",
   "version": "3.7.1"
  },
  "toc": {
   "base_numbering": 1,
   "nav_menu": {},
   "number_sections": true,
   "sideBar": true,
   "skip_h1_title": false,
   "title_cell": "Table of Contents",
   "title_sidebar": "Contents",
   "toc_cell": true,
   "toc_position": {},
   "toc_section_display": true,
   "toc_window_display": false
  }
 },
 "nbformat": 4,
 "nbformat_minor": 2
}
