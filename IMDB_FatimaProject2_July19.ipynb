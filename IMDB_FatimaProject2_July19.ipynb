{
 "cells": [
  {
   "cell_type": "markdown",
   "metadata": {
    "toc": true
   },
   "source": [
    "<h1>Table of Contents<span class=\"tocSkip\"></span></h1>\n",
    "<div class=\"toc\"><ul class=\"toc-item\"><li><span><a href=\"#Data-Scraping\" data-toc-modified-id=\"Data-Scraping-1\"><span class=\"toc-item-num\">1&nbsp;&nbsp;</span>Data Scraping</a></span></li><li><span><a href=\"#EDA\" data-toc-modified-id=\"EDA-2\"><span class=\"toc-item-num\">2&nbsp;&nbsp;</span>EDA</a></span><ul class=\"toc-item\"><li><span><a href=\"#Building-a-counter-for-the-actors,-directors-and-genre\" data-toc-modified-id=\"Building-a-counter-for-the-actors,-directors-and-genre-2.1\"><span class=\"toc-item-num\">2.1&nbsp;&nbsp;</span>Building a counter for the actors, directors and genre</a></span></li><li><span><a href=\"#Getting-unique-values-from-the-counter\" data-toc-modified-id=\"Getting-unique-values-from-the-counter-2.2\"><span class=\"toc-item-num\">2.2&nbsp;&nbsp;</span>Getting unique values from the counter</a></span></li><li><span><a href=\"#Features-splits\" data-toc-modified-id=\"Features-splits-2.3\"><span class=\"toc-item-num\">2.3&nbsp;&nbsp;</span>Features splits</a></span><ul class=\"toc-item\"><li><span><a href=\"#Creating-features-for-merge\" data-toc-modified-id=\"Creating-features-for-merge-2.3.1\"><span class=\"toc-item-num\">2.3.1&nbsp;&nbsp;</span>Creating features for merge</a></span></li><li><span><a href=\"#Creating-features-for-merge_78\" data-toc-modified-id=\"Creating-features-for-merge_78-2.3.2\"><span class=\"toc-item-num\">2.3.2&nbsp;&nbsp;</span>Creating features for merge_78</a></span></li><li><span><a href=\"#Creating-features-for-merge_50\" data-toc-modified-id=\"Creating-features-for-merge_50-2.3.3\"><span class=\"toc-item-num\">2.3.3&nbsp;&nbsp;</span>Creating features for merge_50</a></span></li><li><span><a href=\"#Creating-features-for-merge_30\" data-toc-modified-id=\"Creating-features-for-merge_30-2.3.4\"><span class=\"toc-item-num\">2.3.4&nbsp;&nbsp;</span>Creating features for merge_30</a></span></li><li><span><a href=\"#Creating-features-for-merge_10\" data-toc-modified-id=\"Creating-features-for-merge_10-2.3.5\"><span class=\"toc-item-num\">2.3.5&nbsp;&nbsp;</span>Creating features for merge_10</a></span></li></ul></li></ul></li><li><span><a href=\"#Linear-Regression\" data-toc-modified-id=\"Linear-Regression-3\"><span class=\"toc-item-num\">3&nbsp;&nbsp;</span>Linear Regression</a></span><ul class=\"toc-item\"><li><span><a href=\"#Model-1:-No-limitations-on-the-Budget\" data-toc-modified-id=\"Model-1:-No-limitations-on-the-Budget-3.1\"><span class=\"toc-item-num\">3.1&nbsp;&nbsp;</span>Model 1: No limitations on the Budget</a></span><ul class=\"toc-item\"><li><span><a href=\"#Linear-Regression:--526-features\" data-toc-modified-id=\"Linear-Regression:--526-features-3.1.1\"><span class=\"toc-item-num\">3.1.1&nbsp;&nbsp;</span>Linear Regression:  526 features</a></span></li><li><span><a href=\"#Lasso-:-526-Features\" data-toc-modified-id=\"Lasso-:-526-Features-3.1.2\"><span class=\"toc-item-num\">3.1.2&nbsp;&nbsp;</span>Lasso : 526 Features</a></span></li></ul></li><li><span><a href=\"#Ridge:-Sophie's-test\" data-toc-modified-id=\"Ridge:-Sophie's-test-3.2\"><span class=\"toc-item-num\">3.2&nbsp;&nbsp;</span>Ridge: Sophie's test</a></span></li></ul></li><li><span><a href=\"#Model-2:-78-Million-and-up\" data-toc-modified-id=\"Model-2:-78-Million-and-up-4\"><span class=\"toc-item-num\">4&nbsp;&nbsp;</span>Model 2: 78 Million and up</a></span><ul class=\"toc-item\"><li><ul class=\"toc-item\"><li><span><a href=\"#Linear-Regression\" data-toc-modified-id=\"Linear-Regression-4.0.1\"><span class=\"toc-item-num\">4.0.1&nbsp;&nbsp;</span>Linear Regression</a></span></li><li><span><a href=\"#Lasso\" data-toc-modified-id=\"Lasso-4.0.2\"><span class=\"toc-item-num\">4.0.2&nbsp;&nbsp;</span>Lasso</a></span></li></ul></li></ul></li><li><span><a href=\"#Model-3\" data-toc-modified-id=\"Model-3-5\"><span class=\"toc-item-num\">5&nbsp;&nbsp;</span>Model 3</a></span><ul class=\"toc-item\"><li><ul class=\"toc-item\"><li><span><a href=\"#Lasso\" data-toc-modified-id=\"Lasso-5.0.1\"><span class=\"toc-item-num\">5.0.1&nbsp;&nbsp;</span>Lasso</a></span></li></ul></li><li><span><a href=\"#Model-4\" data-toc-modified-id=\"Model-4-5.1\"><span class=\"toc-item-num\">5.1&nbsp;&nbsp;</span>Model 4</a></span></li><li><span><a href=\"#Linear-Regression\" data-toc-modified-id=\"Linear-Regression-5.2\"><span class=\"toc-item-num\">5.2&nbsp;&nbsp;</span>Linear Regression</a></span><ul class=\"toc-item\"><li><span><a href=\"#Lasso\" data-toc-modified-id=\"Lasso-5.2.1\"><span class=\"toc-item-num\">5.2.1&nbsp;&nbsp;</span>Lasso</a></span></li></ul></li></ul></li><li><span><a href=\"#Combining-the-results\" data-toc-modified-id=\"Combining-the-results-6\"><span class=\"toc-item-num\">6&nbsp;&nbsp;</span>Combining the results</a></span><ul class=\"toc-item\"><li><span><a href=\"#Making-predictions-using-the-test-set\" data-toc-modified-id=\"Making-predictions-using-the-test-set-6.1\"><span class=\"toc-item-num\">6.1&nbsp;&nbsp;</span>Making predictions using the test set</a></span></li></ul></li><li><span><a href=\"#Adding-real-data-to-predict\" data-toc-modified-id=\"Adding-real-data-to-predict-7\"><span class=\"toc-item-num\">7&nbsp;&nbsp;</span>Adding real data to predict</a></span></li></ul></div>"
   ]
  },
  {
   "cell_type": "markdown",
   "metadata": {},
   "source": [
    "# Data Scraping"
   ]
  },
  {
   "cell_type": "code",
   "execution_count": 2,
   "metadata": {
    "ExecuteTime": {
     "end_time": "2019-07-18T22:29:37.212682Z",
     "start_time": "2019-07-18T22:29:36.991212Z"
    }
   },
   "outputs": [],
   "source": [
    "import os\n",
    "import re\n",
    "import requests\n",
    "from bs4 import BeautifulSoup\n",
    "from urllib.request import urlopen\n",
    "from itertools import chain\n",
    "import time\n",
    "import sys\n",
    "import numpy as np\n",
    "import pandas as pd\n",
    "import re"
   ]
  },
  {
   "cell_type": "code",
   "execution_count": 127,
   "metadata": {
    "ExecuteTime": {
     "end_time": "2019-07-18T23:44:50.755045Z",
     "start_time": "2019-07-18T23:44:50.735926Z"
    }
   },
   "outputs": [],
   "source": [
    "import pandas\n",
    "#blocks= [\"1\",\"51\",\"101\",\"151\",\"201\",\"251\",\"301\",\"351\",\"401\",\"451\",\"501\",\"551\",\"601\",\"651\",\"701\",\"751\",\"801\",\"851\",\"801\",\"851\",\"901\",\"951\"]\n",
    "blocks= np.arange(1,3300,50)\n",
    "years = [8,7,6]\n",
    "movie_first_line= []\n",
    "movie_date = []\n",
    "movie_run_time=[]\n",
    "movie_genre =[]\n",
    "cast=[]\n",
    "movie_director =[]\n",
    "movie_stars = []\n",
    "gross_amount = []\n",
    "def data_scrapping():\n",
    "\n",
    "    for block in blocks:\n",
    "        url= \"https://www.imdb.com/search/title/?year=2018-01-01,2018-12-31&start={}\".format(block)\n",
    "        response = requests.get(url)\n",
    "        page = response.text\n",
    "        soup = BeautifulSoup(page, \"html\")\n",
    "        content = soup.find(id=\"main\")\n",
    "\n",
    "        movieFrame = content.find_all(\"div\", class_=\"lister-item mode-advanced\")\n",
    "        for container in movieFrame:\n",
    "#Movie first line\n",
    "            movieFirstLine = container.find(\"h3\", class_=\"lister-item-header\")   \n",
    "            movieTitle = movieFirstLine.find(\"a\").text\n",
    "            try:\n",
    "                movie_first_line.append(movieTitle)\n",
    "            except:\n",
    "                movie_first_line.append(np.nan)\n",
    "#Movie Date\n",
    "            try:\n",
    "                movieDate = re.sub(r\"[()]\",\"\", movieFirstLine.find_all(\"span\")[-1].text)\n",
    "                movie_date.append(movieDate)\n",
    "            except:\n",
    "                movie_date.append(np.nan)\n",
    "\n",
    "#Movie runtime\n",
    "            try:\n",
    "                movieRunTime = container.find(\"span\", class_=\"runtime\").text[:-4]\n",
    "                movie_run_time.append(movieRunTime)\n",
    "            except:\n",
    "                movie_run_time.append(np.nan)\n",
    "\n",
    "# Movie Genre\n",
    "            try:\n",
    "                movieGenre = container.find(\"span\", class_=\"genre\").text.rstrip().replace(\"\\n\",\"\").split(\",\")\n",
    "                movie_genre.append(movieGenre)\n",
    "            except:\n",
    "                movie_genre.append(np.nan)\n",
    "                \n",
    "#Casts         \n",
    "            try:\n",
    "                movieCast = container.find_all(\"p\", class_=\"\")[-1].text\n",
    "                casts = movieCast.replace(\"\\n\",\"\").split('|')\n",
    "                casts = [x.strip() for x in casts]\n",
    "                casts = [casts[i].replace(j, \"\") for i,j in enumerate([\"Director:\", \"Stars:\"])]\n",
    "# # Movie Director\n",
    "                movie_director.append(casts[0])\n",
    "    # # # Movie Stars\n",
    "            #movie_stars.append([x.strip() for x in casts[1].split(\",\")])\n",
    "                movie_stars.append(casts[1])\n",
    "            except:\n",
    "            #casts = movieCast.text.replace(\"\\n\",\"\").strip()\n",
    "                movie_director.append(np.nan)\n",
    "            #movie_stars.append([x.strip() for x in casts[1].split(\",\")])\n",
    "                movie_stars.append(np.nan)\n",
    "# Movie Gross\n",
    "            try:\n",
    "                gross_ind = container.find_all('span',attrs={\"name\":\"nv\"})[-1].text\n",
    "            #gross_amount.append(gross_ind)\n",
    "                if \"M\" not in gross_ind:\n",
    "                    mill = gross_ind.replace(\",\",\"\")\n",
    "                    gross_ind = \"0.\"+mill[:2]\n",
    "                else:\n",
    "                    gross_ind= gross_ind.replace(\"M\",\"\")\n",
    "                    gross_ind = gross_ind.replace(\"$\",\"\")\n",
    "                gross_amount.append(gross_ind)\n",
    "            \n",
    "    \n",
    "            except:\n",
    "                gross_amount.append(np.nan)\n",
    "    movie_data = [movie_first_line,movie_date,movie_run_time,movie_genre,movie_stars,gross_amount]\n",
    "    output_df= pd.DataFrame(movie_data)\n",
    "    return output_df\n"
   ]
  },
  {
   "cell_type": "code",
   "execution_count": 122,
   "metadata": {
    "ExecuteTime": {
     "end_time": "2019-07-18T23:38:49.012346Z",
     "start_time": "2019-07-18T23:37:07.470601Z"
    }
   },
   "outputs": [],
   "source": [
    "# Scrapping data for 2015\n",
    "data_2015 = data_scrapping()"
   ]
  },
  {
   "cell_type": "code",
   "execution_count": 124,
   "metadata": {
    "ExecuteTime": {
     "end_time": "2019-07-18T23:41:08.381848Z",
     "start_time": "2019-07-18T23:39:09.388867Z"
    }
   },
   "outputs": [],
   "source": [
    "#Scraping data for 2016\n",
    "data_2016= data_scrapping()\n"
   ]
  },
  {
   "cell_type": "code",
   "execution_count": 126,
   "metadata": {
    "ExecuteTime": {
     "end_time": "2019-07-18T23:44:25.044304Z",
     "start_time": "2019-07-18T23:42:44.835023Z"
    }
   },
   "outputs": [],
   "source": [
    "#Scraping data for 2017\n",
    "data_2017 = data_scrapping()"
   ]
  },
  {
   "cell_type": "code",
   "execution_count": 128,
   "metadata": {
    "ExecuteTime": {
     "end_time": "2019-07-18T23:46:11.626607Z",
     "start_time": "2019-07-18T23:44:53.136385Z"
    }
   },
   "outputs": [],
   "source": [
    "#Scraping data for 2018\n",
    "data_2018= data_scrapping()"
   ]
  },
  {
   "cell_type": "code",
   "execution_count": 129,
   "metadata": {
    "ExecuteTime": {
     "end_time": "2019-07-18T23:47:36.342435Z",
     "start_time": "2019-07-18T23:47:36.336894Z"
    }
   },
   "outputs": [
    {
     "name": "stdout",
     "output_type": "stream",
     "text": [
      "(6, 3300) (6, 3300) (6, 3300) (6, 3300)\n"
     ]
    }
   ],
   "source": [
    "print(data_2018.shape,data_2017.shape,data_2016.shape, data_2015.shape)"
   ]
  },
  {
   "cell_type": "code",
   "execution_count": 130,
   "metadata": {
    "ExecuteTime": {
     "end_time": "2019-07-18T23:48:46.353785Z",
     "start_time": "2019-07-18T23:48:46.349177Z"
    }
   },
   "outputs": [],
   "source": [
    "data_2015 = data_2015.transpose()\n"
   ]
  },
  {
   "cell_type": "code",
   "execution_count": 131,
   "metadata": {
    "ExecuteTime": {
     "end_time": "2019-07-18T23:48:47.045786Z",
     "start_time": "2019-07-18T23:48:47.040053Z"
    }
   },
   "outputs": [],
   "source": [
    "data_2016 = data_2016.transpose()\n"
   ]
  },
  {
   "cell_type": "code",
   "execution_count": 132,
   "metadata": {
    "ExecuteTime": {
     "end_time": "2019-07-18T23:48:53.686843Z",
     "start_time": "2019-07-18T23:48:53.681265Z"
    }
   },
   "outputs": [],
   "source": [
    "data_2017 = data_2017.transpose()"
   ]
  },
  {
   "cell_type": "code",
   "execution_count": 133,
   "metadata": {
    "ExecuteTime": {
     "end_time": "2019-07-18T23:48:54.602533Z",
     "start_time": "2019-07-18T23:48:54.585594Z"
    }
   },
   "outputs": [],
   "source": [
    "data_2018 = data_2018.transpose()"
   ]
  },
  {
   "cell_type": "code",
   "execution_count": 134,
   "metadata": {
    "ExecuteTime": {
     "end_time": "2019-07-18T23:48:56.287625Z",
     "start_time": "2019-07-18T23:48:56.283282Z"
    }
   },
   "outputs": [
    {
     "name": "stdout",
     "output_type": "stream",
     "text": [
      "(3300, 6) (3300, 6) (3300, 6) (3300, 6)\n"
     ]
    }
   ],
   "source": [
    "print(data_2018.shape,data_2017.shape,data_2016.shape,data_2015.shape)"
   ]
  },
  {
   "cell_type": "code",
   "execution_count": 135,
   "metadata": {
    "ExecuteTime": {
     "end_time": "2019-07-18T23:48:59.986887Z",
     "start_time": "2019-07-18T23:48:59.978351Z"
    }
   },
   "outputs": [],
   "source": [
    "combined_data = pd.concat([data_2018,data_2017,data_2016,data_2015])"
   ]
  },
  {
   "cell_type": "code",
   "execution_count": 136,
   "metadata": {
    "ExecuteTime": {
     "end_time": "2019-07-18T23:49:05.108083Z",
     "start_time": "2019-07-18T23:49:05.104621Z"
    }
   },
   "outputs": [],
   "source": [
    "#data for 2015-2018\n",
    "merge_data = combined_data"
   ]
  },
  {
   "cell_type": "code",
   "execution_count": 137,
   "metadata": {
    "ExecuteTime": {
     "end_time": "2019-07-18T23:49:05.707901Z",
     "start_time": "2019-07-18T23:49:05.695340Z"
    }
   },
   "outputs": [
    {
     "data": {
      "text/html": [
       "<div>\n",
       "<style scoped>\n",
       "    .dataframe tbody tr th:only-of-type {\n",
       "        vertical-align: middle;\n",
       "    }\n",
       "\n",
       "    .dataframe tbody tr th {\n",
       "        vertical-align: top;\n",
       "    }\n",
       "\n",
       "    .dataframe thead th {\n",
       "        text-align: right;\n",
       "    }\n",
       "</style>\n",
       "<table border=\"1\" class=\"dataframe\">\n",
       "  <thead>\n",
       "    <tr style=\"text-align: right;\">\n",
       "      <th></th>\n",
       "      <th>0</th>\n",
       "      <th>1</th>\n",
       "      <th>2</th>\n",
       "      <th>3</th>\n",
       "      <th>4</th>\n",
       "      <th>5</th>\n",
       "    </tr>\n",
       "  </thead>\n",
       "  <tbody>\n",
       "    <tr>\n",
       "      <th>0</th>\n",
       "      <td>Bohemian Rhapsody</td>\n",
       "      <td>2018</td>\n",
       "      <td>134</td>\n",
       "      <td>[Biography,  Drama,  Music]</td>\n",
       "      <td>Rami Malek, Lucy Boynton, Gwilym Lee, Ben Hardy</td>\n",
       "      <td>216.43</td>\n",
       "    </tr>\n",
       "    <tr>\n",
       "      <th>1</th>\n",
       "      <td>Spider-Man: Into the Spider-Verse</td>\n",
       "      <td>2018</td>\n",
       "      <td>117</td>\n",
       "      <td>[Animation,  Action,  Adventure]</td>\n",
       "      <td>Shameik Moore, Jake Johnson, Hailee Steinfeld,...</td>\n",
       "      <td>190.24</td>\n",
       "    </tr>\n",
       "    <tr>\n",
       "      <th>2</th>\n",
       "      <td>Yellowstone</td>\n",
       "      <td>2018–</td>\n",
       "      <td>60</td>\n",
       "      <td>[Drama,  Western]</td>\n",
       "      <td>NaN</td>\n",
       "      <td>0.10</td>\n",
       "    </tr>\n",
       "    <tr>\n",
       "      <th>3</th>\n",
       "      <td>Hereditary</td>\n",
       "      <td>2018</td>\n",
       "      <td>127</td>\n",
       "      <td>[Drama,  Horror,  Mystery]</td>\n",
       "      <td>Toni Collette, Milly Shapiro, Gabriel Byrne, A...</td>\n",
       "      <td>44.07</td>\n",
       "    </tr>\n",
       "    <tr>\n",
       "      <th>4</th>\n",
       "      <td>Killing Eve</td>\n",
       "      <td>2018–</td>\n",
       "      <td>43</td>\n",
       "      <td>[Drama,  Thriller]</td>\n",
       "      <td>NaN</td>\n",
       "      <td>0.48</td>\n",
       "    </tr>\n",
       "  </tbody>\n",
       "</table>\n",
       "</div>"
      ],
      "text/plain": [
       "                                   0       1    2  \\\n",
       "0                  Bohemian Rhapsody    2018  134   \n",
       "1  Spider-Man: Into the Spider-Verse    2018  117   \n",
       "2                        Yellowstone  2018–    60   \n",
       "3                         Hereditary    2018  127   \n",
       "4                        Killing Eve  2018–    43   \n",
       "\n",
       "                                  3  \\\n",
       "0       [Biography,  Drama,  Music]   \n",
       "1  [Animation,  Action,  Adventure]   \n",
       "2                 [Drama,  Western]   \n",
       "3        [Drama,  Horror,  Mystery]   \n",
       "4                [Drama,  Thriller]   \n",
       "\n",
       "                                                   4       5  \n",
       "0    Rami Malek, Lucy Boynton, Gwilym Lee, Ben Hardy  216.43  \n",
       "1  Shameik Moore, Jake Johnson, Hailee Steinfeld,...  190.24  \n",
       "2                                                NaN    0.10  \n",
       "3  Toni Collette, Milly Shapiro, Gabriel Byrne, A...   44.07  \n",
       "4                                                NaN    0.48  "
      ]
     },
     "execution_count": 137,
     "metadata": {},
     "output_type": "execute_result"
    }
   ],
   "source": [
    "merge_data.head()"
   ]
  },
  {
   "cell_type": "code",
   "execution_count": 138,
   "metadata": {
    "ExecuteTime": {
     "end_time": "2019-07-18T23:49:08.080116Z",
     "start_time": "2019-07-18T23:49:08.066826Z"
    }
   },
   "outputs": [],
   "source": [
    "merge_data = merge_data.rename(columns={0: \"Movie_Name\", 1: \"Year\",2:\"Duration\",3:\"Genres\",4:\"Stars\", 5: \"Gross\"})"
   ]
  },
  {
   "cell_type": "code",
   "execution_count": 139,
   "metadata": {
    "ExecuteTime": {
     "end_time": "2019-07-18T23:49:10.404947Z",
     "start_time": "2019-07-18T23:49:10.380672Z"
    }
   },
   "outputs": [],
   "source": [
    "# Transform to numeric values\n",
    "\n",
    "merge_data[\"Gross\"] = pd.to_numeric(merge_data[\"Gross\"])\n",
    "merge_data[\"Duration\"] = pd.to_numeric(merge_data[\"Duration\"])"
   ]
  },
  {
   "cell_type": "code",
   "execution_count": 140,
   "metadata": {
    "ExecuteTime": {
     "end_time": "2019-07-18T23:49:13.057377Z",
     "start_time": "2019-07-18T23:49:13.043760Z"
    },
    "scrolled": true
   },
   "outputs": [
    {
     "data": {
      "text/html": [
       "<div>\n",
       "<style scoped>\n",
       "    .dataframe tbody tr th:only-of-type {\n",
       "        vertical-align: middle;\n",
       "    }\n",
       "\n",
       "    .dataframe tbody tr th {\n",
       "        vertical-align: top;\n",
       "    }\n",
       "\n",
       "    .dataframe thead th {\n",
       "        text-align: right;\n",
       "    }\n",
       "</style>\n",
       "<table border=\"1\" class=\"dataframe\">\n",
       "  <thead>\n",
       "    <tr style=\"text-align: right;\">\n",
       "      <th></th>\n",
       "      <th>Movie_Name</th>\n",
       "      <th>Year</th>\n",
       "      <th>Duration</th>\n",
       "      <th>Genres</th>\n",
       "      <th>Stars</th>\n",
       "      <th>Gross</th>\n",
       "    </tr>\n",
       "  </thead>\n",
       "  <tbody>\n",
       "    <tr>\n",
       "      <th>0</th>\n",
       "      <td>Bohemian Rhapsody</td>\n",
       "      <td>2018</td>\n",
       "      <td>134.0</td>\n",
       "      <td>[Biography,  Drama,  Music]</td>\n",
       "      <td>Rami Malek, Lucy Boynton, Gwilym Lee, Ben Hardy</td>\n",
       "      <td>216.43</td>\n",
       "    </tr>\n",
       "    <tr>\n",
       "      <th>1</th>\n",
       "      <td>Spider-Man: Into the Spider-Verse</td>\n",
       "      <td>2018</td>\n",
       "      <td>117.0</td>\n",
       "      <td>[Animation,  Action,  Adventure]</td>\n",
       "      <td>Shameik Moore, Jake Johnson, Hailee Steinfeld,...</td>\n",
       "      <td>190.24</td>\n",
       "    </tr>\n",
       "    <tr>\n",
       "      <th>2</th>\n",
       "      <td>Yellowstone</td>\n",
       "      <td>2018–</td>\n",
       "      <td>60.0</td>\n",
       "      <td>[Drama,  Western]</td>\n",
       "      <td>NaN</td>\n",
       "      <td>0.10</td>\n",
       "    </tr>\n",
       "    <tr>\n",
       "      <th>3</th>\n",
       "      <td>Hereditary</td>\n",
       "      <td>2018</td>\n",
       "      <td>127.0</td>\n",
       "      <td>[Drama,  Horror,  Mystery]</td>\n",
       "      <td>Toni Collette, Milly Shapiro, Gabriel Byrne, A...</td>\n",
       "      <td>44.07</td>\n",
       "    </tr>\n",
       "    <tr>\n",
       "      <th>4</th>\n",
       "      <td>Killing Eve</td>\n",
       "      <td>2018–</td>\n",
       "      <td>43.0</td>\n",
       "      <td>[Drama,  Thriller]</td>\n",
       "      <td>NaN</td>\n",
       "      <td>0.48</td>\n",
       "    </tr>\n",
       "  </tbody>\n",
       "</table>\n",
       "</div>"
      ],
      "text/plain": [
       "                          Movie_Name    Year  Duration  \\\n",
       "0                  Bohemian Rhapsody    2018     134.0   \n",
       "1  Spider-Man: Into the Spider-Verse    2018     117.0   \n",
       "2                        Yellowstone  2018–       60.0   \n",
       "3                         Hereditary    2018     127.0   \n",
       "4                        Killing Eve  2018–       43.0   \n",
       "\n",
       "                             Genres  \\\n",
       "0       [Biography,  Drama,  Music]   \n",
       "1  [Animation,  Action,  Adventure]   \n",
       "2                 [Drama,  Western]   \n",
       "3        [Drama,  Horror,  Mystery]   \n",
       "4                [Drama,  Thriller]   \n",
       "\n",
       "                                               Stars   Gross  \n",
       "0    Rami Malek, Lucy Boynton, Gwilym Lee, Ben Hardy  216.43  \n",
       "1  Shameik Moore, Jake Johnson, Hailee Steinfeld,...  190.24  \n",
       "2                                                NaN    0.10  \n",
       "3  Toni Collette, Milly Shapiro, Gabriel Byrne, A...   44.07  \n",
       "4                                                NaN    0.48  "
      ]
     },
     "execution_count": 140,
     "metadata": {},
     "output_type": "execute_result"
    }
   ],
   "source": [
    "merge_data.head()"
   ]
  },
  {
   "cell_type": "markdown",
   "metadata": {},
   "source": [
    "# EDA"
   ]
  },
  {
   "cell_type": "code",
   "execution_count": 141,
   "metadata": {
    "ExecuteTime": {
     "end_time": "2019-07-18T23:49:16.270222Z",
     "start_time": "2019-07-18T23:49:16.256464Z"
    }
   },
   "outputs": [],
   "source": [
    "# Dropping any line with a na in it\n",
    "merge_data= merge_data.dropna(how ='any')"
   ]
  },
  {
   "cell_type": "code",
   "execution_count": 142,
   "metadata": {
    "ExecuteTime": {
     "end_time": "2019-07-18T23:49:18.216283Z",
     "start_time": "2019-07-18T23:49:18.206358Z"
    }
   },
   "outputs": [],
   "source": [
    "merge_budget_78= merge_data[merge_data[\"Gross\"] > 78]\n",
    "merge_budget_50 = merge_data[merge_data[\"Gross\"] > 50]\n",
    "merge_budget_30 = merge_data[merge_data[\"Gross\"] > 30]\n",
    "merge_budget_10 = merge_data[merge_data[\"Gross\"] > 10]"
   ]
  },
  {
   "cell_type": "code",
   "execution_count": 143,
   "metadata": {
    "ExecuteTime": {
     "end_time": "2019-07-18T23:49:20.250242Z",
     "start_time": "2019-07-18T23:49:20.243453Z"
    }
   },
   "outputs": [
    {
     "name": "stdout",
     "output_type": "stream",
     "text": [
      "(154, 6) (233, 6) (344, 6) (513, 6) (9155, 6)\n"
     ]
    }
   ],
   "source": [
    "print(merge_budget_78.shape,merge_budget_50.shape,merge_budget_30.shape,merge_budget_10.shape,merge_data.shape)"
   ]
  },
  {
   "cell_type": "code",
   "execution_count": 144,
   "metadata": {
    "ExecuteTime": {
     "end_time": "2019-07-18T23:49:21.466518Z",
     "start_time": "2019-07-18T23:49:21.448879Z"
    }
   },
   "outputs": [
    {
     "data": {
      "text/html": [
       "<div>\n",
       "<style scoped>\n",
       "    .dataframe tbody tr th:only-of-type {\n",
       "        vertical-align: middle;\n",
       "    }\n",
       "\n",
       "    .dataframe tbody tr th {\n",
       "        vertical-align: top;\n",
       "    }\n",
       "\n",
       "    .dataframe thead th {\n",
       "        text-align: right;\n",
       "    }\n",
       "</style>\n",
       "<table border=\"1\" class=\"dataframe\">\n",
       "  <thead>\n",
       "    <tr style=\"text-align: right;\">\n",
       "      <th></th>\n",
       "      <th>Movie_Name</th>\n",
       "      <th>Genres</th>\n",
       "      <th>Duration</th>\n",
       "      <th>Gross</th>\n",
       "      <th>Stars</th>\n",
       "    </tr>\n",
       "  </thead>\n",
       "  <tbody>\n",
       "    <tr>\n",
       "      <th>3294</th>\n",
       "      <td>Golden Shoes</td>\n",
       "      <td>[Family]</td>\n",
       "      <td>89.0</td>\n",
       "      <td>0.18</td>\n",
       "      <td>Christian Koza, David DeLuise, John Rhys-Davie...</td>\n",
       "    </tr>\n",
       "    <tr>\n",
       "      <th>3295</th>\n",
       "      <td>Begierde - Mord im Zeichen des Zen</td>\n",
       "      <td>[Crime,  Drama,  Mystery]</td>\n",
       "      <td>89.0</td>\n",
       "      <td>0.60</td>\n",
       "      <td>Melika Foroutan, Anian Zollner, Barry Atsma, F...</td>\n",
       "    </tr>\n",
       "    <tr>\n",
       "      <th>3296</th>\n",
       "      <td>About a Woman</td>\n",
       "      <td>[Drama]</td>\n",
       "      <td>76.0</td>\n",
       "      <td>0.15</td>\n",
       "      <td>Rendy Ahmad, Anneke Jodi, Tutie Kirana, Ringgo...</td>\n",
       "    </tr>\n",
       "    <tr>\n",
       "      <th>3297</th>\n",
       "      <td>Iron Girl: Ultimate Weapon</td>\n",
       "      <td>[Action]</td>\n",
       "      <td>83.0</td>\n",
       "      <td>0.17</td>\n",
       "      <td>Asami, Kirara Asuka, Hiroaki Iwanaga, Ryûnosuk...</td>\n",
       "    </tr>\n",
       "    <tr>\n",
       "      <th>3298</th>\n",
       "      <td>Arletty A Guilty Passion</td>\n",
       "      <td>[Biography,  Drama,  History]</td>\n",
       "      <td>93.0</td>\n",
       "      <td>0.15</td>\n",
       "      <td>Laetitia Casta, Marie-Josée Croze, Ken Duken, ...</td>\n",
       "    </tr>\n",
       "  </tbody>\n",
       "</table>\n",
       "</div>"
      ],
      "text/plain": [
       "                              Movie_Name                         Genres  \\\n",
       "3294                        Golden Shoes                       [Family]   \n",
       "3295  Begierde - Mord im Zeichen des Zen      [Crime,  Drama,  Mystery]   \n",
       "3296                       About a Woman                        [Drama]   \n",
       "3297          Iron Girl: Ultimate Weapon                       [Action]   \n",
       "3298            Arletty A Guilty Passion  [Biography,  Drama,  History]   \n",
       "\n",
       "      Duration  Gross                                              Stars  \n",
       "3294      89.0   0.18  Christian Koza, David DeLuise, John Rhys-Davie...  \n",
       "3295      89.0   0.60  Melika Foroutan, Anian Zollner, Barry Atsma, F...  \n",
       "3296      76.0   0.15  Rendy Ahmad, Anneke Jodi, Tutie Kirana, Ringgo...  \n",
       "3297      83.0   0.17  Asami, Kirara Asuka, Hiroaki Iwanaga, Ryûnosuk...  \n",
       "3298      93.0   0.15  Laetitia Casta, Marie-Josée Croze, Ken Duken, ...  "
      ]
     },
     "execution_count": 144,
     "metadata": {},
     "output_type": "execute_result"
    }
   ],
   "source": [
    "merge_data= merge_data[[\"Movie_Name\",\"Genres\",\"Duration\",\"Gross\",\"Stars\"]]\n",
    "merge_budget_78= merge_budget_78[[\"Movie_Name\",\"Genres\",\"Duration\",\"Gross\",\"Stars\"]]\n",
    "merge_budget_50= merge_budget_50[[\"Movie_Name\",\"Genres\",\"Duration\",\"Gross\",\"Stars\"]]\n",
    "merge_budget_30= merge_budget_30[[\"Movie_Name\",\"Genres\",\"Duration\",\"Gross\",\"Stars\"]]\n",
    "merge_budget_10= merge_budget_10[[\"Movie_Name\",\"Genres\",\"Duration\",\"Gross\",\"Stars\"]]\n",
    "merge_data.tail()"
   ]
  },
  {
   "cell_type": "code",
   "execution_count": 145,
   "metadata": {
    "ExecuteTime": {
     "end_time": "2019-07-18T23:49:23.404984Z",
     "start_time": "2019-07-18T23:49:23.094677Z"
    }
   },
   "outputs": [],
   "source": [
    "# Splitting stars column into a list\n",
    "for df in [merge_data, merge_budget_78,merge_budget_50,merge_budget_30,merge_budget_10]:\n",
    "    df[\"Stars\"] = df[\"Stars\"].str.split(\",\")\n",
    "    "
   ]
  },
  {
   "cell_type": "code",
   "execution_count": 146,
   "metadata": {
    "ExecuteTime": {
     "end_time": "2019-07-18T23:49:24.258484Z",
     "start_time": "2019-07-18T23:49:24.245514Z"
    }
   },
   "outputs": [
    {
     "data": {
      "text/html": [
       "<div>\n",
       "<style scoped>\n",
       "    .dataframe tbody tr th:only-of-type {\n",
       "        vertical-align: middle;\n",
       "    }\n",
       "\n",
       "    .dataframe tbody tr th {\n",
       "        vertical-align: top;\n",
       "    }\n",
       "\n",
       "    .dataframe thead th {\n",
       "        text-align: right;\n",
       "    }\n",
       "</style>\n",
       "<table border=\"1\" class=\"dataframe\">\n",
       "  <thead>\n",
       "    <tr style=\"text-align: right;\">\n",
       "      <th></th>\n",
       "      <th>Movie_Name</th>\n",
       "      <th>Genres</th>\n",
       "      <th>Duration</th>\n",
       "      <th>Gross</th>\n",
       "      <th>Stars</th>\n",
       "    </tr>\n",
       "  </thead>\n",
       "  <tbody>\n",
       "    <tr>\n",
       "      <th>0</th>\n",
       "      <td>Bohemian Rhapsody</td>\n",
       "      <td>[Biography,  Drama,  Music]</td>\n",
       "      <td>134.0</td>\n",
       "      <td>216.43</td>\n",
       "      <td>[Rami Malek,  Lucy Boynton,  Gwilym Lee,  Ben ...</td>\n",
       "    </tr>\n",
       "    <tr>\n",
       "      <th>1</th>\n",
       "      <td>Spider-Man: Into the Spider-Verse</td>\n",
       "      <td>[Animation,  Action,  Adventure]</td>\n",
       "      <td>117.0</td>\n",
       "      <td>190.24</td>\n",
       "      <td>[Shameik Moore,  Jake Johnson,  Hailee Steinfe...</td>\n",
       "    </tr>\n",
       "    <tr>\n",
       "      <th>3</th>\n",
       "      <td>Hereditary</td>\n",
       "      <td>[Drama,  Horror,  Mystery]</td>\n",
       "      <td>127.0</td>\n",
       "      <td>44.07</td>\n",
       "      <td>[Toni Collette,  Milly Shapiro,  Gabriel Byrne...</td>\n",
       "    </tr>\n",
       "    <tr>\n",
       "      <th>5</th>\n",
       "      <td>Mary Poppins Returns</td>\n",
       "      <td>[Comedy,  Family,  Fantasy]</td>\n",
       "      <td>130.0</td>\n",
       "      <td>171.96</td>\n",
       "      <td>[Emily Blunt,  Lin-Manuel Miranda,  Ben Whisha...</td>\n",
       "    </tr>\n",
       "    <tr>\n",
       "      <th>6</th>\n",
       "      <td>A Star Is Born</td>\n",
       "      <td>[Drama,  Music,  Romance]</td>\n",
       "      <td>136.0</td>\n",
       "      <td>215.29</td>\n",
       "      <td>[Lady Gaga,  Bradley Cooper,  Sam Elliott,  Gr...</td>\n",
       "    </tr>\n",
       "  </tbody>\n",
       "</table>\n",
       "</div>"
      ],
      "text/plain": [
       "                          Movie_Name                            Genres  \\\n",
       "0                  Bohemian Rhapsody       [Biography,  Drama,  Music]   \n",
       "1  Spider-Man: Into the Spider-Verse  [Animation,  Action,  Adventure]   \n",
       "3                         Hereditary        [Drama,  Horror,  Mystery]   \n",
       "5               Mary Poppins Returns       [Comedy,  Family,  Fantasy]   \n",
       "6                     A Star Is Born         [Drama,  Music,  Romance]   \n",
       "\n",
       "   Duration   Gross                                              Stars  \n",
       "0     134.0  216.43  [Rami Malek,  Lucy Boynton,  Gwilym Lee,  Ben ...  \n",
       "1     117.0  190.24  [Shameik Moore,  Jake Johnson,  Hailee Steinfe...  \n",
       "3     127.0   44.07  [Toni Collette,  Milly Shapiro,  Gabriel Byrne...  \n",
       "5     130.0  171.96  [Emily Blunt,  Lin-Manuel Miranda,  Ben Whisha...  \n",
       "6     136.0  215.29  [Lady Gaga,  Bradley Cooper,  Sam Elliott,  Gr...  "
      ]
     },
     "execution_count": 146,
     "metadata": {},
     "output_type": "execute_result"
    }
   ],
   "source": [
    "merge_data.head()"
   ]
  },
  {
   "cell_type": "markdown",
   "metadata": {},
   "source": [
    "## Building a counter for the actors, directors and genre"
   ]
  },
  {
   "cell_type": "code",
   "execution_count": 147,
   "metadata": {
    "ExecuteTime": {
     "end_time": "2019-07-18T23:49:26.139327Z",
     "start_time": "2019-07-18T23:49:26.135070Z"
    }
   },
   "outputs": [],
   "source": [
    "import collections\n",
    "def build_collector(df):\n",
    "    column_counter = collections.Counter()\n",
    "    for split_columns in df:\n",
    "        split_columns = [start.strip() for start in split_columns]\n",
    "\n",
    "        column_counter.update(split_columns)\n",
    "    \n",
    "    return column_counter.most_common(n=500)\n",
    "   \n"
   ]
  },
  {
   "cell_type": "code",
   "execution_count": 148,
   "metadata": {
    "ExecuteTime": {
     "end_time": "2019-07-18T23:49:27.567357Z",
     "start_time": "2019-07-18T23:49:27.564251Z"
    }
   },
   "outputs": [],
   "source": [
    "#build_collector(merge_data[\"Genres\"])"
   ]
  },
  {
   "cell_type": "code",
   "execution_count": 149,
   "metadata": {
    "ExecuteTime": {
     "end_time": "2019-07-18T23:49:28.843518Z",
     "start_time": "2019-07-18T23:49:28.795298Z"
    }
   },
   "outputs": [
    {
     "data": {
      "text/plain": [
       "[('Drama', 4501),\n",
       " ('Comedy', 2506),\n",
       " ('Thriller', 1631),\n",
       " ('Action', 1469),\n",
       " ('Romance', 1280),\n",
       " ('Horror', 1241),\n",
       " ('Crime', 896),\n",
       " ('Adventure', 786),\n",
       " ('Mystery', 616),\n",
       " ('Documentary', 584),\n",
       " ('Sci-Fi', 494),\n",
       " ('Biography', 483),\n",
       " ('Family', 470),\n",
       " ('Short', 439),\n",
       " ('Fantasy', 431),\n",
       " ('Animation', 354),\n",
       " ('Music', 295),\n",
       " ('History', 274),\n",
       " ('Sport', 132),\n",
       " ('War', 119),\n",
       " ('Musical', 94),\n",
       " ('Western', 44),\n",
       " ('News', 13),\n",
       " ('Reality-TV', 3),\n",
       " ('Game-Show', 1)]"
      ]
     },
     "execution_count": 149,
     "metadata": {},
     "output_type": "execute_result"
    }
   ],
   "source": [
    "#Merge_data\n",
    "build_collector(merge_data[\"Stars\"])\n",
    "build_collector(merge_data[\"Genres\"])\n",
    "\n"
   ]
  },
  {
   "cell_type": "code",
   "execution_count": 150,
   "metadata": {
    "ExecuteTime": {
     "end_time": "2019-07-18T23:49:30.170144Z",
     "start_time": "2019-07-18T23:49:30.151765Z"
    }
   },
   "outputs": [
    {
     "data": {
      "text/plain": [
       "[('Drama', 234),\n",
       " ('Comedy', 188),\n",
       " ('Action', 178),\n",
       " ('Adventure', 165),\n",
       " ('Thriller', 85),\n",
       " ('Crime', 76),\n",
       " ('Biography', 70),\n",
       " ('Horror', 60),\n",
       " ('Sci-Fi', 52),\n",
       " ('Animation', 48),\n",
       " ('Mystery', 48),\n",
       " ('Romance', 45),\n",
       " ('Fantasy', 44),\n",
       " ('Family', 27),\n",
       " ('History', 26),\n",
       " ('Sport', 12),\n",
       " ('Music', 10),\n",
       " ('Documentary', 9),\n",
       " ('Musical', 3),\n",
       " ('Western', 2),\n",
       " ('War', 2)]"
      ]
     },
     "execution_count": 150,
     "metadata": {},
     "output_type": "execute_result"
    }
   ],
   "source": [
    "#merge_budget_78\n",
    "build_collector(merge_budget_78[\"Stars\"])\n",
    "build_collector(merge_budget_78[\"Genres\"])\n",
    "\n",
    "#merge_budget_50\n",
    "build_collector(merge_budget_50[\"Stars\"])\n",
    "build_collector(merge_budget_50[\"Genres\"])\n",
    "\n",
    "#merge_budget_30\n",
    "build_collector(merge_budget_30[\"Stars\"])\n",
    "build_collector(merge_budget_30[\"Genres\"])\n",
    "\n",
    "#merge_budget_10\n",
    "build_collector(merge_budget_10[\"Stars\"])\n",
    "build_collector(merge_budget_10[\"Genres\"])\n"
   ]
  },
  {
   "cell_type": "markdown",
   "metadata": {},
   "source": [
    "## Getting unique values from the counter"
   ]
  },
  {
   "cell_type": "code",
   "execution_count": 151,
   "metadata": {
    "ExecuteTime": {
     "end_time": "2019-07-18T23:49:32.713378Z",
     "start_time": "2019-07-18T23:49:32.709647Z"
    }
   },
   "outputs": [],
   "source": [
    "def unique_counter(column_list):\n",
    "    unique_top_columns = []\n",
    "\n",
    "    for column, count in column_list:\n",
    "    \n",
    "        unique_top_columns.append(column)\n",
    "    \n",
    "    return unique_top_columns\n",
    "\n"
   ]
  },
  {
   "cell_type": "code",
   "execution_count": 152,
   "metadata": {
    "ExecuteTime": {
     "end_time": "2019-07-18T23:49:34.097065Z",
     "start_time": "2019-07-18T23:49:34.051167Z"
    }
   },
   "outputs": [],
   "source": [
    "unique_stars_merge = unique_counter(build_collector(merge_data[\"Stars\"]))\n",
    "unique_genres_merge = unique_counter(build_collector(merge_data[\"Genres\"]))\n"
   ]
  },
  {
   "cell_type": "code",
   "execution_count": 153,
   "metadata": {
    "ExecuteTime": {
     "end_time": "2019-07-18T23:49:34.972672Z",
     "start_time": "2019-07-18T23:49:34.960226Z"
    }
   },
   "outputs": [],
   "source": [
    "#merge_budget_78\n",
    "unique_stars_78 = unique_counter(build_collector(merge_budget_78[\"Stars\"]))\n",
    "unique_genres_78 = unique_counter(build_collector(merge_budget_78[\"Genres\"]))\n",
    "\n",
    "#merge_budget_50\n",
    "unique_stars_50 = unique_counter(build_collector(merge_budget_50[\"Stars\"]))\n",
    "unique_genres_50 = unique_counter(build_collector(merge_budget_50[\"Genres\"]))\n",
    "\n",
    "#merge_budget_30\n",
    "unique_stars_30 = unique_counter(build_collector(merge_budget_30[\"Stars\"]))\n",
    "unique_genres_30 = unique_counter(build_collector(merge_budget_30[\"Genres\"]))\n",
    "\n",
    "#merge_budget_10\n",
    "unique_stars_10 = unique_counter(build_collector(merge_budget_10[\"Stars\"]))\n",
    "unique_genres_10 = unique_counter(build_collector(merge_budget_10[\"Genres\"]))\n"
   ]
  },
  {
   "cell_type": "markdown",
   "metadata": {},
   "source": [
    "## Features splits"
   ]
  },
  {
   "cell_type": "markdown",
   "metadata": {},
   "source": [
    "### Creating features for merge"
   ]
  },
  {
   "cell_type": "code",
   "execution_count": 154,
   "metadata": {
    "ExecuteTime": {
     "end_time": "2019-07-18T23:49:38.747329Z",
     "start_time": "2019-07-18T23:49:37.532094Z"
    }
   },
   "outputs": [],
   "source": [
    "#unique_lists_various = [unique_stars_merge,unique_stars_78,unique_stars_50,unique_stars_30,unique_stars_10]\n",
    "for star in unique_stars_merge:\n",
    "    merge_data[f\"star_{star}\"]= merge_data.Stars.apply(lambda star_list: star in star_list)"
   ]
  },
  {
   "cell_type": "code",
   "execution_count": 155,
   "metadata": {
    "ExecuteTime": {
     "end_time": "2019-07-18T23:49:40.224733Z",
     "start_time": "2019-07-18T23:49:40.119060Z"
    }
   },
   "outputs": [],
   "source": [
    "for genre in unique_genres_merge:\n",
    "    merge_data[f\"genre_{genre}\"]= merge_data.Genres.apply(lambda genre_list: genre in genre_list)"
   ]
  },
  {
   "cell_type": "markdown",
   "metadata": {},
   "source": [
    "### Creating features for merge_78"
   ]
  },
  {
   "cell_type": "code",
   "execution_count": 156,
   "metadata": {
    "ExecuteTime": {
     "end_time": "2019-07-18T23:49:43.822539Z",
     "start_time": "2019-07-18T23:49:43.603928Z"
    }
   },
   "outputs": [],
   "source": [
    "for star in unique_stars_78:\n",
    "    merge_budget_78[f\"star_{star}\"]= merge_budget_78.Stars.apply(lambda star_list: star in star_list)"
   ]
  },
  {
   "cell_type": "code",
   "execution_count": 157,
   "metadata": {
    "ExecuteTime": {
     "end_time": "2019-07-18T23:49:44.297797Z",
     "start_time": "2019-07-18T23:49:44.281296Z"
    }
   },
   "outputs": [],
   "source": [
    "for genre in unique_genres_78:\n",
    "    merge_budget_78[f\"genre_{genre}\"]= merge_budget_78.Genres.apply(lambda genre_list: genre in genre_list)"
   ]
  },
  {
   "cell_type": "markdown",
   "metadata": {},
   "source": [
    "### Creating features for merge_50"
   ]
  },
  {
   "cell_type": "code",
   "execution_count": 158,
   "metadata": {
    "ExecuteTime": {
     "end_time": "2019-07-18T23:49:46.067334Z",
     "start_time": "2019-07-18T23:49:45.828730Z"
    }
   },
   "outputs": [],
   "source": [
    "for star in unique_stars_50:\n",
    "    merge_budget_50[f\"star_{star}\"]= merge_budget_50.Stars.apply(lambda star_list: star in star_list)"
   ]
  },
  {
   "cell_type": "code",
   "execution_count": 159,
   "metadata": {
    "ExecuteTime": {
     "end_time": "2019-07-18T23:49:46.472904Z",
     "start_time": "2019-07-18T23:49:46.453691Z"
    }
   },
   "outputs": [],
   "source": [
    "for genre in unique_genres_78:\n",
    "    merge_budget_50[f\"genre_{genre}\"]= merge_budget_50.Genres.apply(lambda genre_list: genre in genre_list)"
   ]
  },
  {
   "cell_type": "markdown",
   "metadata": {},
   "source": [
    "### Creating features for merge_30"
   ]
  },
  {
   "cell_type": "code",
   "execution_count": 160,
   "metadata": {
    "ExecuteTime": {
     "end_time": "2019-07-18T23:49:48.229254Z",
     "start_time": "2019-07-18T23:49:47.960885Z"
    }
   },
   "outputs": [],
   "source": [
    "for star in unique_stars_30:\n",
    "    merge_budget_30[f\"star_{star}\"]= merge_budget_30.Stars.apply(lambda star_list: star in star_list)"
   ]
  },
  {
   "cell_type": "code",
   "execution_count": 161,
   "metadata": {
    "ExecuteTime": {
     "end_time": "2019-07-18T23:49:48.626647Z",
     "start_time": "2019-07-18T23:49:48.605498Z"
    }
   },
   "outputs": [],
   "source": [
    "for genre in unique_genres_30:\n",
    "    merge_budget_30[f\"genre_{genre}\"]= merge_budget_30.Genres.apply(lambda genre_list: genre in genre_list)"
   ]
  },
  {
   "cell_type": "markdown",
   "metadata": {},
   "source": [
    "### Creating features for merge_10"
   ]
  },
  {
   "cell_type": "code",
   "execution_count": 162,
   "metadata": {
    "ExecuteTime": {
     "end_time": "2019-07-18T23:49:50.437732Z",
     "start_time": "2019-07-18T23:49:50.161863Z"
    }
   },
   "outputs": [],
   "source": [
    "for star in unique_stars_10:\n",
    "    merge_budget_10[f\"star_{star}\"]= merge_budget_10.Stars.apply(lambda star_list: star in star_list)"
   ]
  },
  {
   "cell_type": "code",
   "execution_count": 163,
   "metadata": {
    "ExecuteTime": {
     "end_time": "2019-07-18T23:49:51.217687Z",
     "start_time": "2019-07-18T23:49:51.199062Z"
    }
   },
   "outputs": [],
   "source": [
    "for genre in unique_genres_10:\n",
    "    merge_budget_10[f\"genre_{genre}\"]= merge_budget_10.Genres.apply(lambda genre_list: genre in genre_list)"
   ]
  },
  {
   "cell_type": "code",
   "execution_count": 164,
   "metadata": {
    "ExecuteTime": {
     "end_time": "2019-07-18T23:49:51.895058Z",
     "start_time": "2019-07-18T23:49:51.890002Z"
    }
   },
   "outputs": [
    {
     "name": "stdout",
     "output_type": "stream",
     "text": [
      "(154, 481) (233, 524) (344, 524) (513, 526) (9155, 530)\n"
     ]
    }
   ],
   "source": [
    "print(merge_budget_78.shape,merge_budget_50.shape,merge_budget_30.shape,merge_budget_10.shape,merge_data.shape)"
   ]
  },
  {
   "cell_type": "code",
   "execution_count": 165,
   "metadata": {
    "ExecuteTime": {
     "end_time": "2019-07-18T23:49:53.237149Z",
     "start_time": "2019-07-18T23:49:53.119354Z"
    },
    "scrolled": true
   },
   "outputs": [
    {
     "data": {
      "text/html": [
       "<div>\n",
       "<style scoped>\n",
       "    .dataframe tbody tr th:only-of-type {\n",
       "        vertical-align: middle;\n",
       "    }\n",
       "\n",
       "    .dataframe tbody tr th {\n",
       "        vertical-align: top;\n",
       "    }\n",
       "\n",
       "    .dataframe thead th {\n",
       "        text-align: right;\n",
       "    }\n",
       "</style>\n",
       "<table border=\"1\" class=\"dataframe\">\n",
       "  <thead>\n",
       "    <tr style=\"text-align: right;\">\n",
       "      <th></th>\n",
       "      <th>Movie_Name</th>\n",
       "      <th>Genres</th>\n",
       "      <th>Duration</th>\n",
       "      <th>Gross</th>\n",
       "      <th>Stars</th>\n",
       "      <th>star_Eric Roberts</th>\n",
       "      <th>star_James Franco</th>\n",
       "      <th>star_Danny Trejo</th>\n",
       "      <th>star_Tom Sizemore</th>\n",
       "      <th>star_Vivica A. Fox</th>\n",
       "      <th>...</th>\n",
       "      <th>genre_Animation</th>\n",
       "      <th>genre_Music</th>\n",
       "      <th>genre_History</th>\n",
       "      <th>genre_Sport</th>\n",
       "      <th>genre_War</th>\n",
       "      <th>genre_Musical</th>\n",
       "      <th>genre_Western</th>\n",
       "      <th>genre_News</th>\n",
       "      <th>genre_Reality-TV</th>\n",
       "      <th>genre_Game-Show</th>\n",
       "    </tr>\n",
       "  </thead>\n",
       "  <tbody>\n",
       "  </tbody>\n",
       "</table>\n",
       "<p>0 rows × 530 columns</p>\n",
       "</div>"
      ],
      "text/plain": [
       "Empty DataFrame\n",
       "Columns: [Movie_Name, Genres, Duration, Gross, Stars, star_Eric Roberts, star_James Franco, star_Danny Trejo, star_Tom Sizemore, star_Vivica A. Fox, star_Nicolas Cage, star_Mischa Barton, star_Radhika Apte, star_Michael Shannon, star_J.K. Simmons, star_Candace Cameron Bure, star_Keanu Reeves, star_Michael Madsen, star_Casper Van Dien, star_Andrew W. Walker, star_Willem Dafoe, star_Johnny Depp, star_Dave Bautista, star_Danny Glover, star_Akshay Kumar, star_Scott Adkins, star_Dolph Lundgren, star_Jessica Chastain, star_Samantha Ruth Prabhu, star_Michael Fassbender, star_Toni Collette, star_Anna Kendrick, star_Isabelle Huppert, star_Bruce Willis, star_Alicia Vikander, star_Vincent Cassel, star_Lacey Chabert, star_Booboo Stewart, star_Dominique Swain, star_Elle Fanning, star_Tye Sheridan, star_Juliette Binoche, star_Cate Blanchett, star_Woody Harrelson, star_Judy Greer, star_Natalie Portman, star_Michael Peña, star_Nicole Kidman, star_Adam Sandler, star_Ethan Hawke, star_Bella Thorne, star_Maria Bello, star_Rooney Mara, star_Rajkummar Rao, star_Louis Mandylor, star_Irrfan Khan, star_Malcolm McDowell, star_Lance Henriksen, star_Jonathan Bennett, star_Christopher Lloyd, star_Manoj Bajpayee, star_Marilu Henner, star_Jagapathi Babu, star_Cindy Busby, star_Sean Astin, star_Tom Hanks, star_Ryan Reynolds, star_Chloë Grace Moretz, star_Steve Carell, star_Nicholas Hoult, star_Mark Wahlberg, star_Margot Robbie, star_Alec Baldwin, star_Joey King, star_Joel Edgerton, star_Kevin Hart, star_Maika Monroe, star_Riccardo Scamarcio, star_Dwayne Johnson, star_Bryan Cranston, star_Charlize Theron, star_Ben Kingsley, star_Octavia Spencer, star_Jason Sudeikis, star_Cameron Mathison, star_Danica McKellar, star_Taapsee Pannu, star_Taylor Cole, star_Dulquer Salmaan, star_Bruce Davison, star_Amitabh Bachchan, star_Marion Cotillard, star_Sean Patrick Flanery, star_Nawazuddin Siddiqui, star_Prakash Raj, star_Jessica Morris, star_Prithviraj Sukumaran, star_Kate Mara, star_Emily Blunt, star_Chris Hemsworth, ...]\n",
       "Index: []\n",
       "\n",
       "[0 rows x 530 columns]"
      ]
     },
     "execution_count": 165,
     "metadata": {},
     "output_type": "execute_result"
    }
   ],
   "source": [
    "# Testing if I have any na data\n",
    "test = merge_data[merge_data.isna().any(axis=1)]\n",
    "test\n"
   ]
  },
  {
   "cell_type": "code",
   "execution_count": 166,
   "metadata": {
    "ExecuteTime": {
     "end_time": "2019-07-18T23:49:54.763603Z",
     "start_time": "2019-07-18T23:49:54.737912Z"
    }
   },
   "outputs": [
    {
     "data": {
      "text/html": [
       "<div>\n",
       "<style scoped>\n",
       "    .dataframe tbody tr th:only-of-type {\n",
       "        vertical-align: middle;\n",
       "    }\n",
       "\n",
       "    .dataframe tbody tr th {\n",
       "        vertical-align: top;\n",
       "    }\n",
       "\n",
       "    .dataframe thead th {\n",
       "        text-align: right;\n",
       "    }\n",
       "</style>\n",
       "<table border=\"1\" class=\"dataframe\">\n",
       "  <thead>\n",
       "    <tr style=\"text-align: right;\">\n",
       "      <th></th>\n",
       "      <th>Movie_Name</th>\n",
       "      <th>Genres</th>\n",
       "      <th>Duration</th>\n",
       "      <th>Gross</th>\n",
       "      <th>Stars</th>\n",
       "      <th>star_Kevin Hart</th>\n",
       "      <th>star_Dwayne Johnson</th>\n",
       "      <th>star_Mark Wahlberg</th>\n",
       "      <th>star_Tom Cruise</th>\n",
       "      <th>star_Chris Pratt</th>\n",
       "      <th>...</th>\n",
       "      <th>genre_Crime</th>\n",
       "      <th>genre_Horror</th>\n",
       "      <th>genre_Biography</th>\n",
       "      <th>genre_Romance</th>\n",
       "      <th>genre_Mystery</th>\n",
       "      <th>genre_Music</th>\n",
       "      <th>genre_History</th>\n",
       "      <th>genre_Musical</th>\n",
       "      <th>genre_Sport</th>\n",
       "      <th>genre_Western</th>\n",
       "    </tr>\n",
       "  </thead>\n",
       "  <tbody>\n",
       "    <tr>\n",
       "      <th>0</th>\n",
       "      <td>Bohemian Rhapsody</td>\n",
       "      <td>[Biography,  Drama,  Music]</td>\n",
       "      <td>134.0</td>\n",
       "      <td>216.43</td>\n",
       "      <td>[Rami Malek,  Lucy Boynton,  Gwilym Lee,  Ben ...</td>\n",
       "      <td>False</td>\n",
       "      <td>False</td>\n",
       "      <td>False</td>\n",
       "      <td>False</td>\n",
       "      <td>False</td>\n",
       "      <td>...</td>\n",
       "      <td>False</td>\n",
       "      <td>False</td>\n",
       "      <td>True</td>\n",
       "      <td>False</td>\n",
       "      <td>False</td>\n",
       "      <td>False</td>\n",
       "      <td>False</td>\n",
       "      <td>False</td>\n",
       "      <td>False</td>\n",
       "      <td>False</td>\n",
       "    </tr>\n",
       "    <tr>\n",
       "      <th>1</th>\n",
       "      <td>Spider-Man: Into the Spider-Verse</td>\n",
       "      <td>[Animation,  Action,  Adventure]</td>\n",
       "      <td>117.0</td>\n",
       "      <td>190.24</td>\n",
       "      <td>[Shameik Moore,  Jake Johnson,  Hailee Steinfe...</td>\n",
       "      <td>False</td>\n",
       "      <td>False</td>\n",
       "      <td>False</td>\n",
       "      <td>False</td>\n",
       "      <td>False</td>\n",
       "      <td>...</td>\n",
       "      <td>False</td>\n",
       "      <td>False</td>\n",
       "      <td>False</td>\n",
       "      <td>False</td>\n",
       "      <td>False</td>\n",
       "      <td>False</td>\n",
       "      <td>False</td>\n",
       "      <td>False</td>\n",
       "      <td>False</td>\n",
       "      <td>False</td>\n",
       "    </tr>\n",
       "    <tr>\n",
       "      <th>5</th>\n",
       "      <td>Mary Poppins Returns</td>\n",
       "      <td>[Comedy,  Family,  Fantasy]</td>\n",
       "      <td>130.0</td>\n",
       "      <td>171.96</td>\n",
       "      <td>[Emily Blunt,  Lin-Manuel Miranda,  Ben Whisha...</td>\n",
       "      <td>False</td>\n",
       "      <td>False</td>\n",
       "      <td>False</td>\n",
       "      <td>False</td>\n",
       "      <td>False</td>\n",
       "      <td>...</td>\n",
       "      <td>False</td>\n",
       "      <td>False</td>\n",
       "      <td>False</td>\n",
       "      <td>False</td>\n",
       "      <td>False</td>\n",
       "      <td>False</td>\n",
       "      <td>False</td>\n",
       "      <td>False</td>\n",
       "      <td>False</td>\n",
       "      <td>False</td>\n",
       "    </tr>\n",
       "    <tr>\n",
       "      <th>6</th>\n",
       "      <td>A Star Is Born</td>\n",
       "      <td>[Drama,  Music,  Romance]</td>\n",
       "      <td>136.0</td>\n",
       "      <td>215.29</td>\n",
       "      <td>[Lady Gaga,  Bradley Cooper,  Sam Elliott,  Gr...</td>\n",
       "      <td>False</td>\n",
       "      <td>False</td>\n",
       "      <td>False</td>\n",
       "      <td>False</td>\n",
       "      <td>False</td>\n",
       "      <td>...</td>\n",
       "      <td>False</td>\n",
       "      <td>False</td>\n",
       "      <td>False</td>\n",
       "      <td>False</td>\n",
       "      <td>False</td>\n",
       "      <td>False</td>\n",
       "      <td>False</td>\n",
       "      <td>False</td>\n",
       "      <td>False</td>\n",
       "      <td>False</td>\n",
       "    </tr>\n",
       "    <tr>\n",
       "      <th>7</th>\n",
       "      <td>Avengers: Infinity War</td>\n",
       "      <td>[Action,  Adventure,  Sci-Fi]</td>\n",
       "      <td>149.0</td>\n",
       "      <td>678.82</td>\n",
       "      <td>[Robert Downey Jr.,  Chris Hemsworth,  Mark Ru...</td>\n",
       "      <td>False</td>\n",
       "      <td>False</td>\n",
       "      <td>False</td>\n",
       "      <td>False</td>\n",
       "      <td>False</td>\n",
       "      <td>...</td>\n",
       "      <td>False</td>\n",
       "      <td>False</td>\n",
       "      <td>False</td>\n",
       "      <td>False</td>\n",
       "      <td>False</td>\n",
       "      <td>False</td>\n",
       "      <td>False</td>\n",
       "      <td>False</td>\n",
       "      <td>False</td>\n",
       "      <td>False</td>\n",
       "    </tr>\n",
       "  </tbody>\n",
       "</table>\n",
       "<p>5 rows × 524 columns</p>\n",
       "</div>"
      ],
      "text/plain": [
       "                          Movie_Name                            Genres  \\\n",
       "0                  Bohemian Rhapsody       [Biography,  Drama,  Music]   \n",
       "1  Spider-Man: Into the Spider-Verse  [Animation,  Action,  Adventure]   \n",
       "5               Mary Poppins Returns       [Comedy,  Family,  Fantasy]   \n",
       "6                     A Star Is Born         [Drama,  Music,  Romance]   \n",
       "7             Avengers: Infinity War     [Action,  Adventure,  Sci-Fi]   \n",
       "\n",
       "   Duration   Gross                                              Stars  \\\n",
       "0     134.0  216.43  [Rami Malek,  Lucy Boynton,  Gwilym Lee,  Ben ...   \n",
       "1     117.0  190.24  [Shameik Moore,  Jake Johnson,  Hailee Steinfe...   \n",
       "5     130.0  171.96  [Emily Blunt,  Lin-Manuel Miranda,  Ben Whisha...   \n",
       "6     136.0  215.29  [Lady Gaga,  Bradley Cooper,  Sam Elliott,  Gr...   \n",
       "7     149.0  678.82  [Robert Downey Jr.,  Chris Hemsworth,  Mark Ru...   \n",
       "\n",
       "   star_Kevin Hart  star_Dwayne Johnson  star_Mark Wahlberg  star_Tom Cruise  \\\n",
       "0            False                False               False            False   \n",
       "1            False                False               False            False   \n",
       "5            False                False               False            False   \n",
       "6            False                False               False            False   \n",
       "7            False                False               False            False   \n",
       "\n",
       "   star_Chris Pratt      ...        genre_Crime  genre_Horror  \\\n",
       "0             False      ...              False         False   \n",
       "1             False      ...              False         False   \n",
       "5             False      ...              False         False   \n",
       "6             False      ...              False         False   \n",
       "7             False      ...              False         False   \n",
       "\n",
       "   genre_Biography  genre_Romance  genre_Mystery  genre_Music  genre_History  \\\n",
       "0             True          False          False        False          False   \n",
       "1            False          False          False        False          False   \n",
       "5            False          False          False        False          False   \n",
       "6            False          False          False        False          False   \n",
       "7            False          False          False        False          False   \n",
       "\n",
       "   genre_Musical  genre_Sport  genre_Western  \n",
       "0          False        False          False  \n",
       "1          False        False          False  \n",
       "5          False        False          False  \n",
       "6          False        False          False  \n",
       "7          False        False          False  \n",
       "\n",
       "[5 rows x 524 columns]"
      ]
     },
     "execution_count": 166,
     "metadata": {},
     "output_type": "execute_result"
    }
   ],
   "source": [
    "merge_budget_50.head()"
   ]
  },
  {
   "cell_type": "markdown",
   "metadata": {},
   "source": [
    "# Linear Regression"
   ]
  },
  {
   "cell_type": "code",
   "execution_count": 167,
   "metadata": {
    "ExecuteTime": {
     "end_time": "2019-07-18T23:49:58.474308Z",
     "start_time": "2019-07-18T23:49:58.467646Z"
    }
   },
   "outputs": [],
   "source": [
    "import numpy as np\n",
    "import statsmodels.api as sm\n",
    "import statsmodels.formula.api as smf\n",
    "import patsy\n",
    "from sklearn.preprocessing import Normalizer\n",
    "\n",
    "import seaborn as sns\n",
    "import matplotlib.pyplot as plt\n",
    "from sklearn.model_selection import train_test_split\n",
    "from sklearn.linear_model import LinearRegression, Ridge #ordinary linear regression + w/ ridge regularization\n",
    "from sklearn.preprocessing import StandardScaler, PolynomialFeatures\n",
    "from sklearn.linear_model import RidgeCV\n",
    "%matplotlib inline"
   ]
  },
  {
   "cell_type": "code",
   "execution_count": 168,
   "metadata": {
    "ExecuteTime": {
     "end_time": "2019-07-18T23:50:01.677003Z",
     "start_time": "2019-07-18T23:50:01.671715Z"
    }
   },
   "outputs": [
    {
     "name": "stdout",
     "output_type": "stream",
     "text": [
      "(154, 481) (233, 524) (344, 524) (513, 526) (9155, 530)\n"
     ]
    }
   ],
   "source": [
    "print(merge_budget_78.shape,merge_budget_50.shape,merge_budget_30.shape,merge_budget_10.shape,merge_data.shape)"
   ]
  },
  {
   "cell_type": "code",
   "execution_count": 169,
   "metadata": {
    "ExecuteTime": {
     "end_time": "2019-07-18T23:50:04.969850Z",
     "start_time": "2019-07-18T23:50:04.954335Z"
    }
   },
   "outputs": [],
   "source": [
    "data_model = merge_data.drop([\"Movie_Name\",\"Genres\",\"Stars\"], axis =1)\n",
    "data_model_78= merge_budget_78.drop([\"Movie_Name\",\"Genres\",\"Stars\"], axis =1)\n",
    "data_model_50= merge_budget_50.drop([\"Movie_Name\",\"Genres\",\"Stars\"], axis =1)\n",
    "data_model_30= merge_budget_30.drop([\"Movie_Name\",\"Genres\",\"Stars\"], axis =1)\n",
    "data_model_10= merge_budget_10.drop([\"Movie_Name\",\"Genres\",\"Stars\"], axis =1)"
   ]
  },
  {
   "cell_type": "markdown",
   "metadata": {},
   "source": [
    "## Model 1: No limitations on the Budget"
   ]
  },
  {
   "cell_type": "markdown",
   "metadata": {},
   "source": [
    "### Linear Regression:  526 features"
   ]
  },
  {
   "cell_type": "code",
   "execution_count": 170,
   "metadata": {
    "ExecuteTime": {
     "end_time": "2019-07-18T23:50:07.394420Z",
     "start_time": "2019-07-18T23:50:07.359227Z"
    }
   },
   "outputs": [
    {
     "name": "stdout",
     "output_type": "stream",
     "text": [
      "(9155, 526)\n"
     ]
    },
    {
     "data": {
      "text/html": [
       "<div>\n",
       "<style scoped>\n",
       "    .dataframe tbody tr th:only-of-type {\n",
       "        vertical-align: middle;\n",
       "    }\n",
       "\n",
       "    .dataframe tbody tr th {\n",
       "        vertical-align: top;\n",
       "    }\n",
       "\n",
       "    .dataframe thead th {\n",
       "        text-align: right;\n",
       "    }\n",
       "</style>\n",
       "<table border=\"1\" class=\"dataframe\">\n",
       "  <thead>\n",
       "    <tr style=\"text-align: right;\">\n",
       "      <th></th>\n",
       "      <th>Duration</th>\n",
       "      <th>Gross</th>\n",
       "      <th>star_Eric Roberts</th>\n",
       "      <th>star_James Franco</th>\n",
       "      <th>star_Danny Trejo</th>\n",
       "      <th>star_Tom Sizemore</th>\n",
       "      <th>star_Vivica A. Fox</th>\n",
       "      <th>star_Nicolas Cage</th>\n",
       "      <th>star_Mischa Barton</th>\n",
       "      <th>star_Radhika Apte</th>\n",
       "      <th>...</th>\n",
       "      <th>genre_Animation</th>\n",
       "      <th>genre_Music</th>\n",
       "      <th>genre_History</th>\n",
       "      <th>genre_Sport</th>\n",
       "      <th>genre_War</th>\n",
       "      <th>genre_Musical</th>\n",
       "      <th>genre_Western</th>\n",
       "      <th>genre_News</th>\n",
       "      <th>genre_Reality-TV</th>\n",
       "      <th>genre_Game-Show</th>\n",
       "    </tr>\n",
       "  </thead>\n",
       "  <tbody>\n",
       "    <tr>\n",
       "      <th>0</th>\n",
       "      <td>134.0</td>\n",
       "      <td>216.43</td>\n",
       "      <td>False</td>\n",
       "      <td>False</td>\n",
       "      <td>False</td>\n",
       "      <td>False</td>\n",
       "      <td>False</td>\n",
       "      <td>False</td>\n",
       "      <td>False</td>\n",
       "      <td>False</td>\n",
       "      <td>...</td>\n",
       "      <td>False</td>\n",
       "      <td>False</td>\n",
       "      <td>False</td>\n",
       "      <td>False</td>\n",
       "      <td>False</td>\n",
       "      <td>False</td>\n",
       "      <td>False</td>\n",
       "      <td>False</td>\n",
       "      <td>False</td>\n",
       "      <td>False</td>\n",
       "    </tr>\n",
       "    <tr>\n",
       "      <th>1</th>\n",
       "      <td>117.0</td>\n",
       "      <td>190.24</td>\n",
       "      <td>False</td>\n",
       "      <td>False</td>\n",
       "      <td>False</td>\n",
       "      <td>False</td>\n",
       "      <td>False</td>\n",
       "      <td>False</td>\n",
       "      <td>False</td>\n",
       "      <td>False</td>\n",
       "      <td>...</td>\n",
       "      <td>True</td>\n",
       "      <td>False</td>\n",
       "      <td>False</td>\n",
       "      <td>False</td>\n",
       "      <td>False</td>\n",
       "      <td>False</td>\n",
       "      <td>False</td>\n",
       "      <td>False</td>\n",
       "      <td>False</td>\n",
       "      <td>False</td>\n",
       "    </tr>\n",
       "    <tr>\n",
       "      <th>3</th>\n",
       "      <td>127.0</td>\n",
       "      <td>44.07</td>\n",
       "      <td>False</td>\n",
       "      <td>False</td>\n",
       "      <td>False</td>\n",
       "      <td>False</td>\n",
       "      <td>False</td>\n",
       "      <td>False</td>\n",
       "      <td>False</td>\n",
       "      <td>False</td>\n",
       "      <td>...</td>\n",
       "      <td>False</td>\n",
       "      <td>False</td>\n",
       "      <td>False</td>\n",
       "      <td>False</td>\n",
       "      <td>False</td>\n",
       "      <td>False</td>\n",
       "      <td>False</td>\n",
       "      <td>False</td>\n",
       "      <td>False</td>\n",
       "      <td>False</td>\n",
       "    </tr>\n",
       "    <tr>\n",
       "      <th>5</th>\n",
       "      <td>130.0</td>\n",
       "      <td>171.96</td>\n",
       "      <td>False</td>\n",
       "      <td>False</td>\n",
       "      <td>False</td>\n",
       "      <td>False</td>\n",
       "      <td>False</td>\n",
       "      <td>False</td>\n",
       "      <td>False</td>\n",
       "      <td>False</td>\n",
       "      <td>...</td>\n",
       "      <td>False</td>\n",
       "      <td>False</td>\n",
       "      <td>False</td>\n",
       "      <td>False</td>\n",
       "      <td>False</td>\n",
       "      <td>False</td>\n",
       "      <td>False</td>\n",
       "      <td>False</td>\n",
       "      <td>False</td>\n",
       "      <td>False</td>\n",
       "    </tr>\n",
       "    <tr>\n",
       "      <th>6</th>\n",
       "      <td>136.0</td>\n",
       "      <td>215.29</td>\n",
       "      <td>False</td>\n",
       "      <td>False</td>\n",
       "      <td>False</td>\n",
       "      <td>False</td>\n",
       "      <td>False</td>\n",
       "      <td>False</td>\n",
       "      <td>False</td>\n",
       "      <td>False</td>\n",
       "      <td>...</td>\n",
       "      <td>False</td>\n",
       "      <td>False</td>\n",
       "      <td>False</td>\n",
       "      <td>False</td>\n",
       "      <td>False</td>\n",
       "      <td>False</td>\n",
       "      <td>False</td>\n",
       "      <td>False</td>\n",
       "      <td>False</td>\n",
       "      <td>False</td>\n",
       "    </tr>\n",
       "  </tbody>\n",
       "</table>\n",
       "<p>5 rows × 527 columns</p>\n",
       "</div>"
      ],
      "text/plain": [
       "   Duration   Gross  star_Eric Roberts  star_James Franco  star_Danny Trejo  \\\n",
       "0     134.0  216.43              False              False             False   \n",
       "1     117.0  190.24              False              False             False   \n",
       "3     127.0   44.07              False              False             False   \n",
       "5     130.0  171.96              False              False             False   \n",
       "6     136.0  215.29              False              False             False   \n",
       "\n",
       "   star_Tom Sizemore  star_Vivica A. Fox  star_Nicolas Cage  \\\n",
       "0              False               False              False   \n",
       "1              False               False              False   \n",
       "3              False               False              False   \n",
       "5              False               False              False   \n",
       "6              False               False              False   \n",
       "\n",
       "   star_Mischa Barton  star_Radhika Apte       ...         genre_Animation  \\\n",
       "0               False              False       ...                   False   \n",
       "1               False              False       ...                    True   \n",
       "3               False              False       ...                   False   \n",
       "5               False              False       ...                   False   \n",
       "6               False              False       ...                   False   \n",
       "\n",
       "   genre_Music  genre_History  genre_Sport  genre_War  genre_Musical  \\\n",
       "0        False          False        False      False          False   \n",
       "1        False          False        False      False          False   \n",
       "3        False          False        False      False          False   \n",
       "5        False          False        False      False          False   \n",
       "6        False          False        False      False          False   \n",
       "\n",
       "   genre_Western  genre_News  genre_Reality-TV  genre_Game-Show  \n",
       "0          False       False             False            False  \n",
       "1          False       False             False            False  \n",
       "3          False       False             False            False  \n",
       "5          False       False             False            False  \n",
       "6          False       False             False            False  \n",
       "\n",
       "[5 rows x 527 columns]"
      ]
     },
     "execution_count": 170,
     "metadata": {},
     "output_type": "execute_result"
    }
   ],
   "source": [
    "X_origin, y_origin = data_model.drop('Gross',axis = 1), data_model['Gross']\n",
    "X_origin.reset_index()\n",
    "print(X_origin.shape)\n",
    "data_model.head()"
   ]
  },
  {
   "cell_type": "code",
   "execution_count": 171,
   "metadata": {
    "ExecuteTime": {
     "end_time": "2019-07-18T23:50:08.620063Z",
     "start_time": "2019-07-18T23:50:08.603153Z"
    }
   },
   "outputs": [],
   "source": [
    "#holding out 20% as test data\n",
    "X, X_test, y, y_test = train_test_split(X_origin, y_origin, test_size=.2, random_state=10)\n",
    "\n",
    "# Split TRAIN and VALIDATION \n",
    "X_train, X_val, y_train, y_val = train_test_split(X, y, test_size=.25, random_state=3)"
   ]
  },
  {
   "cell_type": "code",
   "execution_count": 172,
   "metadata": {
    "ExecuteTime": {
     "end_time": "2019-07-18T23:50:09.762784Z",
     "start_time": "2019-07-18T23:50:09.757212Z"
    }
   },
   "outputs": [
    {
     "name": "stdout",
     "output_type": "stream",
     "text": [
      "all observations:  (9155, 526)\n",
      "training set    :  (5493, 526)\n",
      "validation set  :  (1831, 526)\n",
      "testing set     :  (1831, 526)\n"
     ]
    }
   ],
   "source": [
    "print('all observations: ', X_origin.shape)\n",
    "print('training set    : ', X_train.shape)\n",
    "print('validation set  : ', X_val.shape)\n",
    "print('testing set     : ', X_test.shape)"
   ]
  },
  {
   "cell_type": "code",
   "execution_count": 173,
   "metadata": {
    "ExecuteTime": {
     "end_time": "2019-07-18T23:50:11.554019Z",
     "start_time": "2019-07-18T23:50:11.550007Z"
    }
   },
   "outputs": [],
   "source": [
    "lm = LinearRegression()"
   ]
  },
  {
   "cell_type": "code",
   "execution_count": 174,
   "metadata": {
    "ExecuteTime": {
     "end_time": "2019-07-18T23:50:12.549734Z",
     "start_time": "2019-07-18T23:50:12.279517Z"
    }
   },
   "outputs": [
    {
     "data": {
      "text/plain": [
       "LinearRegression(copy_X=True, fit_intercept=True, n_jobs=None,\n",
       "         normalize=False)"
      ]
     },
     "execution_count": 174,
     "metadata": {},
     "output_type": "execute_result"
    }
   ],
   "source": [
    "lm.fit(X_train, y_train)"
   ]
  },
  {
   "cell_type": "code",
   "execution_count": 175,
   "metadata": {
    "ExecuteTime": {
     "end_time": "2019-07-18T23:50:13.593624Z",
     "start_time": "2019-07-18T23:50:13.447972Z"
    }
   },
   "outputs": [
    {
     "name": "stdout",
     "output_type": "stream",
     "text": [
      "0.2269950102291178\n"
     ]
    }
   ],
   "source": [
    "print(lm.score(X_train, y_train))"
   ]
  },
  {
   "cell_type": "code",
   "execution_count": 176,
   "metadata": {
    "ExecuteTime": {
     "end_time": "2019-07-18T23:50:14.824652Z",
     "start_time": "2019-07-18T23:50:14.757056Z"
    }
   },
   "outputs": [
    {
     "name": "stdout",
     "output_type": "stream",
     "text": [
      "-3.5005011812056207e+18\n"
     ]
    }
   ],
   "source": [
    "print(lm.score(X_val, y_val))"
   ]
  },
  {
   "cell_type": "markdown",
   "metadata": {},
   "source": [
    "### Lasso : 526 Features"
   ]
  },
  {
   "cell_type": "code",
   "execution_count": 177,
   "metadata": {
    "ExecuteTime": {
     "end_time": "2019-07-18T23:50:16.585848Z",
     "start_time": "2019-07-18T23:50:16.582391Z"
    }
   },
   "outputs": [],
   "source": [
    "from sklearn.linear_model import LinearRegression, Lasso, LassoCV, Ridge, RidgeCV\n",
    "from sklearn.pipeline import Pipeline\n",
    "from sklearn.preprocessing import StandardScaler"
   ]
  },
  {
   "cell_type": "code",
   "execution_count": 178,
   "metadata": {
    "ExecuteTime": {
     "end_time": "2019-07-18T23:50:17.265619Z",
     "start_time": "2019-07-18T23:50:17.258695Z"
    }
   },
   "outputs": [
    {
     "data": {
      "text/plain": [
       "array([[114.],\n",
       "       [115.],\n",
       "       [107.],\n",
       "       ...,\n",
       "       [ 91.],\n",
       "       [ 90.],\n",
       "       [ 80.]])"
      ]
     },
     "execution_count": 178,
     "metadata": {},
     "output_type": "execute_result"
    }
   ],
   "source": [
    "X_train[\"Duration\"].values.reshape(-1,1)"
   ]
  },
  {
   "cell_type": "code",
   "execution_count": 179,
   "metadata": {
    "ExecuteTime": {
     "end_time": "2019-07-18T23:50:19.863309Z",
     "start_time": "2019-07-18T23:50:19.854440Z"
    }
   },
   "outputs": [],
   "source": [
    "from sklearn import pipeline, preprocessing\n",
    "scaler = StandardScaler()\n",
    "X_train_scaled = scaler.fit_transform(X_train[\"Duration\"].values.reshape(-1, 1))\n",
    "X_val_scaled = scaler.transform(X_val[\"Duration\"].values.reshape(-1, 1))\n",
    "X_test_scaled = scaler.transform(X_test[\"Duration\"].values.reshape(-1, 1))"
   ]
  },
  {
   "cell_type": "code",
   "execution_count": 180,
   "metadata": {
    "ExecuteTime": {
     "end_time": "2019-07-18T23:50:20.668077Z",
     "start_time": "2019-07-18T23:50:20.663754Z"
    }
   },
   "outputs": [],
   "source": [
    "# X_train_scaled= X_train_scaled.reshape(1,-1)\n",
    "# X_val_scaled= X_val_scaled.reshape(1,-1)\n",
    "# X_test_scaled= X_test_scaled.reshape(1,-1)"
   ]
  },
  {
   "cell_type": "code",
   "execution_count": 181,
   "metadata": {
    "ExecuteTime": {
     "end_time": "2019-07-18T23:50:22.094278Z",
     "start_time": "2019-07-18T23:50:22.089327Z"
    }
   },
   "outputs": [
    {
     "data": {
      "text/plain": [
       "(5493,)"
      ]
     },
     "execution_count": 181,
     "metadata": {},
     "output_type": "execute_result"
    }
   ],
   "source": [
    "y_train.shape"
   ]
  },
  {
   "cell_type": "code",
   "execution_count": 182,
   "metadata": {
    "ExecuteTime": {
     "end_time": "2019-07-18T23:50:22.929879Z",
     "start_time": "2019-07-18T23:50:22.924164Z"
    }
   },
   "outputs": [
    {
     "data": {
      "text/plain": [
       "(5493, 1)"
      ]
     },
     "execution_count": 182,
     "metadata": {},
     "output_type": "execute_result"
    }
   ],
   "source": [
    "X_train_scaled.shape"
   ]
  },
  {
   "cell_type": "code",
   "execution_count": 183,
   "metadata": {
    "ExecuteTime": {
     "end_time": "2019-07-18T23:50:24.138698Z",
     "start_time": "2019-07-18T23:50:24.129313Z"
    }
   },
   "outputs": [],
   "source": [
    "X_with_Scaled = X_train.copy()"
   ]
  },
  {
   "cell_type": "code",
   "execution_count": 184,
   "metadata": {
    "ExecuteTime": {
     "end_time": "2019-07-18T23:50:24.905946Z",
     "start_time": "2019-07-18T23:50:24.776283Z"
    }
   },
   "outputs": [],
   "source": [
    "X_with_Scaled[\"Duration\"] = X_with_Scaled"
   ]
  },
  {
   "cell_type": "code",
   "execution_count": 185,
   "metadata": {
    "ExecuteTime": {
     "end_time": "2019-07-18T23:50:25.834593Z",
     "start_time": "2019-07-18T23:50:25.786092Z"
    }
   },
   "outputs": [],
   "source": [
    "X_val_scaled =X_val.copy()\n",
    "X_val_scaled[\"Duration\"] = X_val_scaled"
   ]
  },
  {
   "cell_type": "code",
   "execution_count": 186,
   "metadata": {
    "ExecuteTime": {
     "end_time": "2019-07-18T23:50:26.402215Z",
     "start_time": "2019-07-18T23:50:26.353728Z"
    }
   },
   "outputs": [],
   "source": [
    "X_test_scaled =X_test.copy()\n",
    "X_test_scaled[\"Duration\"] = X_test_scaled"
   ]
  },
  {
   "cell_type": "code",
   "execution_count": 187,
   "metadata": {
    "ExecuteTime": {
     "end_time": "2019-07-18T23:50:27.239873Z",
     "start_time": "2019-07-18T23:50:27.219883Z"
    },
    "scrolled": true
   },
   "outputs": [
    {
     "data": {
      "text/html": [
       "<div>\n",
       "<style scoped>\n",
       "    .dataframe tbody tr th:only-of-type {\n",
       "        vertical-align: middle;\n",
       "    }\n",
       "\n",
       "    .dataframe tbody tr th {\n",
       "        vertical-align: top;\n",
       "    }\n",
       "\n",
       "    .dataframe thead th {\n",
       "        text-align: right;\n",
       "    }\n",
       "</style>\n",
       "<table border=\"1\" class=\"dataframe\">\n",
       "  <thead>\n",
       "    <tr style=\"text-align: right;\">\n",
       "      <th></th>\n",
       "      <th>Duration</th>\n",
       "      <th>star_Eric Roberts</th>\n",
       "      <th>star_James Franco</th>\n",
       "      <th>star_Danny Trejo</th>\n",
       "      <th>star_Tom Sizemore</th>\n",
       "      <th>star_Vivica A. Fox</th>\n",
       "      <th>star_Nicolas Cage</th>\n",
       "      <th>star_Mischa Barton</th>\n",
       "      <th>star_Radhika Apte</th>\n",
       "      <th>star_Michael Shannon</th>\n",
       "      <th>...</th>\n",
       "      <th>genre_Animation</th>\n",
       "      <th>genre_Music</th>\n",
       "      <th>genre_History</th>\n",
       "      <th>genre_Sport</th>\n",
       "      <th>genre_War</th>\n",
       "      <th>genre_Musical</th>\n",
       "      <th>genre_Western</th>\n",
       "      <th>genre_News</th>\n",
       "      <th>genre_Reality-TV</th>\n",
       "      <th>genre_Game-Show</th>\n",
       "    </tr>\n",
       "  </thead>\n",
       "  <tbody>\n",
       "    <tr>\n",
       "      <th>257</th>\n",
       "      <td>114</td>\n",
       "      <td>False</td>\n",
       "      <td>False</td>\n",
       "      <td>False</td>\n",
       "      <td>False</td>\n",
       "      <td>False</td>\n",
       "      <td>False</td>\n",
       "      <td>False</td>\n",
       "      <td>False</td>\n",
       "      <td>False</td>\n",
       "      <td>...</td>\n",
       "      <td>False</td>\n",
       "      <td>False</td>\n",
       "      <td>False</td>\n",
       "      <td>False</td>\n",
       "      <td>False</td>\n",
       "      <td>False</td>\n",
       "      <td>False</td>\n",
       "      <td>False</td>\n",
       "      <td>False</td>\n",
       "      <td>False</td>\n",
       "    </tr>\n",
       "    <tr>\n",
       "      <th>121</th>\n",
       "      <td>115</td>\n",
       "      <td>False</td>\n",
       "      <td>False</td>\n",
       "      <td>False</td>\n",
       "      <td>False</td>\n",
       "      <td>False</td>\n",
       "      <td>False</td>\n",
       "      <td>False</td>\n",
       "      <td>False</td>\n",
       "      <td>False</td>\n",
       "      <td>...</td>\n",
       "      <td>False</td>\n",
       "      <td>False</td>\n",
       "      <td>False</td>\n",
       "      <td>False</td>\n",
       "      <td>False</td>\n",
       "      <td>False</td>\n",
       "      <td>False</td>\n",
       "      <td>False</td>\n",
       "      <td>False</td>\n",
       "      <td>False</td>\n",
       "    </tr>\n",
       "    <tr>\n",
       "      <th>410</th>\n",
       "      <td>107</td>\n",
       "      <td>False</td>\n",
       "      <td>False</td>\n",
       "      <td>False</td>\n",
       "      <td>False</td>\n",
       "      <td>False</td>\n",
       "      <td>False</td>\n",
       "      <td>False</td>\n",
       "      <td>False</td>\n",
       "      <td>False</td>\n",
       "      <td>...</td>\n",
       "      <td>False</td>\n",
       "      <td>False</td>\n",
       "      <td>False</td>\n",
       "      <td>False</td>\n",
       "      <td>False</td>\n",
       "      <td>False</td>\n",
       "      <td>False</td>\n",
       "      <td>False</td>\n",
       "      <td>False</td>\n",
       "      <td>False</td>\n",
       "    </tr>\n",
       "    <tr>\n",
       "      <th>1529</th>\n",
       "      <td>105</td>\n",
       "      <td>False</td>\n",
       "      <td>False</td>\n",
       "      <td>False</td>\n",
       "      <td>False</td>\n",
       "      <td>False</td>\n",
       "      <td>False</td>\n",
       "      <td>False</td>\n",
       "      <td>False</td>\n",
       "      <td>False</td>\n",
       "      <td>...</td>\n",
       "      <td>False</td>\n",
       "      <td>False</td>\n",
       "      <td>False</td>\n",
       "      <td>False</td>\n",
       "      <td>False</td>\n",
       "      <td>False</td>\n",
       "      <td>False</td>\n",
       "      <td>False</td>\n",
       "      <td>False</td>\n",
       "      <td>False</td>\n",
       "    </tr>\n",
       "    <tr>\n",
       "      <th>1711</th>\n",
       "      <td>99</td>\n",
       "      <td>False</td>\n",
       "      <td>False</td>\n",
       "      <td>False</td>\n",
       "      <td>False</td>\n",
       "      <td>False</td>\n",
       "      <td>False</td>\n",
       "      <td>False</td>\n",
       "      <td>False</td>\n",
       "      <td>False</td>\n",
       "      <td>...</td>\n",
       "      <td>False</td>\n",
       "      <td>False</td>\n",
       "      <td>False</td>\n",
       "      <td>False</td>\n",
       "      <td>False</td>\n",
       "      <td>False</td>\n",
       "      <td>True</td>\n",
       "      <td>False</td>\n",
       "      <td>False</td>\n",
       "      <td>False</td>\n",
       "    </tr>\n",
       "  </tbody>\n",
       "</table>\n",
       "<p>5 rows × 526 columns</p>\n",
       "</div>"
      ],
      "text/plain": [
       "     Duration  star_Eric Roberts  star_James Franco  star_Danny Trejo  \\\n",
       "257       114              False              False             False   \n",
       "121       115              False              False             False   \n",
       "410       107              False              False             False   \n",
       "1529      105              False              False             False   \n",
       "1711       99              False              False             False   \n",
       "\n",
       "      star_Tom Sizemore  star_Vivica A. Fox  star_Nicolas Cage  \\\n",
       "257               False               False              False   \n",
       "121               False               False              False   \n",
       "410               False               False              False   \n",
       "1529              False               False              False   \n",
       "1711              False               False              False   \n",
       "\n",
       "      star_Mischa Barton  star_Radhika Apte  star_Michael Shannon  \\\n",
       "257                False              False                 False   \n",
       "121                False              False                 False   \n",
       "410                False              False                 False   \n",
       "1529               False              False                 False   \n",
       "1711               False              False                 False   \n",
       "\n",
       "           ...         genre_Animation  genre_Music  genre_History  \\\n",
       "257        ...                   False        False          False   \n",
       "121        ...                   False        False          False   \n",
       "410        ...                   False        False          False   \n",
       "1529       ...                   False        False          False   \n",
       "1711       ...                   False        False          False   \n",
       "\n",
       "      genre_Sport  genre_War  genre_Musical  genre_Western  genre_News  \\\n",
       "257         False      False          False          False       False   \n",
       "121         False      False          False          False       False   \n",
       "410         False      False          False          False       False   \n",
       "1529        False      False          False          False       False   \n",
       "1711        False      False          False           True       False   \n",
       "\n",
       "      genre_Reality-TV  genre_Game-Show  \n",
       "257              False            False  \n",
       "121              False            False  \n",
       "410              False            False  \n",
       "1529             False            False  \n",
       "1711             False            False  \n",
       "\n",
       "[5 rows x 526 columns]"
      ]
     },
     "execution_count": 187,
     "metadata": {},
     "output_type": "execute_result"
    }
   ],
   "source": [
    "X_with_Scaled.head()"
   ]
  },
  {
   "cell_type": "code",
   "execution_count": 423,
   "metadata": {
    "ExecuteTime": {
     "end_time": "2019-07-19T18:08:10.964650Z",
     "start_time": "2019-07-19T18:08:10.958517Z"
    }
   },
   "outputs": [
    {
     "data": {
      "text/plain": [
       "(9155, 530)"
      ]
     },
     "execution_count": 423,
     "metadata": {},
     "output_type": "execute_result"
    }
   ],
   "source": [
    "merge_data.shape"
   ]
  },
  {
   "cell_type": "code",
   "execution_count": 188,
   "metadata": {
    "ExecuteTime": {
     "end_time": "2019-07-18T23:50:32.892941Z",
     "start_time": "2019-07-18T23:50:28.888729Z"
    }
   },
   "outputs": [
    {
     "data": {
      "text/plain": [
       "LassoCV(alphas=array([1.00000e-04, 1.07189e-04, ..., 9.32930e+01, 1.00000e+02]),\n",
       "    copy_X=True, cv=10, eps=0.001, fit_intercept=True, max_iter=1000,\n",
       "    n_alphas=100, n_jobs=None, normalize=False, positive=False,\n",
       "    precompute='auto', random_state=None, selection='cyclic', tol=0.0001,\n",
       "    verbose=False)"
      ]
     },
     "execution_count": 188,
     "metadata": {},
     "output_type": "execute_result"
    }
   ],
   "source": [
    "from sklearn import datasets, model_selection, linear_model, pipeline, preprocessing\n",
    "lassocv = linear_model.LassoCV(cv=10, alphas=np.logspace(-4,2,200))\n",
    "lassocv.fit(X_with_Scaled, y_train)"
   ]
  },
  {
   "cell_type": "code",
   "execution_count": 189,
   "metadata": {
    "ExecuteTime": {
     "end_time": "2019-07-18T23:50:34.674468Z",
     "start_time": "2019-07-18T23:50:34.668211Z"
    }
   },
   "outputs": [
    {
     "data": {
      "text/plain": [
       "0.01956398343517063"
      ]
     },
     "execution_count": 189,
     "metadata": {},
     "output_type": "execute_result"
    }
   ],
   "source": [
    "lassocv.alpha_"
   ]
  },
  {
   "cell_type": "code",
   "execution_count": 190,
   "metadata": {
    "ExecuteTime": {
     "end_time": "2019-07-18T23:50:37.026646Z",
     "start_time": "2019-07-18T23:50:36.863185Z"
    }
   },
   "outputs": [
    {
     "data": {
      "text/plain": [
       "[<matplotlib.lines.Line2D at 0x1c2df1a748>,\n",
       " <matplotlib.lines.Line2D at 0x1c2df1ad68>,\n",
       " <matplotlib.lines.Line2D at 0x1c2df1af28>,\n",
       " <matplotlib.lines.Line2D at 0x1c2df1ab70>,\n",
       " <matplotlib.lines.Line2D at 0x1c2df1a908>,\n",
       " <matplotlib.lines.Line2D at 0x1c2df1a8d0>,\n",
       " <matplotlib.lines.Line2D at 0x1c2df1aef0>,\n",
       " <matplotlib.lines.Line2D at 0x1c2df1a668>,\n",
       " <matplotlib.lines.Line2D at 0x1c2d1a8128>,\n",
       " <matplotlib.lines.Line2D at 0x1c2d1a80f0>]"
      ]
     },
     "execution_count": 190,
     "metadata": {},
     "output_type": "execute_result"
    },
    {
     "data": {
      "image/png": "[encoded data removed]",
      "text/plain": [
       "<Figure size 432x288 with 1 Axes>"
      ]
     },
     "metadata": {
      "needs_background": "light"
     },
     "output_type": "display_data"
    }
   ],
   "source": [
    "plt.plot(np.log10(lassocv.alphas_), lassocv.mse_path_)\n"
   ]
  },
  {
   "cell_type": "code",
   "execution_count": 191,
   "metadata": {
    "ExecuteTime": {
     "end_time": "2019-07-18T23:50:39.004592Z",
     "start_time": "2019-07-18T23:50:38.992717Z"
    }
   },
   "outputs": [
    {
     "data": {
      "text/plain": [
       "array([ 1.22183923e-01, -0.00000000e+00,  0.00000000e+00, -0.00000000e+00,\n",
       "       -0.00000000e+00, -0.00000000e+00, -0.00000000e+00, -0.00000000e+00,\n",
       "       -0.00000000e+00, -0.00000000e+00, -0.00000000e+00, -0.00000000e+00,\n",
       "        0.00000000e+00, -0.00000000e+00, -0.00000000e+00, -0.00000000e+00,\n",
       "       -0.00000000e+00,  0.00000000e+00, -0.00000000e+00,  0.00000000e+00,\n",
       "       -0.00000000e+00, -0.00000000e+00, -0.00000000e+00,  0.00000000e+00,\n",
       "       -0.00000000e+00,  1.78262747e+00,  0.00000000e+00,  3.56679349e+01,\n",
       "       -0.00000000e+00, -0.00000000e+00,  0.00000000e+00, -0.00000000e+00,\n",
       "        0.00000000e+00, -0.00000000e+00, -0.00000000e+00, -0.00000000e+00,\n",
       "        1.11508999e+00, -0.00000000e+00,  0.00000000e+00, -0.00000000e+00,\n",
       "       -0.00000000e+00,  0.00000000e+00, -0.00000000e+00,  0.00000000e+00,\n",
       "        0.00000000e+00, -0.00000000e+00, -0.00000000e+00, -0.00000000e+00,\n",
       "       -0.00000000e+00, -0.00000000e+00,  0.00000000e+00, -0.00000000e+00,\n",
       "       -0.00000000e+00, -0.00000000e+00, -0.00000000e+00, -0.00000000e+00,\n",
       "       -0.00000000e+00,  0.00000000e+00,  0.00000000e+00,  0.00000000e+00,\n",
       "       -0.00000000e+00,  0.00000000e+00,  0.00000000e+00,  0.00000000e+00,\n",
       "        6.96053288e+01, -0.00000000e+00,  3.84618703e+01,  0.00000000e+00,\n",
       "        2.11225957e+01,  0.00000000e+00,  0.00000000e+00,  3.83615316e+01,\n",
       "        0.00000000e+00,  0.00000000e+00,  4.95418517e+01,  0.00000000e+00,\n",
       "        0.00000000e+00, -0.00000000e+00,  0.00000000e+00,  0.00000000e+00,\n",
       "        0.00000000e+00, -0.00000000e+00, -0.00000000e+00, -0.00000000e+00,\n",
       "       -0.00000000e+00,  0.00000000e+00, -0.00000000e+00, -0.00000000e+00,\n",
       "       -0.00000000e+00, -0.00000000e+00, -0.00000000e+00,  0.00000000e+00,\n",
       "       -0.00000000e+00,  0.00000000e+00,  0.00000000e+00,  0.00000000e+00,\n",
       "       -0.00000000e+00,  5.23472930e+01, -0.00000000e+00,  0.00000000e+00,\n",
       "       -0.00000000e+00,  0.00000000e+00, -0.00000000e+00, -0.00000000e+00,\n",
       "        0.00000000e+00, -0.00000000e+00,  3.85542945e+01, -0.00000000e+00,\n",
       "        0.00000000e+00, -0.00000000e+00,  0.00000000e+00, -0.00000000e+00,\n",
       "       -0.00000000e+00,  0.00000000e+00, -0.00000000e+00, -0.00000000e+00,\n",
       "       -0.00000000e+00, -0.00000000e+00, -0.00000000e+00,  0.00000000e+00,\n",
       "       -0.00000000e+00, -0.00000000e+00, -0.00000000e+00, -0.00000000e+00,\n",
       "       -0.00000000e+00, -0.00000000e+00,  0.00000000e+00, -0.00000000e+00,\n",
       "       -0.00000000e+00, -0.00000000e+00, -0.00000000e+00, -0.00000000e+00,\n",
       "        0.00000000e+00, -0.00000000e+00,  0.00000000e+00, -0.00000000e+00,\n",
       "       -0.00000000e+00, -0.00000000e+00, -0.00000000e+00, -0.00000000e+00,\n",
       "        0.00000000e+00,  0.00000000e+00,  0.00000000e+00, -0.00000000e+00,\n",
       "       -0.00000000e+00,  0.00000000e+00, -0.00000000e+00,  0.00000000e+00,\n",
       "       -0.00000000e+00, -0.00000000e+00,  0.00000000e+00, -0.00000000e+00,\n",
       "       -0.00000000e+00,  0.00000000e+00, -0.00000000e+00,  3.08265667e+01,\n",
       "        0.00000000e+00, -0.00000000e+00, -0.00000000e+00, -0.00000000e+00,\n",
       "        0.00000000e+00,  0.00000000e+00, -0.00000000e+00, -0.00000000e+00,\n",
       "        2.01541229e+01,  0.00000000e+00, -0.00000000e+00, -0.00000000e+00,\n",
       "       -0.00000000e+00, -0.00000000e+00,  0.00000000e+00, -0.00000000e+00,\n",
       "       -0.00000000e+00, -0.00000000e+00, -0.00000000e+00, -0.00000000e+00,\n",
       "        0.00000000e+00, -0.00000000e+00, -0.00000000e+00,  3.69068499e+01,\n",
       "       -0.00000000e+00, -0.00000000e+00, -0.00000000e+00,  0.00000000e+00,\n",
       "        0.00000000e+00, -0.00000000e+00, -0.00000000e+00, -0.00000000e+00,\n",
       "       -0.00000000e+00,  0.00000000e+00,  0.00000000e+00, -0.00000000e+00,\n",
       "       -0.00000000e+00,  0.00000000e+00, -0.00000000e+00,  0.00000000e+00,\n",
       "       -0.00000000e+00,  0.00000000e+00, -0.00000000e+00, -0.00000000e+00,\n",
       "       -0.00000000e+00, -0.00000000e+00,  0.00000000e+00, -0.00000000e+00,\n",
       "        0.00000000e+00, -0.00000000e+00, -0.00000000e+00,  0.00000000e+00,\n",
       "       -0.00000000e+00,  0.00000000e+00, -0.00000000e+00, -0.00000000e+00,\n",
       "       -0.00000000e+00, -0.00000000e+00, -0.00000000e+00, -0.00000000e+00,\n",
       "        0.00000000e+00,  0.00000000e+00,  0.00000000e+00,  0.00000000e+00,\n",
       "        0.00000000e+00,  0.00000000e+00, -0.00000000e+00, -0.00000000e+00,\n",
       "       -0.00000000e+00,  0.00000000e+00, -0.00000000e+00, -0.00000000e+00,\n",
       "        0.00000000e+00, -0.00000000e+00,  0.00000000e+00, -0.00000000e+00,\n",
       "       -0.00000000e+00,  0.00000000e+00,  0.00000000e+00,  0.00000000e+00,\n",
       "       -0.00000000e+00,  0.00000000e+00, -0.00000000e+00,  0.00000000e+00,\n",
       "        0.00000000e+00,  0.00000000e+00, -0.00000000e+00,  0.00000000e+00,\n",
       "        2.13923151e+01, -0.00000000e+00, -0.00000000e+00,  0.00000000e+00,\n",
       "        0.00000000e+00,  0.00000000e+00,  0.00000000e+00,  8.77039417e+00,\n",
       "        0.00000000e+00, -0.00000000e+00,  0.00000000e+00, -0.00000000e+00,\n",
       "        0.00000000e+00, -0.00000000e+00, -0.00000000e+00,  0.00000000e+00,\n",
       "        0.00000000e+00,  4.85281037e+00,  0.00000000e+00,  0.00000000e+00,\n",
       "        0.00000000e+00,  0.00000000e+00, -0.00000000e+00,  0.00000000e+00,\n",
       "       -0.00000000e+00,  6.89394322e+01,  0.00000000e+00,  0.00000000e+00,\n",
       "       -0.00000000e+00,  0.00000000e+00,  0.00000000e+00,  0.00000000e+00,\n",
       "       -0.00000000e+00, -0.00000000e+00,  0.00000000e+00,  0.00000000e+00,\n",
       "        2.64783678e+01,  0.00000000e+00,  1.51448507e+01,  0.00000000e+00,\n",
       "        0.00000000e+00,  0.00000000e+00,  0.00000000e+00,  0.00000000e+00,\n",
       "        0.00000000e+00, -0.00000000e+00, -0.00000000e+00,  0.00000000e+00,\n",
       "        0.00000000e+00, -0.00000000e+00, -0.00000000e+00,  0.00000000e+00,\n",
       "       -0.00000000e+00, -0.00000000e+00,  0.00000000e+00, -0.00000000e+00,\n",
       "       -0.00000000e+00, -0.00000000e+00, -0.00000000e+00,  0.00000000e+00,\n",
       "        0.00000000e+00,  0.00000000e+00,  0.00000000e+00,  0.00000000e+00,\n",
       "       -0.00000000e+00,  0.00000000e+00, -0.00000000e+00,  0.00000000e+00,\n",
       "        0.00000000e+00, -0.00000000e+00, -0.00000000e+00,  0.00000000e+00,\n",
       "       -0.00000000e+00,  0.00000000e+00,  0.00000000e+00, -0.00000000e+00,\n",
       "       -0.00000000e+00, -0.00000000e+00, -0.00000000e+00,  0.00000000e+00,\n",
       "       -0.00000000e+00, -0.00000000e+00, -0.00000000e+00, -0.00000000e+00,\n",
       "       -0.00000000e+00,  0.00000000e+00,  0.00000000e+00, -0.00000000e+00,\n",
       "       -0.00000000e+00, -0.00000000e+00,  0.00000000e+00,  0.00000000e+00,\n",
       "       -0.00000000e+00,  0.00000000e+00, -0.00000000e+00, -0.00000000e+00,\n",
       "       -0.00000000e+00, -0.00000000e+00,  0.00000000e+00,  0.00000000e+00,\n",
       "       -0.00000000e+00, -0.00000000e+00, -0.00000000e+00,  0.00000000e+00,\n",
       "       -0.00000000e+00, -0.00000000e+00,  0.00000000e+00,  0.00000000e+00,\n",
       "       -0.00000000e+00, -0.00000000e+00,  0.00000000e+00, -0.00000000e+00,\n",
       "       -0.00000000e+00, -0.00000000e+00, -0.00000000e+00, -0.00000000e+00,\n",
       "        0.00000000e+00, -0.00000000e+00, -0.00000000e+00, -0.00000000e+00,\n",
       "       -0.00000000e+00, -0.00000000e+00, -0.00000000e+00, -0.00000000e+00,\n",
       "        0.00000000e+00, -0.00000000e+00,  0.00000000e+00,  0.00000000e+00,\n",
       "       -0.00000000e+00,  0.00000000e+00, -0.00000000e+00,  0.00000000e+00,\n",
       "       -0.00000000e+00,  0.00000000e+00, -0.00000000e+00,  0.00000000e+00,\n",
       "       -0.00000000e+00,  0.00000000e+00,  0.00000000e+00, -0.00000000e+00,\n",
       "       -0.00000000e+00,  0.00000000e+00, -0.00000000e+00,  0.00000000e+00,\n",
       "       -0.00000000e+00,  5.55857138e+01, -0.00000000e+00, -0.00000000e+00,\n",
       "        0.00000000e+00,  0.00000000e+00, -0.00000000e+00,  0.00000000e+00,\n",
       "        0.00000000e+00,  0.00000000e+00,  0.00000000e+00,  0.00000000e+00,\n",
       "       -0.00000000e+00,  0.00000000e+00, -0.00000000e+00, -0.00000000e+00,\n",
       "       -0.00000000e+00, -0.00000000e+00, -0.00000000e+00, -0.00000000e+00,\n",
       "       -0.00000000e+00,  0.00000000e+00, -0.00000000e+00, -0.00000000e+00,\n",
       "        0.00000000e+00, -0.00000000e+00,  0.00000000e+00,  5.64059786e+01,\n",
       "        0.00000000e+00,  0.00000000e+00,  0.00000000e+00, -0.00000000e+00,\n",
       "        0.00000000e+00,  0.00000000e+00, -0.00000000e+00,  6.37055513e+01,\n",
       "        0.00000000e+00,  0.00000000e+00,  0.00000000e+00,  0.00000000e+00,\n",
       "        6.39153426e+01,  0.00000000e+00,  3.36868563e+02,  0.00000000e+00,\n",
       "        0.00000000e+00,  0.00000000e+00,  0.00000000e+00,  0.00000000e+00,\n",
       "        0.00000000e+00,  0.00000000e+00,  0.00000000e+00, -0.00000000e+00,\n",
       "        0.00000000e+00,  0.00000000e+00,  0.00000000e+00,  0.00000000e+00,\n",
       "        0.00000000e+00,  0.00000000e+00,  0.00000000e+00,  0.00000000e+00,\n",
       "        0.00000000e+00,  0.00000000e+00, -0.00000000e+00, -0.00000000e+00,\n",
       "        0.00000000e+00,  1.63507735e+01,  0.00000000e+00,  0.00000000e+00,\n",
       "       -0.00000000e+00, -0.00000000e+00, -0.00000000e+00, -0.00000000e+00,\n",
       "        0.00000000e+00,  0.00000000e+00, -0.00000000e+00, -0.00000000e+00,\n",
       "        0.00000000e+00,  0.00000000e+00,  0.00000000e+00,  0.00000000e+00,\n",
       "        1.05040163e+02, -0.00000000e+00, -0.00000000e+00,  0.00000000e+00,\n",
       "       -0.00000000e+00,  0.00000000e+00, -0.00000000e+00,  0.00000000e+00,\n",
       "       -0.00000000e+00,  0.00000000e+00,  0.00000000e+00, -0.00000000e+00,\n",
       "        0.00000000e+00, -0.00000000e+00,  0.00000000e+00,  0.00000000e+00,\n",
       "        0.00000000e+00,  0.00000000e+00, -0.00000000e+00, -0.00000000e+00,\n",
       "       -0.00000000e+00, -0.00000000e+00, -0.00000000e+00, -0.00000000e+00,\n",
       "        0.00000000e+00, -0.00000000e+00, -0.00000000e+00,  0.00000000e+00,\n",
       "        1.35132798e+01,  0.00000000e+00,  0.00000000e+00,  0.00000000e+00,\n",
       "        0.00000000e+00, -1.27119729e+00, -0.00000000e+00, -6.30300624e-01,\n",
       "        6.82773399e+00, -7.54911402e-01,  3.03800466e+00, -0.00000000e+00,\n",
       "        4.73283624e+00, -0.00000000e+00, -1.16378556e+00, -0.00000000e+00,\n",
       "        1.86858599e+00,  6.29272539e+00,  7.97818088e+00, -0.00000000e+00,\n",
       "        2.13716695e+01, -0.00000000e+00, -0.00000000e+00,  0.00000000e+00,\n",
       "       -0.00000000e+00, -0.00000000e+00, -0.00000000e+00, -0.00000000e+00,\n",
       "        0.00000000e+00,  0.00000000e+00])"
      ]
     },
     "execution_count": 191,
     "metadata": {},
     "output_type": "execute_result"
    }
   ],
   "source": [
    "lassocv.coef_"
   ]
  },
  {
   "cell_type": "code",
   "execution_count": 192,
   "metadata": {
    "ExecuteTime": {
     "end_time": "2019-07-18T23:50:41.069729Z",
     "start_time": "2019-07-18T23:50:40.888380Z"
    }
   },
   "outputs": [
    {
     "data": {
      "text/plain": [
       "0.1791886355824166"
      ]
     },
     "execution_count": 192,
     "metadata": {},
     "output_type": "execute_result"
    }
   ],
   "source": [
    "lassocv.score(X_with_Scaled, y_train)"
   ]
  },
  {
   "cell_type": "code",
   "execution_count": 193,
   "metadata": {
    "ExecuteTime": {
     "end_time": "2019-07-18T23:50:42.272163Z",
     "start_time": "2019-07-18T23:50:42.204916Z"
    }
   },
   "outputs": [
    {
     "data": {
      "text/plain": [
       "0.22633485629860162"
      ]
     },
     "execution_count": 193,
     "metadata": {},
     "output_type": "execute_result"
    }
   ],
   "source": [
    "lassocv.score(X_val_scaled, y_val)"
   ]
  },
  {
   "cell_type": "code",
   "execution_count": 194,
   "metadata": {
    "ExecuteTime": {
     "end_time": "2019-07-18T23:50:47.789754Z",
     "start_time": "2019-07-18T23:50:47.769170Z"
    }
   },
   "outputs": [
    {
     "data": {
      "text/plain": [
       "[('Duration', 0.12218392263553894),\n",
       " ('star_Eric Roberts', -0.0),\n",
       " ('star_James Franco', 0.0),\n",
       " ('star_Danny Trejo', -0.0),\n",
       " ('star_Tom Sizemore', -0.0),\n",
       " ('star_Vivica A. Fox', -0.0),\n",
       " ('star_Nicolas Cage', -0.0),\n",
       " ('star_Mischa Barton', -0.0),\n",
       " ('star_Radhika Apte', -0.0),\n",
       " ('star_Michael Shannon', -0.0),\n",
       " ('star_J.K. Simmons', -0.0),\n",
       " ('star_Candace Cameron Bure', -0.0),\n",
       " ('star_Keanu Reeves', 0.0),\n",
       " ('star_Michael Madsen', -0.0),\n",
       " ('star_Casper Van Dien', -0.0),\n",
       " ('star_Andrew W. Walker', -0.0),\n",
       " ('star_Willem Dafoe', -0.0),\n",
       " ('star_Johnny Depp', 0.0),\n",
       " ('star_Dave Bautista', -0.0),\n",
       " ('star_Danny Glover', 0.0),\n",
       " ('star_Akshay Kumar', -0.0),\n",
       " ('star_Scott Adkins', -0.0),\n",
       " ('star_Dolph Lundgren', -0.0),\n",
       " ('star_Jessica Chastain', 0.0),\n",
       " ('star_Samantha Ruth Prabhu', -0.0),\n",
       " ('star_Michael Fassbender', 1.7826274711847923),\n",
       " ('star_Toni Collette', 0.0),\n",
       " ('star_Anna Kendrick', 35.66793488987336),\n",
       " ('star_Isabelle Huppert', -0.0),\n",
       " ('star_Bruce Willis', -0.0),\n",
       " ('star_Alicia Vikander', 0.0),\n",
       " ('star_Vincent Cassel', -0.0),\n",
       " ('star_Lacey Chabert', 0.0),\n",
       " ('star_Booboo Stewart', -0.0),\n",
       " ('star_Dominique Swain', -0.0),\n",
       " ('star_Elle Fanning', -0.0),\n",
       " ('star_Tye Sheridan', 1.1150899909880123),\n",
       " ('star_Juliette Binoche', -0.0),\n",
       " ('star_Cate Blanchett', 0.0),\n",
       " ('star_Woody Harrelson', -0.0),\n",
       " ('star_Judy Greer', -0.0),\n",
       " ('star_Natalie Portman', 0.0),\n",
       " ('star_Michael Peña', -0.0),\n",
       " ('star_Nicole Kidman', 0.0),\n",
       " ('star_Adam Sandler', 0.0),\n",
       " ('star_Ethan Hawke', -0.0),\n",
       " ('star_Bella Thorne', -0.0),\n",
       " ('star_Maria Bello', -0.0),\n",
       " ('star_Rooney Mara', -0.0),\n",
       " ('star_Rajkummar Rao', -0.0),\n",
       " ('star_Louis Mandylor', 0.0),\n",
       " ('star_Irrfan Khan', -0.0),\n",
       " ('star_Malcolm McDowell', -0.0),\n",
       " ('star_Lance Henriksen', -0.0),\n",
       " ('star_Jonathan Bennett', -0.0),\n",
       " ('star_Christopher Lloyd', -0.0),\n",
       " ('star_Manoj Bajpayee', -0.0),\n",
       " ('star_Marilu Henner', 0.0),\n",
       " ('star_Jagapathi Babu', 0.0),\n",
       " ('star_Cindy Busby', 0.0),\n",
       " ('star_Sean Astin', -0.0),\n",
       " ('star_Tom Hanks', 0.0),\n",
       " ('star_Ryan Reynolds', 0.0),\n",
       " ('star_Chloë Grace Moretz', 0.0),\n",
       " ('star_Steve Carell', 69.60532877866115),\n",
       " ('star_Nicholas Hoult', -0.0),\n",
       " ('star_Mark Wahlberg', 38.461870304446656),\n",
       " ('star_Margot Robbie', 0.0),\n",
       " ('star_Alec Baldwin', 21.122595651844417),\n",
       " ('star_Joey King', 0.0),\n",
       " ('star_Joel Edgerton', 0.0),\n",
       " ('star_Kevin Hart', 38.36153164489302),\n",
       " ('star_Maika Monroe', 0.0),\n",
       " ('star_Riccardo Scamarcio', 0.0),\n",
       " ('star_Dwayne Johnson', 49.541851725026795),\n",
       " ('star_Bryan Cranston', 0.0),\n",
       " ('star_Charlize Theron', 0.0),\n",
       " ('star_Ben Kingsley', -0.0),\n",
       " ('star_Octavia Spencer', 0.0),\n",
       " ('star_Jason Sudeikis', 0.0),\n",
       " ('star_Cameron Mathison', 0.0),\n",
       " ('star_Danica McKellar', -0.0),\n",
       " ('star_Taapsee Pannu', -0.0),\n",
       " ('star_Taylor Cole', -0.0),\n",
       " ('star_Dulquer Salmaan', -0.0),\n",
       " ('star_Bruce Davison', 0.0),\n",
       " ('star_Amitabh Bachchan', -0.0),\n",
       " ('star_Marion Cotillard', -0.0),\n",
       " ('star_Sean Patrick Flanery', -0.0),\n",
       " ('star_Nawazuddin Siddiqui', -0.0),\n",
       " ('star_Prakash Raj', -0.0),\n",
       " ('star_Jessica Morris', 0.0),\n",
       " ('star_Prithviraj Sukumaran', -0.0),\n",
       " ('star_Kate Mara', 0.0),\n",
       " ('star_Emily Blunt', 0.0),\n",
       " ('star_Chris Hemsworth', 0.0),\n",
       " ('star_Patrick Wilson', -0.0),\n",
       " ('star_Dakota Johnson', 52.347293018357014),\n",
       " ('star_Taissa Farmiga', -0.0),\n",
       " ('star_Naomi Watts', 0.0),\n",
       " ('star_Rachel Weisz', -0.0),\n",
       " ('star_Ed Helms', 0.0),\n",
       " ('star_Maya Rudolph', -0.0),\n",
       " ('star_Aaron Paul', -0.0),\n",
       " ('star_John Hannah', 0.0),\n",
       " ('star_Mary Steenburgen', -0.0),\n",
       " ('star_Benedict Cumberbatch', 38.55429450723912),\n",
       " ('star_Elisabeth Moss', -0.0),\n",
       " ('star_Jack Black', 0.0),\n",
       " ('star_Gael García Bernal', -0.0),\n",
       " ('star_Daniel Brühl', 0.0),\n",
       " ('star_Jessica Rothe', -0.0),\n",
       " ('star_Domhnall Gleeson', -0.0),\n",
       " ('star_Theo James', 0.0),\n",
       " ('star_Jim Broadbent', -0.0),\n",
       " ('star_Anushka Sharma', -0.0),\n",
       " ('star_Luke Goss', -0.0),\n",
       " ('star_Guillaume Canet', -0.0),\n",
       " ('star_Kristen Stewart', -0.0),\n",
       " ('star_Frank Grillo', 0.0),\n",
       " ('star_Dhanush', -0.0),\n",
       " ('star_Bérénice Bejo', -0.0),\n",
       " ('star_Louis Garrel', -0.0),\n",
       " ('star_James Caan', -0.0),\n",
       " ('star_Golshifteh Farahani', -0.0),\n",
       " ('star_Rosario Dawson', -0.0),\n",
       " ('star_Brennan Elliott', 0.0),\n",
       " ('star_Lauren Holly', -0.0),\n",
       " ('star_Christopher Russell', -0.0),\n",
       " ('star_Denise Richards', -0.0),\n",
       " ('star_Romain Duris', -0.0),\n",
       " ('star_Steven Seagal', -0.0),\n",
       " ('star_Olivier Gourmet', 0.0),\n",
       " ('star_Dove Cameron', -0.0),\n",
       " ('star_Niall Matter', 0.0),\n",
       " ('star_Jacqueline Fernandez', -0.0),\n",
       " ('star_Jason London', -0.0),\n",
       " ('star_Jessica Lowndes', -0.0),\n",
       " ('star_Alexa PenaVega', -0.0),\n",
       " ('star_Corbin Bernsen', -0.0),\n",
       " ('star_Patrick Muldoon', 0.0),\n",
       " ('star_Yan-Kay Crystal Lowe', 0.0),\n",
       " ('star_Grey Griffin', 0.0),\n",
       " ('star_Troy Baker', -0.0),\n",
       " ('star_Jimmy Sheirgill', -0.0),\n",
       " ('star_Nassar', 0.0),\n",
       " ('star_Dina Meyer', -0.0),\n",
       " ('star_Kristen Wiig', 0.0),\n",
       " ('star_Brie Larson', -0.0),\n",
       " ('star_Antonio Banderas', -0.0),\n",
       " ('star_Lochlyn Munro', 0.0),\n",
       " ('star_Sunny Leone', -0.0),\n",
       " ('star_Gabriel Byrne', -0.0),\n",
       " ('star_Armie Hammer', 0.0),\n",
       " ('star_Ben Mendelsohn', -0.0),\n",
       " ('star_John C. Reilly', 30.82656674335127),\n",
       " ('star_Riley Keough', 0.0),\n",
       " ('star_LaKeith Stanfield', -0.0),\n",
       " ('star_Emile Hirsch', -0.0),\n",
       " ('star_Robert Pattinson', -0.0),\n",
       " ('star_Jacob Tremblay', 0.0),\n",
       " ('star_Robert Redford', 0.0),\n",
       " ('star_Alexander Skarsgård', -0.0),\n",
       " ('star_Jason Clarke', -0.0),\n",
       " ('star_Paul Rudd', 20.15412292607017),\n",
       " ('star_Jake Gyllenhaal', 0.0),\n",
       " ('star_Morgan Freeman', -0.0),\n",
       " ('star_Michael Jai White', -0.0),\n",
       " ('star_Matthias Schoenaerts', -0.0),\n",
       " ('star_Jesse Metcalfe', -0.0),\n",
       " ('star_Gary Oldman', 0.0),\n",
       " ('star_Regina Hall', -0.0),\n",
       " ('star_Mickey Rourke', -0.0),\n",
       " ('star_Dan Stevens', -0.0),\n",
       " ('star_Thomas Middleditch', -0.0),\n",
       " ('star_Alexandra Daddario', -0.0),\n",
       " ('star_Stacy Martin', 0.0),\n",
       " ('star_Ralph Fiennes', -0.0),\n",
       " ('star_Ewan McGregor', -0.0),\n",
       " ('star_Matthew McConaughey', 36.906849918623784),\n",
       " ('star_Bel Powley', -0.0),\n",
       " ('star_Michiel Huisman', -0.0),\n",
       " ('star_Noomi Rapace', -0.0),\n",
       " ('star_Jennifer Garner', 0.0),\n",
       " ('star_Bradley Whitford', 0.0),\n",
       " ('star_Emory Cohen', -0.0),\n",
       " ('star_Olga Kurylenko', -0.0),\n",
       " ('star_Laura Dern', -0.0),\n",
       " ('star_Ben Foster', -0.0),\n",
       " ('star_Zoey Deutch', 0.0),\n",
       " ('star_Dermot Mulroney', 0.0),\n",
       " ('star_Shraddha Kapoor', -0.0),\n",
       " ('star_Pankaj Tripathi', -0.0),\n",
       " ('star_Christina Hendricks', 0.0),\n",
       " ('star_Bailee Madison', -0.0),\n",
       " ('star_Mira Sorvino', 0.0),\n",
       " ('star_Emily Watson', -0.0),\n",
       " ('star_Jill Wagner', 0.0),\n",
       " ('star_Stephen Lang', -0.0),\n",
       " ('star_Vincent Lacoste', -0.0),\n",
       " ('star_Jen Lilley', -0.0),\n",
       " ('star_Mathieu Amalric', -0.0),\n",
       " ('star_Peter Dinklage', 0.0),\n",
       " ('star_Adil Hussain', -0.0),\n",
       " ('star_Timothy Spall', 0.0),\n",
       " ('star_Abbie Cornish', -0.0),\n",
       " ('star_Tony Todd', -0.0),\n",
       " ('star_Lisa Durupt', 0.0),\n",
       " ('star_Varun Dhawan', -0.0),\n",
       " ('star_Randy Wayne', 0.0),\n",
       " ('star_Donnie Yen', -0.0),\n",
       " ('star_Virginie Efira', -0.0),\n",
       " ('star_Michael Ironside', -0.0),\n",
       " ('star_Dean Cain', -0.0),\n",
       " ('star_Dong-seok Ma', -0.0),\n",
       " ('star_Adrian Grenier', -0.0),\n",
       " ('star_William McNamara', 0.0),\n",
       " ('star_Lexa Doig', 0.0),\n",
       " ('star_Peter Benson', 0.0),\n",
       " ('star_Lambert Wilson', 0.0),\n",
       " ('star_Matthew Lillard', 0.0),\n",
       " ('star_Steve Bacic', 0.0),\n",
       " ('star_Lee Bane', -0.0),\n",
       " ('star_Fahadh Faasil', -0.0),\n",
       " ('star_Kajal Aggarwal', -0.0),\n",
       " ('star_Nithya Menon', 0.0),\n",
       " ('star_Jeremy Irons', -0.0),\n",
       " ('star_Anna Hutchison', -0.0),\n",
       " ('star_Emily Tennant', 0.0),\n",
       " ('star_Eric Mabius', -0.0),\n",
       " ('star_Zoe Saldana', 0.0),\n",
       " ('star_Lexi Giovagnoli', -0.0),\n",
       " ('star_Imogen Poots', -0.0),\n",
       " ('star_Geoff Gustafson', 0.0),\n",
       " ('star_Paul Sorvino', 0.0),\n",
       " ('star_Mindy Robinson', 0.0),\n",
       " ('star_Frank Welker', -0.0),\n",
       " ('star_Kate Micucci', 0.0),\n",
       " ('star_Vernon Wells', -0.0),\n",
       " ('star_Michael Eklund', 0.0),\n",
       " ('star_Barbara Crampton', 0.0),\n",
       " ('star_Idris Elba', 0.0),\n",
       " ('star_Doug Jones', -0.0),\n",
       " ('star_Samuel L. Jackson', 0.0),\n",
       " ('star_Owen Wilson', 21.39231514927957),\n",
       " ('star_Jackie Chan', -0.0),\n",
       " ('star_Thomas Jane', -0.0),\n",
       " ('star_Robert De Niro', 0.0),\n",
       " ('star_Louisa Krause', 0.0),\n",
       " ('star_Paul Greene', 0.0),\n",
       " ('star_Alison Sweeney', 0.0),\n",
       " ('star_Hailee Steinfeld', 8.770394169078768),\n",
       " ('star_Mahershala Ali', 0.0),\n",
       " ('star_Michelle Williams', -0.0),\n",
       " ('star_Jon Hamm', 0.0),\n",
       " ('star_Amanda Crew', -0.0),\n",
       " ('star_Jason Statham', 0.0),\n",
       " ('star_Clive Owen', -0.0),\n",
       " ('star_Katherine Waterston', -0.0),\n",
       " ('star_Sam Rockwell', 0.0),\n",
       " ('star_Tessa Thompson', 0.0),\n",
       " ('star_Lily James', 4.852810373478753),\n",
       " ('star_Jesse Eisenberg', 0.0),\n",
       " ('star_Ryan Gosling', 0.0),\n",
       " ('star_Jennifer Jason Leigh', 0.0),\n",
       " ('star_Michael Sheen', 0.0),\n",
       " ('star_Asa Butterfield', -0.0),\n",
       " ('star_Robert Sheehan', 0.0),\n",
       " ('star_Joaquin Phoenix', -0.0),\n",
       " ('star_Jennifer Lawrence', 68.93943223889217),\n",
       " ('star_Charlotte Rampling', 0.0),\n",
       " ('star_Gerard Butler', 0.0),\n",
       " ('star_Toby Kebbell', -0.0),\n",
       " ('star_Common', 0.0),\n",
       " ('star_Melissa McCarthy', 0.0),\n",
       " ('star_Rachel McAdams', 0.0),\n",
       " ('star_Andrea Riseborough', -0.0),\n",
       " ('star_Jamie Dornan', -0.0),\n",
       " ('star_Jennifer Ehle', 0.0),\n",
       " ('star_Judi Dench', 0.0),\n",
       " ('star_Will Ferrell', 26.478367806298472),\n",
       " ('star_Rebecca Hall', 0.0),\n",
       " ('star_Chris Pine', 15.144850707383316),\n",
       " ('star_Andy Samberg', 0.0),\n",
       " ('star_Selena Gomez', 0.0),\n",
       " (\"star_Vincent D'Onofrio\", 0.0),\n",
       " ('star_Steve Coogan', 0.0),\n",
       " ('star_Odeya Rush', 0.0),\n",
       " ('star_Mark Strong', 0.0),\n",
       " ('star_Josh Duhamel', -0.0),\n",
       " ('star_Gugu Mbatha-Raw', -0.0),\n",
       " ('star_Vera Farmiga', 0.0),\n",
       " ('star_Oscar Isaac', 0.0),\n",
       " ('star_Javier Gutiérrez', -0.0),\n",
       " ('star_Emma Roberts', -0.0),\n",
       " ('star_Scott Eastwood', 0.0),\n",
       " ('star_Gemma Arterton', -0.0),\n",
       " ('star_David Oyelowo', -0.0),\n",
       " ('star_Mélanie Laurent', 0.0),\n",
       " ('star_Juno Temple', -0.0),\n",
       " ('star_Penelope Mitchell', -0.0),\n",
       " ('star_Tadanobu Asano', -0.0),\n",
       " ('star_William Fichtner', -0.0),\n",
       " ('star_Lola Kirke', 0.0),\n",
       " ('star_Gillian Jacobs', 0.0),\n",
       " ('star_Ed Skrein', 0.0),\n",
       " ('star_Tim Roth', 0.0),\n",
       " ('star_Katrina Kaif', 0.0),\n",
       " ('star_Christopher Abbott', -0.0),\n",
       " ('star_Laia Costa', 0.0),\n",
       " ('star_Haley Lu Richardson', -0.0),\n",
       " ('star_Pierce Brosnan', 0.0),\n",
       " ('star_Diane Kruger', 0.0),\n",
       " ('star_Luke Wilson', -0.0),\n",
       " ('star_Bill Oberst Jr.', -0.0),\n",
       " ('star_Alba Rohrwacher', 0.0),\n",
       " ('star_Kristen Bell', -0.0),\n",
       " ('star_Tara Reid', 0.0),\n",
       " (\"star_Jerry O'Connell\", 0.0),\n",
       " ('star_Matt Bomer', -0.0),\n",
       " ('star_Missi Pyle', -0.0),\n",
       " ('star_Kathryn Hahn', -0.0),\n",
       " ('star_John Cusack', -0.0),\n",
       " ('star_Romeo Miller', 0.0),\n",
       " ('star_Sean Faris', -0.0),\n",
       " ('star_Amy Smart', -0.0),\n",
       " ('star_Vicky Kaushal', -0.0),\n",
       " ('star_Billy Zane', -0.0),\n",
       " ('star_Mario Casas', -0.0),\n",
       " ('star_Thomas Mann', 0.0),\n",
       " ('star_Nick Offerman', 0.0),\n",
       " ('star_Ryan Merriman', -0.0),\n",
       " ('star_Daniel Radcliffe', -0.0),\n",
       " ('star_Erin Cahill', -0.0),\n",
       " ('star_Tom Berenger', 0.0),\n",
       " ('star_Luis Guzmán', 0.0),\n",
       " ('star_Jonathan Rhys Meyers', -0.0),\n",
       " ('star_Vijay Raaz', 0.0),\n",
       " ('star_Jung-min Hwang', -0.0),\n",
       " ('star_Vijay Deverakonda', -0.0),\n",
       " ('star_Lars Eidinger', -0.0),\n",
       " ('star_C. Thomas Howell', -0.0),\n",
       " ('star_Alfred Molina', 0.0),\n",
       " ('star_Adam Johnson', 0.0),\n",
       " ('star_Stephen Dorff', -0.0),\n",
       " ('star_John Abraham', -0.0),\n",
       " ('star_Jung-woo Ha', -0.0),\n",
       " ('star_John Leguizamo', 0.0),\n",
       " ('star_Luis Tosar', -0.0),\n",
       " ('star_Virginia Madsen', -0.0),\n",
       " ('star_Dave Franco', 0.0),\n",
       " ('star_Justin Chatwin', 0.0),\n",
       " ('star_Dani Rovira', -0.0),\n",
       " ('star_Maribel Verdú', -0.0),\n",
       " ('star_Anna Van Hooft', 0.0),\n",
       " ('star_Gilles Lellouche', -0.0),\n",
       " ('star_Mamoru Miyano', -0.0),\n",
       " ('star_Takahiro Sakurai', -0.0),\n",
       " ('star_Melissa Leo', -0.0),\n",
       " ('star_Sarah Butler', -0.0),\n",
       " ('star_Rakul Preet Singh', 0.0),\n",
       " ('star_Michael Paré', -0.0),\n",
       " ('star_Diljit Dosanjh', -0.0),\n",
       " ('star_Anaïs Demoustier', -0.0),\n",
       " ('star_Xavier Samuel', -0.0),\n",
       " ('star_Brooke Nevin', -0.0),\n",
       " ('star_Victor Webster', -0.0),\n",
       " ('star_Lindsay Hartley', -0.0),\n",
       " ('star_Min-hee Kim', 0.0),\n",
       " ('star_Kris Wu', -0.0),\n",
       " ('star_Yannick Bisson', 0.0),\n",
       " ('star_Kristin Booth', 0.0),\n",
       " ('star_Byung-Hun Lee', -0.0),\n",
       " ('star_Jon Heder', 0.0),\n",
       " (\"star_Jim O'Heir\", -0.0),\n",
       " ('star_Brittany Underwood', 0.0),\n",
       " ('star_Sara Malakul Lane', -0.0),\n",
       " ('star_Michael Smiley', 0.0),\n",
       " ('star_Nana Komatsu', -0.0),\n",
       " ('star_Alison Brie', 0.0),\n",
       " ('star_Sonakshi Sinha', -0.0),\n",
       " ('star_Dane DeHaan', 0.0),\n",
       " ('star_George Clooney', 0.0),\n",
       " ('star_Rebecca Ferguson', -0.0),\n",
       " ('star_Louis Koo', -0.0),\n",
       " ('star_Zac Efron', 0.0),\n",
       " ('star_Jon Bernthal', -0.0),\n",
       " ('star_Josh Gad', 0.0),\n",
       " ('star_Sofia Carson', -0.0),\n",
       " ('star_Matt Damon', 55.58571376247353),\n",
       " ('star_Patrick Stewart', -0.0),\n",
       " ('star_Anthony Hopkins', -0.0),\n",
       " ('star_Billy Crudup', 0.0),\n",
       " ('star_Anya Taylor-Joy', 0.0),\n",
       " ('star_Anton Yelchin', -0.0),\n",
       " ('star_Miles Teller', 0.0),\n",
       " ('star_Seth Rogen', 0.0),\n",
       " ('star_Glenn Close', 0.0),\n",
       " ('star_Teresa Palmer', 0.0),\n",
       " ('star_Adam Scott', 0.0),\n",
       " ('star_Kate Winslet', -0.0),\n",
       " ('star_Elisabeth Röhm', 0.0),\n",
       " ('star_Andy Lau', -0.0),\n",
       " ('star_Zachary Quinto', -0.0),\n",
       " ('star_Naseeruddin Shah', -0.0),\n",
       " ('star_Vinnie Jones', -0.0),\n",
       " ('star_Ella Ballentine', -0.0),\n",
       " ('star_Alex Wolff', -0.0),\n",
       " ('star_Emily Mortimer', -0.0),\n",
       " ('star_Mark Ruffalo', 0.0),\n",
       " ('star_Noah Centineo', -0.0),\n",
       " ('star_Jason Momoa', -0.0),\n",
       " ('star_Dev Patel', 0.0),\n",
       " ('star_Anupam Kher', -0.0),\n",
       " ('star_Taron Egerton', 0.0),\n",
       " ('star_Tom Hardy', 56.40597856602702),\n",
       " ('star_Josh Brolin', 0.0),\n",
       " ('star_Sarah Silverman', 0.0),\n",
       " ('star_Gal Gadot', 0.0),\n",
       " ('star_Michael B. Jordan', -0.0),\n",
       " ('star_Andrew Garfield', 0.0),\n",
       " ('star_Rosemarie DeWitt', 0.0),\n",
       " ('star_Adam Driver', -0.0),\n",
       " ('star_Tom Cruise', 63.70555128319109),\n",
       " ('star_Simon Pegg', 0.0),\n",
       " ('star_Rainn Wilson', 0.0),\n",
       " ('star_Tom Felton', 0.0),\n",
       " ('star_Sofia Boutella', 0.0),\n",
       " ('star_Eddie Redmayne', 63.91534263573595),\n",
       " ('star_John Krasinski', 0.0),\n",
       " ('star_Chris Pratt', 336.868563493309),\n",
       " ('star_Emma Stone', 0.0),\n",
       " ('star_John Malkovich', 0.0),\n",
       " ('star_Amanda Seyfried', 0.0),\n",
       " ('star_Meryl Streep', 0.0),\n",
       " ('star_Boyd Holbrook', 0.0),\n",
       " ('star_Rose Byrne', 0.0),\n",
       " ('star_Walton Goggins', 0.0),\n",
       " ('star_Helen Mirren', 0.0),\n",
       " ('star_Pilou Asbæk', -0.0),\n",
       " ('star_Viola Davis', 0.0),\n",
       " ('star_Michelle Rodriguez', 0.0),\n",
       " ('star_Pablo Schreiber', 0.0),\n",
       " ('star_Sebastian Stan', 0.0),\n",
       " ('star_Anthony Mackie', 0.0),\n",
       " ('star_Saoirse Ronan', 0.0),\n",
       " ('star_Sam Claflin', 0.0),\n",
       " ('star_Felicity Jones', 0.0),\n",
       " ('star_Steve Buscemi', 0.0),\n",
       " ('star_Alice Lowe', 0.0),\n",
       " ('star_Alice Eve', -0.0),\n",
       " ('star_Jane Fonda', -0.0),\n",
       " ('star_Nathan Fillion', 0.0),\n",
       " ('star_Channing Tatum', 16.350773475250413),\n",
       " ('star_Zendaya', 0.0),\n",
       " ('star_Reese Witherspoon', 0.0),\n",
       " ('star_Lou Diamond Phillips', -0.0),\n",
       " ('star_Penélope Cruz', -0.0),\n",
       " ('star_Javier Bardem', -0.0),\n",
       " ('star_Ricardo Darín', -0.0),\n",
       " ('star_Kevin James', 0.0),\n",
       " ('star_Ciarán Hinds', 0.0),\n",
       " ('star_Carla Gugino', -0.0),\n",
       " ('star_Julianne Moore', -0.0),\n",
       " ('star_Michael Cera', 0.0),\n",
       " ('star_Bobby Campo', 0.0),\n",
       " ('star_Annalise Basso', 0.0),\n",
       " ('star_Jessica Brown Findlay', 0.0),\n",
       " ('star_Hugh Jackman', 105.04016348321359),\n",
       " ('star_Russell Crowe', -0.0),\n",
       " ('star_Ayushmann Khurrana', -0.0),\n",
       " ('star_Olivia Wilde', 0.0),\n",
       " ('star_Suki Waterhouse', -0.0),\n",
       " ('star_Louis Hofmann', 0.0),\n",
       " ('star_Mackenzie Davis', -0.0),\n",
       " ('star_Jeffrey Wright', 0.0),\n",
       " ('star_Jason Isaacs', -0.0),\n",
       " ('star_Christopher McDonald', 0.0),\n",
       " ('star_Tom Wilkinson', 0.0),\n",
       " ('star_Ryan Kwanten', -0.0),\n",
       " ('star_Johnny Knoxville', 0.0),\n",
       " ('star_Adam Pally', -0.0),\n",
       " ('star_India Eisley', 0.0),\n",
       " ('star_Sienna Miller', 0.0),\n",
       " ('star_Arnold Schwarzenegger', 0.0),\n",
       " ('star_Chiwetel Ejiofor', 0.0),\n",
       " ('star_Joely Richardson', -0.0),\n",
       " ('star_Toni Servillo', -0.0),\n",
       " ('star_Jean-Claude Van Damme', -0.0),\n",
       " ('star_Colm Feore', -0.0),\n",
       " ('star_Benoît Poelvoorde', -0.0),\n",
       " ('star_Stanley Tucci', -0.0),\n",
       " ('star_Kristoffer Polaha', 0.0),\n",
       " ('star_Kate Bosworth', -0.0),\n",
       " ('star_Cassandra Scerbo', -0.0),\n",
       " ('star_Amy Jackson', 0.0),\n",
       " ('star_Tom Hiddleston', 13.513279807762196),\n",
       " ('star_Robert Forster', 0.0),\n",
       " ('star_Luke Evans', 0.0),\n",
       " ('star_James Cosmo', 0.0),\n",
       " ('star_Luke Hemsworth', 0.0),\n",
       " ('genre_Drama', -1.2711972897221469),\n",
       " ('genre_Comedy', -0.0),\n",
       " ('genre_Thriller', -0.6303006237981948),\n",
       " ('genre_Action', 6.827733993333649),\n",
       " ('genre_Romance', -0.7549114021461656),\n",
       " ('genre_Horror', 3.0380046628541395),\n",
       " ('genre_Crime', -0.0),\n",
       " ('genre_Adventure', 4.732836242778808),\n",
       " ('genre_Mystery', -0.0),\n",
       " ('genre_Documentary', -1.1637855561924932),\n",
       " ('genre_Sci-Fi', -0.0),\n",
       " ('genre_Biography', 1.8685859927973596),\n",
       " ('genre_Family', 6.292725386476951),\n",
       " ('genre_Short', 7.978180883726004),\n",
       " ('genre_Fantasy', -0.0),\n",
       " ('genre_Animation', 21.371669525851786),\n",
       " ('genre_Music', -0.0),\n",
       " ('genre_History', -0.0),\n",
       " ('genre_Sport', 0.0),\n",
       " ('genre_War', -0.0),\n",
       " ('genre_Musical', -0.0),\n",
       " ('genre_Western', -0.0),\n",
       " ('genre_News', -0.0),\n",
       " ('genre_Reality-TV', 0.0),\n",
       " ('genre_Game-Show', 0.0)]"
      ]
     },
     "execution_count": 194,
     "metadata": {},
     "output_type": "execute_result"
    }
   ],
   "source": [
    "list(zip(X_with_Scaled.columns, lassocv.coef_))"
   ]
  },
  {
   "cell_type": "markdown",
   "metadata": {},
   "source": [
    "## Ridge: Sophie's test"
   ]
  },
  {
   "cell_type": "code",
   "execution_count": 239,
   "metadata": {
    "ExecuteTime": {
     "end_time": "2019-07-19T00:05:35.233365Z",
     "start_time": "2019-07-18T23:56:12.601939Z"
    }
   },
   "outputs": [
    {
     "data": {
      "text/plain": [
       "0.19925766749938956"
      ]
     },
     "execution_count": 239,
     "metadata": {},
     "output_type": "execute_result"
    }
   ],
   "source": [
    "##### Sophie was curious about ridge ######\n",
    "\n",
    "\n",
    "\n",
    "ridgecv = linear_model.RidgeCV(cv=10, alphas=np.logspace(-4,2,200))\n",
    "ridgecv.fit(X_with_Scaled, y_train)\n",
    "\n",
    "\n",
    "\n",
    "ridgecv.score(X_val_scaled, y_val)"
   ]
  },
  {
   "cell_type": "code",
   "execution_count": 120,
   "metadata": {
    "ExecuteTime": {
     "end_time": "2019-07-18T22:45:10.005932Z",
     "start_time": "2019-07-18T22:45:10.000441Z"
    }
   },
   "outputs": [
    {
     "name": "stdout",
     "output_type": "stream",
     "text": [
      "(605, 524) (605,)\n"
     ]
    }
   ],
   "source": [
    "print(X_test_scaled.shape, y_test.shape)"
   ]
  },
  {
   "cell_type": "code",
   "execution_count": 78,
   "metadata": {
    "ExecuteTime": {
     "end_time": "2019-07-18T22:38:09.823577Z",
     "start_time": "2019-07-18T22:38:09.820688Z"
    },
    "scrolled": true
   },
   "outputs": [],
   "source": [
    "#plt.scatter(X_test_scaled, (X_test_scaled-y_test),  color='black')"
   ]
  },
  {
   "cell_type": "code",
   "execution_count": 79,
   "metadata": {
    "ExecuteTime": {
     "end_time": "2019-07-18T22:38:10.639741Z",
     "start_time": "2019-07-18T22:38:10.632282Z"
    },
    "scrolled": false
   },
   "outputs": [
    {
     "data": {
      "text/plain": [
       "[('Duration', 0.24125533310049546),\n",
       " ('star_Anna Kendrick', 12.929593384596217),\n",
       " ('star_Dwayne Johnson', 8.935443041932144),\n",
       " ('star_Emily Blunt', 3.607750062779442),\n",
       " ('star_Ryan Reynolds', 12.741014095483495),\n",
       " ('star_Benedict Cumberbatch', 13.789170484907867),\n",
       " ('star_Will Ferrell', 4.818838235539525),\n",
       " ('star_Gal Gadot', 31.93799076896641),\n",
       " ('star_Chris Pratt', 294.09899643950683),\n",
       " ('star_Jennifer Lawrence', 17.315386448760275),\n",
       " ('star_Hugh Jackman', 5.3668861677253705),\n",
       " ('star_Eddie Redmayne', 11.27883497181107),\n",
       " ('star_Vin Diesel', 50.84949401846672),\n",
       " ('star_Matt Damon', 6.975455784814612),\n",
       " ('star_Robert Downey Jr.', 369.4075259668577),\n",
       " ('star_Chris Evans', 32.676986587109724),\n",
       " ('star_Chadwick Boseman', 167.37454485348093),\n",
       " ('genre_Drama', -6.8642900920828565),\n",
       " ('genre_Action', 14.490584329945134),\n",
       " ('genre_Crime', -2.032622049088745),\n",
       " ('genre_Adventure', 3.3984228185912975),\n",
       " ('genre_Animation', 54.816385604914466),\n",
       " ('genre_Family', 15.23247330489666),\n",
       " ('genre_Documentary', -2.7181203564201164)]"
      ]
     },
     "execution_count": 79,
     "metadata": {},
     "output_type": "execute_result"
    }
   ],
   "source": [
    "[x for x in list(zip(X_with_Scaled.columns, lassocv.coef_)) if abs(x[1]) != 0]"
   ]
  },
  {
   "cell_type": "code",
   "execution_count": 80,
   "metadata": {
    "ExecuteTime": {
     "end_time": "2019-07-18T22:38:20.248649Z",
     "start_time": "2019-07-18T22:38:20.243929Z"
    }
   },
   "outputs": [],
   "source": [
    "# predictors = X_test_scaled.columns\n",
    "\n",
    "# coef = Series(lassocv.coef_,predictors).sort_values()\n",
    "\n",
    "# coef.plot(kind='bar', title='Modal Coefficients')"
   ]
  },
  {
   "cell_type": "markdown",
   "metadata": {},
   "source": [
    "# Model 2: 78 Million and up"
   ]
  },
  {
   "cell_type": "markdown",
   "metadata": {},
   "source": [
    "### Linear Regression \n"
   ]
  },
  {
   "cell_type": "code",
   "execution_count": 195,
   "metadata": {
    "ExecuteTime": {
     "end_time": "2019-07-18T23:51:00.334856Z",
     "start_time": "2019-07-18T23:51:00.303833Z"
    }
   },
   "outputs": [
    {
     "name": "stdout",
     "output_type": "stream",
     "text": [
      "(154, 477)\n"
     ]
    },
    {
     "data": {
      "text/html": [
       "<div>\n",
       "<style scoped>\n",
       "    .dataframe tbody tr th:only-of-type {\n",
       "        vertical-align: middle;\n",
       "    }\n",
       "\n",
       "    .dataframe tbody tr th {\n",
       "        vertical-align: top;\n",
       "    }\n",
       "\n",
       "    .dataframe thead th {\n",
       "        text-align: right;\n",
       "    }\n",
       "</style>\n",
       "<table border=\"1\" class=\"dataframe\">\n",
       "  <thead>\n",
       "    <tr style=\"text-align: right;\">\n",
       "      <th></th>\n",
       "      <th>Duration</th>\n",
       "      <th>Gross</th>\n",
       "      <th>star_Dwayne Johnson</th>\n",
       "      <th>star_Kevin Hart</th>\n",
       "      <th>star_Chris Pratt</th>\n",
       "      <th>star_Robert Downey Jr.</th>\n",
       "      <th>star_Tom Hardy</th>\n",
       "      <th>star_Jason Statham</th>\n",
       "      <th>star_Mark Wahlberg</th>\n",
       "      <th>star_Kristen Wiig</th>\n",
       "      <th>...</th>\n",
       "      <th>genre_Crime</th>\n",
       "      <th>genre_Horror</th>\n",
       "      <th>genre_Biography</th>\n",
       "      <th>genre_Romance</th>\n",
       "      <th>genre_Mystery</th>\n",
       "      <th>genre_Music</th>\n",
       "      <th>genre_History</th>\n",
       "      <th>genre_Musical</th>\n",
       "      <th>genre_Sport</th>\n",
       "      <th>genre_Western</th>\n",
       "    </tr>\n",
       "  </thead>\n",
       "  <tbody>\n",
       "    <tr>\n",
       "      <th>0</th>\n",
       "      <td>134.0</td>\n",
       "      <td>216.43</td>\n",
       "      <td>False</td>\n",
       "      <td>False</td>\n",
       "      <td>False</td>\n",
       "      <td>False</td>\n",
       "      <td>False</td>\n",
       "      <td>False</td>\n",
       "      <td>False</td>\n",
       "      <td>False</td>\n",
       "      <td>...</td>\n",
       "      <td>False</td>\n",
       "      <td>False</td>\n",
       "      <td>True</td>\n",
       "      <td>False</td>\n",
       "      <td>False</td>\n",
       "      <td>False</td>\n",
       "      <td>False</td>\n",
       "      <td>False</td>\n",
       "      <td>False</td>\n",
       "      <td>False</td>\n",
       "    </tr>\n",
       "    <tr>\n",
       "      <th>1</th>\n",
       "      <td>117.0</td>\n",
       "      <td>190.24</td>\n",
       "      <td>False</td>\n",
       "      <td>False</td>\n",
       "      <td>False</td>\n",
       "      <td>False</td>\n",
       "      <td>False</td>\n",
       "      <td>False</td>\n",
       "      <td>False</td>\n",
       "      <td>False</td>\n",
       "      <td>...</td>\n",
       "      <td>False</td>\n",
       "      <td>False</td>\n",
       "      <td>False</td>\n",
       "      <td>False</td>\n",
       "      <td>False</td>\n",
       "      <td>False</td>\n",
       "      <td>False</td>\n",
       "      <td>False</td>\n",
       "      <td>False</td>\n",
       "      <td>False</td>\n",
       "    </tr>\n",
       "    <tr>\n",
       "      <th>5</th>\n",
       "      <td>130.0</td>\n",
       "      <td>171.96</td>\n",
       "      <td>False</td>\n",
       "      <td>False</td>\n",
       "      <td>False</td>\n",
       "      <td>False</td>\n",
       "      <td>False</td>\n",
       "      <td>False</td>\n",
       "      <td>False</td>\n",
       "      <td>False</td>\n",
       "      <td>...</td>\n",
       "      <td>False</td>\n",
       "      <td>False</td>\n",
       "      <td>False</td>\n",
       "      <td>False</td>\n",
       "      <td>False</td>\n",
       "      <td>False</td>\n",
       "      <td>False</td>\n",
       "      <td>False</td>\n",
       "      <td>False</td>\n",
       "      <td>False</td>\n",
       "    </tr>\n",
       "    <tr>\n",
       "      <th>6</th>\n",
       "      <td>136.0</td>\n",
       "      <td>215.29</td>\n",
       "      <td>False</td>\n",
       "      <td>False</td>\n",
       "      <td>False</td>\n",
       "      <td>False</td>\n",
       "      <td>False</td>\n",
       "      <td>False</td>\n",
       "      <td>False</td>\n",
       "      <td>False</td>\n",
       "      <td>...</td>\n",
       "      <td>False</td>\n",
       "      <td>False</td>\n",
       "      <td>False</td>\n",
       "      <td>False</td>\n",
       "      <td>False</td>\n",
       "      <td>False</td>\n",
       "      <td>False</td>\n",
       "      <td>False</td>\n",
       "      <td>False</td>\n",
       "      <td>False</td>\n",
       "    </tr>\n",
       "    <tr>\n",
       "      <th>7</th>\n",
       "      <td>149.0</td>\n",
       "      <td>678.82</td>\n",
       "      <td>False</td>\n",
       "      <td>False</td>\n",
       "      <td>False</td>\n",
       "      <td>True</td>\n",
       "      <td>False</td>\n",
       "      <td>False</td>\n",
       "      <td>False</td>\n",
       "      <td>False</td>\n",
       "      <td>...</td>\n",
       "      <td>False</td>\n",
       "      <td>False</td>\n",
       "      <td>False</td>\n",
       "      <td>False</td>\n",
       "      <td>False</td>\n",
       "      <td>False</td>\n",
       "      <td>False</td>\n",
       "      <td>False</td>\n",
       "      <td>False</td>\n",
       "      <td>False</td>\n",
       "    </tr>\n",
       "  </tbody>\n",
       "</table>\n",
       "<p>5 rows × 478 columns</p>\n",
       "</div>"
      ],
      "text/plain": [
       "   Duration   Gross  star_Dwayne Johnson  star_Kevin Hart  star_Chris Pratt  \\\n",
       "0     134.0  216.43                False            False             False   \n",
       "1     117.0  190.24                False            False             False   \n",
       "5     130.0  171.96                False            False             False   \n",
       "6     136.0  215.29                False            False             False   \n",
       "7     149.0  678.82                False            False             False   \n",
       "\n",
       "   star_Robert Downey Jr.  star_Tom Hardy  star_Jason Statham  \\\n",
       "0                   False           False               False   \n",
       "1                   False           False               False   \n",
       "5                   False           False               False   \n",
       "6                   False           False               False   \n",
       "7                    True           False               False   \n",
       "\n",
       "   star_Mark Wahlberg  star_Kristen Wiig      ...        genre_Crime  \\\n",
       "0               False              False      ...              False   \n",
       "1               False              False      ...              False   \n",
       "5               False              False      ...              False   \n",
       "6               False              False      ...              False   \n",
       "7               False              False      ...              False   \n",
       "\n",
       "   genre_Horror  genre_Biography  genre_Romance  genre_Mystery  genre_Music  \\\n",
       "0         False             True          False          False        False   \n",
       "1         False            False          False          False        False   \n",
       "5         False            False          False          False        False   \n",
       "6         False            False          False          False        False   \n",
       "7         False            False          False          False        False   \n",
       "\n",
       "   genre_History  genre_Musical  genre_Sport  genre_Western  \n",
       "0          False          False        False          False  \n",
       "1          False          False        False          False  \n",
       "5          False          False        False          False  \n",
       "6          False          False        False          False  \n",
       "7          False          False        False          False  \n",
       "\n",
       "[5 rows x 478 columns]"
      ]
     },
     "execution_count": 195,
     "metadata": {},
     "output_type": "execute_result"
    }
   ],
   "source": [
    "X_origin_78, y_origin_78 = data_model_78.drop('Gross',axis = 1), data_model_78['Gross']\n",
    "X_origin_78.reset_index()\n",
    "print(X_origin_78.shape)\n",
    "data_model_78.head()"
   ]
  },
  {
   "cell_type": "code",
   "execution_count": 196,
   "metadata": {
    "ExecuteTime": {
     "end_time": "2019-07-18T23:51:01.028540Z",
     "start_time": "2019-07-18T23:51:01.022607Z"
    }
   },
   "outputs": [],
   "source": [
    "#holding out 20% as test data\n",
    "X_78, X_test_78, y_78, y_test_78 = train_test_split(X_origin_78, y_origin_78, test_size=.2, random_state=10)\n",
    "\n",
    "# Split TRAIN and VALIDATION \n",
    "X_train_78, X_val_78, y_train_78, y_val_78 = train_test_split(X_78, y_78, test_size=.25, random_state=3)\n"
   ]
  },
  {
   "cell_type": "code",
   "execution_count": 197,
   "metadata": {
    "ExecuteTime": {
     "end_time": "2019-07-18T23:51:02.025631Z",
     "start_time": "2019-07-18T23:51:02.007330Z"
    }
   },
   "outputs": [
    {
     "name": "stdout",
     "output_type": "stream",
     "text": [
      "0.9544657304147929\n",
      "0.08488808259945435\n"
     ]
    }
   ],
   "source": [
    "lm_78 = LinearRegression()\n",
    "\n",
    "lm_78.fit(X_train_78, y_train_78)\n",
    "\n",
    "print(lm_78.score(X_train_78, y_train_78))\n",
    "\n",
    "print(lm_78.score(X_val_78, y_val_78))"
   ]
  },
  {
   "cell_type": "markdown",
   "metadata": {},
   "source": [
    "### Lasso"
   ]
  },
  {
   "cell_type": "code",
   "execution_count": 198,
   "metadata": {
    "ExecuteTime": {
     "end_time": "2019-07-18T23:51:09.904690Z",
     "start_time": "2019-07-18T23:51:09.897081Z"
    }
   },
   "outputs": [
    {
     "data": {
      "text/plain": [
       "array([[ 95.],\n",
       "       [119.],\n",
       "       [149.],\n",
       "       [110.],\n",
       "       [114.],\n",
       "       [ 92.],\n",
       "       [107.],\n",
       "       [144.],\n",
       "       [124.],\n",
       "       [ 90.],\n",
       "       [136.],\n",
       "       [134.],\n",
       "       [108.],\n",
       "       [113.],\n",
       "       [109.],\n",
       "       [127.],\n",
       "       [121.],\n",
       "       [114.],\n",
       "       [147.],\n",
       "       [116.],\n",
       "       [118.],\n",
       "       [122.],\n",
       "       [114.],\n",
       "       [128.],\n",
       "       [115.],\n",
       "       [126.],\n",
       "       [118.],\n",
       "       [ 92.],\n",
       "       [144.],\n",
       "       [ 85.],\n",
       "       [125.],\n",
       "       [ 89.],\n",
       "       [ 97.],\n",
       "       [ 96.],\n",
       "       [151.],\n",
       "       [118.],\n",
       "       [156.],\n",
       "       [108.],\n",
       "       [122.],\n",
       "       [113.],\n",
       "       [ 95.],\n",
       "       [115.],\n",
       "       [131.],\n",
       "       [108.],\n",
       "       [148.],\n",
       "       [137.],\n",
       "       [140.],\n",
       "       [134.],\n",
       "       [116.],\n",
       "       [112.],\n",
       "       [134.],\n",
       "       [ 93.],\n",
       "       [112.],\n",
       "       [132.],\n",
       "       [107.],\n",
       "       [130.],\n",
       "       [124.],\n",
       "       [119.],\n",
       "       [117.],\n",
       "       [122.],\n",
       "       [ 89.],\n",
       "       [105.],\n",
       "       [ 91.],\n",
       "       [147.],\n",
       "       [131.],\n",
       "       [ 97.],\n",
       "       [141.],\n",
       "       [120.],\n",
       "       [141.],\n",
       "       [ 96.],\n",
       "       [135.],\n",
       "       [132.],\n",
       "       [105.],\n",
       "       [100.],\n",
       "       [105.],\n",
       "       [120.],\n",
       "       [120.],\n",
       "       [126.],\n",
       "       [110.],\n",
       "       [ 89.],\n",
       "       [117.],\n",
       "       [ 94.],\n",
       "       [106.],\n",
       "       [ 88.],\n",
       "       [129.],\n",
       "       [106.],\n",
       "       [ 95.],\n",
       "       [130.],\n",
       "       [108.],\n",
       "       [127.],\n",
       "       [110.],\n",
       "       [ 87.]])"
      ]
     },
     "execution_count": 198,
     "metadata": {},
     "output_type": "execute_result"
    }
   ],
   "source": [
    "X_train_78[\"Duration\"].values.reshape(-1,1)\n"
   ]
  },
  {
   "cell_type": "code",
   "execution_count": 199,
   "metadata": {
    "ExecuteTime": {
     "end_time": "2019-07-18T23:51:12.414870Z",
     "start_time": "2019-07-18T23:51:12.401580Z"
    }
   },
   "outputs": [],
   "source": [
    "from sklearn import pipeline, preprocessing\n",
    "scaler = StandardScaler()\n",
    "X_train_scaled_78 = scaler.fit_transform(X_train_78[\"Duration\"].values.reshape(-1, 1))\n",
    "X_val_scaled_78 = scaler.transform(X_val_78[\"Duration\"].values.reshape(-1, 1))\n",
    "X_test_scaled_78 = scaler.transform(X_test_78[\"Duration\"].values.reshape(-1, 1))"
   ]
  },
  {
   "cell_type": "code",
   "execution_count": 200,
   "metadata": {
    "ExecuteTime": {
     "end_time": "2019-07-18T23:51:13.182511Z",
     "start_time": "2019-07-18T23:51:13.171086Z"
    }
   },
   "outputs": [],
   "source": [
    "X_train_scaled_78 = X_train_78.copy()\n",
    "\n",
    "X_train_scaled_78[\"Duration\"] = X_train_scaled_78\n",
    "\n",
    "X_val_scaled_78 =X_val_78.copy()\n",
    "X_val_scaled_78[\"Duration\"] = X_val_scaled_78\n",
    "\n",
    "X_test_scaled_78 =X_test_78.copy()\n",
    "X_test_scaled_78[\"Duration\"] = X_test_scaled_78"
   ]
  },
  {
   "cell_type": "code",
   "execution_count": 201,
   "metadata": {
    "ExecuteTime": {
     "end_time": "2019-07-18T23:51:15.384054Z",
     "start_time": "2019-07-18T23:51:14.462444Z"
    }
   },
   "outputs": [
    {
     "name": "stderr",
     "output_type": "stream",
     "text": [
      "/anaconda3/lib/python3.7/site-packages/sklearn/linear_model/coordinate_descent.py:492: ConvergenceWarning: Objective did not converge. You might want to increase the number of iterations. Fitting data with very small alpha may cause precision problems.\n",
      "  ConvergenceWarning)\n"
     ]
    },
    {
     "data": {
      "text/plain": [
       "LassoCV(alphas=array([1.00000e-05, 1.26186e-05, ..., 7.92483e+04, 1.00000e+05]),\n",
       "    copy_X=True, cv=10, eps=0.001, fit_intercept=True, max_iter=1000,\n",
       "    n_alphas=100, n_jobs=None, normalize=False, positive=False,\n",
       "    precompute='auto', random_state=None, selection='cyclic', tol=0.0001,\n",
       "    verbose=False)"
      ]
     },
     "execution_count": 201,
     "metadata": {},
     "output_type": "execute_result"
    }
   ],
   "source": [
    "from sklearn import datasets, model_selection, linear_model, pipeline, preprocessing\n",
    "lassocv_78 = linear_model.LassoCV(cv=10, alphas=np.logspace(-5,5,100))\n",
    "lassocv_78.fit(X_train_scaled_78, y_train_78)\n"
   ]
  },
  {
   "cell_type": "code",
   "execution_count": 202,
   "metadata": {
    "ExecuteTime": {
     "end_time": "2019-07-18T23:51:17.373365Z",
     "start_time": "2019-07-18T23:51:17.367200Z"
    }
   },
   "outputs": [
    {
     "data": {
      "text/plain": [
       "0.00041320124001153346"
      ]
     },
     "execution_count": 202,
     "metadata": {},
     "output_type": "execute_result"
    }
   ],
   "source": [
    "lassocv_78.alpha_"
   ]
  },
  {
   "cell_type": "code",
   "execution_count": 203,
   "metadata": {
    "ExecuteTime": {
     "end_time": "2019-07-18T23:51:18.463164Z",
     "start_time": "2019-07-18T23:51:18.453392Z"
    }
   },
   "outputs": [
    {
     "data": {
      "text/plain": [
       "array([   2.46851532,   15.23810749,  -60.86035327,  328.08460794,\n",
       "        371.72002803,   58.1821348 ,    0.        ,    0.        ,\n",
       "          0.        ,   42.26814776,    0.        ,  154.87428709,\n",
       "          0.        ,  205.92960793,  225.2207811 ,    0.        ,\n",
       "          6.58571326,    0.        ,    0.        ,    0.        ,\n",
       "        -40.00645705,    0.        ,    0.        ,  -79.54129318,\n",
       "        -14.98202968,    0.        ,    0.        ,  -51.26104941,\n",
       "        105.94749867,    0.        ,    0.        ,  -14.51668083,\n",
       "        104.25609246,    0.        ,   93.63553448,    0.        ,\n",
       "          0.        ,    0.        ,    0.        ,    0.        ,\n",
       "        257.19319034,    0.        ,    0.        ,  -29.48450257,\n",
       "          0.        ,    0.        ,  -12.48008386,    0.        ,\n",
       "          0.        ,   14.84524177,    0.        ,    0.        ,\n",
       "          0.        ,    0.        ,  151.05862739,    0.        ,\n",
       "        -18.85441326,    0.        ,    0.        , -142.46972999,\n",
       "          0.        ,   69.11779298,    0.        ,  -53.73066787,\n",
       "          0.        ,  104.98199721, -114.01697737,    0.        ,\n",
       "          0.        ,    0.        ,    0.        ,    0.        ,\n",
       "         29.47870261,    0.        ,    0.        ,    0.        ,\n",
       "        -10.31137878,    0.        ,    0.        ,    0.        ,\n",
       "          0.        ,    0.        ,   18.41603558,    0.        ,\n",
       "          0.        ,    0.        ,    0.        ,    0.        ,\n",
       "          0.        ,    0.        ,    0.        ,    0.        ,\n",
       "          0.        ,    0.        ,    0.        ,    0.        ,\n",
       "          0.        ,    0.        ,  -39.26545471,    0.        ,\n",
       "          0.        ,    0.        ,    0.        ,    0.        ,\n",
       "          0.        ,   -9.68329869,    0.        ,  -32.28049847,\n",
       "          0.        ,    0.        ,   -7.98267506,  161.5965549 ,\n",
       "          0.        ,    0.        ,    0.        ,    0.        ,\n",
       "          0.        ,    0.        ,    0.        ,    0.        ,\n",
       "          0.        ,    0.        ,    0.        ,    0.        ,\n",
       "          0.        ,    0.        ,    0.        ,    0.        ,\n",
       "          0.        ,    0.        ,    0.        ,    0.        ,\n",
       "          0.        ,    0.        ,    0.        ,    0.        ,\n",
       "          0.        ,    0.        ,  530.00481648,    0.        ,\n",
       "          0.        ,   -8.27807983,    0.        ,    0.        ,\n",
       "          0.        ,    0.        ,  -47.10008389,    0.        ,\n",
       "          0.        ,    0.        ,    0.        ,    0.        ,\n",
       "          0.        ,  -39.04179249,    0.        ,    0.        ,\n",
       "          0.        ,    0.        ,    0.        ,    0.        ,\n",
       "          0.        ,    0.        ,    0.        ,   41.24683949,\n",
       "          0.        ,    0.        ,    0.        ,    0.        ,\n",
       "          8.86127628,    0.        ,    0.        ,  356.94148467,\n",
       "          0.        ,    0.        ,    0.        ,    0.        ,\n",
       "          0.        ,    0.        ,    0.        ,    0.        ,\n",
       "          0.        ,    0.        ,    0.        ,    0.        ,\n",
       "          0.        ,    0.        ,    0.        ,  -49.5333796 ,\n",
       "          0.        ,    0.        ,    0.        ,    0.        ,\n",
       "          0.        ,    0.        ,    0.        ,  -73.64562094,\n",
       "          0.        ,    0.        ,    0.        ,    0.        ,\n",
       "          0.        ,  -59.93282327,    0.        ,    0.        ,\n",
       "          0.        ,    0.        ,    0.        ,    0.        ,\n",
       "          0.        ,    0.        ,    0.        ,    0.        ,\n",
       "          0.        ,    0.        ,    0.        ,    0.        ,\n",
       "          0.        ,    0.        ,    0.        ,  -48.32571137,\n",
       "          0.        ,    0.        ,    0.        ,    0.        ,\n",
       "          0.        ,    0.        ,    0.        ,    0.        ,\n",
       "          0.        ,    0.        ,    0.        ,    0.        ,\n",
       "          0.        ,    0.        ,   87.43458596,    0.        ,\n",
       "          0.        ,    0.        ,    0.        ,    0.        ,\n",
       "          0.        ,    0.        ,    0.        ,    0.        ,\n",
       "          0.        ,    0.        ,    0.        ,    0.        ,\n",
       "          0.        ,    0.        ,    0.        ,    0.        ,\n",
       "          0.        ,  -35.07358382,    0.        ,  -18.65947565,\n",
       "          0.        ,    0.        ,    0.        ,    0.        ,\n",
       "          0.        ,    0.        ,    0.        ,    0.        ,\n",
       "          0.        ,    0.        ,    0.        ,    0.        ,\n",
       "          0.        ,    0.        ,    0.        ,    0.        ,\n",
       "        -44.11875827,    0.        ,    0.        ,    0.        ,\n",
       "          0.        ,    0.        ,   84.56980959,    0.        ,\n",
       "          0.        ,    0.        ,    0.        ,    0.        ,\n",
       "          0.        ,    0.        ,    0.        ,    0.        ,\n",
       "          0.        ,    0.        ,    0.        ,    0.        ,\n",
       "          0.        ,    0.        ,    0.        ,    0.        ,\n",
       "          0.        ,    0.        ,    0.        ,    0.        ,\n",
       "          0.        ,    0.        ,    0.        ,    0.        ,\n",
       "          0.        ,    0.        ,    0.        ,    0.        ,\n",
       "          0.        ,    0.        ,    0.        ,  193.26692148,\n",
       "          0.        ,    0.        ,   24.27669636,    0.        ,\n",
       "          0.        ,    0.        ,    0.        ,    0.        ,\n",
       "          0.        ,    0.        ,    0.        ,    0.        ,\n",
       "          0.        ,    0.        ,    0.        ,    0.        ,\n",
       "          0.        ,    0.        ,    0.        ,    0.        ,\n",
       "          0.        ,    0.        ,    0.        ,   15.83150942,\n",
       "          0.        ,    0.        ,    0.        ,    0.        ,\n",
       "        114.31834355,    0.        ,    0.        ,    0.        ,\n",
       "          0.        , -107.20494965,    0.        ,    0.        ,\n",
       "          0.        ,    0.        ,    0.        ,    0.        ,\n",
       "        -82.31335917,    0.        ,    0.        ,    0.        ,\n",
       "          0.        ,    0.        ,  286.50257051,    0.        ,\n",
       "          0.        ,    0.        ,    0.        ,    0.        ,\n",
       "          0.        ,    0.        ,    0.        ,    0.        ,\n",
       "          0.        ,    0.        ,    0.        ,  -33.61877124,\n",
       "          0.        ,  -92.21123795,    0.        ,    0.        ,\n",
       "          0.        ,  -26.79454745,    0.        ,    0.        ,\n",
       "          0.        ,    0.        ,    0.        ,    0.        ,\n",
       "          0.        ,    0.        ,    0.        ,    0.        ,\n",
       "        -40.6432015 ,    0.        ,    0.        ,   -4.46499769,\n",
       "          0.        ,    0.        ,    0.        ,    0.        ,\n",
       "          0.        ,    0.        ,    0.        ,    0.        ,\n",
       "          0.        ,    0.        ,  -60.46757942,    0.        ,\n",
       "          0.        ,    0.        ,    0.        ,    0.        ,\n",
       "          0.        ,    0.        ,    0.        ,    0.        ,\n",
       "          0.        ,    0.        ,  -80.87007476,    0.        ,\n",
       "          0.        ,    0.        ,    0.        ,    0.        ,\n",
       "          0.        ,   -2.76780968,    0.        ,    0.        ,\n",
       "        -56.42239668,    0.        ,  -66.66110417,    0.        ,\n",
       "          0.        ,    0.        ,    0.        ,    0.        ,\n",
       "        -66.75623386,    0.        ,    0.        ,    0.        ,\n",
       "          0.        ,    0.        ,    0.        ,    0.        ,\n",
       "        -24.38763729,    0.        ,    0.        ,    0.        ,\n",
       "          0.        ,    0.        , -101.48755603,    0.        ,\n",
       "          0.        ,    0.        ,  -14.91450542,    0.        ,\n",
       "          0.        ,    0.        ,  -47.32333225,    0.        ,\n",
       "          0.        ,    0.        ,  -22.10006145,  -63.81931598,\n",
       "        -44.96498675,  -30.87764898,    0.        ,   57.26096177,\n",
       "          0.        ,    0.        ,    0.        ,  -46.54256965,\n",
       "        -14.27672726,  -17.41990953,    0.        ,    0.        ,\n",
       "          0.        ,    0.        ,    0.        ,    0.        ,\n",
       "          0.        ])"
      ]
     },
     "execution_count": 203,
     "metadata": {},
     "output_type": "execute_result"
    }
   ],
   "source": [
    "lassocv_78.coef_"
   ]
  },
  {
   "cell_type": "code",
   "execution_count": 204,
   "metadata": {
    "ExecuteTime": {
     "end_time": "2019-07-18T23:51:20.225393Z",
     "start_time": "2019-07-18T23:51:20.211229Z"
    }
   },
   "outputs": [
    {
     "data": {
      "text/plain": [
       "0.954465659164315"
      ]
     },
     "execution_count": 204,
     "metadata": {},
     "output_type": "execute_result"
    }
   ],
   "source": [
    "lassocv_78.score(X_train_scaled_78, y_train_78)"
   ]
  },
  {
   "cell_type": "code",
   "execution_count": 205,
   "metadata": {
    "ExecuteTime": {
     "end_time": "2019-07-18T23:51:21.258117Z",
     "start_time": "2019-07-18T23:51:21.242113Z"
    },
    "scrolled": false
   },
   "outputs": [
    {
     "data": {
      "text/plain": [
       "0.039378533927345694"
      ]
     },
     "execution_count": 205,
     "metadata": {},
     "output_type": "execute_result"
    }
   ],
   "source": [
    "lassocv_78.score(X_val_scaled_78, y_val_78)"
   ]
  },
  {
   "cell_type": "code",
   "execution_count": 206,
   "metadata": {
    "ExecuteTime": {
     "end_time": "2019-07-18T23:51:24.927371Z",
     "start_time": "2019-07-18T23:51:24.907129Z"
    }
   },
   "outputs": [
    {
     "data": {
      "text/plain": [
       "[('Duration', 2.4685153189800535),\n",
       " ('star_Dwayne Johnson', 15.238107494056624),\n",
       " ('star_Kevin Hart', -60.860353273290336),\n",
       " ('star_Chris Pratt', 328.0846079370687),\n",
       " ('star_Robert Downey Jr.', 371.7200280330149),\n",
       " ('star_Tom Hardy', 58.18213479575026),\n",
       " ('star_Anna Kendrick', 42.268147763411925),\n",
       " ('star_Chris Hemsworth', 154.874287092131),\n",
       " ('star_Chris Evans', 205.92960792562693),\n",
       " ('star_Gal Gadot', 225.22078109566417),\n",
       " ('star_Tom Cruise', 6.5857132616229475),\n",
       " ('star_Dakota Johnson', -40.006457045139236),\n",
       " ('star_James Corden', -79.54129317747524),\n",
       " ('star_Adam Sandler', -14.982029681154554),\n",
       " ('star_Jack Black', -51.261049409004386),\n",
       " ('star_Ben Affleck', 105.94749867150993),\n",
       " ('star_Will Ferrell', -14.516680827854282),\n",
       " ('star_Jennifer Lawrence', 104.2560924551414),\n",
       " ('star_Emily Blunt', 93.6355344773955),\n",
       " ('star_Ryan Reynolds', 257.1931903412215),\n",
       " ('star_Taraji P. Henson', -29.48450257378902),\n",
       " ('star_Eddie Redmayne', -12.480083857478627),\n",
       " ('star_Johnny Depp', 14.845241766086046),\n",
       " ('star_Sandra Bullock', 151.05862738547094),\n",
       " ('star_Lily James', -18.854413259171768),\n",
       " ('star_John Cena', -142.46972998988582),\n",
       " ('star_Paul Rudd', 69.11779297901047),\n",
       " ('star_Denzel Washington', -53.7306678654156),\n",
       " ('star_Benedict Cumberbatch', 104.98199720678161),\n",
       " ('star_Channing Tatum', -114.01697736902679),\n",
       " ('star_Hugh Jackman', 29.478702607453364),\n",
       " ('star_Ansel Elgort', -10.311378777516746),\n",
       " ('star_Chris Pine', 18.41603557965768),\n",
       " ('star_James McAvoy', -39.26545470747508),\n",
       " ('star_Melissa McCarthy', -9.683298689182875),\n",
       " ('star_Liam Hemsworth', -32.28049847343541),\n",
       " ('star_Matt Damon', -7.98267505792175),\n",
       " ('star_Amy Poehler', 161.59655490469072),\n",
       " ('star_Chadwick Boseman', 530.0048164786405),\n",
       " ('star_Demián Bichir', -8.278079834274545),\n",
       " ('star_Tye Sheridan', -47.10008389476445),\n",
       " ('star_Clint Eastwood', -39.041792491568025),\n",
       " ('star_Alden Ehrenreich', 41.24683949395264),\n",
       " ('star_Jamie Lee Curtis', 8.861276282055593),\n",
       " ('star_Craig T. Nelson', 356.9414846709132),\n",
       " ('star_Storm Reid', -49.533379601054904),\n",
       " ('star_J. Michael Finley', -73.64562093997712),\n",
       " ('star_Dacre Montgomery', -59.93282326698958),\n",
       " ('star_Keanu Reeves', -48.32571137287243),\n",
       " ('star_Fionn Whitehead', 87.43458595880311),\n",
       " ('star_Kenneth Branagh', -35.07358381720008),\n",
       " ('star_Jacob Tremblay', -18.659475649882026),\n",
       " ('star_Regina Hall', -44.11875826566997),\n",
       " ('star_Steve Carell', 84.56980958791553),\n",
       " ('star_Louis C.K.', 193.2669214820323),\n",
       " (\"star_Auli'i Cravalho\", 24.27669635858825),\n",
       " ('star_Alexander Skarsgård', 15.831509415819086),\n",
       " ('star_Ginnifer Goodwin', 114.31834355192179),\n",
       " ('star_Eva Green', -107.20494965148745),\n",
       " ('star_Seth Rogen', -82.31335916949368),\n",
       " ('star_Ellen DeGeneres', 286.50257050666056),\n",
       " ('star_Megan Fox', -33.61877123570672),\n",
       " ('star_Jason Sudeikis', -92.21123795286348),\n",
       " ('star_Frank Grillo', -26.794547447472677),\n",
       " ('star_Leonardo DiCaprio', -40.643201502358146),\n",
       " ('star_Daniel Craig', -4.464997694360955),\n",
       " ('star_Arnold Schwarzenegger', -60.46757942064308),\n",
       " (\"star_Dylan O'Brien\", -80.87007475938611),\n",
       " ('star_Shailene Woodley', -2.7678096754686683),\n",
       " ('star_Amy Schumer', -56.42239668362644),\n",
       " ('star_George Clooney', -66.66110416510725),\n",
       " ('star_Jeffrey Wright', -66.75623386470252),\n",
       " ('star_Tom Kenny', -24.38763728956549),\n",
       " ('star_Jason Lee', -101.48755603340895),\n",
       " ('star_Jim Parsons', -14.91450541521203),\n",
       " ('star_Noah Schnapp', -47.32333224517469),\n",
       " ('genre_Adventure', -22.10006144940172),\n",
       " ('genre_Action', -63.81931598315817),\n",
       " ('genre_Comedy', -44.96498675408357),\n",
       " ('genre_Drama', -30.87764898154748),\n",
       " ('genre_Animation', 57.260961774855886),\n",
       " ('genre_Crime', -46.54256965418799),\n",
       " ('genre_Horror', -14.276727264682666),\n",
       " ('genre_Biography', -17.419909534169772)]"
      ]
     },
     "execution_count": 206,
     "metadata": {},
     "output_type": "execute_result"
    }
   ],
   "source": [
    "[x for x in list(zip(X_train_scaled_78.columns, lassocv_78.coef_)) if abs(x[1]) != 0]"
   ]
  },
  {
   "cell_type": "markdown",
   "metadata": {},
   "source": [
    "# Model 3"
   ]
  },
  {
   "cell_type": "code",
   "execution_count": 207,
   "metadata": {
    "ExecuteTime": {
     "end_time": "2019-07-18T23:51:27.041218Z",
     "start_time": "2019-07-18T23:51:26.993201Z"
    }
   },
   "outputs": [
    {
     "name": "stdout",
     "output_type": "stream",
     "text": [
      "(233, 520)\n"
     ]
    },
    {
     "data": {
      "text/html": [
       "<div>\n",
       "<style scoped>\n",
       "    .dataframe tbody tr th:only-of-type {\n",
       "        vertical-align: middle;\n",
       "    }\n",
       "\n",
       "    .dataframe tbody tr th {\n",
       "        vertical-align: top;\n",
       "    }\n",
       "\n",
       "    .dataframe thead th {\n",
       "        text-align: right;\n",
       "    }\n",
       "</style>\n",
       "<table border=\"1\" class=\"dataframe\">\n",
       "  <thead>\n",
       "    <tr style=\"text-align: right;\">\n",
       "      <th></th>\n",
       "      <th>Duration</th>\n",
       "      <th>Gross</th>\n",
       "      <th>star_Kevin Hart</th>\n",
       "      <th>star_Dwayne Johnson</th>\n",
       "      <th>star_Mark Wahlberg</th>\n",
       "      <th>star_Tom Cruise</th>\n",
       "      <th>star_Chris Pratt</th>\n",
       "      <th>star_Woody Harrelson</th>\n",
       "      <th>star_Anna Kendrick</th>\n",
       "      <th>star_Robert Downey Jr.</th>\n",
       "      <th>...</th>\n",
       "      <th>genre_Crime</th>\n",
       "      <th>genre_Horror</th>\n",
       "      <th>genre_Biography</th>\n",
       "      <th>genre_Romance</th>\n",
       "      <th>genre_Mystery</th>\n",
       "      <th>genre_Music</th>\n",
       "      <th>genre_History</th>\n",
       "      <th>genre_Musical</th>\n",
       "      <th>genre_Sport</th>\n",
       "      <th>genre_Western</th>\n",
       "    </tr>\n",
       "  </thead>\n",
       "  <tbody>\n",
       "    <tr>\n",
       "      <th>0</th>\n",
       "      <td>134.0</td>\n",
       "      <td>216.43</td>\n",
       "      <td>False</td>\n",
       "      <td>False</td>\n",
       "      <td>False</td>\n",
       "      <td>False</td>\n",
       "      <td>False</td>\n",
       "      <td>False</td>\n",
       "      <td>False</td>\n",
       "      <td>False</td>\n",
       "      <td>...</td>\n",
       "      <td>False</td>\n",
       "      <td>False</td>\n",
       "      <td>True</td>\n",
       "      <td>False</td>\n",
       "      <td>False</td>\n",
       "      <td>False</td>\n",
       "      <td>False</td>\n",
       "      <td>False</td>\n",
       "      <td>False</td>\n",
       "      <td>False</td>\n",
       "    </tr>\n",
       "    <tr>\n",
       "      <th>1</th>\n",
       "      <td>117.0</td>\n",
       "      <td>190.24</td>\n",
       "      <td>False</td>\n",
       "      <td>False</td>\n",
       "      <td>False</td>\n",
       "      <td>False</td>\n",
       "      <td>False</td>\n",
       "      <td>False</td>\n",
       "      <td>False</td>\n",
       "      <td>False</td>\n",
       "      <td>...</td>\n",
       "      <td>False</td>\n",
       "      <td>False</td>\n",
       "      <td>False</td>\n",
       "      <td>False</td>\n",
       "      <td>False</td>\n",
       "      <td>False</td>\n",
       "      <td>False</td>\n",
       "      <td>False</td>\n",
       "      <td>False</td>\n",
       "      <td>False</td>\n",
       "    </tr>\n",
       "    <tr>\n",
       "      <th>5</th>\n",
       "      <td>130.0</td>\n",
       "      <td>171.96</td>\n",
       "      <td>False</td>\n",
       "      <td>False</td>\n",
       "      <td>False</td>\n",
       "      <td>False</td>\n",
       "      <td>False</td>\n",
       "      <td>False</td>\n",
       "      <td>False</td>\n",
       "      <td>False</td>\n",
       "      <td>...</td>\n",
       "      <td>False</td>\n",
       "      <td>False</td>\n",
       "      <td>False</td>\n",
       "      <td>False</td>\n",
       "      <td>False</td>\n",
       "      <td>False</td>\n",
       "      <td>False</td>\n",
       "      <td>False</td>\n",
       "      <td>False</td>\n",
       "      <td>False</td>\n",
       "    </tr>\n",
       "    <tr>\n",
       "      <th>6</th>\n",
       "      <td>136.0</td>\n",
       "      <td>215.29</td>\n",
       "      <td>False</td>\n",
       "      <td>False</td>\n",
       "      <td>False</td>\n",
       "      <td>False</td>\n",
       "      <td>False</td>\n",
       "      <td>False</td>\n",
       "      <td>False</td>\n",
       "      <td>False</td>\n",
       "      <td>...</td>\n",
       "      <td>False</td>\n",
       "      <td>False</td>\n",
       "      <td>False</td>\n",
       "      <td>False</td>\n",
       "      <td>False</td>\n",
       "      <td>False</td>\n",
       "      <td>False</td>\n",
       "      <td>False</td>\n",
       "      <td>False</td>\n",
       "      <td>False</td>\n",
       "    </tr>\n",
       "    <tr>\n",
       "      <th>7</th>\n",
       "      <td>149.0</td>\n",
       "      <td>678.82</td>\n",
       "      <td>False</td>\n",
       "      <td>False</td>\n",
       "      <td>False</td>\n",
       "      <td>False</td>\n",
       "      <td>False</td>\n",
       "      <td>False</td>\n",
       "      <td>False</td>\n",
       "      <td>True</td>\n",
       "      <td>...</td>\n",
       "      <td>False</td>\n",
       "      <td>False</td>\n",
       "      <td>False</td>\n",
       "      <td>False</td>\n",
       "      <td>False</td>\n",
       "      <td>False</td>\n",
       "      <td>False</td>\n",
       "      <td>False</td>\n",
       "      <td>False</td>\n",
       "      <td>False</td>\n",
       "    </tr>\n",
       "  </tbody>\n",
       "</table>\n",
       "<p>5 rows × 521 columns</p>\n",
       "</div>"
      ],
      "text/plain": [
       "   Duration   Gross  star_Kevin Hart  star_Dwayne Johnson  star_Mark Wahlberg  \\\n",
       "0     134.0  216.43            False                False               False   \n",
       "1     117.0  190.24            False                False               False   \n",
       "5     130.0  171.96            False                False               False   \n",
       "6     136.0  215.29            False                False               False   \n",
       "7     149.0  678.82            False                False               False   \n",
       "\n",
       "   star_Tom Cruise  star_Chris Pratt  star_Woody Harrelson  \\\n",
       "0            False             False                 False   \n",
       "1            False             False                 False   \n",
       "5            False             False                 False   \n",
       "6            False             False                 False   \n",
       "7            False             False                 False   \n",
       "\n",
       "   star_Anna Kendrick  star_Robert Downey Jr.      ...        genre_Crime  \\\n",
       "0               False                   False      ...              False   \n",
       "1               False                   False      ...              False   \n",
       "5               False                   False      ...              False   \n",
       "6               False                   False      ...              False   \n",
       "7               False                    True      ...              False   \n",
       "\n",
       "   genre_Horror  genre_Biography  genre_Romance  genre_Mystery  genre_Music  \\\n",
       "0         False             True          False          False        False   \n",
       "1         False            False          False          False        False   \n",
       "5         False            False          False          False        False   \n",
       "6         False            False          False          False        False   \n",
       "7         False            False          False          False        False   \n",
       "\n",
       "   genre_History  genre_Musical  genre_Sport  genre_Western  \n",
       "0          False          False        False          False  \n",
       "1          False          False        False          False  \n",
       "5          False          False        False          False  \n",
       "6          False          False        False          False  \n",
       "7          False          False        False          False  \n",
       "\n",
       "[5 rows x 521 columns]"
      ]
     },
     "execution_count": 207,
     "metadata": {},
     "output_type": "execute_result"
    }
   ],
   "source": [
    "X_origin_50, y_origin_50 = data_model_50.drop('Gross',axis = 1), data_model_50['Gross']\n",
    "X_origin_50.reset_index()\n",
    "print(X_origin_50.shape)\n",
    "data_model_50.head()"
   ]
  },
  {
   "cell_type": "code",
   "execution_count": 208,
   "metadata": {
    "ExecuteTime": {
     "end_time": "2019-07-18T23:51:28.175741Z",
     "start_time": "2019-07-18T23:51:28.165800Z"
    }
   },
   "outputs": [],
   "source": [
    "#holding out 20% as test data\n",
    "X_50, X_test_50, y_50, y_test_50 = train_test_split(X_origin_50, y_origin_50, test_size=.2, random_state=10)\n",
    "\n",
    "# Split TRAIN and VALIDATION \n",
    "X_train_50, X_val_50, y_train_50, y_val_50 = train_test_split(X_50, y_50, test_size=.25, random_state=3)"
   ]
  },
  {
   "cell_type": "code",
   "execution_count": 209,
   "metadata": {
    "ExecuteTime": {
     "end_time": "2019-07-18T23:51:29.346357Z",
     "start_time": "2019-07-18T23:51:29.318932Z"
    },
    "scrolled": true
   },
   "outputs": [
    {
     "name": "stdout",
     "output_type": "stream",
     "text": [
      "0.9149003678118642\n",
      "-5.9971056550365505e+22\n"
     ]
    }
   ],
   "source": [
    "lm_50 = LinearRegression()\n",
    "lm_50.fit(X_train_50, y_train_50)\n",
    "print(lm_50.score(X_train_50, y_train_50))\n",
    "print(lm_50.score(X_val_50, y_val_50))"
   ]
  },
  {
   "cell_type": "markdown",
   "metadata": {},
   "source": [
    "### Lasso"
   ]
  },
  {
   "cell_type": "code",
   "execution_count": 210,
   "metadata": {
    "ExecuteTime": {
     "end_time": "2019-07-18T23:51:30.953675Z",
     "start_time": "2019-07-18T23:51:30.943711Z"
    }
   },
   "outputs": [],
   "source": [
    "from sklearn import pipeline, preprocessing\n",
    "scaler = StandardScaler()\n",
    "X_train_scaled_50 = scaler.fit_transform(X_train_50[\"Duration\"].values.reshape(-1, 1))\n",
    "X_val_scaled_50 = scaler.transform(X_val_50[\"Duration\"].values.reshape(-1, 1))\n",
    "X_test_scaled_50 = scaler.transform(X_test_50[\"Duration\"].values.reshape(-1, 1))\n"
   ]
  },
  {
   "cell_type": "code",
   "execution_count": 211,
   "metadata": {
    "ExecuteTime": {
     "end_time": "2019-07-18T23:51:31.966413Z",
     "start_time": "2019-07-18T23:51:31.947337Z"
    }
   },
   "outputs": [],
   "source": [
    "X_train_scaled_50 = X_train_50.copy()\n",
    "\n",
    "X_train_scaled_50[\"Duration\"] = X_train_scaled_50\n",
    "\n",
    "X_val_scaled_50 =X_val_50.copy()\n",
    "X_val_scaled_50[\"Duration\"] = X_val_scaled_50\n",
    "\n",
    "X_test_scaled_50 =X_test_50.copy()\n",
    "X_test_scaled_50[\"Duration\"] = X_test_scaled_50"
   ]
  },
  {
   "cell_type": "code",
   "execution_count": 212,
   "metadata": {
    "ExecuteTime": {
     "end_time": "2019-07-18T23:51:33.972528Z",
     "start_time": "2019-07-18T23:51:32.853893Z"
    }
   },
   "outputs": [
    {
     "data": {
      "text/plain": [
       "LassoCV(alphas=array([1.00000e-05, 1.26186e-05, ..., 7.92483e+04, 1.00000e+05]),\n",
       "    copy_X=True, cv=10, eps=0.001, fit_intercept=True, max_iter=1000,\n",
       "    n_alphas=100, n_jobs=None, normalize=False, positive=False,\n",
       "    precompute='auto', random_state=None, selection='cyclic', tol=0.0001,\n",
       "    verbose=False)"
      ]
     },
     "execution_count": 212,
     "metadata": {},
     "output_type": "execute_result"
    }
   ],
   "source": [
    "from sklearn import datasets, model_selection, linear_model, pipeline, preprocessing\n",
    "lassocv_50 = linear_model.LassoCV(cv=10, alphas=np.logspace(-5,5,100))\n",
    "lassocv_50.fit(X_train_scaled_50, y_train_50)"
   ]
  },
  {
   "cell_type": "code",
   "execution_count": 213,
   "metadata": {
    "ExecuteTime": {
     "end_time": "2019-07-18T23:51:35.370279Z",
     "start_time": "2019-07-18T23:51:35.364150Z"
    }
   },
   "outputs": [
    {
     "data": {
      "text/plain": [
       "1.1233240329780265"
      ]
     },
     "execution_count": 213,
     "metadata": {},
     "output_type": "execute_result"
    }
   ],
   "source": [
    "lassocv_50.alpha_"
   ]
  },
  {
   "cell_type": "code",
   "execution_count": 214,
   "metadata": {
    "ExecuteTime": {
     "end_time": "2019-07-18T23:51:36.391560Z",
     "start_time": "2019-07-18T23:51:36.375738Z"
    }
   },
   "outputs": [
    {
     "data": {
      "text/plain": [
       "0.724698016106271"
      ]
     },
     "execution_count": 214,
     "metadata": {},
     "output_type": "execute_result"
    }
   ],
   "source": [
    "lassocv_50.score(X_train_scaled_50, y_train_50)"
   ]
  },
  {
   "cell_type": "code",
   "execution_count": 215,
   "metadata": {
    "ExecuteTime": {
     "end_time": "2019-07-18T23:51:37.304724Z",
     "start_time": "2019-07-18T23:51:37.293051Z"
    }
   },
   "outputs": [
    {
     "data": {
      "text/plain": [
       "0.17716272763132213"
      ]
     },
     "execution_count": 215,
     "metadata": {},
     "output_type": "execute_result"
    }
   ],
   "source": [
    "lassocv_50.score(X_val_scaled_50, y_val_50)"
   ]
  },
  {
   "cell_type": "code",
   "execution_count": 216,
   "metadata": {
    "ExecuteTime": {
     "end_time": "2019-07-18T23:51:40.841272Z",
     "start_time": "2019-07-18T23:51:40.833089Z"
    }
   },
   "outputs": [
    {
     "data": {
      "text/plain": [
       "[('Duration', 1.4847924859394368),\n",
       " ('star_Kevin Hart', -0.12334990352126421),\n",
       " ('star_Chris Pratt', 61.7506962431175),\n",
       " ('star_Robert Downey Jr.', 305.5635393576135),\n",
       " ('star_Denzel Washington', -16.461910904623863),\n",
       " ('star_Benedict Cumberbatch', 21.23624934575861),\n",
       " ('star_Vin Diesel', 38.77918978043099),\n",
       " ('star_Sandra Bullock', 7.090383992743759),\n",
       " (\"star_Dylan O'Brien\", -25.466221947143882),\n",
       " ('star_Daisy Ridley', 516.553146191716),\n",
       " ('star_Amy Poehler', 21.561117043685794),\n",
       " ('star_Chadwick Boseman', 374.970022614656),\n",
       " ('star_Craig T. Nelson', 239.5308755203243),\n",
       " ('star_Neel Sethi', 113.80171347568424),\n",
       " ('genre_Action', 33.32586421683588),\n",
       " ('genre_Comedy', -0.3628945688281137),\n",
       " ('genre_Animation', 101.03778005357174),\n",
       " ('genre_Crime', -17.90632368765113),\n",
       " ('genre_Biography', -8.052925524606636)]"
      ]
     },
     "execution_count": 216,
     "metadata": {},
     "output_type": "execute_result"
    }
   ],
   "source": [
    "[x for x in list(zip(X_train_scaled_50.columns, lassocv_50.coef_)) if abs(x[1]) != 0]"
   ]
  },
  {
   "cell_type": "markdown",
   "metadata": {},
   "source": [
    "## Model 4"
   ]
  },
  {
   "cell_type": "markdown",
   "metadata": {},
   "source": [
    "## Linear Regression"
   ]
  },
  {
   "cell_type": "code",
   "execution_count": 217,
   "metadata": {
    "ExecuteTime": {
     "end_time": "2019-07-18T23:51:43.625896Z",
     "start_time": "2019-07-18T23:51:43.602389Z"
    }
   },
   "outputs": [
    {
     "name": "stdout",
     "output_type": "stream",
     "text": [
      "(344, 520)\n"
     ]
    },
    {
     "data": {
      "text/html": [
       "<div>\n",
       "<style scoped>\n",
       "    .dataframe tbody tr th:only-of-type {\n",
       "        vertical-align: middle;\n",
       "    }\n",
       "\n",
       "    .dataframe tbody tr th {\n",
       "        vertical-align: top;\n",
       "    }\n",
       "\n",
       "    .dataframe thead th {\n",
       "        text-align: right;\n",
       "    }\n",
       "</style>\n",
       "<table border=\"1\" class=\"dataframe\">\n",
       "  <thead>\n",
       "    <tr style=\"text-align: right;\">\n",
       "      <th></th>\n",
       "      <th>Duration</th>\n",
       "      <th>Gross</th>\n",
       "      <th>star_Kevin Hart</th>\n",
       "      <th>star_Dwayne Johnson</th>\n",
       "      <th>star_Mark Wahlberg</th>\n",
       "      <th>star_Emily Blunt</th>\n",
       "      <th>star_Anna Kendrick</th>\n",
       "      <th>star_Chris Hemsworth</th>\n",
       "      <th>star_Mark Ruffalo</th>\n",
       "      <th>star_Ryan Reynolds</th>\n",
       "      <th>...</th>\n",
       "      <th>genre_Fantasy</th>\n",
       "      <th>genre_Biography</th>\n",
       "      <th>genre_Romance</th>\n",
       "      <th>genre_Mystery</th>\n",
       "      <th>genre_Family</th>\n",
       "      <th>genre_History</th>\n",
       "      <th>genre_Music</th>\n",
       "      <th>genre_Sport</th>\n",
       "      <th>genre_Musical</th>\n",
       "      <th>genre_Western</th>\n",
       "    </tr>\n",
       "  </thead>\n",
       "  <tbody>\n",
       "    <tr>\n",
       "      <th>0</th>\n",
       "      <td>134.0</td>\n",
       "      <td>216.43</td>\n",
       "      <td>False</td>\n",
       "      <td>False</td>\n",
       "      <td>False</td>\n",
       "      <td>False</td>\n",
       "      <td>False</td>\n",
       "      <td>False</td>\n",
       "      <td>False</td>\n",
       "      <td>False</td>\n",
       "      <td>...</td>\n",
       "      <td>False</td>\n",
       "      <td>True</td>\n",
       "      <td>False</td>\n",
       "      <td>False</td>\n",
       "      <td>False</td>\n",
       "      <td>False</td>\n",
       "      <td>False</td>\n",
       "      <td>False</td>\n",
       "      <td>False</td>\n",
       "      <td>False</td>\n",
       "    </tr>\n",
       "    <tr>\n",
       "      <th>1</th>\n",
       "      <td>117.0</td>\n",
       "      <td>190.24</td>\n",
       "      <td>False</td>\n",
       "      <td>False</td>\n",
       "      <td>False</td>\n",
       "      <td>False</td>\n",
       "      <td>False</td>\n",
       "      <td>False</td>\n",
       "      <td>False</td>\n",
       "      <td>False</td>\n",
       "      <td>...</td>\n",
       "      <td>False</td>\n",
       "      <td>False</td>\n",
       "      <td>False</td>\n",
       "      <td>False</td>\n",
       "      <td>False</td>\n",
       "      <td>False</td>\n",
       "      <td>False</td>\n",
       "      <td>False</td>\n",
       "      <td>False</td>\n",
       "      <td>False</td>\n",
       "    </tr>\n",
       "    <tr>\n",
       "      <th>3</th>\n",
       "      <td>127.0</td>\n",
       "      <td>44.07</td>\n",
       "      <td>False</td>\n",
       "      <td>False</td>\n",
       "      <td>False</td>\n",
       "      <td>False</td>\n",
       "      <td>False</td>\n",
       "      <td>False</td>\n",
       "      <td>False</td>\n",
       "      <td>False</td>\n",
       "      <td>...</td>\n",
       "      <td>False</td>\n",
       "      <td>False</td>\n",
       "      <td>False</td>\n",
       "      <td>False</td>\n",
       "      <td>False</td>\n",
       "      <td>False</td>\n",
       "      <td>False</td>\n",
       "      <td>False</td>\n",
       "      <td>False</td>\n",
       "      <td>False</td>\n",
       "    </tr>\n",
       "    <tr>\n",
       "      <th>5</th>\n",
       "      <td>130.0</td>\n",
       "      <td>171.96</td>\n",
       "      <td>False</td>\n",
       "      <td>False</td>\n",
       "      <td>False</td>\n",
       "      <td>True</td>\n",
       "      <td>False</td>\n",
       "      <td>False</td>\n",
       "      <td>False</td>\n",
       "      <td>False</td>\n",
       "      <td>...</td>\n",
       "      <td>False</td>\n",
       "      <td>False</td>\n",
       "      <td>False</td>\n",
       "      <td>False</td>\n",
       "      <td>False</td>\n",
       "      <td>False</td>\n",
       "      <td>False</td>\n",
       "      <td>False</td>\n",
       "      <td>False</td>\n",
       "      <td>False</td>\n",
       "    </tr>\n",
       "    <tr>\n",
       "      <th>6</th>\n",
       "      <td>136.0</td>\n",
       "      <td>215.29</td>\n",
       "      <td>False</td>\n",
       "      <td>False</td>\n",
       "      <td>False</td>\n",
       "      <td>False</td>\n",
       "      <td>False</td>\n",
       "      <td>False</td>\n",
       "      <td>False</td>\n",
       "      <td>False</td>\n",
       "      <td>...</td>\n",
       "      <td>False</td>\n",
       "      <td>False</td>\n",
       "      <td>False</td>\n",
       "      <td>False</td>\n",
       "      <td>False</td>\n",
       "      <td>False</td>\n",
       "      <td>False</td>\n",
       "      <td>False</td>\n",
       "      <td>False</td>\n",
       "      <td>False</td>\n",
       "    </tr>\n",
       "  </tbody>\n",
       "</table>\n",
       "<p>5 rows × 521 columns</p>\n",
       "</div>"
      ],
      "text/plain": [
       "   Duration   Gross  star_Kevin Hart  star_Dwayne Johnson  star_Mark Wahlberg  \\\n",
       "0     134.0  216.43            False                False               False   \n",
       "1     117.0  190.24            False                False               False   \n",
       "3     127.0   44.07            False                False               False   \n",
       "5     130.0  171.96            False                False               False   \n",
       "6     136.0  215.29            False                False               False   \n",
       "\n",
       "   star_Emily Blunt  star_Anna Kendrick  star_Chris Hemsworth  \\\n",
       "0             False               False                 False   \n",
       "1             False               False                 False   \n",
       "3             False               False                 False   \n",
       "5              True               False                 False   \n",
       "6             False               False                 False   \n",
       "\n",
       "   star_Mark Ruffalo  star_Ryan Reynolds      ...        genre_Fantasy  \\\n",
       "0              False               False      ...                False   \n",
       "1              False               False      ...                False   \n",
       "3              False               False      ...                False   \n",
       "5              False               False      ...                False   \n",
       "6              False               False      ...                False   \n",
       "\n",
       "   genre_Biography  genre_Romance  genre_Mystery  genre_Family  genre_History  \\\n",
       "0             True          False          False         False          False   \n",
       "1            False          False          False         False          False   \n",
       "3            False          False          False         False          False   \n",
       "5            False          False          False         False          False   \n",
       "6            False          False          False         False          False   \n",
       "\n",
       "   genre_Music  genre_Sport  genre_Musical  genre_Western  \n",
       "0        False        False          False          False  \n",
       "1        False        False          False          False  \n",
       "3        False        False          False          False  \n",
       "5        False        False          False          False  \n",
       "6        False        False          False          False  \n",
       "\n",
       "[5 rows x 521 columns]"
      ]
     },
     "execution_count": 217,
     "metadata": {},
     "output_type": "execute_result"
    }
   ],
   "source": [
    "X_origin_30, y_origin_30 = data_model_30.drop('Gross',axis = 1), data_model_30['Gross']\n",
    "X_origin_30.reset_index()\n",
    "print(X_origin_30.shape)\n",
    "data_model_30.head()"
   ]
  },
  {
   "cell_type": "code",
   "execution_count": 218,
   "metadata": {
    "ExecuteTime": {
     "end_time": "2019-07-18T23:51:45.819779Z",
     "start_time": "2019-07-18T23:51:45.795184Z"
    },
    "scrolled": true
   },
   "outputs": [
    {
     "name": "stdout",
     "output_type": "stream",
     "text": [
      "(344, 520)\n"
     ]
    },
    {
     "data": {
      "text/html": [
       "<div>\n",
       "<style scoped>\n",
       "    .dataframe tbody tr th:only-of-type {\n",
       "        vertical-align: middle;\n",
       "    }\n",
       "\n",
       "    .dataframe tbody tr th {\n",
       "        vertical-align: top;\n",
       "    }\n",
       "\n",
       "    .dataframe thead th {\n",
       "        text-align: right;\n",
       "    }\n",
       "</style>\n",
       "<table border=\"1\" class=\"dataframe\">\n",
       "  <thead>\n",
       "    <tr style=\"text-align: right;\">\n",
       "      <th></th>\n",
       "      <th>Duration</th>\n",
       "      <th>Gross</th>\n",
       "      <th>star_Kevin Hart</th>\n",
       "      <th>star_Dwayne Johnson</th>\n",
       "      <th>star_Mark Wahlberg</th>\n",
       "      <th>star_Emily Blunt</th>\n",
       "      <th>star_Anna Kendrick</th>\n",
       "      <th>star_Chris Hemsworth</th>\n",
       "      <th>star_Mark Ruffalo</th>\n",
       "      <th>star_Ryan Reynolds</th>\n",
       "      <th>...</th>\n",
       "      <th>genre_Fantasy</th>\n",
       "      <th>genre_Biography</th>\n",
       "      <th>genre_Romance</th>\n",
       "      <th>genre_Mystery</th>\n",
       "      <th>genre_Family</th>\n",
       "      <th>genre_History</th>\n",
       "      <th>genre_Music</th>\n",
       "      <th>genre_Sport</th>\n",
       "      <th>genre_Musical</th>\n",
       "      <th>genre_Western</th>\n",
       "    </tr>\n",
       "  </thead>\n",
       "  <tbody>\n",
       "    <tr>\n",
       "      <th>0</th>\n",
       "      <td>134.0</td>\n",
       "      <td>216.43</td>\n",
       "      <td>False</td>\n",
       "      <td>False</td>\n",
       "      <td>False</td>\n",
       "      <td>False</td>\n",
       "      <td>False</td>\n",
       "      <td>False</td>\n",
       "      <td>False</td>\n",
       "      <td>False</td>\n",
       "      <td>...</td>\n",
       "      <td>False</td>\n",
       "      <td>True</td>\n",
       "      <td>False</td>\n",
       "      <td>False</td>\n",
       "      <td>False</td>\n",
       "      <td>False</td>\n",
       "      <td>False</td>\n",
       "      <td>False</td>\n",
       "      <td>False</td>\n",
       "      <td>False</td>\n",
       "    </tr>\n",
       "    <tr>\n",
       "      <th>1</th>\n",
       "      <td>117.0</td>\n",
       "      <td>190.24</td>\n",
       "      <td>False</td>\n",
       "      <td>False</td>\n",
       "      <td>False</td>\n",
       "      <td>False</td>\n",
       "      <td>False</td>\n",
       "      <td>False</td>\n",
       "      <td>False</td>\n",
       "      <td>False</td>\n",
       "      <td>...</td>\n",
       "      <td>False</td>\n",
       "      <td>False</td>\n",
       "      <td>False</td>\n",
       "      <td>False</td>\n",
       "      <td>False</td>\n",
       "      <td>False</td>\n",
       "      <td>False</td>\n",
       "      <td>False</td>\n",
       "      <td>False</td>\n",
       "      <td>False</td>\n",
       "    </tr>\n",
       "    <tr>\n",
       "      <th>3</th>\n",
       "      <td>127.0</td>\n",
       "      <td>44.07</td>\n",
       "      <td>False</td>\n",
       "      <td>False</td>\n",
       "      <td>False</td>\n",
       "      <td>False</td>\n",
       "      <td>False</td>\n",
       "      <td>False</td>\n",
       "      <td>False</td>\n",
       "      <td>False</td>\n",
       "      <td>...</td>\n",
       "      <td>False</td>\n",
       "      <td>False</td>\n",
       "      <td>False</td>\n",
       "      <td>False</td>\n",
       "      <td>False</td>\n",
       "      <td>False</td>\n",
       "      <td>False</td>\n",
       "      <td>False</td>\n",
       "      <td>False</td>\n",
       "      <td>False</td>\n",
       "    </tr>\n",
       "    <tr>\n",
       "      <th>5</th>\n",
       "      <td>130.0</td>\n",
       "      <td>171.96</td>\n",
       "      <td>False</td>\n",
       "      <td>False</td>\n",
       "      <td>False</td>\n",
       "      <td>True</td>\n",
       "      <td>False</td>\n",
       "      <td>False</td>\n",
       "      <td>False</td>\n",
       "      <td>False</td>\n",
       "      <td>...</td>\n",
       "      <td>False</td>\n",
       "      <td>False</td>\n",
       "      <td>False</td>\n",
       "      <td>False</td>\n",
       "      <td>False</td>\n",
       "      <td>False</td>\n",
       "      <td>False</td>\n",
       "      <td>False</td>\n",
       "      <td>False</td>\n",
       "      <td>False</td>\n",
       "    </tr>\n",
       "    <tr>\n",
       "      <th>6</th>\n",
       "      <td>136.0</td>\n",
       "      <td>215.29</td>\n",
       "      <td>False</td>\n",
       "      <td>False</td>\n",
       "      <td>False</td>\n",
       "      <td>False</td>\n",
       "      <td>False</td>\n",
       "      <td>False</td>\n",
       "      <td>False</td>\n",
       "      <td>False</td>\n",
       "      <td>...</td>\n",
       "      <td>False</td>\n",
       "      <td>False</td>\n",
       "      <td>False</td>\n",
       "      <td>False</td>\n",
       "      <td>False</td>\n",
       "      <td>False</td>\n",
       "      <td>False</td>\n",
       "      <td>False</td>\n",
       "      <td>False</td>\n",
       "      <td>False</td>\n",
       "    </tr>\n",
       "  </tbody>\n",
       "</table>\n",
       "<p>5 rows × 521 columns</p>\n",
       "</div>"
      ],
      "text/plain": [
       "   Duration   Gross  star_Kevin Hart  star_Dwayne Johnson  star_Mark Wahlberg  \\\n",
       "0     134.0  216.43            False                False               False   \n",
       "1     117.0  190.24            False                False               False   \n",
       "3     127.0   44.07            False                False               False   \n",
       "5     130.0  171.96            False                False               False   \n",
       "6     136.0  215.29            False                False               False   \n",
       "\n",
       "   star_Emily Blunt  star_Anna Kendrick  star_Chris Hemsworth  \\\n",
       "0             False               False                 False   \n",
       "1             False               False                 False   \n",
       "3             False               False                 False   \n",
       "5              True               False                 False   \n",
       "6             False               False                 False   \n",
       "\n",
       "   star_Mark Ruffalo  star_Ryan Reynolds      ...        genre_Fantasy  \\\n",
       "0              False               False      ...                False   \n",
       "1              False               False      ...                False   \n",
       "3              False               False      ...                False   \n",
       "5              False               False      ...                False   \n",
       "6              False               False      ...                False   \n",
       "\n",
       "   genre_Biography  genre_Romance  genre_Mystery  genre_Family  genre_History  \\\n",
       "0             True          False          False         False          False   \n",
       "1            False          False          False         False          False   \n",
       "3            False          False          False         False          False   \n",
       "5            False          False          False         False          False   \n",
       "6            False          False          False         False          False   \n",
       "\n",
       "   genre_Music  genre_Sport  genre_Musical  genre_Western  \n",
       "0        False        False          False          False  \n",
       "1        False        False          False          False  \n",
       "3        False        False          False          False  \n",
       "5        False        False          False          False  \n",
       "6        False        False          False          False  \n",
       "\n",
       "[5 rows x 521 columns]"
      ]
     },
     "execution_count": 218,
     "metadata": {},
     "output_type": "execute_result"
    }
   ],
   "source": [
    "X_origin_30, y_origin_30 = data_model_30.drop('Gross',axis = 1), data_model_30['Gross']\n",
    "X_origin_30.reset_index()\n",
    "print(X_origin_30.shape)\n",
    "data_model_30.head()"
   ]
  },
  {
   "cell_type": "code",
   "execution_count": 219,
   "metadata": {
    "ExecuteTime": {
     "end_time": "2019-07-18T23:51:50.894945Z",
     "start_time": "2019-07-18T23:51:50.887380Z"
    }
   },
   "outputs": [],
   "source": [
    "#holding out 20% as test data\n",
    "X_30, X_test_30, y_30, y_test_30 = train_test_split(X_origin_30, y_origin_30, test_size=.2, random_state=10)\n",
    "\n",
    "# Split TRAIN and VALIDATION \n",
    "X_train_30, X_val_30, y_train_30, y_val_30 = train_test_split(X_30, y_30, test_size=.25, random_state=3)\n"
   ]
  },
  {
   "cell_type": "code",
   "execution_count": 220,
   "metadata": {
    "ExecuteTime": {
     "end_time": "2019-07-18T23:51:51.957386Z",
     "start_time": "2019-07-18T23:51:51.954196Z"
    }
   },
   "outputs": [],
   "source": [
    "lm_30 = LinearRegression()"
   ]
  },
  {
   "cell_type": "code",
   "execution_count": 221,
   "metadata": {
    "ExecuteTime": {
     "end_time": "2019-07-18T23:51:52.622069Z",
     "start_time": "2019-07-18T23:51:52.591237Z"
    }
   },
   "outputs": [
    {
     "name": "stdout",
     "output_type": "stream",
     "text": [
      "0.8403040973987461\n",
      "-2.727063980884404e+20\n"
     ]
    }
   ],
   "source": [
    "lm_30.fit(X_train_30, y_train_30)\n",
    "\n",
    "print(lm_30.score(X_train_30, y_train_30))\n",
    "\n",
    "print(lm_30.score(X_val_30, y_val_30))"
   ]
  },
  {
   "cell_type": "markdown",
   "metadata": {},
   "source": [
    "### Lasso"
   ]
  },
  {
   "cell_type": "code",
   "execution_count": 222,
   "metadata": {
    "ExecuteTime": {
     "end_time": "2019-07-18T23:51:54.882321Z",
     "start_time": "2019-07-18T23:51:54.872575Z"
    }
   },
   "outputs": [],
   "source": [
    "X_train_30[\"Duration\"].values.reshape(-1,1)\n",
    "\n",
    "from sklearn import pipeline, preprocessing\n",
    "scaler = StandardScaler()\n",
    "X_train_scaled_30 = scaler.fit_transform(X_train_30 [\"Duration\"].values.reshape(-1, 1))\n",
    "X_val_scaled_30 = scaler.transform(X_val_30[\"Duration\"].values.reshape(-1, 1))\n",
    "X_test_scaled_30 = scaler.transform(X_test_30[\"Duration\"].values.reshape(-1, 1))"
   ]
  },
  {
   "cell_type": "code",
   "execution_count": 223,
   "metadata": {
    "ExecuteTime": {
     "end_time": "2019-07-18T23:51:57.936041Z",
     "start_time": "2019-07-18T23:51:57.920251Z"
    }
   },
   "outputs": [],
   "source": [
    "X_train_scaled_30 = X_train_30.copy()\n",
    "\n",
    "X_train_scaled_30[\"Duration\"] = X_train_scaled_30\n",
    "\n",
    "X_val_scaled_30 =X_val_30.copy()\n",
    "X_val_scaled_30[\"Duration\"] = X_val_scaled_30\n",
    "\n",
    "X_test_scaled_30 =X_test_30.copy()\n",
    "X_test_scaled_30[\"Duration\"] = X_test_scaled_30"
   ]
  },
  {
   "cell_type": "code",
   "execution_count": 224,
   "metadata": {
    "ExecuteTime": {
     "end_time": "2019-07-18T23:52:00.676825Z",
     "start_time": "2019-07-18T23:51:59.530184Z"
    }
   },
   "outputs": [
    {
     "data": {
      "text/plain": [
       "LassoCV(alphas=array([1.00000e-05, 1.26186e-05, ..., 7.92483e+04, 1.00000e+05]),\n",
       "    copy_X=True, cv=10, eps=0.001, fit_intercept=True, max_iter=1000,\n",
       "    n_alphas=100, n_jobs=None, normalize=False, positive=False,\n",
       "    precompute='auto', random_state=None, selection='cyclic', tol=0.0001,\n",
       "    verbose=False)"
      ]
     },
     "execution_count": 224,
     "metadata": {},
     "output_type": "execute_result"
    }
   ],
   "source": [
    "from sklearn import datasets, model_selection, linear_model, pipeline, preprocessing\n",
    "lassocv_30 = linear_model.LassoCV(cv=10, alphas=np.logspace(-5,5,100))\n",
    "lassocv_30.fit(X_train_scaled_30, y_train_30)"
   ]
  },
  {
   "cell_type": "code",
   "execution_count": 225,
   "metadata": {
    "ExecuteTime": {
     "end_time": "2019-07-18T23:52:01.981390Z",
     "start_time": "2019-07-18T23:52:01.976217Z"
    }
   },
   "outputs": [
    {
     "data": {
      "text/plain": [
       "0.7054802310718645"
      ]
     },
     "execution_count": 225,
     "metadata": {},
     "output_type": "execute_result"
    }
   ],
   "source": [
    "lassocv_30.alpha_"
   ]
  },
  {
   "cell_type": "code",
   "execution_count": 226,
   "metadata": {
    "ExecuteTime": {
     "end_time": "2019-07-18T23:52:03.569778Z",
     "start_time": "2019-07-18T23:52:03.550778Z"
    }
   },
   "outputs": [
    {
     "data": {
      "text/plain": [
       "0.6745682225125773"
      ]
     },
     "execution_count": 226,
     "metadata": {},
     "output_type": "execute_result"
    }
   ],
   "source": [
    "lassocv_30.score(X_train_scaled_30, y_train_30)"
   ]
  },
  {
   "cell_type": "code",
   "execution_count": 227,
   "metadata": {
    "ExecuteTime": {
     "end_time": "2019-07-18T23:52:04.422483Z",
     "start_time": "2019-07-18T23:52:04.413457Z"
    }
   },
   "outputs": [
    {
     "data": {
      "text/plain": [
       "0.2522001594251594"
      ]
     },
     "execution_count": 227,
     "metadata": {},
     "output_type": "execute_result"
    }
   ],
   "source": [
    "lassocv_30.score(X_val_scaled_30, y_val_30)"
   ]
  },
  {
   "cell_type": "code",
   "execution_count": 228,
   "metadata": {
    "ExecuteTime": {
     "end_time": "2019-07-18T23:52:05.666600Z",
     "start_time": "2019-07-18T23:52:05.627058Z"
    }
   },
   "outputs": [
    {
     "data": {
      "text/plain": [
       "[('Duration', 2.0452520229574995),\n",
       " ('star_Kevin Hart', 0.0),\n",
       " ('star_Dwayne Johnson', 43.99848691519802),\n",
       " ('star_Mark Wahlberg', -19.19990053583822),\n",
       " ('star_Emily Blunt', 0.0),\n",
       " ('star_Anna Kendrick', 0.0),\n",
       " ('star_Chris Hemsworth', -0.0),\n",
       " ('star_Mark Ruffalo', -0.0),\n",
       " ('star_Ryan Reynolds', 62.64900998755022),\n",
       " ('star_Tom Cruise', -0.0),\n",
       " ('star_Johnny Depp', -0.0),\n",
       " ('star_Chris Pratt', 300.41068051450185),\n",
       " ('star_Woody Harrelson', 0.0),\n",
       " ('star_Ryan Gosling', -0.0),\n",
       " ('star_Jennifer Lawrence', 0.0),\n",
       " ('star_Dakota Johnson', 0.0),\n",
       " ('star_Ralph Fiennes', 0.0),\n",
       " ('star_Domhnall Gleeson', 0.0),\n",
       " ('star_Zac Efron', -0.0),\n",
       " ('star_Robert Downey Jr.', 326.4619068073881),\n",
       " ('star_Mila Kunis', 0.0),\n",
       " ('star_Tom Hardy', 0.6492062801372953),\n",
       " ('star_Michelle Williams', 0.0),\n",
       " ('star_Josh Brolin', -0.0),\n",
       " ('star_Michael B. Jordan', 0.0),\n",
       " ('star_Jason Statham', 0.0),\n",
       " ('star_Cate Blanchett', 0.0),\n",
       " ('star_Jeremy Renner', 0.0),\n",
       " ('star_Gerard Butler', -0.0),\n",
       " ('star_Jason Bateman', -0.0),\n",
       " ('star_Rachel McAdams', 0.0),\n",
       " ('star_Channing Tatum', -0.0),\n",
       " ('star_Will Ferrell', -0.0),\n",
       " ('star_Kevin James', 0.0),\n",
       " ('star_Melissa McCarthy', 0.0),\n",
       " ('star_Jack Black', -0.0),\n",
       " ('star_James McAvoy', -0.0),\n",
       " ('star_Michael Keaton', 0.0),\n",
       " ('star_Hugh Jackman', 0.0),\n",
       " ('star_Idris Elba', -0.0),\n",
       " ('star_Josh Gad', -0.0),\n",
       " ('star_Vin Diesel', 3.5426860360685337),\n",
       " ('star_Samuel L. Jackson', -0.0),\n",
       " ('star_Charlize Theron', -12.643621752281287),\n",
       " ('star_Tom Hanks', 0.0),\n",
       " ('star_Kristen Wiig', 0.0),\n",
       " ('star_Will Smith', 0.0),\n",
       " ('star_Hailee Steinfeld', 0.0),\n",
       " ('star_Chris Evans', 0.0),\n",
       " ('star_Willem Dafoe', 0.0),\n",
       " ('star_Patrick Wilson', 0.0),\n",
       " ('star_Ben Mendelsohn', 0.0),\n",
       " ('star_John C. Reilly', 0.0),\n",
       " ('star_Gal Gadot', 0.0),\n",
       " ('star_Taraji P. Henson', 0.0),\n",
       " ('star_Henry Cavill', -0.0),\n",
       " ('star_Eddie Redmayne', 0.0),\n",
       " ('star_Katherine Waterston', 0.0),\n",
       " ('star_Amy Adams', 0.0),\n",
       " ('star_Steve Carell', 0.0),\n",
       " ('star_Sam Rockwell', 0.0),\n",
       " ('star_Tessa Thompson', 0.0),\n",
       " ('star_Bryce Dallas Howard', -0.0),\n",
       " ('star_Anne Hathaway', 0.0),\n",
       " ('star_Mindy Kaling', 0.0),\n",
       " ('star_Nicholas Hoult', 0.0),\n",
       " ('star_Emilia Clarke', 0.0),\n",
       " ('star_Lily James', 0.0),\n",
       " ('star_Blake Lively', 0.0),\n",
       " ('star_John Cena', -0.0),\n",
       " ('star_Rose Byrne', 0.0),\n",
       " ('star_Jason Clarke', 0.0),\n",
       " ('star_Kyle Chandler', 0.0),\n",
       " ('star_Michael Peña', 0.0),\n",
       " ('star_Walton Goggins', 0.0),\n",
       " ('star_Ed Helms', -0.0),\n",
       " ('star_Jon Hamm', 0.0),\n",
       " ('star_Joel Edgerton', 0.0),\n",
       " ('star_Tiffany Haddish', -0.0),\n",
       " ('star_Viola Davis', 0.0),\n",
       " ('star_Denzel Washington', 0.0),\n",
       " (\"star_Dylan O'Brien\", -0.0),\n",
       " ('star_Shailene Woodley', -0.0),\n",
       " ('star_Jamie Dornan', 0.0),\n",
       " ('star_Eloise Mumford', 0.0),\n",
       " ('star_Benedict Cumberbatch', 0.0),\n",
       " ('star_James Corden', -0.0),\n",
       " ('star_Reese Witherspoon', -0.0),\n",
       " ('star_Adam Sandler', 0.0),\n",
       " ('star_Andy Samberg', 0.0),\n",
       " ('star_Bryan Cranston', 0.0),\n",
       " ('star_Alicia Vikander', 0.0),\n",
       " ('star_Jennifer Garner', -0.0),\n",
       " ('star_John Boyega', -0.0),\n",
       " ('star_Jennifer Lopez', 0.0),\n",
       " ('star_Amy Schumer', -0.0),\n",
       " ('star_Tom Hiddleston', 0.0),\n",
       " ('star_Jon Bernthal', 0.0),\n",
       " ('star_Ben Affleck', 21.524721578072956),\n",
       " ('star_Matthew McConaughey', 0.0),\n",
       " ('star_Mark Rylance', -0.0),\n",
       " ('star_Octavia Spencer', 0.0),\n",
       " ('star_John Goodman', 0.0),\n",
       " ('star_T.J. Miller', -0.0),\n",
       " ('star_Maya Rudolph', 0.0),\n",
       " ('star_Judi Dench', -0.0),\n",
       " ('star_Michael Fassbender', 0.0),\n",
       " ('star_Julia Roberts', 0.0),\n",
       " ('star_Rebecca Ferguson', 0.0),\n",
       " ('star_Scarlett Johansson', 0.0),\n",
       " ('star_Margot Robbie', -0.0),\n",
       " ('star_Rebel Wilson', 0.0),\n",
       " ('star_Kate Winslet', 0.0),\n",
       " ('star_Ice Cube', 0.0),\n",
       " ('star_Kristen Bell', 0.0),\n",
       " ('star_Dave Franco', 0.0),\n",
       " ('star_Tyler Perry', 0.0),\n",
       " ('star_J.K. Simmons', 0.0),\n",
       " ('star_Dev Patel', 0.0),\n",
       " ('star_Seth Rogen', -0.0),\n",
       " ('star_Matt Damon', 0.0),\n",
       " ('star_Jessica Chastain', 0.0),\n",
       " ('star_Robert De Niro', -0.0),\n",
       " ('star_Theo James', 0.0),\n",
       " ('star_George Clooney', -0.0),\n",
       " ('star_Jennifer Aniston', -0.0),\n",
       " ('star_Jake Johnson', 0.0),\n",
       " ('star_Mahershala Ali', 0.0),\n",
       " ('star_Toni Collette', -0.0),\n",
       " ('star_Ben Whishaw', -0.0),\n",
       " ('star_Bradley Cooper', 0.0),\n",
       " ('star_Jason Momoa', 0.0),\n",
       " ('star_Taron Egerton', 0.0),\n",
       " ('star_Justin Theroux', -0.0),\n",
       " ('star_Henry Golding', 0.0),\n",
       " ('star_Linda Cardellini', 0.0),\n",
       " ('star_Morena Baccarin', 0.0),\n",
       " ('star_Chadwick Boseman', 407.44018152177193),\n",
       " ('star_Danai Gurira', 0.0),\n",
       " ('star_Simon Pegg', 0.0),\n",
       " ('star_Rainn Wilson', 0.0),\n",
       " ('star_Cliff Curtis', 0.0),\n",
       " ('star_Dan Fogler', 0.0),\n",
       " ('star_Christian Bale', -0.0),\n",
       " ('star_John Krasinski', -0.0),\n",
       " ('star_Sylvester Stallone', 0.0),\n",
       " ('star_Phylicia Rashad', 0.0),\n",
       " ('star_Justice Smith', 0.0),\n",
       " ('star_Sandra Bullock', 49.39849918240987),\n",
       " ('star_Emma Stone', 0.0),\n",
       " ('star_Alden Ehrenreich', 0.0),\n",
       " ('star_Amanda Seyfried', 0.0),\n",
       " ('star_Meryl Streep', 0.0),\n",
       " ('star_Boyd Holbrook', 0.0),\n",
       " ('star_Jacob Tremblay', 0.0),\n",
       " ('star_Keegan-Michael Key', 0.0),\n",
       " ('star_Isabela Moner', 0.0),\n",
       " ('star_Judy Greer', 0.0),\n",
       " ('star_Jennifer Jason Leigh', 0.0),\n",
       " ('star_Benedict Wong', 0.0),\n",
       " ('star_Holly Hunter', 0.0),\n",
       " ('star_Paul Rudd', 0.0),\n",
       " ('star_Evangeline Lilly', 0.0),\n",
       " ('star_Morgan Freeman', 0.0),\n",
       " ('star_Helen Mirren', -0.0),\n",
       " ('star_Michelle Rodriguez', 0.0),\n",
       " ('star_Elizabeth Debicki', 0.0),\n",
       " ('star_Pablo Schreiber', 0.0),\n",
       " (\"star_O'Shea Jackson Jr.\", 0.0),\n",
       " ('star_Lauren Cohan', 0.0),\n",
       " ('star_Benicio Del Toro', 0.0),\n",
       " ('star_Leslie Mann', 0.0),\n",
       " ('star_Ike Barinholtz', 0.0),\n",
       " ('star_Kaya Scodelario', 0.0),\n",
       " ('star_Thomas Brodie-Sangster', 0.0),\n",
       " ('star_Sam Claflin', 0.0),\n",
       " ('star_Eugenio Derbez', -0.0),\n",
       " ('star_Anna Faris', 0.0),\n",
       " ('star_Eric Johnson', 0.0),\n",
       " ('star_Michael Shannon', 0.0),\n",
       " ('star_Zendaya', 0.0),\n",
       " ('star_Rebecca Hall', 0.0),\n",
       " ('star_Selena Gomez', 0.0),\n",
       " (\"star_Vincent D'Onofrio\", 0.0),\n",
       " ('star_Edward Norton', 0.0),\n",
       " ('star_Dominic West', 0.0),\n",
       " ('star_Annalise Basso', 0.0),\n",
       " ('star_Nick Robinson', -0.0),\n",
       " ('star_Josh Duhamel', 0.0),\n",
       " ('star_John Gallagher Jr.', 0.0),\n",
       " ('star_Vera Farmiga', -0.0),\n",
       " ('star_Scott Eastwood', 0.0),\n",
       " ('star_Leigh Whannell', 0.0),\n",
       " ('star_Angus Sampson', 0.0),\n",
       " ('star_Billy Burke', 0.0),\n",
       " ('star_Dennis Quaid', 0.0),\n",
       " ('star_Tika Sumpter', 0.0),\n",
       " ('star_Harrison Ford', 0.0),\n",
       " ('star_Dave Bautista', 0.0),\n",
       " ('star_Ansel Elgort', 0.0),\n",
       " ('star_Alexandra Daddario', 0.0),\n",
       " ('star_Nicole Kidman', 0.0),\n",
       " ('star_Zoe Saldana', 0.0),\n",
       " ('star_Chris Pine', 0.0),\n",
       " ('star_Daisy Ridley', 639.9496741959358),\n",
       " ('star_Benjamin Bratt', 0.0),\n",
       " ('star_Sally Hawkins', 0.0),\n",
       " ('star_Brie Larson', 0.0),\n",
       " ('star_Frances McDormand', 0.0),\n",
       " ('star_Cara Delevingne', 0.0),\n",
       " ('star_Rihanna', 0.0),\n",
       " ('star_Danny McBride', 0.0),\n",
       " ('star_Owen Wilson', -0.0),\n",
       " ('star_Russell Crowe', 0.0),\n",
       " ('star_Charlie Hunnam', -0.0),\n",
       " ('star_Jude Law', 0.0),\n",
       " ('star_Jackie Chan', -0.0),\n",
       " ('star_Jake Gyllenhaal', -0.0),\n",
       " ('star_Saoirse Ronan', -0.0),\n",
       " ('star_Lucas Hedges', 0.0),\n",
       " ('star_Sebastian Stan', 0.0),\n",
       " ('star_Allison Janney', 0.0),\n",
       " ('star_Sanaa Lathan', 0.0),\n",
       " ('star_Kumail Nanjiani', -0.0),\n",
       " ('star_Ray Romano', -0.0),\n",
       " ('star_Donnie Yen', 0.0),\n",
       " ('star_Gary Oldman', -0.0),\n",
       " ('star_Regina Hall', 0.0),\n",
       " ('star_Brittany Snow', 0.0),\n",
       " ('star_Kate McKinnon', 0.0),\n",
       " ('star_Alec Baldwin', 0.0),\n",
       " ('star_Will Arnett', 0.0),\n",
       " ('star_Dermot Mulroney', 0.0),\n",
       " ('star_Sam Worthington', -0.0),\n",
       " ('star_Kathryn Hahn', 0.0),\n",
       " ('star_Joe Manganiello', 0.0),\n",
       " ('star_Cassi Davis', 0.0),\n",
       " ('star_Patrice Lovely', 0.0),\n",
       " ('star_Yousef Erakat', 0.0),\n",
       " ('star_Teresa Palmer', 0.0),\n",
       " ('star_Jesse Eisenberg', -0.0),\n",
       " ('star_Rosemarie DeWitt', 0.0),\n",
       " ('star_Forest Whitaker', 0.0),\n",
       " ('star_Jane Levy', 0.0),\n",
       " ('star_Dylan Minnette', 0.0),\n",
       " ('star_Jonah Hill', -0.0),\n",
       " ('star_Miles Teller', -0.0),\n",
       " ('star_Seth MacFarlane', 0.0),\n",
       " ('star_Felicity Jones', 241.60542721921746),\n",
       " ('star_Liam Hemsworth', 0.0),\n",
       " ('star_Christoph Waltz', 0.0),\n",
       " ('star_Rooney Mara', 0.0),\n",
       " ('star_Matt Bomer', 0.0),\n",
       " ('star_Ben Foster', 0.0),\n",
       " ('star_Amy Ryan', 0.0),\n",
       " ('star_Aaron Eckhart', 0.0),\n",
       " ('star_Laura Linney', 0.0),\n",
       " ('star_Kevin Costner', 0.0),\n",
       " ('star_Albert Brooks', 0.0),\n",
       " ('star_Douglas M. Griffin', 0.0),\n",
       " ('star_Aubrey Plaza', 0.0),\n",
       " ('star_Chloë Grace Moretz', 0.0),\n",
       " ('star_Zoey Deutch', -0.0),\n",
       " ('star_Brad Pitt', -0.0),\n",
       " ('star_Marion Cotillard', 0.0),\n",
       " ('star_Maria Bello', 0.0),\n",
       " ('star_Michelle Monaghan', 0.0),\n",
       " ('star_Christina Applegate', 0.0),\n",
       " ('star_Peter Dinklage', 0.0),\n",
       " ('star_Kurt Russell', 0.0),\n",
       " ('star_Jason Sudeikis', 0.0),\n",
       " ('star_Mia Wasikowska', -0.0),\n",
       " ('star_Helena Bonham Carter', 0.0),\n",
       " ('star_Alison Brie', 0.0),\n",
       " ('star_Oona Laurence', 0.0),\n",
       " ('star_John Corbett', 0.0),\n",
       " ('star_Martin Henderson', 0.0),\n",
       " ('star_Kate Mara', 0.0),\n",
       " ('star_Amy Poehler', 0.0),\n",
       " ('star_Bill Hader', 0.0),\n",
       " ('star_Alan Alda', 0.0),\n",
       " ('star_Britt Robertson', 0.0),\n",
       " ('star_Thomas Haden Church', 0.0),\n",
       " ('star_Allison Tolman', 0.0),\n",
       " ('star_Rami Malek', 0.0),\n",
       " ('star_Lucy Boynton', 0.0),\n",
       " ('star_Gwilym Lee', 0.0),\n",
       " ('star_Ben Hardy', 0.0),\n",
       " ('star_Shameik Moore', 0.0),\n",
       " ('star_Milly Shapiro', 0.0),\n",
       " ('star_Gabriel Byrne', 0.0),\n",
       " ('star_Alex Wolff', 0.0),\n",
       " ('star_Lin-Manuel Miranda', 0.0),\n",
       " ('star_Emily Mortimer', 0.0),\n",
       " ('star_Lady Gaga', 0.0),\n",
       " ('star_Sam Elliott', 0.0),\n",
       " ('star_Greg Grunberg', 0.0),\n",
       " ('star_Amber Heard', 0.0),\n",
       " ('star_Jamie Foxx', 0.0),\n",
       " ('star_Eve Hewson', 0.0),\n",
       " ('star_Blanka Györfi-Tóth', 0.0),\n",
       " ('star_Vilma Szécsi', 0.0),\n",
       " ('star_Riz Ahmed', 0.0),\n",
       " ('star_Scott Haze', 0.0),\n",
       " ('star_Constance Wu', 0.0),\n",
       " ('star_Michelle Yeoh', 0.0),\n",
       " ('star_Gemma Chan', 0.0),\n",
       " ('star_Viggo Mortensen', -0.0),\n",
       " ('star_Sebastian Maniscalco', 0.0),\n",
       " ('star_Julian Dennison', 0.0),\n",
       " ('star_Sarah Silverman', 0.0),\n",
       " (\"star_Lupita Nyong'o\", 0.0),\n",
       " ('star_Demián Bichir', 0.0),\n",
       " ('star_Taissa Farmiga', 0.0),\n",
       " ('star_Jonas Bloquet', 0.0),\n",
       " ('star_Bonnie Aarons', 0.0),\n",
       " ('star_John David Washington', -0.0),\n",
       " ('star_Adam Driver', 0.0),\n",
       " ('star_Laura Harrier', 0.0),\n",
       " ('star_Topher Grace', 0.0),\n",
       " ('star_Ving Rhames', 0.0),\n",
       " ('star_Tye Sheridan', 0.0),\n",
       " ('star_Olivia Cooke', 0.0),\n",
       " ('star_Lena Waithe', 0.0),\n",
       " ('star_Bingbing Li', 0.0),\n",
       " ('star_Clint Eastwood', 0.0),\n",
       " ('star_Patrick L. Reyes', 0.0),\n",
       " ('star_Cesar De León', 0.0),\n",
       " ('star_Gustavo Muñoz', 0.0),\n",
       " ('star_Millicent Simmonds', 0.0),\n",
       " ('star_Noah Jupe', 0.0),\n",
       " ('star_Rafe Spall', 0.0),\n",
       " ('star_Olivia Colman', 0.0),\n",
       " ('star_Rachel Weisz', 0.0),\n",
       " ('star_Donald Glover', 0.0),\n",
       " ('star_Cher', 0.0),\n",
       " ('star_Andrew Rannells', 0.0),\n",
       " ('star_Trevante Rhodes', 0.0),\n",
       " ('star_Jorge Lendeborg Jr.', 0.0),\n",
       " ('star_Jason Drucker', 0.0),\n",
       " ('star_Gustavo Escobar', 0.0),\n",
       " ('star_Jamie Lee Curtis', 0.0),\n",
       " ('star_Andi Matichak', 0.0),\n",
       " ('star_James Jude Courtney', 0.0),\n",
       " ('star_Claire Foy', 0.0),\n",
       " ('star_Natalie Portman', -0.0),\n",
       " ('star_Craig T. Nelson', 266.7066906350099),\n",
       " ('star_Sarah Vowell', 0.0),\n",
       " ('star_Huck Milner', 0.0),\n",
       " ('star_Mackenzie Foy', 0.0),\n",
       " ('star_Keira Knightley', 0.0),\n",
       " ('star_Matthias Schoenaerts', 0.0),\n",
       " ('star_Charlotte Rampling', 0.0),\n",
       " ('star_Rob Riggle', 0.0),\n",
       " ('star_Romany Malco', 0.0),\n",
       " ('star_50 Cent', 0.0),\n",
       " ('star_Iko Uwais', 0.0),\n",
       " ('star_John Malkovich', 0.0),\n",
       " ('star_Pedro Pascal', 0.0),\n",
       " ('star_Ashton Sanders', 0.0),\n",
       " ('star_Orson Bean', 0.0),\n",
       " ('star_Jeffrey Donovan', 0.0),\n",
       " ('star_Sharon Horgan', 0.0),\n",
       " ('star_Kathryn Newton', 0.0),\n",
       " ('star_Ki Hong Lee', 0.0),\n",
       " ('star_Jeffrey Thomas', 0.0),\n",
       " ('star_Elizabeth Hawthorne', 0.0),\n",
       " ('star_Eva Longoria', 0.0),\n",
       " ('star_John Hannah', 0.0),\n",
       " ('star_Naomie Harris', 0.0),\n",
       " ('star_Malin Akerman', 0.0),\n",
       " ('star_Jeffrey Dean Morgan', 0.0),\n",
       " ('star_Navid Negahban', 0.0),\n",
       " ('star_Diane Keaton', 0.0),\n",
       " ('star_Jane Fonda', 0.0),\n",
       " ('star_Candice Bergen', 0.0),\n",
       " ('star_Mary Steenburgen', 0.0),\n",
       " ('star_Cameron Seely', 0.0),\n",
       " ('star_Rashida Jones', 0.0),\n",
       " ('star_Pharrell Williams', 0.0),\n",
       " ('star_Common', 0.0),\n",
       " ('star_Storm Reid', 0.0),\n",
       " ('star_Oprah Winfrey', 0.0),\n",
       " ('star_Ewan McGregor', 0.0),\n",
       " ('star_Hayley Atwell', 0.0),\n",
       " ('star_Bronte Carmichael', 0.0),\n",
       " ('star_Mark Gatiss', 0.0),\n",
       " ('star_Bruce Willis', 0.0),\n",
       " ('star_Elisabeth Shue', 0.0),\n",
       " ('star_Camila Morrone', 0.0),\n",
       " ('star_Koyu Rankin', 0.0),\n",
       " ('star_Bob Balaban', 0.0),\n",
       " ('star_Matt Walsh', 0.0),\n",
       " ('star_Molly Gordon', 0.0),\n",
       " ('star_Ben Falcone', 0.0),\n",
       " ('star_Daniel Wu', 0.0),\n",
       " ('star_Joey King', 0.0),\n",
       " ('star_Julia Goldani Telles', 0.0),\n",
       " ('star_Jaz Sinclair', 0.0),\n",
       " ('star_Neve Campbell', 0.0),\n",
       " ('star_Chin Han', 0.0),\n",
       " ('star_Roland Møller', 0.0),\n",
       " ('star_Kodi Smit-McPhee', 0.0),\n",
       " ('star_Jóhannes Haukur Jóhannesson', 0.0),\n",
       " ('star_Marcin Kowalczyk', 0.0),\n",
       " ('star_Jens Hultén', 0.0),\n",
       " ('star_Katherine Langford', 0.0),\n",
       " ('star_John Ortiz', 0.0),\n",
       " ('star_Juan Pablo Raba', 0.0),\n",
       " ('star_Liam Neeson', -0.0),\n",
       " ('star_Jonathan Banks', 0.0),\n",
       " ('star_Wendi McLendon-Covey', -0.0),\n",
       " ('star_Madison Iseman', 0.0),\n",
       " ('star_Jeremy Ray Taylor', 0.0),\n",
       " ('star_Caleel Harris', 0.0),\n",
       " (\"star_Y'lan Noel\", -0.0),\n",
       " ('star_Lex Scott Davis', 0.0),\n",
       " ('star_Joivan Wade', 0.0),\n",
       " ('star_Steve Harris', 0.0),\n",
       " ('star_Alek Skarlatos', 0.0),\n",
       " ('star_Anthony Sadler', 0.0),\n",
       " ('star_Spencer Stone', 0.0),\n",
       " ('star_Ray Corasani', 0.0),\n",
       " ('star_Cailee Spaeny', 0.0),\n",
       " ('star_Burn Gorman', 0.0),\n",
       " ('star_Lucy Hale', -0.0),\n",
       " ('star_Tyler Posey', 0.0),\n",
       " ('star_Violett Beane', 0.0),\n",
       " ('star_Hayden Szeto', 0.0),\n",
       " ('star_Owen Vaccaro', 0.0),\n",
       " ('star_Kyle MacLachlan', 0.0),\n",
       " ('star_Kyrie Irving', 0.0),\n",
       " ('star_Lil Rel Howery', 0.0),\n",
       " (\"star_Shaquille O'Neal\", 0.0),\n",
       " ('star_Chris Webber', 0.0),\n",
       " ('star_Vanessa Hudgens', 0.0),\n",
       " ('star_Leah Remini', 0.0),\n",
       " ('star_Treat Williams', 0.0),\n",
       " ('star_Emily Ratajkowski', 0.0),\n",
       " ('star_Tom Hopper', 0.0),\n",
       " ('star_Lin Shaye', -0.0),\n",
       " ('star_Kirk Acevedo', 0.0),\n",
       " ('star_Fayssal Bazzi', 0.0),\n",
       " ('star_Sia', 0.0),\n",
       " ('star_Jay Chandrasekhar', -0.0),\n",
       " ('star_Kevin Heffernan', 0.0),\n",
       " ('star_Steve Lemme', 0.0),\n",
       " ('star_Paul Soter', 0.0),\n",
       " ('star_Masako Nozawa', -0.0),\n",
       " ('star_Aya Hisakawa', 0.0),\n",
       " ('star_Ryô Horikawa', 0.0),\n",
       " ('star_Toshio Furukawa', 0.0),\n",
       " ('star_Gabrielle Union', -0.0),\n",
       " ('star_Richard Cabral', 0.0),\n",
       " ('star_Ajiona Alexus', 0.0),\n",
       " ('star_Kelly Asbury', 0.0),\n",
       " ('star_J. Michael Finley', 0.0),\n",
       " ('star_Madeline Carroll', 0.0),\n",
       " ('star_Trace Adkins', 0.0),\n",
       " ('star_Lyriq Bent', 0.0),\n",
       " ('star_Crystle Stewart', 0.0),\n",
       " ('star_Jazmyn Simon', 0.0),\n",
       " ('star_Omari Hardwick', 0.0),\n",
       " ('star_Mehcad Brooks', 0.0),\n",
       " ('star_Tom Holland', 0.0),\n",
       " ('star_Marisa Tomei', 0.0),\n",
       " ('star_Dacre Montgomery', 0.0),\n",
       " ('star_Naomi Scott', 0.0),\n",
       " ('star_RJ Cyler', 0.0),\n",
       " ('star_Ludi Lin', 0.0),\n",
       " ('star_Bill Skarsgård', 34.65517693742612),\n",
       " ('star_Jaeden Martell', 0.0),\n",
       " ('star_Finn Wolfhard', 0.0),\n",
       " ('star_Sophia Lillis', 0.0),\n",
       " ('star_Karen Gillan', 0.0),\n",
       " ('star_Ana de Armas', 0.0),\n",
       " ('star_Eiza González', 0.0),\n",
       " ('star_Ezra Miller', 0.0),\n",
       " ('star_Daniel Kaluuya', 0.0),\n",
       " ('star_Allison Williams', 0.0),\n",
       " ('star_Bradley Whitford', 0.0),\n",
       " ('star_Catherine Keener', 0.0),\n",
       " ('star_Keanu Reeves', -0.0),\n",
       " ('star_Riccardo Scamarcio', 0.0),\n",
       " ('star_Ian McShane', 0.0),\n",
       " ('star_Ruby Rose', 0.0),\n",
       " ('star_Priyanka Chopra', 0.0),\n",
       " ('star_Tom Taylor', 0.0),\n",
       " ('star_Dennis Haysbert', 0.0),\n",
       " ('star_Emma Watson', 219.75213565654343),\n",
       " ('star_Dan Stevens', 0.0),\n",
       " ('star_Luke Evans', 0.0),\n",
       " ('star_Aja Naomi King', 0.0),\n",
       " ('star_Anthony LaPaglia', 0.0),\n",
       " ('star_Samara Lee', 0.0),\n",
       " ('star_Miranda Otto', 0.0),\n",
       " ('star_Brad Greenquist', 0.0),\n",
       " ('star_Robin Wright', 0.0),\n",
       " ('star_Lucy Davis', 0.0),\n",
       " ('star_Fionn Whitehead', 0.0),\n",
       " ('star_Barry Keoghan', 0.0),\n",
       " ('genre_Adventure', 0.0),\n",
       " ('genre_Action', 1.8437365313650602),\n",
       " ('genre_Comedy', -23.987329890290773),\n",
       " ('genre_Drama', -17.986947153487172),\n",
       " ('genre_Thriller', 0.0),\n",
       " ('genre_Crime', -33.73483163734234),\n",
       " ('genre_Sci-Fi', 0.0),\n",
       " ('genre_Animation', 83.82025879925628),\n",
       " ('genre_Horror', 0.0),\n",
       " ('genre_Fantasy', 0.0),\n",
       " ('genre_Biography', -31.61672130227429),\n",
       " ('genre_Romance', 0.0),\n",
       " ('genre_Mystery', 0.0),\n",
       " ('genre_Family', 3.707363672263693),\n",
       " ('genre_History', 0.0),\n",
       " ('genre_Music', 0.0),\n",
       " ('genre_Sport', 0.0),\n",
       " ('genre_Musical', 0.0),\n",
       " ('genre_Western', 0.0)]"
      ]
     },
     "execution_count": 228,
     "metadata": {},
     "output_type": "execute_result"
    }
   ],
   "source": [
    "list(zip(X_train_scaled_30.columns, lassocv_30.coef_))"
   ]
  },
  {
   "cell_type": "code",
   "execution_count": 229,
   "metadata": {
    "ExecuteTime": {
     "end_time": "2019-07-18T23:52:08.172709Z",
     "start_time": "2019-07-18T23:52:08.162176Z"
    }
   },
   "outputs": [
    {
     "data": {
      "text/plain": [
       "[('Duration', 2.0452520229574995),\n",
       " ('star_Dwayne Johnson', 43.99848691519802),\n",
       " ('star_Mark Wahlberg', -19.19990053583822),\n",
       " ('star_Ryan Reynolds', 62.64900998755022),\n",
       " ('star_Chris Pratt', 300.41068051450185),\n",
       " ('star_Robert Downey Jr.', 326.4619068073881),\n",
       " ('star_Tom Hardy', 0.6492062801372953),\n",
       " ('star_Vin Diesel', 3.5426860360685337),\n",
       " ('star_Charlize Theron', -12.643621752281287),\n",
       " ('star_Ben Affleck', 21.524721578072956),\n",
       " ('star_Chadwick Boseman', 407.44018152177193),\n",
       " ('star_Sandra Bullock', 49.39849918240987),\n",
       " ('star_Daisy Ridley', 639.9496741959358),\n",
       " ('star_Felicity Jones', 241.60542721921746),\n",
       " ('star_Craig T. Nelson', 266.7066906350099),\n",
       " ('star_Bill Skarsgård', 34.65517693742612),\n",
       " ('star_Emma Watson', 219.75213565654343),\n",
       " ('genre_Action', 1.8437365313650602),\n",
       " ('genre_Comedy', -23.987329890290773),\n",
       " ('genre_Drama', -17.986947153487172),\n",
       " ('genre_Crime', -33.73483163734234),\n",
       " ('genre_Animation', 83.82025879925628),\n",
       " ('genre_Biography', -31.61672130227429),\n",
       " ('genre_Family', 3.707363672263693)]"
      ]
     },
     "execution_count": 229,
     "metadata": {},
     "output_type": "execute_result"
    }
   ],
   "source": [
    "[x for x in list(zip(X_train_scaled_30.columns, lassocv_30.coef_)) if abs(x[1]) != 0]"
   ]
  },
  {
   "cell_type": "markdown",
   "metadata": {},
   "source": [
    "# Combining the results"
   ]
  },
  {
   "cell_type": "code",
   "execution_count": 236,
   "metadata": {
    "ExecuteTime": {
     "end_time": "2019-07-18T23:55:15.463734Z",
     "start_time": "2019-07-18T23:55:15.262071Z"
    }
   },
   "outputs": [],
   "source": [
    "\n",
    "#results_models = pd.DataFrame([{\"Train\": lm.score(X_train, y_train), \"Validate\": lm.score(X_val, y_val)},{\"Train\": lassocv.score(X_with_Scaled, y_train), \"Validate\": lassocv.score(X_val_scaled, y_val)},{\"Train\": lassocv_78.score(X_train_scaled_78, y_train_78), \"Validate\": lassocv_78.score(X_val_scaled_78, y_val_78)},{\"Train\": lassocv_50.score(X_train_scaled_50, y_train_50), \"Validate\": lassocv_50.score(X_val_scaled_50, y_val_50)},{\"Train\": lassocv.score(X_with_Scaled, y_train), \"Validate\": lassocv.score(X_val_scaled, y_val)}], index = [\"Linear Regression:1029 Features\",\"Model 1: 1029 Features\",\"Model 2: 636 Features\",\"Model 3: 745 Features\",\"Model 4: 839 Features\"])\n",
    "\n",
    "models_results = pd.DataFrame([{\"Train\": lassocv.score(X_with_Scaled, y_train), \"Validate\": lassocv.score(X_val_scaled, y_val)},{\"Train\": lassocv_78.score(X_train_scaled_78, y_train_78), \"Validate\": lassocv_78.score(X_val_scaled_78, y_val_78)},{\"Train\": lassocv_50.score(X_train_scaled_50, y_train_50), \"Validate\": lassocv_50.score(X_val_scaled_50, y_val_50)},{\"Train\": lassocv_50.score(X_train_scaled_30, y_train_30), \"Validate\": lassocv_50.score(X_val_scaled_30, y_val_30)}], index = [\"Model 1: 530 Features\",\"Model 2: 481 Features\",\"Model 3: 524 Features\",\"Model 4_S: 524 Features\"])\n"
   ]
  },
  {
   "cell_type": "code",
   "execution_count": 237,
   "metadata": {
    "ExecuteTime": {
     "end_time": "2019-07-18T23:55:16.295009Z",
     "start_time": "2019-07-18T23:55:16.285818Z"
    }
   },
   "outputs": [
    {
     "data": {
      "text/html": [
       "<div>\n",
       "<style scoped>\n",
       "    .dataframe tbody tr th:only-of-type {\n",
       "        vertical-align: middle;\n",
       "    }\n",
       "\n",
       "    .dataframe tbody tr th {\n",
       "        vertical-align: top;\n",
       "    }\n",
       "\n",
       "    .dataframe thead th {\n",
       "        text-align: right;\n",
       "    }\n",
       "</style>\n",
       "<table border=\"1\" class=\"dataframe\">\n",
       "  <thead>\n",
       "    <tr style=\"text-align: right;\">\n",
       "      <th></th>\n",
       "      <th>Train</th>\n",
       "      <th>Validate</th>\n",
       "    </tr>\n",
       "  </thead>\n",
       "  <tbody>\n",
       "    <tr>\n",
       "      <th>Model 1: 530 Features</th>\n",
       "      <td>0.179189</td>\n",
       "      <td>0.226335</td>\n",
       "    </tr>\n",
       "    <tr>\n",
       "      <th>Model 2: 481 Features</th>\n",
       "      <td>0.954466</td>\n",
       "      <td>0.039379</td>\n",
       "    </tr>\n",
       "    <tr>\n",
       "      <th>Model 3: 524 Features</th>\n",
       "      <td>0.724698</td>\n",
       "      <td>0.177163</td>\n",
       "    </tr>\n",
       "    <tr>\n",
       "      <th>Model 4_S: 524 Features</th>\n",
       "      <td>0.038026</td>\n",
       "      <td>-0.151504</td>\n",
       "    </tr>\n",
       "  </tbody>\n",
       "</table>\n",
       "</div>"
      ],
      "text/plain": [
       "                            Train  Validate\n",
       "Model 1: 530 Features    0.179189  0.226335\n",
       "Model 2: 481 Features    0.954466  0.039379\n",
       "Model 3: 524 Features    0.724698  0.177163\n",
       "Model 4_S: 524 Features  0.038026 -0.151504"
      ]
     },
     "execution_count": 237,
     "metadata": {},
     "output_type": "execute_result"
    }
   ],
   "source": [
    "models_results"
   ]
  },
  {
   "cell_type": "markdown",
   "metadata": {},
   "source": [
    "My winner is the model with 530 features, R2 square of 0.22635 "
   ]
  },
  {
   "cell_type": "code",
   "execution_count": 238,
   "metadata": {
    "ExecuteTime": {
     "end_time": "2019-07-18T23:55:26.398478Z",
     "start_time": "2019-07-18T23:55:26.393474Z"
    }
   },
   "outputs": [
    {
     "name": "stdout",
     "output_type": "stream",
     "text": [
      "(154, 481) (233, 524) (344, 524) (513, 526) (9155, 530)\n"
     ]
    }
   ],
   "source": [
    "print(merge_budget_78.shape,merge_budget_50.shape,merge_budget_30.shape,merge_budget_10.shape,merge_data.shape)"
   ]
  },
  {
   "cell_type": "markdown",
   "metadata": {},
   "source": [
    "## Making predictions using the test set"
   ]
  },
  {
   "cell_type": "code",
   "execution_count": 246,
   "metadata": {
    "ExecuteTime": {
     "end_time": "2019-07-19T00:56:20.394682Z",
     "start_time": "2019-07-19T00:56:20.302711Z"
    }
   },
   "outputs": [],
   "source": [
    "# Name of my model lassocv\n",
    "# #holding out 20% as test data\n",
    "# X, X_test, y, y_test = train_test_split(X_origin, y_origin, test_size=.2, random_state=10)\n",
    "\n",
    "# # Split TRAIN and VALIDATION \n",
    "# X_train, X_val, y_train, y_val = train_test_split(X, y, test_size=.25, random_state=3)\n",
    "\n",
    "y_pred = lassocv.predict(X_test)"
   ]
  },
  {
   "cell_type": "code",
   "execution_count": 281,
   "metadata": {
    "ExecuteTime": {
     "end_time": "2019-07-19T17:18:02.467436Z",
     "start_time": "2019-07-19T17:18:02.461187Z"
    }
   },
   "outputs": [
    {
     "data": {
      "text/plain": [
       "pandas.core.frame.DataFrame"
      ]
     },
     "execution_count": 281,
     "metadata": {},
     "output_type": "execute_result"
    }
   ],
   "source": [
    "type(X_test)"
   ]
  },
  {
   "cell_type": "code",
   "execution_count": 247,
   "metadata": {
    "ExecuteTime": {
     "end_time": "2019-07-19T00:56:22.045073Z",
     "start_time": "2019-07-19T00:56:22.035560Z"
    }
   },
   "outputs": [
    {
     "name": "stdout",
     "output_type": "stream",
     "text": [
      "[ 1.22183923e-01 -0.00000000e+00  0.00000000e+00 -0.00000000e+00\n",
      " -0.00000000e+00 -0.00000000e+00 -0.00000000e+00 -0.00000000e+00\n",
      " -0.00000000e+00 -0.00000000e+00 -0.00000000e+00 -0.00000000e+00\n",
      "  0.00000000e+00 -0.00000000e+00 -0.00000000e+00 -0.00000000e+00\n",
      " -0.00000000e+00  0.00000000e+00 -0.00000000e+00  0.00000000e+00\n",
      " -0.00000000e+00 -0.00000000e+00 -0.00000000e+00  0.00000000e+00\n",
      " -0.00000000e+00  1.78262747e+00  0.00000000e+00  3.56679349e+01\n",
      " -0.00000000e+00 -0.00000000e+00  0.00000000e+00 -0.00000000e+00\n",
      "  0.00000000e+00 -0.00000000e+00 -0.00000000e+00 -0.00000000e+00\n",
      "  1.11508999e+00 -0.00000000e+00  0.00000000e+00 -0.00000000e+00\n",
      " -0.00000000e+00  0.00000000e+00 -0.00000000e+00  0.00000000e+00\n",
      "  0.00000000e+00 -0.00000000e+00 -0.00000000e+00 -0.00000000e+00\n",
      " -0.00000000e+00 -0.00000000e+00  0.00000000e+00 -0.00000000e+00\n",
      " -0.00000000e+00 -0.00000000e+00 -0.00000000e+00 -0.00000000e+00\n",
      " -0.00000000e+00  0.00000000e+00  0.00000000e+00  0.00000000e+00\n",
      " -0.00000000e+00  0.00000000e+00  0.00000000e+00  0.00000000e+00\n",
      "  6.96053288e+01 -0.00000000e+00  3.84618703e+01  0.00000000e+00\n",
      "  2.11225957e+01  0.00000000e+00  0.00000000e+00  3.83615316e+01\n",
      "  0.00000000e+00  0.00000000e+00  4.95418517e+01  0.00000000e+00\n",
      "  0.00000000e+00 -0.00000000e+00  0.00000000e+00  0.00000000e+00\n",
      "  0.00000000e+00 -0.00000000e+00 -0.00000000e+00 -0.00000000e+00\n",
      " -0.00000000e+00  0.00000000e+00 -0.00000000e+00 -0.00000000e+00\n",
      " -0.00000000e+00 -0.00000000e+00 -0.00000000e+00  0.00000000e+00\n",
      " -0.00000000e+00  0.00000000e+00  0.00000000e+00  0.00000000e+00\n",
      " -0.00000000e+00  5.23472930e+01 -0.00000000e+00  0.00000000e+00\n",
      " -0.00000000e+00  0.00000000e+00 -0.00000000e+00 -0.00000000e+00\n",
      "  0.00000000e+00 -0.00000000e+00  3.85542945e+01 -0.00000000e+00\n",
      "  0.00000000e+00 -0.00000000e+00  0.00000000e+00 -0.00000000e+00\n",
      " -0.00000000e+00  0.00000000e+00 -0.00000000e+00 -0.00000000e+00\n",
      " -0.00000000e+00 -0.00000000e+00 -0.00000000e+00  0.00000000e+00\n",
      " -0.00000000e+00 -0.00000000e+00 -0.00000000e+00 -0.00000000e+00\n",
      " -0.00000000e+00 -0.00000000e+00  0.00000000e+00 -0.00000000e+00\n",
      " -0.00000000e+00 -0.00000000e+00 -0.00000000e+00 -0.00000000e+00\n",
      "  0.00000000e+00 -0.00000000e+00  0.00000000e+00 -0.00000000e+00\n",
      " -0.00000000e+00 -0.00000000e+00 -0.00000000e+00 -0.00000000e+00\n",
      "  0.00000000e+00  0.00000000e+00  0.00000000e+00 -0.00000000e+00\n",
      " -0.00000000e+00  0.00000000e+00 -0.00000000e+00  0.00000000e+00\n",
      " -0.00000000e+00 -0.00000000e+00  0.00000000e+00 -0.00000000e+00\n",
      " -0.00000000e+00  0.00000000e+00 -0.00000000e+00  3.08265667e+01\n",
      "  0.00000000e+00 -0.00000000e+00 -0.00000000e+00 -0.00000000e+00\n",
      "  0.00000000e+00  0.00000000e+00 -0.00000000e+00 -0.00000000e+00\n",
      "  2.01541229e+01  0.00000000e+00 -0.00000000e+00 -0.00000000e+00\n",
      " -0.00000000e+00 -0.00000000e+00  0.00000000e+00 -0.00000000e+00\n",
      " -0.00000000e+00 -0.00000000e+00 -0.00000000e+00 -0.00000000e+00\n",
      "  0.00000000e+00 -0.00000000e+00 -0.00000000e+00  3.69068499e+01\n",
      " -0.00000000e+00 -0.00000000e+00 -0.00000000e+00  0.00000000e+00\n",
      "  0.00000000e+00 -0.00000000e+00 -0.00000000e+00 -0.00000000e+00\n",
      " -0.00000000e+00  0.00000000e+00  0.00000000e+00 -0.00000000e+00\n",
      " -0.00000000e+00  0.00000000e+00 -0.00000000e+00  0.00000000e+00\n",
      " -0.00000000e+00  0.00000000e+00 -0.00000000e+00 -0.00000000e+00\n",
      " -0.00000000e+00 -0.00000000e+00  0.00000000e+00 -0.00000000e+00\n",
      "  0.00000000e+00 -0.00000000e+00 -0.00000000e+00  0.00000000e+00\n",
      " -0.00000000e+00  0.00000000e+00 -0.00000000e+00 -0.00000000e+00\n",
      " -0.00000000e+00 -0.00000000e+00 -0.00000000e+00 -0.00000000e+00\n",
      "  0.00000000e+00  0.00000000e+00  0.00000000e+00  0.00000000e+00\n",
      "  0.00000000e+00  0.00000000e+00 -0.00000000e+00 -0.00000000e+00\n",
      " -0.00000000e+00  0.00000000e+00 -0.00000000e+00 -0.00000000e+00\n",
      "  0.00000000e+00 -0.00000000e+00  0.00000000e+00 -0.00000000e+00\n",
      " -0.00000000e+00  0.00000000e+00  0.00000000e+00  0.00000000e+00\n",
      " -0.00000000e+00  0.00000000e+00 -0.00000000e+00  0.00000000e+00\n",
      "  0.00000000e+00  0.00000000e+00 -0.00000000e+00  0.00000000e+00\n",
      "  2.13923151e+01 -0.00000000e+00 -0.00000000e+00  0.00000000e+00\n",
      "  0.00000000e+00  0.00000000e+00  0.00000000e+00  8.77039417e+00\n",
      "  0.00000000e+00 -0.00000000e+00  0.00000000e+00 -0.00000000e+00\n",
      "  0.00000000e+00 -0.00000000e+00 -0.00000000e+00  0.00000000e+00\n",
      "  0.00000000e+00  4.85281037e+00  0.00000000e+00  0.00000000e+00\n",
      "  0.00000000e+00  0.00000000e+00 -0.00000000e+00  0.00000000e+00\n",
      " -0.00000000e+00  6.89394322e+01  0.00000000e+00  0.00000000e+00\n",
      " -0.00000000e+00  0.00000000e+00  0.00000000e+00  0.00000000e+00\n",
      " -0.00000000e+00 -0.00000000e+00  0.00000000e+00  0.00000000e+00\n",
      "  2.64783678e+01  0.00000000e+00  1.51448507e+01  0.00000000e+00\n",
      "  0.00000000e+00  0.00000000e+00  0.00000000e+00  0.00000000e+00\n",
      "  0.00000000e+00 -0.00000000e+00 -0.00000000e+00  0.00000000e+00\n",
      "  0.00000000e+00 -0.00000000e+00 -0.00000000e+00  0.00000000e+00\n",
      " -0.00000000e+00 -0.00000000e+00  0.00000000e+00 -0.00000000e+00\n",
      " -0.00000000e+00 -0.00000000e+00 -0.00000000e+00  0.00000000e+00\n",
      "  0.00000000e+00  0.00000000e+00  0.00000000e+00  0.00000000e+00\n",
      " -0.00000000e+00  0.00000000e+00 -0.00000000e+00  0.00000000e+00\n",
      "  0.00000000e+00 -0.00000000e+00 -0.00000000e+00  0.00000000e+00\n",
      " -0.00000000e+00  0.00000000e+00  0.00000000e+00 -0.00000000e+00\n",
      " -0.00000000e+00 -0.00000000e+00 -0.00000000e+00  0.00000000e+00\n",
      " -0.00000000e+00 -0.00000000e+00 -0.00000000e+00 -0.00000000e+00\n",
      " -0.00000000e+00  0.00000000e+00  0.00000000e+00 -0.00000000e+00\n",
      " -0.00000000e+00 -0.00000000e+00  0.00000000e+00  0.00000000e+00\n",
      " -0.00000000e+00  0.00000000e+00 -0.00000000e+00 -0.00000000e+00\n",
      " -0.00000000e+00 -0.00000000e+00  0.00000000e+00  0.00000000e+00\n",
      " -0.00000000e+00 -0.00000000e+00 -0.00000000e+00  0.00000000e+00\n",
      " -0.00000000e+00 -0.00000000e+00  0.00000000e+00  0.00000000e+00\n",
      " -0.00000000e+00 -0.00000000e+00  0.00000000e+00 -0.00000000e+00\n",
      " -0.00000000e+00 -0.00000000e+00 -0.00000000e+00 -0.00000000e+00\n",
      "  0.00000000e+00 -0.00000000e+00 -0.00000000e+00 -0.00000000e+00\n",
      " -0.00000000e+00 -0.00000000e+00 -0.00000000e+00 -0.00000000e+00\n",
      "  0.00000000e+00 -0.00000000e+00  0.00000000e+00  0.00000000e+00\n",
      " -0.00000000e+00  0.00000000e+00 -0.00000000e+00  0.00000000e+00\n",
      " -0.00000000e+00  0.00000000e+00 -0.00000000e+00  0.00000000e+00\n",
      " -0.00000000e+00  0.00000000e+00  0.00000000e+00 -0.00000000e+00\n",
      " -0.00000000e+00  0.00000000e+00 -0.00000000e+00  0.00000000e+00\n",
      " -0.00000000e+00  5.55857138e+01 -0.00000000e+00 -0.00000000e+00\n",
      "  0.00000000e+00  0.00000000e+00 -0.00000000e+00  0.00000000e+00\n",
      "  0.00000000e+00  0.00000000e+00  0.00000000e+00  0.00000000e+00\n",
      " -0.00000000e+00  0.00000000e+00 -0.00000000e+00 -0.00000000e+00\n",
      " -0.00000000e+00 -0.00000000e+00 -0.00000000e+00 -0.00000000e+00\n",
      " -0.00000000e+00  0.00000000e+00 -0.00000000e+00 -0.00000000e+00\n",
      "  0.00000000e+00 -0.00000000e+00  0.00000000e+00  5.64059786e+01\n",
      "  0.00000000e+00  0.00000000e+00  0.00000000e+00 -0.00000000e+00\n",
      "  0.00000000e+00  0.00000000e+00 -0.00000000e+00  6.37055513e+01\n",
      "  0.00000000e+00  0.00000000e+00  0.00000000e+00  0.00000000e+00\n",
      "  6.39153426e+01  0.00000000e+00  3.36868563e+02  0.00000000e+00\n",
      "  0.00000000e+00  0.00000000e+00  0.00000000e+00  0.00000000e+00\n",
      "  0.00000000e+00  0.00000000e+00  0.00000000e+00 -0.00000000e+00\n",
      "  0.00000000e+00  0.00000000e+00  0.00000000e+00  0.00000000e+00\n",
      "  0.00000000e+00  0.00000000e+00  0.00000000e+00  0.00000000e+00\n",
      "  0.00000000e+00  0.00000000e+00 -0.00000000e+00 -0.00000000e+00\n",
      "  0.00000000e+00  1.63507735e+01  0.00000000e+00  0.00000000e+00\n",
      " -0.00000000e+00 -0.00000000e+00 -0.00000000e+00 -0.00000000e+00\n",
      "  0.00000000e+00  0.00000000e+00 -0.00000000e+00 -0.00000000e+00\n",
      "  0.00000000e+00  0.00000000e+00  0.00000000e+00  0.00000000e+00\n",
      "  1.05040163e+02 -0.00000000e+00 -0.00000000e+00  0.00000000e+00\n",
      " -0.00000000e+00  0.00000000e+00 -0.00000000e+00  0.00000000e+00\n",
      " -0.00000000e+00  0.00000000e+00  0.00000000e+00 -0.00000000e+00\n",
      "  0.00000000e+00 -0.00000000e+00  0.00000000e+00  0.00000000e+00\n",
      "  0.00000000e+00  0.00000000e+00 -0.00000000e+00 -0.00000000e+00\n",
      " -0.00000000e+00 -0.00000000e+00 -0.00000000e+00 -0.00000000e+00\n",
      "  0.00000000e+00 -0.00000000e+00 -0.00000000e+00  0.00000000e+00\n",
      "  1.35132798e+01  0.00000000e+00  0.00000000e+00  0.00000000e+00\n",
      "  0.00000000e+00 -1.27119729e+00 -0.00000000e+00 -6.30300624e-01\n",
      "  6.82773399e+00 -7.54911402e-01  3.03800466e+00 -0.00000000e+00\n",
      "  4.73283624e+00 -0.00000000e+00 -1.16378556e+00 -0.00000000e+00\n",
      "  1.86858599e+00  6.29272539e+00  7.97818088e+00 -0.00000000e+00\n",
      "  2.13716695e+01 -0.00000000e+00 -0.00000000e+00  0.00000000e+00\n",
      " -0.00000000e+00 -0.00000000e+00 -0.00000000e+00 -0.00000000e+00\n",
      "  0.00000000e+00  0.00000000e+00]\n"
     ]
    }
   ],
   "source": [
    "print(lassocv.coef_)"
   ]
  },
  {
   "cell_type": "code",
   "execution_count": 248,
   "metadata": {
    "ExecuteTime": {
     "end_time": "2019-07-19T00:56:29.120068Z",
     "start_time": "2019-07-19T00:56:29.063032Z"
    }
   },
   "outputs": [
    {
     "data": {
      "text/plain": [
       "0.04942551035464027"
      ]
     },
     "execution_count": 248,
     "metadata": {},
     "output_type": "execute_result"
    }
   ],
   "source": [
    "lassocv.score(X_test, y_test)"
   ]
  },
  {
   "cell_type": "code",
   "execution_count": 250,
   "metadata": {
    "ExecuteTime": {
     "end_time": "2019-07-19T00:57:07.241625Z",
     "start_time": "2019-07-19T00:57:07.233108Z"
    }
   },
   "outputs": [
    {
     "name": "stdout",
     "output_type": "stream",
     "text": [
      "Mean squared error: 1350.36\n",
      "Variance score: 0.05\n"
     ]
    }
   ],
   "source": [
    "from sklearn.metrics import mean_squared_error, r2_score\n",
    "# The mean squared error\n",
    "print(\"Mean squared error: %.2f\"\n",
    "      % mean_squared_error(y_test, y_pred))\n",
    "# Explained variance score: 1 is perfect prediction\n",
    "print('Variance score: %.2f' % r2_score(y_test, y_pred))"
   ]
  },
  {
   "cell_type": "code",
   "execution_count": 252,
   "metadata": {
    "ExecuteTime": {
     "end_time": "2019-07-19T16:50:16.488470Z",
     "start_time": "2019-07-19T16:50:16.302569Z"
    }
   },
   "outputs": [
    {
     "data": {
      "text/plain": [
       "1350.3581405139964"
      ]
     },
     "execution_count": 252,
     "metadata": {},
     "output_type": "execute_result"
    },
    {
     "data": {
      "image/png": "[encoded data removed]",
      "text/plain": [
       "<Figure size 432x288 with 1 Axes>"
      ]
     },
     "metadata": {
      "needs_background": "light"
     },
     "output_type": "display_data"
    }
   ],
   "source": [
    "# prediction y_pred\n",
    "mse = np.mean((y_pred-y_test)**2)\n",
    "x_plot = plt.scatter(y_pred, (y_pred-y_test), c=\"b\")\n",
    "mse"
   ]
  },
  {
   "cell_type": "markdown",
   "metadata": {},
   "source": [
    "# Adding real data to predict"
   ]
  },
  {
   "cell_type": "code",
   "execution_count": 663,
   "metadata": {
    "ExecuteTime": {
     "end_time": "2019-07-19T19:35:05.169841Z",
     "start_time": "2019-07-19T19:35:05.162921Z"
    }
   },
   "outputs": [],
   "source": [
    "\n",
    "#results_models = pd.DataFrame([{\"Train\": lm.score(X_train, y_train), \"Validate\": lm.score(X_val, y_val)},{\"Train\": lassocv.score(X_with_Scaled, y_train), \"Validate\": lassocv.score(X_val_scaled, y_val)},{\"Train\": lassocv_78.score(X_train_scaled_78, y_train_78), \"Validate\": lassocv_78.score(X_val_scaled_78, y_val_78)},{\"Train\": lassocv_50.score(X_train_scaled_50, y_train_50), \"Validate\": lassocv_50.score(X_val_scaled_50, y_val_50)},{\"Train\": lassocv.score(X_with_Scaled, y_train), \"Validate\": lassocv.score(X_val_scaled, y_val)}], index = [\"Linear Regression:1029 Features\",\"Model 1: 1029 Features\",\"Model 2: 636 Features\",\"Model 3: 745 Features\",\"Model 4: 839 Features\"])\n",
    "\n",
    "movie_names= [\"Dotun's Movie\",\"La La Land 2\",\"Whiplash\",\"Mother Brain\",\"Top Gun: Maverick\"]\n",
    "Dotun = {\"Duration\": 100,\"Stars\": [\"Keanu Reeves\",\"Ethan Hawke\"],\"Genres\": [\"Family\"]}\n",
    "Alex= {\"Duration\": 100,\"Stars\": [\"Naomi Watts\", \"Natalie Portman\",\"Tom Cruise\"],\"Genres\": [\"Action\"]}\n",
    "Aisulu = {\"Duration\": 100,\"Stars\": [\"Meryl Streep\", \"Keanu Reeves\",\"Anna Kendrick\"],\"Genres\": [\"Documentary\", \"Drama\"]}\n",
    "Jeremy={\"Duration\": 100,\"Stars\": [\"Meryl Streep\", \"Morgan Freeman\", \"Tom Hanks\"],\"Genres\": [\"Thriller\", \"Sci-Fi\"]}\n",
    "Top_Gun = {\"Duration\": 100,\"Stars\": [\"Tom Cruise\",\"Jon Hamm\"],\"Genres\": [\"Action\",\"Drama\"]}\n",
    "movie_predict = pd.DataFrame([Dotun, Alex, Aisulu, Jeremy,Top_Gun])"
   ]
  },
  {
   "cell_type": "code",
   "execution_count": 664,
   "metadata": {
    "ExecuteTime": {
     "end_time": "2019-07-19T19:35:05.796818Z",
     "start_time": "2019-07-19T19:35:05.787083Z"
    }
   },
   "outputs": [
    {
     "data": {
      "text/html": [
       "<div>\n",
       "<style scoped>\n",
       "    .dataframe tbody tr th:only-of-type {\n",
       "        vertical-align: middle;\n",
       "    }\n",
       "\n",
       "    .dataframe tbody tr th {\n",
       "        vertical-align: top;\n",
       "    }\n",
       "\n",
       "    .dataframe thead th {\n",
       "        text-align: right;\n",
       "    }\n",
       "</style>\n",
       "<table border=\"1\" class=\"dataframe\">\n",
       "  <thead>\n",
       "    <tr style=\"text-align: right;\">\n",
       "      <th></th>\n",
       "      <th>Duration</th>\n",
       "      <th>Genres</th>\n",
       "      <th>Stars</th>\n",
       "    </tr>\n",
       "  </thead>\n",
       "  <tbody>\n",
       "    <tr>\n",
       "      <th>0</th>\n",
       "      <td>100</td>\n",
       "      <td>[Family]</td>\n",
       "      <td>[Keanu Reeves, Ethan Hawke]</td>\n",
       "    </tr>\n",
       "    <tr>\n",
       "      <th>1</th>\n",
       "      <td>100</td>\n",
       "      <td>[Action]</td>\n",
       "      <td>[Naomi Watts, Natalie Portman, Tom Cruise]</td>\n",
       "    </tr>\n",
       "    <tr>\n",
       "      <th>2</th>\n",
       "      <td>100</td>\n",
       "      <td>[Documentary, Drama]</td>\n",
       "      <td>[Meryl Streep, Keanu Reeves, Anna Kendrick]</td>\n",
       "    </tr>\n",
       "    <tr>\n",
       "      <th>3</th>\n",
       "      <td>100</td>\n",
       "      <td>[Thriller, Sci-Fi]</td>\n",
       "      <td>[Meryl Streep, Morgan Freeman, Tom Hanks]</td>\n",
       "    </tr>\n",
       "    <tr>\n",
       "      <th>4</th>\n",
       "      <td>100</td>\n",
       "      <td>[Action, Drama]</td>\n",
       "      <td>[Tom Cruise, Jon Hamm]</td>\n",
       "    </tr>\n",
       "  </tbody>\n",
       "</table>\n",
       "</div>"
      ],
      "text/plain": [
       "   Duration                Genres                                        Stars\n",
       "0       100              [Family]                  [Keanu Reeves, Ethan Hawke]\n",
       "1       100              [Action]   [Naomi Watts, Natalie Portman, Tom Cruise]\n",
       "2       100  [Documentary, Drama]  [Meryl Streep, Keanu Reeves, Anna Kendrick]\n",
       "3       100    [Thriller, Sci-Fi]    [Meryl Streep, Morgan Freeman, Tom Hanks]\n",
       "4       100       [Action, Drama]                       [Tom Cruise, Jon Hamm]"
      ]
     },
     "execution_count": 664,
     "metadata": {},
     "output_type": "execute_result"
    }
   ],
   "source": [
    "# movie_predict = movie_predict.reset_index()\n",
    "movie_predict"
   ]
  },
  {
   "cell_type": "code",
   "execution_count": 665,
   "metadata": {
    "ExecuteTime": {
     "end_time": "2019-07-19T19:35:07.017462Z",
     "start_time": "2019-07-19T19:35:07.010723Z"
    }
   },
   "outputs": [
    {
     "data": {
      "text/plain": [
       "[('Action', 2),\n",
       " ('Drama', 2),\n",
       " ('Family', 1),\n",
       " ('Documentary', 1),\n",
       " ('Thriller', 1),\n",
       " ('Sci-Fi', 1)]"
      ]
     },
     "execution_count": 665,
     "metadata": {},
     "output_type": "execute_result"
    }
   ],
   "source": [
    "build_collector(movie_predict[\"Stars\"])\n",
    "build_collector(movie_predict[\"Genres\"])\n"
   ]
  },
  {
   "cell_type": "code",
   "execution_count": 666,
   "metadata": {
    "ExecuteTime": {
     "end_time": "2019-07-19T19:35:07.657064Z",
     "start_time": "2019-07-19T19:35:07.651539Z"
    }
   },
   "outputs": [],
   "source": [
    "unique_stars = unique_counter(build_collector(movie_predict[\"Stars\"]))\n",
    "unique_genres = unique_counter(build_collector(movie_predict[\"Genres\"]))"
   ]
  },
  {
   "cell_type": "code",
   "execution_count": 667,
   "metadata": {
    "ExecuteTime": {
     "end_time": "2019-07-19T19:35:08.040026Z",
     "start_time": "2019-07-19T19:35:08.028916Z"
    }
   },
   "outputs": [],
   "source": [
    "for star in unique_stars:\n",
    "    movie_predict[f\"star_{star}\"]= movie_predict.Stars.apply(lambda star_list: star in star_list)"
   ]
  },
  {
   "cell_type": "code",
   "execution_count": 668,
   "metadata": {
    "ExecuteTime": {
     "end_time": "2019-07-19T19:35:08.422131Z",
     "start_time": "2019-07-19T19:35:08.414577Z"
    }
   },
   "outputs": [],
   "source": [
    "for genre in unique_genres:\n",
    "    movie_predict[f\"genre_{genre}\"]= movie_predict.Genres.apply(lambda genre_list: genre in genre_list)"
   ]
  },
  {
   "cell_type": "code",
   "execution_count": 669,
   "metadata": {
    "ExecuteTime": {
     "end_time": "2019-07-19T19:35:08.808737Z",
     "start_time": "2019-07-19T19:35:08.786254Z"
    }
   },
   "outputs": [
    {
     "data": {
      "text/html": [
       "<div>\n",
       "<style scoped>\n",
       "    .dataframe tbody tr th:only-of-type {\n",
       "        vertical-align: middle;\n",
       "    }\n",
       "\n",
       "    .dataframe tbody tr th {\n",
       "        vertical-align: top;\n",
       "    }\n",
       "\n",
       "    .dataframe thead th {\n",
       "        text-align: right;\n",
       "    }\n",
       "</style>\n",
       "<table border=\"1\" class=\"dataframe\">\n",
       "  <thead>\n",
       "    <tr style=\"text-align: right;\">\n",
       "      <th></th>\n",
       "      <th>Duration</th>\n",
       "      <th>Genres</th>\n",
       "      <th>Stars</th>\n",
       "      <th>star_Keanu Reeves</th>\n",
       "      <th>star_Tom Cruise</th>\n",
       "      <th>star_Meryl Streep</th>\n",
       "      <th>star_Ethan Hawke</th>\n",
       "      <th>star_Naomi Watts</th>\n",
       "      <th>star_Natalie Portman</th>\n",
       "      <th>star_Anna Kendrick</th>\n",
       "      <th>star_Morgan Freeman</th>\n",
       "      <th>star_Tom Hanks</th>\n",
       "      <th>star_Jon Hamm</th>\n",
       "      <th>genre_Action</th>\n",
       "      <th>genre_Drama</th>\n",
       "      <th>genre_Family</th>\n",
       "      <th>genre_Documentary</th>\n",
       "      <th>genre_Thriller</th>\n",
       "      <th>genre_Sci-Fi</th>\n",
       "    </tr>\n",
       "  </thead>\n",
       "  <tbody>\n",
       "    <tr>\n",
       "      <th>0</th>\n",
       "      <td>100</td>\n",
       "      <td>[Family]</td>\n",
       "      <td>[Keanu Reeves, Ethan Hawke]</td>\n",
       "      <td>True</td>\n",
       "      <td>False</td>\n",
       "      <td>False</td>\n",
       "      <td>True</td>\n",
       "      <td>False</td>\n",
       "      <td>False</td>\n",
       "      <td>False</td>\n",
       "      <td>False</td>\n",
       "      <td>False</td>\n",
       "      <td>False</td>\n",
       "      <td>False</td>\n",
       "      <td>False</td>\n",
       "      <td>True</td>\n",
       "      <td>False</td>\n",
       "      <td>False</td>\n",
       "      <td>False</td>\n",
       "    </tr>\n",
       "    <tr>\n",
       "      <th>1</th>\n",
       "      <td>100</td>\n",
       "      <td>[Action]</td>\n",
       "      <td>[Naomi Watts, Natalie Portman, Tom Cruise]</td>\n",
       "      <td>False</td>\n",
       "      <td>True</td>\n",
       "      <td>False</td>\n",
       "      <td>False</td>\n",
       "      <td>True</td>\n",
       "      <td>True</td>\n",
       "      <td>False</td>\n",
       "      <td>False</td>\n",
       "      <td>False</td>\n",
       "      <td>False</td>\n",
       "      <td>True</td>\n",
       "      <td>False</td>\n",
       "      <td>False</td>\n",
       "      <td>False</td>\n",
       "      <td>False</td>\n",
       "      <td>False</td>\n",
       "    </tr>\n",
       "    <tr>\n",
       "      <th>2</th>\n",
       "      <td>100</td>\n",
       "      <td>[Documentary, Drama]</td>\n",
       "      <td>[Meryl Streep, Keanu Reeves, Anna Kendrick]</td>\n",
       "      <td>True</td>\n",
       "      <td>False</td>\n",
       "      <td>True</td>\n",
       "      <td>False</td>\n",
       "      <td>False</td>\n",
       "      <td>False</td>\n",
       "      <td>True</td>\n",
       "      <td>False</td>\n",
       "      <td>False</td>\n",
       "      <td>False</td>\n",
       "      <td>False</td>\n",
       "      <td>True</td>\n",
       "      <td>False</td>\n",
       "      <td>True</td>\n",
       "      <td>False</td>\n",
       "      <td>False</td>\n",
       "    </tr>\n",
       "    <tr>\n",
       "      <th>3</th>\n",
       "      <td>100</td>\n",
       "      <td>[Thriller, Sci-Fi]</td>\n",
       "      <td>[Meryl Streep, Morgan Freeman, Tom Hanks]</td>\n",
       "      <td>False</td>\n",
       "      <td>False</td>\n",
       "      <td>True</td>\n",
       "      <td>False</td>\n",
       "      <td>False</td>\n",
       "      <td>False</td>\n",
       "      <td>False</td>\n",
       "      <td>True</td>\n",
       "      <td>True</td>\n",
       "      <td>False</td>\n",
       "      <td>False</td>\n",
       "      <td>False</td>\n",
       "      <td>False</td>\n",
       "      <td>False</td>\n",
       "      <td>True</td>\n",
       "      <td>True</td>\n",
       "    </tr>\n",
       "    <tr>\n",
       "      <th>4</th>\n",
       "      <td>100</td>\n",
       "      <td>[Action, Drama]</td>\n",
       "      <td>[Tom Cruise, Jon Hamm]</td>\n",
       "      <td>False</td>\n",
       "      <td>True</td>\n",
       "      <td>False</td>\n",
       "      <td>False</td>\n",
       "      <td>False</td>\n",
       "      <td>False</td>\n",
       "      <td>False</td>\n",
       "      <td>False</td>\n",
       "      <td>False</td>\n",
       "      <td>True</td>\n",
       "      <td>True</td>\n",
       "      <td>True</td>\n",
       "      <td>False</td>\n",
       "      <td>False</td>\n",
       "      <td>False</td>\n",
       "      <td>False</td>\n",
       "    </tr>\n",
       "  </tbody>\n",
       "</table>\n",
       "</div>"
      ],
      "text/plain": [
       "   Duration                Genres  \\\n",
       "0       100              [Family]   \n",
       "1       100              [Action]   \n",
       "2       100  [Documentary, Drama]   \n",
       "3       100    [Thriller, Sci-Fi]   \n",
       "4       100       [Action, Drama]   \n",
       "\n",
       "                                         Stars  star_Keanu Reeves  \\\n",
       "0                  [Keanu Reeves, Ethan Hawke]               True   \n",
       "1   [Naomi Watts, Natalie Portman, Tom Cruise]              False   \n",
       "2  [Meryl Streep, Keanu Reeves, Anna Kendrick]               True   \n",
       "3    [Meryl Streep, Morgan Freeman, Tom Hanks]              False   \n",
       "4                       [Tom Cruise, Jon Hamm]              False   \n",
       "\n",
       "   star_Tom Cruise  star_Meryl Streep  star_Ethan Hawke  star_Naomi Watts  \\\n",
       "0            False              False              True             False   \n",
       "1             True              False             False              True   \n",
       "2            False               True             False             False   \n",
       "3            False               True             False             False   \n",
       "4             True              False             False             False   \n",
       "\n",
       "   star_Natalie Portman  star_Anna Kendrick  star_Morgan Freeman  \\\n",
       "0                 False               False                False   \n",
       "1                  True               False                False   \n",
       "2                 False                True                False   \n",
       "3                 False               False                 True   \n",
       "4                 False               False                False   \n",
       "\n",
       "   star_Tom Hanks  star_Jon Hamm  genre_Action  genre_Drama  genre_Family  \\\n",
       "0           False          False         False        False          True   \n",
       "1           False          False          True        False         False   \n",
       "2           False          False         False         True         False   \n",
       "3            True          False         False        False         False   \n",
       "4           False           True          True         True         False   \n",
       "\n",
       "   genre_Documentary  genre_Thriller  genre_Sci-Fi  \n",
       "0              False           False         False  \n",
       "1              False           False         False  \n",
       "2               True           False         False  \n",
       "3              False            True          True  \n",
       "4              False           False         False  "
      ]
     },
     "execution_count": 669,
     "metadata": {},
     "output_type": "execute_result"
    }
   ],
   "source": [
    "movie_predict\n"
   ]
  },
  {
   "cell_type": "code",
   "execution_count": 670,
   "metadata": {
    "ExecuteTime": {
     "end_time": "2019-07-19T19:35:10.055855Z",
     "start_time": "2019-07-19T19:35:10.049214Z"
    }
   },
   "outputs": [],
   "source": [
    "merge_data_ = merge_data.drop([\"Genres\",\"Movie_Name\",\"Stars\"], axis=1)"
   ]
  },
  {
   "cell_type": "code",
   "execution_count": 671,
   "metadata": {
    "ExecuteTime": {
     "end_time": "2019-07-19T19:35:10.477300Z",
     "start_time": "2019-07-19T19:35:10.472219Z"
    }
   },
   "outputs": [],
   "source": [
    "new_df = merge_data_.copy()\n",
    "\n",
    "\n"
   ]
  },
  {
   "cell_type": "code",
   "execution_count": 672,
   "metadata": {
    "ExecuteTime": {
     "end_time": "2019-07-19T19:35:11.701084Z",
     "start_time": "2019-07-19T19:35:11.679996Z"
    }
   },
   "outputs": [
    {
     "data": {
      "text/html": [
       "<div>\n",
       "<style scoped>\n",
       "    .dataframe tbody tr th:only-of-type {\n",
       "        vertical-align: middle;\n",
       "    }\n",
       "\n",
       "    .dataframe tbody tr th {\n",
       "        vertical-align: top;\n",
       "    }\n",
       "\n",
       "    .dataframe thead th {\n",
       "        text-align: right;\n",
       "    }\n",
       "</style>\n",
       "<table border=\"1\" class=\"dataframe\">\n",
       "  <thead>\n",
       "    <tr style=\"text-align: right;\">\n",
       "      <th></th>\n",
       "      <th>Duration</th>\n",
       "      <th>Gross</th>\n",
       "      <th>star_Eric Roberts</th>\n",
       "      <th>star_James Franco</th>\n",
       "      <th>star_Danny Trejo</th>\n",
       "      <th>star_Tom Sizemore</th>\n",
       "      <th>star_Vivica A. Fox</th>\n",
       "      <th>star_Nicolas Cage</th>\n",
       "      <th>star_Mischa Barton</th>\n",
       "      <th>star_Radhika Apte</th>\n",
       "      <th>...</th>\n",
       "      <th>genre_Animation</th>\n",
       "      <th>genre_Music</th>\n",
       "      <th>genre_History</th>\n",
       "      <th>genre_Sport</th>\n",
       "      <th>genre_War</th>\n",
       "      <th>genre_Musical</th>\n",
       "      <th>genre_Western</th>\n",
       "      <th>genre_News</th>\n",
       "      <th>genre_Reality-TV</th>\n",
       "      <th>genre_Game-Show</th>\n",
       "    </tr>\n",
       "  </thead>\n",
       "  <tbody>\n",
       "    <tr>\n",
       "      <th>0</th>\n",
       "      <td>134.0</td>\n",
       "      <td>216.43</td>\n",
       "      <td>False</td>\n",
       "      <td>False</td>\n",
       "      <td>False</td>\n",
       "      <td>False</td>\n",
       "      <td>False</td>\n",
       "      <td>False</td>\n",
       "      <td>False</td>\n",
       "      <td>False</td>\n",
       "      <td>...</td>\n",
       "      <td>False</td>\n",
       "      <td>False</td>\n",
       "      <td>False</td>\n",
       "      <td>False</td>\n",
       "      <td>False</td>\n",
       "      <td>False</td>\n",
       "      <td>False</td>\n",
       "      <td>False</td>\n",
       "      <td>False</td>\n",
       "      <td>False</td>\n",
       "    </tr>\n",
       "    <tr>\n",
       "      <th>1</th>\n",
       "      <td>117.0</td>\n",
       "      <td>190.24</td>\n",
       "      <td>False</td>\n",
       "      <td>False</td>\n",
       "      <td>False</td>\n",
       "      <td>False</td>\n",
       "      <td>False</td>\n",
       "      <td>False</td>\n",
       "      <td>False</td>\n",
       "      <td>False</td>\n",
       "      <td>...</td>\n",
       "      <td>True</td>\n",
       "      <td>False</td>\n",
       "      <td>False</td>\n",
       "      <td>False</td>\n",
       "      <td>False</td>\n",
       "      <td>False</td>\n",
       "      <td>False</td>\n",
       "      <td>False</td>\n",
       "      <td>False</td>\n",
       "      <td>False</td>\n",
       "    </tr>\n",
       "    <tr>\n",
       "      <th>3</th>\n",
       "      <td>127.0</td>\n",
       "      <td>44.07</td>\n",
       "      <td>False</td>\n",
       "      <td>False</td>\n",
       "      <td>False</td>\n",
       "      <td>False</td>\n",
       "      <td>False</td>\n",
       "      <td>False</td>\n",
       "      <td>False</td>\n",
       "      <td>False</td>\n",
       "      <td>...</td>\n",
       "      <td>False</td>\n",
       "      <td>False</td>\n",
       "      <td>False</td>\n",
       "      <td>False</td>\n",
       "      <td>False</td>\n",
       "      <td>False</td>\n",
       "      <td>False</td>\n",
       "      <td>False</td>\n",
       "      <td>False</td>\n",
       "      <td>False</td>\n",
       "    </tr>\n",
       "    <tr>\n",
       "      <th>5</th>\n",
       "      <td>130.0</td>\n",
       "      <td>171.96</td>\n",
       "      <td>False</td>\n",
       "      <td>False</td>\n",
       "      <td>False</td>\n",
       "      <td>False</td>\n",
       "      <td>False</td>\n",
       "      <td>False</td>\n",
       "      <td>False</td>\n",
       "      <td>False</td>\n",
       "      <td>...</td>\n",
       "      <td>False</td>\n",
       "      <td>False</td>\n",
       "      <td>False</td>\n",
       "      <td>False</td>\n",
       "      <td>False</td>\n",
       "      <td>False</td>\n",
       "      <td>False</td>\n",
       "      <td>False</td>\n",
       "      <td>False</td>\n",
       "      <td>False</td>\n",
       "    </tr>\n",
       "    <tr>\n",
       "      <th>6</th>\n",
       "      <td>136.0</td>\n",
       "      <td>215.29</td>\n",
       "      <td>False</td>\n",
       "      <td>False</td>\n",
       "      <td>False</td>\n",
       "      <td>False</td>\n",
       "      <td>False</td>\n",
       "      <td>False</td>\n",
       "      <td>False</td>\n",
       "      <td>False</td>\n",
       "      <td>...</td>\n",
       "      <td>False</td>\n",
       "      <td>False</td>\n",
       "      <td>False</td>\n",
       "      <td>False</td>\n",
       "      <td>False</td>\n",
       "      <td>False</td>\n",
       "      <td>False</td>\n",
       "      <td>False</td>\n",
       "      <td>False</td>\n",
       "      <td>False</td>\n",
       "    </tr>\n",
       "  </tbody>\n",
       "</table>\n",
       "<p>5 rows × 527 columns</p>\n",
       "</div>"
      ],
      "text/plain": [
       "   Duration   Gross  star_Eric Roberts  star_James Franco  star_Danny Trejo  \\\n",
       "0     134.0  216.43              False              False             False   \n",
       "1     117.0  190.24              False              False             False   \n",
       "3     127.0   44.07              False              False             False   \n",
       "5     130.0  171.96              False              False             False   \n",
       "6     136.0  215.29              False              False             False   \n",
       "\n",
       "   star_Tom Sizemore  star_Vivica A. Fox  star_Nicolas Cage  \\\n",
       "0              False               False              False   \n",
       "1              False               False              False   \n",
       "3              False               False              False   \n",
       "5              False               False              False   \n",
       "6              False               False              False   \n",
       "\n",
       "   star_Mischa Barton  star_Radhika Apte       ...         genre_Animation  \\\n",
       "0               False              False       ...                   False   \n",
       "1               False              False       ...                    True   \n",
       "3               False              False       ...                   False   \n",
       "5               False              False       ...                   False   \n",
       "6               False              False       ...                   False   \n",
       "\n",
       "   genre_Music  genre_History  genre_Sport  genre_War  genre_Musical  \\\n",
       "0        False          False        False      False          False   \n",
       "1        False          False        False      False          False   \n",
       "3        False          False        False      False          False   \n",
       "5        False          False        False      False          False   \n",
       "6        False          False        False      False          False   \n",
       "\n",
       "   genre_Western  genre_News  genre_Reality-TV  genre_Game-Show  \n",
       "0          False       False             False            False  \n",
       "1          False       False             False            False  \n",
       "3          False       False             False            False  \n",
       "5          False       False             False            False  \n",
       "6          False       False             False            False  \n",
       "\n",
       "[5 rows x 527 columns]"
      ]
     },
     "execution_count": 672,
     "metadata": {},
     "output_type": "execute_result"
    }
   ],
   "source": [
    "new_df.head()"
   ]
  },
  {
   "cell_type": "code",
   "execution_count": 673,
   "metadata": {
    "ExecuteTime": {
     "end_time": "2019-07-19T19:35:12.303870Z",
     "start_time": "2019-07-19T19:35:12.297989Z"
    }
   },
   "outputs": [
    {
     "data": {
      "text/plain": [
       "Index(['Duration', 'Genres', 'Stars', 'star_Keanu Reeves', 'star_Tom Cruise',\n",
       "       'star_Meryl Streep', 'star_Ethan Hawke', 'star_Naomi Watts',\n",
       "       'star_Natalie Portman', 'star_Anna Kendrick', 'star_Morgan Freeman',\n",
       "       'star_Tom Hanks', 'star_Jon Hamm', 'genre_Action', 'genre_Drama',\n",
       "       'genre_Family', 'genre_Documentary', 'genre_Thriller', 'genre_Sci-Fi'],\n",
       "      dtype='object')"
      ]
     },
     "execution_count": 673,
     "metadata": {},
     "output_type": "execute_result"
    }
   ],
   "source": [
    "movie_predict.columns"
   ]
  },
  {
   "cell_type": "code",
   "execution_count": 674,
   "metadata": {
    "ExecuteTime": {
     "end_time": "2019-07-19T19:35:13.412527Z",
     "start_time": "2019-07-19T19:35:13.397526Z"
    }
   },
   "outputs": [],
   "source": [
    "new_df = new_df.drop(new_df.index[0:])"
   ]
  },
  {
   "cell_type": "code",
   "execution_count": 675,
   "metadata": {
    "ExecuteTime": {
     "end_time": "2019-07-19T19:35:14.888645Z",
     "start_time": "2019-07-19T19:35:14.820295Z"
    }
   },
   "outputs": [],
   "source": [
    "for i in movie_predict.columns:\n",
    "    new_df[i] = movie_predict[i]\n",
    "        \n",
    "                \n",
    "                \n",
    "                \n",
    "                "
   ]
  },
  {
   "cell_type": "code",
   "execution_count": 676,
   "metadata": {
    "ExecuteTime": {
     "end_time": "2019-07-19T19:35:16.019296Z",
     "start_time": "2019-07-19T19:35:15.939860Z"
    }
   },
   "outputs": [],
   "source": [
    "new_df.fillna(False)\n",
    "\n",
    "createdNewDf = new_df.fillna(False)\n",
    "\n"
   ]
  },
  {
   "cell_type": "code",
   "execution_count": 677,
   "metadata": {
    "ExecuteTime": {
     "end_time": "2019-07-19T19:35:16.579101Z",
     "start_time": "2019-07-19T19:35:16.558124Z"
    },
    "scrolled": true
   },
   "outputs": [
    {
     "data": {
      "text/html": [
       "<div>\n",
       "<style scoped>\n",
       "    .dataframe tbody tr th:only-of-type {\n",
       "        vertical-align: middle;\n",
       "    }\n",
       "\n",
       "    .dataframe tbody tr th {\n",
       "        vertical-align: top;\n",
       "    }\n",
       "\n",
       "    .dataframe thead th {\n",
       "        text-align: right;\n",
       "    }\n",
       "</style>\n",
       "<table border=\"1\" class=\"dataframe\">\n",
       "  <thead>\n",
       "    <tr style=\"text-align: right;\">\n",
       "      <th></th>\n",
       "      <th>Duration</th>\n",
       "      <th>star_Eric Roberts</th>\n",
       "      <th>star_James Franco</th>\n",
       "      <th>star_Danny Trejo</th>\n",
       "      <th>star_Tom Sizemore</th>\n",
       "      <th>star_Vivica A. Fox</th>\n",
       "      <th>star_Nicolas Cage</th>\n",
       "      <th>star_Mischa Barton</th>\n",
       "      <th>star_Radhika Apte</th>\n",
       "      <th>star_Michael Shannon</th>\n",
       "      <th>...</th>\n",
       "      <th>genre_Animation</th>\n",
       "      <th>genre_Music</th>\n",
       "      <th>genre_History</th>\n",
       "      <th>genre_Sport</th>\n",
       "      <th>genre_War</th>\n",
       "      <th>genre_Musical</th>\n",
       "      <th>genre_Western</th>\n",
       "      <th>genre_News</th>\n",
       "      <th>genre_Reality-TV</th>\n",
       "      <th>genre_Game-Show</th>\n",
       "    </tr>\n",
       "  </thead>\n",
       "  <tbody>\n",
       "    <tr>\n",
       "      <th>0</th>\n",
       "      <td>100</td>\n",
       "      <td>False</td>\n",
       "      <td>False</td>\n",
       "      <td>False</td>\n",
       "      <td>False</td>\n",
       "      <td>False</td>\n",
       "      <td>False</td>\n",
       "      <td>False</td>\n",
       "      <td>False</td>\n",
       "      <td>False</td>\n",
       "      <td>...</td>\n",
       "      <td>False</td>\n",
       "      <td>False</td>\n",
       "      <td>False</td>\n",
       "      <td>False</td>\n",
       "      <td>False</td>\n",
       "      <td>False</td>\n",
       "      <td>False</td>\n",
       "      <td>False</td>\n",
       "      <td>False</td>\n",
       "      <td>False</td>\n",
       "    </tr>\n",
       "    <tr>\n",
       "      <th>1</th>\n",
       "      <td>100</td>\n",
       "      <td>False</td>\n",
       "      <td>False</td>\n",
       "      <td>False</td>\n",
       "      <td>False</td>\n",
       "      <td>False</td>\n",
       "      <td>False</td>\n",
       "      <td>False</td>\n",
       "      <td>False</td>\n",
       "      <td>False</td>\n",
       "      <td>...</td>\n",
       "      <td>False</td>\n",
       "      <td>False</td>\n",
       "      <td>False</td>\n",
       "      <td>False</td>\n",
       "      <td>False</td>\n",
       "      <td>False</td>\n",
       "      <td>False</td>\n",
       "      <td>False</td>\n",
       "      <td>False</td>\n",
       "      <td>False</td>\n",
       "    </tr>\n",
       "    <tr>\n",
       "      <th>2</th>\n",
       "      <td>100</td>\n",
       "      <td>False</td>\n",
       "      <td>False</td>\n",
       "      <td>False</td>\n",
       "      <td>False</td>\n",
       "      <td>False</td>\n",
       "      <td>False</td>\n",
       "      <td>False</td>\n",
       "      <td>False</td>\n",
       "      <td>False</td>\n",
       "      <td>...</td>\n",
       "      <td>False</td>\n",
       "      <td>False</td>\n",
       "      <td>False</td>\n",
       "      <td>False</td>\n",
       "      <td>False</td>\n",
       "      <td>False</td>\n",
       "      <td>False</td>\n",
       "      <td>False</td>\n",
       "      <td>False</td>\n",
       "      <td>False</td>\n",
       "    </tr>\n",
       "    <tr>\n",
       "      <th>3</th>\n",
       "      <td>100</td>\n",
       "      <td>False</td>\n",
       "      <td>False</td>\n",
       "      <td>False</td>\n",
       "      <td>False</td>\n",
       "      <td>False</td>\n",
       "      <td>False</td>\n",
       "      <td>False</td>\n",
       "      <td>False</td>\n",
       "      <td>False</td>\n",
       "      <td>...</td>\n",
       "      <td>False</td>\n",
       "      <td>False</td>\n",
       "      <td>False</td>\n",
       "      <td>False</td>\n",
       "      <td>False</td>\n",
       "      <td>False</td>\n",
       "      <td>False</td>\n",
       "      <td>False</td>\n",
       "      <td>False</td>\n",
       "      <td>False</td>\n",
       "    </tr>\n",
       "    <tr>\n",
       "      <th>4</th>\n",
       "      <td>100</td>\n",
       "      <td>False</td>\n",
       "      <td>False</td>\n",
       "      <td>False</td>\n",
       "      <td>False</td>\n",
       "      <td>False</td>\n",
       "      <td>False</td>\n",
       "      <td>False</td>\n",
       "      <td>False</td>\n",
       "      <td>False</td>\n",
       "      <td>...</td>\n",
       "      <td>False</td>\n",
       "      <td>False</td>\n",
       "      <td>False</td>\n",
       "      <td>False</td>\n",
       "      <td>False</td>\n",
       "      <td>False</td>\n",
       "      <td>False</td>\n",
       "      <td>False</td>\n",
       "      <td>False</td>\n",
       "      <td>False</td>\n",
       "    </tr>\n",
       "  </tbody>\n",
       "</table>\n",
       "<p>5 rows × 526 columns</p>\n",
       "</div>"
      ],
      "text/plain": [
       "   Duration  star_Eric Roberts  star_James Franco  star_Danny Trejo  \\\n",
       "0       100              False              False             False   \n",
       "1       100              False              False             False   \n",
       "2       100              False              False             False   \n",
       "3       100              False              False             False   \n",
       "4       100              False              False             False   \n",
       "\n",
       "   star_Tom Sizemore  star_Vivica A. Fox  star_Nicolas Cage  \\\n",
       "0              False               False              False   \n",
       "1              False               False              False   \n",
       "2              False               False              False   \n",
       "3              False               False              False   \n",
       "4              False               False              False   \n",
       "\n",
       "   star_Mischa Barton  star_Radhika Apte  star_Michael Shannon  \\\n",
       "0               False              False                 False   \n",
       "1               False              False                 False   \n",
       "2               False              False                 False   \n",
       "3               False              False                 False   \n",
       "4               False              False                 False   \n",
       "\n",
       "        ...         genre_Animation  genre_Music  genre_History  genre_Sport  \\\n",
       "0       ...                   False        False          False        False   \n",
       "1       ...                   False        False          False        False   \n",
       "2       ...                   False        False          False        False   \n",
       "3       ...                   False        False          False        False   \n",
       "4       ...                   False        False          False        False   \n",
       "\n",
       "   genre_War  genre_Musical  genre_Western  genre_News  genre_Reality-TV  \\\n",
       "0      False          False          False       False             False   \n",
       "1      False          False          False       False             False   \n",
       "2      False          False          False       False             False   \n",
       "3      False          False          False       False             False   \n",
       "4      False          False          False       False             False   \n",
       "\n",
       "   genre_Game-Show  \n",
       "0            False  \n",
       "1            False  \n",
       "2            False  \n",
       "3            False  \n",
       "4            False  \n",
       "\n",
       "[5 rows x 526 columns]"
      ]
     },
     "execution_count": 677,
     "metadata": {},
     "output_type": "execute_result"
    }
   ],
   "source": [
    "# Dataframe with 526 features\n",
    "createdNewDf= createdNewDf.drop([\"Gross\",\"Genres\",\"Stars\"], axis= 1)\n",
    "createdNewDf.head()"
   ]
  },
  {
   "cell_type": "code",
   "execution_count": 678,
   "metadata": {
    "ExecuteTime": {
     "end_time": "2019-07-19T19:35:18.307814Z",
     "start_time": "2019-07-19T19:35:18.300757Z"
    }
   },
   "outputs": [
    {
     "data": {
      "text/plain": [
       "0    False\n",
       "1     True\n",
       "2    False\n",
       "3    False\n",
       "4     True\n",
       "Name: star_Tom Cruise, dtype: bool"
      ]
     },
     "execution_count": 678,
     "metadata": {},
     "output_type": "execute_result"
    }
   ],
   "source": [
    "createdNewDf[\"star_Tom Cruise\"] == True"
   ]
  },
  {
   "cell_type": "code",
   "execution_count": 679,
   "metadata": {
    "ExecuteTime": {
     "end_time": "2019-07-19T19:35:19.247026Z",
     "start_time": "2019-07-19T19:35:19.241919Z"
    }
   },
   "outputs": [
    {
     "data": {
      "text/plain": [
       "(5, 526)"
      ]
     },
     "execution_count": 679,
     "metadata": {},
     "output_type": "execute_result"
    }
   ],
   "source": [
    "createdNewDf.shape"
   ]
  },
  {
   "cell_type": "code",
   "execution_count": 680,
   "metadata": {
    "ExecuteTime": {
     "end_time": "2019-07-19T19:35:22.827060Z",
     "start_time": "2019-07-19T19:35:22.818667Z"
    },
    "scrolled": false
   },
   "outputs": [],
   "source": [
    "predictions = lassocv.predict(createdNewDf)\n",
    "\n",
    "\n"
   ]
  },
  {
   "cell_type": "code",
   "execution_count": 681,
   "metadata": {
    "ExecuteTime": {
     "end_time": "2019-07-19T19:35:23.720235Z",
     "start_time": "2019-07-19T19:35:23.712638Z"
    }
   },
   "outputs": [
    {
     "data": {
      "text/plain": [
       "array([ 8.71935248, 72.95991237, 35.65957914,  1.79632647, 71.68871508])"
      ]
     },
     "execution_count": 681,
     "metadata": {},
     "output_type": "execute_result"
    }
   ],
   "source": [
    "predictions"
   ]
  },
  {
   "cell_type": "code",
   "execution_count": 682,
   "metadata": {
    "ExecuteTime": {
     "end_time": "2019-07-19T19:53:38.996759Z",
     "start_time": "2019-07-19T19:53:38.987227Z"
    }
   },
   "outputs": [
    {
     "data": {
      "text/plain": [
       "[('Duration', 0.12218392263553894),\n",
       " ('star_Michael Fassbender', 1.7826274711847923),\n",
       " ('star_Anna Kendrick', 35.66793488987336),\n",
       " ('star_Tye Sheridan', 1.1150899909880123),\n",
       " ('star_Steve Carell', 69.60532877866115),\n",
       " ('star_Mark Wahlberg', 38.461870304446656),\n",
       " ('star_Alec Baldwin', 21.122595651844417),\n",
       " ('star_Kevin Hart', 38.36153164489302),\n",
       " ('star_Dwayne Johnson', 49.541851725026795),\n",
       " ('star_Dakota Johnson', 52.347293018357014),\n",
       " ('star_Benedict Cumberbatch', 38.55429450723912),\n",
       " ('star_John C. Reilly', 30.82656674335127),\n",
       " ('star_Paul Rudd', 20.15412292607017),\n",
       " ('star_Matthew McConaughey', 36.906849918623784),\n",
       " ('star_Owen Wilson', 21.39231514927957),\n",
       " ('star_Hailee Steinfeld', 8.770394169078768),\n",
       " ('star_Lily James', 4.852810373478753),\n",
       " ('star_Jennifer Lawrence', 68.93943223889217),\n",
       " ('star_Will Ferrell', 26.478367806298472),\n",
       " ('star_Chris Pine', 15.144850707383316),\n",
       " ('star_Matt Damon', 55.58571376247353),\n",
       " ('star_Tom Hardy', 56.40597856602702),\n",
       " ('star_Tom Cruise', 63.70555128319109),\n",
       " ('star_Eddie Redmayne', 63.91534263573595),\n",
       " ('star_Chris Pratt', 336.868563493309),\n",
       " ('star_Channing Tatum', 16.350773475250413),\n",
       " ('star_Hugh Jackman', 105.04016348321359),\n",
       " ('star_Tom Hiddleston', 13.513279807762196),\n",
       " ('genre_Drama', -1.2711972897221469),\n",
       " ('genre_Thriller', -0.6303006237981948),\n",
       " ('genre_Action', 6.827733993333649),\n",
       " ('genre_Romance', -0.7549114021461656),\n",
       " ('genre_Horror', 3.0380046628541395),\n",
       " ('genre_Adventure', 4.732836242778808),\n",
       " ('genre_Documentary', -1.1637855561924932),\n",
       " ('genre_Biography', 1.8685859927973596),\n",
       " ('genre_Family', 6.292725386476951),\n",
       " ('genre_Short', 7.978180883726004),\n",
       " ('genre_Animation', 21.371669525851786)]"
      ]
     },
     "execution_count": 682,
     "metadata": {},
     "output_type": "execute_result"
    }
   ],
   "source": [
    "[x for x in list(zip(X_with_Scaled.columns, lassocv.coef_)) if abs(x[1]) != 0]"
   ]
  },
  {
   "cell_type": "code",
   "execution_count": null,
   "metadata": {},
   "outputs": [],
   "source": []
  }
 ],
 "metadata": {
  "kernelspec": {
   "display_name": "Python 3",
   "language": "python",
   "name": "python3"
  },
  "language_info": {
   "codemirror_mode": {
    "name": "ipython",
    "version": 3
   },
   "file_extension": ".py",
   "mimetype": "text/x-python",
   "name": "python",
   "nbconvert_exporter": "python",
   "pygments_lexer": "ipython3",
   "version": "3.7.1"
  },
  "toc": {
   "base_numbering": 1,
   "nav_menu": {},
   "number_sections": true,
   "sideBar": true,
   "skip_h1_title": false,
   "title_cell": "Table of Contents",
   "title_sidebar": "Contents",
   "toc_cell": true,
   "toc_position": {},
   "toc_section_display": true,
   "toc_window_display": false
  }
 },
 "nbformat": 4,
 "nbformat_minor": 2
}
